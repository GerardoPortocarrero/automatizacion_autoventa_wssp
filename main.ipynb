{
 "cells": [
  {
   "cell_type": "code",
   "execution_count": null,
   "id": "36d257a9",
   "metadata": {},
   "outputs": [],
   "source": [
    "import os\n",
    "import pandas as pd\n",
    "import numpy as np\n",
    "import time\n",
    "import importlib\n",
    "import warnings\n",
    "warnings.filterwarnings(\"ignore\")  # Oculta todos los warnings\n",
    "\n",
    "# My libraries\n",
    "import get_data as gd\n",
    "import transform_data as tf\n",
    "import normalize_data as nd"
   ]
  },
  {
   "cell_type": "code",
   "execution_count": 26,
   "id": "8b9888fc",
   "metadata": {},
   "outputs": [
    {
     "name": "stdout",
     "output_type": "stream",
     "text": [
      "\n",
      "    _         _                       _         __        ______ ____  ____  \n",
      "   / \\  _   _| |_ _____   _____ _ __ | |_ __ _  \\ \\      / / ___/ ___||  _ \\ \n",
      "  / _ \\| | | | __/ _ \\ \\ / / _ \\ '_ \\| __/ _` |  \\ \\ /\\ / /\\___ \\___ \\| |_) |\n",
      " / ___ \\ |_| | || (_) \\ V /  __/ | | | || (_| |   \\ V  V /  ___) |__) |  __/ \n",
      "/_/   \\_\\__,_|\\__\\___/ \\_/ \\___|_| |_|\\__\\__,_|    \\_/\\_/  |____/____/|_|                                                                                                                                                         \n",
      "\n",
      "          💥 AUTOMATIZADOR DE FORMATO AUTOVENTA POR SEDE 💥\n",
      "\n",
      "\n"
     ]
    }
   ],
   "source": [
    "# import pyfiglet\n",
    "# print(pyfiglet.figlet_format(\"Autoventa WSSP\"))\n",
    "\n",
    "banner = r\"\"\"\n",
    "    _         _                       _         __        ______ ____  ____  \n",
    "   / \\  _   _| |_ _____   _____ _ __ | |_ __ _  \\ \\      / / ___/ ___||  _ \\ \n",
    "  / _ \\| | | | __/ _ \\ \\ / / _ \\ '_ \\| __/ _` |  \\ \\ /\\ / /\\___ \\___ \\| |_) |\n",
    " / ___ \\ |_| | || (_) \\ V /  __/ | | | || (_| |   \\ V  V /  ___) |__) |  __/ \n",
    "/_/   \\_\\__,_|\\__\\___/ \\_/ \\___|_| |_|\\__\\__,_|    \\_/\\_/  |____/____/|_|                                                                                                                                                         \n",
    "\n",
    "          💥 AUTOMATIZADOR DE FORMATO AUTOVENTA POR SEDE 💥\n",
    "\"\"\"\n",
    "\n",
    "print(banner, end='\\n\\n')\n",
    "time.sleep(1)"
   ]
  },
  {
   "cell_type": "code",
   "execution_count": null,
   "id": "67bfeaa2",
   "metadata": {},
   "outputs": [],
   "source": [
    "# Variables\n",
    "PROJECT_ADDRESS = os.getcwd()\n",
    "CAMANA = {\n",
    "    'source': os.path.join(PROJECT_ADDRESS, '06 Autoventa JUNIO Camana 2025.xlsx'),\n",
    "    'sheet_name': 'DETALLE',\n",
    "    'irrelevant_columns': [\n",
    "        'Basis',\n",
    "        'RUTA', \n",
    "        'DNI',\n",
    "        'Importe Facturado',\n",
    "        'Valor de Venta',\n",
    "        'Importe IGV'\n",
    "    ],\n",
    "    'cargo_renames': {\n",
    "        \"AUXILIAR REPARTO\": \"AUXILIAR DE REPARTO\",\n",
    "        \"AYUDANTE REPARTO\": \"AUXILIAR DE REPARTO\",\n",
    "        \"CHOFER - VENDEDOR\": \"CHOFER VENDEDOR\"\n",
    "    },\n",
    "    'producto_renames': {\n",
    "        \"INCAKOLA 3 LITROS\": \"INCA KOLA PET 3.0 L x04 REFORMADA\",\n",
    "        \"INCA KOLA PET 2..5 LX06 RF 2.0\": \"INCA KOLA PET 2.5LX06 RF\",\n",
    "        \"COCA COLA PET.2.5 X6 RF\": \"COCA COLA PET 2.5X6 RF\",\n",
    "        \"SAN LUIS 2500\": \"SL SG 2.5x06 PET\"\n",
    "    }\n",
    "}\n",
    "\n",
    "# Listas\n",
    "LOCACIONES = ['PEDREGAL', 'CHALA', 'CAMANÁ']"
   ]
  },
  {
   "cell_type": "markdown",
   "id": "ea950eab",
   "metadata": {},
   "source": [
    "### Camana"
   ]
  },
  {
   "cell_type": "code",
   "execution_count": 84,
   "id": "1ffd5977",
   "metadata": {},
   "outputs": [],
   "source": [
    "importlib.reload(gd)\n",
    "camana = gd.get_camana_data(CAMANA)"
   ]
  },
  {
   "cell_type": "code",
   "execution_count": 88,
   "id": "e66d344f",
   "metadata": {},
   "outputs": [],
   "source": [
    "importlib.reload(tf)\n",
    "camana_transformed = tf.transform_data_camana(camana)"
   ]
  },
  {
   "cell_type": "code",
   "execution_count": null,
   "id": "7cde6aaa",
   "metadata": {},
   "outputs": [],
   "source": [
    "importlib.reload(nd)\n",
    "camana_normalized = nd.normalize_data_camana(camana)"
   ]
  },
  {
   "cell_type": "code",
   "execution_count": null,
   "id": "fc8d4217",
   "metadata": {},
   "outputs": [
    {
     "name": "stdout",
     "output_type": "stream",
     "text": [
      "<class 'pandas.core.frame.DataFrame'>\n",
      "RangeIndex: 253 entries, 0 to 252\n",
      "Data columns (total 34 columns):\n",
      " #   Column              Non-Null Count  Dtype  \n",
      "---  ------              --------------  -----  \n",
      " 0   APELLIDOS Y NOMBRE  253 non-null    object \n",
      " 1   CARGO               253 non-null    object \n",
      " 2   Producto            253 non-null    object \n",
      " 3   1/05/2025           0 non-null      float64\n",
      " 4   2/05/2025           29 non-null     float64\n",
      " 5   3/05/2025           28 non-null     float64\n",
      " 6   4/05/2025           0 non-null      float64\n",
      " 7   5/05/2025           27 non-null     float64\n",
      " 8   6/05/2025           10 non-null     float64\n",
      " 9   7/05/2025           13 non-null     float64\n",
      " 10  8/05/2025           38 non-null     float64\n",
      " 11  9/05/2025           20 non-null     float64\n",
      " 12  10/05/2025          27 non-null     float64\n",
      " 13  11/05/2025          0 non-null      float64\n",
      " 14  12/05/2025          20 non-null     float64\n",
      " 15  13/05/2025          18 non-null     float64\n",
      " 16  14/05/2025          11 non-null     float64\n",
      " 17  15/05/2025          6 non-null      float64\n",
      " 18  16/05/2025          18 non-null     float64\n",
      " 19  17/05/2025          17 non-null     float64\n",
      " 20  18/05/2025          0 non-null      float64\n",
      " 21  19/05/2025          19 non-null     float64\n",
      " 22  20/05/2025          6 non-null      float64\n",
      " 23  21/05/2025          19 non-null     float64\n",
      " 24  22/05/2025          19 non-null     float64\n",
      " 25  23/05/2025          13 non-null     float64\n",
      " 26  24/05/2025          16 non-null     float64\n",
      " 27  25/05/2025          8 non-null      float64\n",
      " 28  26/05/2025          4 non-null      float64\n",
      " 29  27/05/2025          6 non-null      float64\n",
      " 30  28/05/2025          8 non-null      float64\n",
      " 31  29/05/2025          13 non-null     float64\n",
      " 32  30/05/2025          13 non-null     float64\n",
      " 33  31/05/2025          7 non-null      float64\n",
      "dtypes: float64(31), object(3)\n",
      "memory usage: 67.3+ KB\n",
      "None\n"
     ]
    }
   ],
   "source": [
    "# FALTAAAAAAAAAAAAAAAAAAAAAAAAAAAAAAAA\n",
    "# agregar columna con su sede\n",
    "camana[\"Sede\"] = \"CAMANÁ\"\n",
    "print(camana.info())\n",
    "\n",
    "# ordenar las columnas del dataframe\n",
    "camana = camana[[\"Fecha\", \"Sede\", \"APELLIDOS Y NOMBRE\", \"CARGO\", \"Producto\", \"Cantidad\"]]\n",
    "print(camana.info())"
   ]
  },
  {
   "cell_type": "markdown",
   "id": "470dfb10",
   "metadata": {},
   "source": [
    "### Pedregal"
   ]
  },
  {
   "cell_type": "code",
   "execution_count": 44,
   "id": "a9f96891",
   "metadata": {},
   "outputs": [],
   "source": [
    "limpiar_archivo(\"pedregal.csv\", \"pedregal.csv\")"
   ]
  },
  {
   "cell_type": "code",
   "execution_count": 50,
   "id": "6030ea24",
   "metadata": {},
   "outputs": [
    {
     "name": "stdout",
     "output_type": "stream",
     "text": [
      "<class 'pandas.core.frame.DataFrame'>\n",
      "RangeIndex: 266 entries, 0 to 265\n",
      "Data columns (total 39 columns):\n",
      " #   Column              Non-Null Count  Dtype  \n",
      "---  ------              --------------  -----  \n",
      " 0   APELLIDOS Y NOMBRE  238 non-null    object \n",
      " 1   CHOFER              245 non-null    float64\n",
      " 2   CARGO               266 non-null    object \n",
      " 3   Basis               266 non-null    int64  \n",
      " 4   Producto            266 non-null    object \n",
      " 5   Valor de Venta      266 non-null    float64\n",
      " 6   Importe IGV         266 non-null    float64\n",
      " 7   Importe Facturado   266 non-null    float64\n",
      " 8   1/05/2025           0 non-null      float64\n",
      " 9   2/05/2025           58 non-null     float64\n",
      " 10  3/05/2025           59 non-null     float64\n",
      " 11  4/05/2025           0 non-null      float64\n",
      " 12  5/05/2025           61 non-null     float64\n",
      " 13  6/05/2025           65 non-null     float64\n",
      " 14  7/05/2025           68 non-null     float64\n",
      " 15  8/05/2025           53 non-null     float64\n",
      " 16  9/05/2025           55 non-null     float64\n",
      " 17  10/05/2025          61 non-null     float64\n",
      " 18  11/05/2025          0 non-null      float64\n",
      " 19  12/05/2025          72 non-null     float64\n",
      " 20  13/05/2025          50 non-null     float64\n",
      " 21  14/05/2025          59 non-null     float64\n",
      " 22  15/05/2025          52 non-null     float64\n",
      " 23  16/05/2025          41 non-null     float64\n",
      " 24  17/05/2025          44 non-null     float64\n",
      " 25  18/05/2025          0 non-null      float64\n",
      " 26  19/05/2025          59 non-null     float64\n",
      " 27  20/05/2025          54 non-null     float64\n",
      " 28  21/05/2025          58 non-null     float64\n",
      " 29  22/05/2025          51 non-null     float64\n",
      " 30  23/05/2025          50 non-null     float64\n",
      " 31  24/05/2025          56 non-null     float64\n",
      " 32  25/05/2025          57 non-null     float64\n",
      " 33  26/05/2025          60 non-null     float64\n",
      " 34  27/05/2025          51 non-null     float64\n",
      " 35  28/05/2025          54 non-null     float64\n",
      " 36  29/05/2025          57 non-null     float64\n",
      " 37  30/05/2025          51 non-null     float64\n",
      " 38  31/05/2025          58 non-null     float64\n",
      "dtypes: float64(35), int64(1), object(3)\n",
      "memory usage: 81.2+ KB\n",
      "None\n"
     ]
    }
   ],
   "source": [
    "pedregal = pd.read_csv('pedregal.csv')\n",
    "print(pedregal.info())"
   ]
  },
  {
   "cell_type": "code",
   "execution_count": 53,
   "id": "ff0e7164",
   "metadata": {},
   "outputs": [
    {
     "name": "stdout",
     "output_type": "stream",
     "text": [
      "<class 'pandas.core.frame.DataFrame'>\n",
      "RangeIndex: 266 entries, 0 to 265\n",
      "Data columns (total 34 columns):\n",
      " #   Column              Non-Null Count  Dtype  \n",
      "---  ------              --------------  -----  \n",
      " 0   APELLIDOS Y NOMBRE  266 non-null    object \n",
      " 1   CARGO               266 non-null    object \n",
      " 2   Producto            266 non-null    object \n",
      " 3   1/05/2025           0 non-null      float64\n",
      " 4   2/05/2025           58 non-null     float64\n",
      " 5   3/05/2025           59 non-null     float64\n",
      " 6   4/05/2025           0 non-null      float64\n",
      " 7   5/05/2025           61 non-null     float64\n",
      " 8   6/05/2025           65 non-null     float64\n",
      " 9   7/05/2025           68 non-null     float64\n",
      " 10  8/05/2025           53 non-null     float64\n",
      " 11  9/05/2025           55 non-null     float64\n",
      " 12  10/05/2025          61 non-null     float64\n",
      " 13  11/05/2025          0 non-null      float64\n",
      " 14  12/05/2025          72 non-null     float64\n",
      " 15  13/05/2025          50 non-null     float64\n",
      " 16  14/05/2025          59 non-null     float64\n",
      " 17  15/05/2025          52 non-null     float64\n",
      " 18  16/05/2025          41 non-null     float64\n",
      " 19  17/05/2025          44 non-null     float64\n",
      " 20  18/05/2025          0 non-null      float64\n",
      " 21  19/05/2025          59 non-null     float64\n",
      " 22  20/05/2025          54 non-null     float64\n",
      " 23  21/05/2025          58 non-null     float64\n",
      " 24  22/05/2025          51 non-null     float64\n",
      " 25  23/05/2025          50 non-null     float64\n",
      " 26  24/05/2025          56 non-null     float64\n",
      " 27  25/05/2025          57 non-null     float64\n",
      " 28  26/05/2025          60 non-null     float64\n",
      " 29  27/05/2025          51 non-null     float64\n",
      " 30  28/05/2025          54 non-null     float64\n",
      " 31  29/05/2025          57 non-null     float64\n",
      " 32  30/05/2025          51 non-null     float64\n",
      " 33  31/05/2025          58 non-null     float64\n",
      "dtypes: float64(31), object(3)\n",
      "memory usage: 70.8+ KB\n",
      "None\n"
     ]
    }
   ],
   "source": [
    "# Rellenar los valores faltantes en la columna con el valor anterior\n",
    "pedregal[\"APELLIDOS Y NOMBRE\"] = pedregal[\"APELLIDOS Y NOMBRE\"].ffill()\n",
    "pedregal[\"CARGO\"] = pedregal[\"CARGO\"].ffill()\n",
    "print(pedregal.info())"
   ]
  },
  {
   "cell_type": "code",
   "execution_count": 54,
   "id": "61baf113",
   "metadata": {},
   "outputs": [
    {
     "name": "stdout",
     "output_type": "stream",
     "text": [
      "<class 'pandas.core.frame.DataFrame'>\n",
      "RangeIndex: 266 entries, 0 to 265\n",
      "Data columns (total 34 columns):\n",
      " #   Column              Non-Null Count  Dtype  \n",
      "---  ------              --------------  -----  \n",
      " 0   APELLIDOS Y NOMBRE  266 non-null    object \n",
      " 1   CARGO               266 non-null    object \n",
      " 2   Producto            266 non-null    object \n",
      " 3   1/05/2025           266 non-null    float64\n",
      " 4   2/05/2025           266 non-null    float64\n",
      " 5   3/05/2025           266 non-null    float64\n",
      " 6   4/05/2025           266 non-null    float64\n",
      " 7   5/05/2025           266 non-null    float64\n",
      " 8   6/05/2025           266 non-null    float64\n",
      " 9   7/05/2025           266 non-null    float64\n",
      " 10  8/05/2025           266 non-null    float64\n",
      " 11  9/05/2025           266 non-null    float64\n",
      " 12  10/05/2025          266 non-null    float64\n",
      " 13  11/05/2025          266 non-null    float64\n",
      " 14  12/05/2025          266 non-null    float64\n",
      " 15  13/05/2025          266 non-null    float64\n",
      " 16  14/05/2025          266 non-null    float64\n",
      " 17  15/05/2025          266 non-null    float64\n",
      " 18  16/05/2025          266 non-null    float64\n",
      " 19  17/05/2025          266 non-null    float64\n",
      " 20  18/05/2025          266 non-null    float64\n",
      " 21  19/05/2025          266 non-null    float64\n",
      " 22  20/05/2025          266 non-null    float64\n",
      " 23  21/05/2025          266 non-null    float64\n",
      " 24  22/05/2025          266 non-null    float64\n",
      " 25  23/05/2025          266 non-null    float64\n",
      " 26  24/05/2025          266 non-null    float64\n",
      " 27  25/05/2025          266 non-null    float64\n",
      " 28  26/05/2025          266 non-null    float64\n",
      " 29  27/05/2025          266 non-null    float64\n",
      " 30  28/05/2025          266 non-null    float64\n",
      " 31  29/05/2025          266 non-null    float64\n",
      " 32  30/05/2025          266 non-null    float64\n",
      " 33  31/05/2025          266 non-null    float64\n",
      "dtypes: float64(31), object(3)\n",
      "memory usage: 70.8+ KB\n",
      "None\n"
     ]
    }
   ],
   "source": [
    "# rellenar 'espacios vacios' o 'punto' con NaN\n",
    "pedregal = pedregal.replace(r'^\\s*$|^\\.$', np.nan, regex=True)\n",
    "\n",
    "# rellenar los valores NaN con 0\n",
    "pedregal = pedregal.fillna(0)\n",
    "print(pedregal.info())"
   ]
  },
  {
   "cell_type": "code",
   "execution_count": 55,
   "id": "40df8f29",
   "metadata": {},
   "outputs": [],
   "source": [
    "# transformar tabla formato reporte autoventa gral\n",
    "pedregal = pd.melt(\n",
    "    pedregal,\n",
    "    id_vars=[\"APELLIDOS Y NOMBRE\", \"CARGO\", \"Producto\"],  # Las columnas que deben permanecer fijas\n",
    "    var_name=\"Fecha\",                                     # Nombre de la nueva columna para las fechas\n",
    "    value_name=\"Cantidad\"                                 # Nombre de la nueva columna con los valores\n",
    ")"
   ]
  },
  {
   "cell_type": "code",
   "execution_count": 56,
   "id": "21930ac4",
   "metadata": {},
   "outputs": [
    {
     "name": "stdout",
     "output_type": "stream",
     "text": [
      "<class 'pandas.core.frame.DataFrame'>\n",
      "Index: 1514 entries, 272 to 8245\n",
      "Data columns (total 5 columns):\n",
      " #   Column              Non-Null Count  Dtype  \n",
      "---  ------              --------------  -----  \n",
      " 0   APELLIDOS Y NOMBRE  1514 non-null   object \n",
      " 1   CARGO               1514 non-null   object \n",
      " 2   Producto            1514 non-null   object \n",
      " 3   Fecha               1514 non-null   object \n",
      " 4   Cantidad            1514 non-null   float64\n",
      "dtypes: float64(1), object(4)\n",
      "memory usage: 71.0+ KB\n",
      "None\n"
     ]
    }
   ],
   "source": [
    "# eliminar filas cuando 'cantidad' sea 0\n",
    "pedregal = pedregal[pedregal[\"Cantidad\"] != 0]\n",
    "print(pedregal.info())"
   ]
  },
  {
   "cell_type": "code",
   "execution_count": 57,
   "id": "0cadfe3a",
   "metadata": {},
   "outputs": [
    {
     "name": "stdout",
     "output_type": "stream",
     "text": [
      "<class 'pandas.core.frame.DataFrame'>\n",
      "Index: 1514 entries, 272 to 8245\n",
      "Data columns (total 5 columns):\n",
      " #   Column              Non-Null Count  Dtype  \n",
      "---  ------              --------------  -----  \n",
      " 0   APELLIDOS Y NOMBRE  1514 non-null   object \n",
      " 1   CARGO               1514 non-null   object \n",
      " 2   Producto            1514 non-null   object \n",
      " 3   Fecha               1514 non-null   object \n",
      " 4   Cantidad            1514 non-null   float64\n",
      "dtypes: float64(1), object(4)\n",
      "memory usage: 71.0+ KB\n",
      "None\n"
     ]
    }
   ],
   "source": [
    "# corregir nombre de cargo\n",
    "pedregal[\"CARGO\"] = pedregal[\"CARGO\"].replace({\n",
    "    \"AUXILIAR REPARTO\": \"AUXILIAR DE REPARTO\",\n",
    "    \"AYUDANTE REPARTO\": \"AUXILIAR DE REPARTO\",\n",
    "    \"CHOFER - VENDEDOR\": \"CHOFER VENDEDOR\"\n",
    "})\n",
    "print(pedregal.info())"
   ]
  },
  {
   "cell_type": "code",
   "execution_count": 58,
   "id": "ed3a518a",
   "metadata": {},
   "outputs": [
    {
     "name": "stdout",
     "output_type": "stream",
     "text": [
      "<class 'pandas.core.frame.DataFrame'>\n",
      "Index: 1514 entries, 272 to 8245\n",
      "Data columns (total 5 columns):\n",
      " #   Column              Non-Null Count  Dtype  \n",
      "---  ------              --------------  -----  \n",
      " 0   APELLIDOS Y NOMBRE  1514 non-null   object \n",
      " 1   CARGO               1514 non-null   object \n",
      " 2   Producto            1514 non-null   object \n",
      " 3   Fecha               1514 non-null   object \n",
      " 4   Cantidad            1514 non-null   float64\n",
      "dtypes: float64(1), object(4)\n",
      "memory usage: 71.0+ KB\n",
      "None\n"
     ]
    }
   ],
   "source": [
    "# eliminar espacios dobles \"  \" y cambiarlos por un solo espacio \" \" de la columna Producto\n",
    "pedregal[\"Producto\"] = pedregal[\"Producto\"].replace(r'\\s+', ' ', regex=True)\n",
    "\n",
    "# cambiar nombre de productos                (\"nombre anterior\", \"nombre nuevo\")\n",
    "pedregal[\"Producto\"] = pedregal[\"Producto\"].replace(\"INCAKOLA 3 LITROS\", \"INCA KOLA PET 3.0 L x04 REFORMADA\")\n",
    "pedregal[\"Producto\"] = pedregal[\"Producto\"].replace(\"INCA KOLA PET 2..5 LX06 RF 2.0\", \"INCA KOLA PET 2.5LX06 RF\")\n",
    "pedregal[\"Producto\"] = pedregal[\"Producto\"].replace(\"COCA COLA PET.2.5 X6 RF\", \"COCA COLA PET 2.5X6 RF\")\n",
    "pedregal[\"Producto\"] = pedregal[\"Producto\"].replace(\"SAN LUIS 2500\", \"SL SG 2.5x06 PET\")\n",
    "\n",
    "print(pedregal.info())"
   ]
  },
  {
   "cell_type": "code",
   "execution_count": 59,
   "id": "f040d40c",
   "metadata": {},
   "outputs": [
    {
     "name": "stdout",
     "output_type": "stream",
     "text": [
      "<class 'pandas.core.frame.DataFrame'>\n",
      "Index: 1514 entries, 272 to 8245\n",
      "Data columns (total 6 columns):\n",
      " #   Column              Non-Null Count  Dtype  \n",
      "---  ------              --------------  -----  \n",
      " 0   APELLIDOS Y NOMBRE  1514 non-null   object \n",
      " 1   CARGO               1514 non-null   object \n",
      " 2   Producto            1514 non-null   object \n",
      " 3   Fecha               1514 non-null   object \n",
      " 4   Cantidad            1514 non-null   float64\n",
      " 5   Sede                1514 non-null   object \n",
      "dtypes: float64(1), object(5)\n",
      "memory usage: 82.8+ KB\n",
      "None\n"
     ]
    }
   ],
   "source": [
    "# agregar columna con su sede\n",
    "pedregal[\"Sede\"] = \"PEDREGAL\"\n",
    "print(pedregal.info())"
   ]
  },
  {
   "cell_type": "code",
   "execution_count": 60,
   "id": "a169ec84",
   "metadata": {},
   "outputs": [
    {
     "name": "stdout",
     "output_type": "stream",
     "text": [
      "<class 'pandas.core.frame.DataFrame'>\n",
      "Index: 1514 entries, 272 to 8245\n",
      "Data columns (total 6 columns):\n",
      " #   Column              Non-Null Count  Dtype  \n",
      "---  ------              --------------  -----  \n",
      " 0   Fecha               1514 non-null   object \n",
      " 1   Sede                1514 non-null   object \n",
      " 2   APELLIDOS Y NOMBRE  1514 non-null   object \n",
      " 3   CARGO               1514 non-null   object \n",
      " 4   Producto            1514 non-null   object \n",
      " 5   Cantidad            1514 non-null   float64\n",
      "dtypes: float64(1), object(5)\n",
      "memory usage: 82.8+ KB\n",
      "None\n"
     ]
    }
   ],
   "source": [
    "# ordenar las columnas del dataframe\n",
    "pedregal = pedregal[[\"Fecha\", \"Sede\", \"APELLIDOS Y NOMBRE\", \"CARGO\", \"Producto\", \"Cantidad\"]]\n",
    "print(pedregal.info())\n",
    "\n",
    "# guardar el dataframe en csv con formato utf-8\n",
    "pedregal.to_csv(\"pedregal_procesado.csv\", index=False, encoding=\"utf-8-sig\")"
   ]
  },
  {
   "cell_type": "markdown",
   "id": "eb5c4f1b",
   "metadata": {},
   "source": [
    "### Chala"
   ]
  },
  {
   "cell_type": "code",
   "execution_count": 5,
   "id": "ccb1295f",
   "metadata": {},
   "outputs": [],
   "source": [
    "limpiar_archivo(\"chala.csv\", \"chala.csv\")"
   ]
  },
  {
   "cell_type": "code",
   "execution_count": 6,
   "id": "f5075b77",
   "metadata": {},
   "outputs": [
    {
     "name": "stdout",
     "output_type": "stream",
     "text": [
      "<class 'pandas.core.frame.DataFrame'>\n",
      "RangeIndex: 260 entries, 0 to 259\n",
      "Data columns (total 34 columns):\n",
      " #   Column              Non-Null Count  Dtype  \n",
      "---  ------              --------------  -----  \n",
      " 0   APELLIDOS Y NOMBRE  20 non-null     object \n",
      " 1   CARGO               20 non-null     object \n",
      " 2   Producto            260 non-null    object \n",
      " 3   1/05/2025           10 non-null     float64\n",
      " 4   2/05/2025           10 non-null     float64\n",
      " 5   3/05/2025           17 non-null     float64\n",
      " 6   4/05/2025           0 non-null      float64\n",
      " 7   5/05/2025           24 non-null     float64\n",
      " 8   6/05/2025           7 non-null      object \n",
      " 9   7/05/2025           11 non-null     float64\n",
      " 10  8/05/2025           6 non-null      float64\n",
      " 11  9/05/2025           8 non-null      float64\n",
      " 12  10/05/2025          21 non-null     object \n",
      " 13  11/05/2025          0 non-null      float64\n",
      " 14  12/05/2025          26 non-null     float64\n",
      " 15  13/05/2025          10 non-null     float64\n",
      " 16  14/05/2025          15 non-null     float64\n",
      " 17  15/05/2025          5 non-null      float64\n",
      " 18  16/05/2025          8 non-null      float64\n",
      " 19  17/05/2025          14 non-null     float64\n",
      " 20  18/05/2025          0 non-null      float64\n",
      " 21  19/05/2025          16 non-null     float64\n",
      " 22  20/05/2025          6 non-null      float64\n",
      " 23  21/05/2025          9 non-null      float64\n",
      " 24  22/05/2025          8 non-null      float64\n",
      " 25  23/05/2025          7 non-null      object \n",
      " 26  24/05/2025          9 non-null      float64\n",
      " 27  25/05/2025          16 non-null     float64\n",
      " 28  26/05/2025          4 non-null      float64\n",
      " 29  27/05/2025          6 non-null      float64\n",
      " 30  28/05/2025          4 non-null      float64\n",
      " 31  29/05/2025          10 non-null     float64\n",
      " 32  30/05/2025          5 non-null      float64\n",
      " 33  31/05/2025          0 non-null      float64\n",
      "dtypes: float64(28), object(6)\n",
      "memory usage: 69.2+ KB\n",
      "None\n"
     ]
    }
   ],
   "source": [
    "chala = pd.read_csv('chala.csv')\n",
    "print(chala.info())"
   ]
  },
  {
   "cell_type": "code",
   "execution_count": 7,
   "id": "32ac192f",
   "metadata": {},
   "outputs": [
    {
     "name": "stdout",
     "output_type": "stream",
     "text": [
      "<class 'pandas.core.frame.DataFrame'>\n",
      "RangeIndex: 260 entries, 0 to 259\n",
      "Data columns (total 34 columns):\n",
      " #   Column              Non-Null Count  Dtype  \n",
      "---  ------              --------------  -----  \n",
      " 0   APELLIDOS Y NOMBRE  260 non-null    object \n",
      " 1   CARGO               260 non-null    object \n",
      " 2   Producto            260 non-null    object \n",
      " 3   1/05/2025           10 non-null     float64\n",
      " 4   2/05/2025           10 non-null     float64\n",
      " 5   3/05/2025           17 non-null     float64\n",
      " 6   4/05/2025           0 non-null      float64\n",
      " 7   5/05/2025           24 non-null     float64\n",
      " 8   6/05/2025           7 non-null      object \n",
      " 9   7/05/2025           11 non-null     float64\n",
      " 10  8/05/2025           6 non-null      float64\n",
      " 11  9/05/2025           8 non-null      float64\n",
      " 12  10/05/2025          21 non-null     object \n",
      " 13  11/05/2025          0 non-null      float64\n",
      " 14  12/05/2025          26 non-null     float64\n",
      " 15  13/05/2025          10 non-null     float64\n",
      " 16  14/05/2025          15 non-null     float64\n",
      " 17  15/05/2025          5 non-null      float64\n",
      " 18  16/05/2025          8 non-null      float64\n",
      " 19  17/05/2025          14 non-null     float64\n",
      " 20  18/05/2025          0 non-null      float64\n",
      " 21  19/05/2025          16 non-null     float64\n",
      " 22  20/05/2025          6 non-null      float64\n",
      " 23  21/05/2025          9 non-null      float64\n",
      " 24  22/05/2025          8 non-null      float64\n",
      " 25  23/05/2025          7 non-null      object \n",
      " 26  24/05/2025          9 non-null      float64\n",
      " 27  25/05/2025          16 non-null     float64\n",
      " 28  26/05/2025          4 non-null      float64\n",
      " 29  27/05/2025          6 non-null      float64\n",
      " 30  28/05/2025          4 non-null      float64\n",
      " 31  29/05/2025          10 non-null     float64\n",
      " 32  30/05/2025          5 non-null      float64\n",
      " 33  31/05/2025          0 non-null      float64\n",
      "dtypes: float64(28), object(6)\n",
      "memory usage: 69.2+ KB\n",
      "None\n"
     ]
    }
   ],
   "source": [
    "# Rellenar los valores faltantes en la columna con el valor anterior\n",
    "chala[\"APELLIDOS Y NOMBRE\"] = chala[\"APELLIDOS Y NOMBRE\"].ffill()\n",
    "chala[\"CARGO\"] = chala[\"CARGO\"].ffill()\n",
    "print(chala.info())"
   ]
  },
  {
   "cell_type": "code",
   "execution_count": 8,
   "id": "21d07e6e",
   "metadata": {},
   "outputs": [
    {
     "name": "stdout",
     "output_type": "stream",
     "text": [
      "<class 'pandas.core.frame.DataFrame'>\n",
      "RangeIndex: 260 entries, 0 to 259\n",
      "Data columns (total 34 columns):\n",
      " #   Column              Non-Null Count  Dtype  \n",
      "---  ------              --------------  -----  \n",
      " 0   APELLIDOS Y NOMBRE  260 non-null    object \n",
      " 1   CARGO               260 non-null    object \n",
      " 2   Producto            260 non-null    object \n",
      " 3   1/05/2025           260 non-null    float64\n",
      " 4   2/05/2025           260 non-null    float64\n",
      " 5   3/05/2025           260 non-null    float64\n",
      " 6   4/05/2025           260 non-null    float64\n",
      " 7   5/05/2025           260 non-null    float64\n",
      " 8   6/05/2025           260 non-null    object \n",
      " 9   7/05/2025           260 non-null    float64\n",
      " 10  8/05/2025           260 non-null    float64\n",
      " 11  9/05/2025           260 non-null    float64\n",
      " 12  10/05/2025          260 non-null    object \n",
      " 13  11/05/2025          260 non-null    float64\n",
      " 14  12/05/2025          260 non-null    float64\n",
      " 15  13/05/2025          260 non-null    float64\n",
      " 16  14/05/2025          260 non-null    float64\n",
      " 17  15/05/2025          260 non-null    float64\n",
      " 18  16/05/2025          260 non-null    float64\n",
      " 19  17/05/2025          260 non-null    float64\n",
      " 20  18/05/2025          260 non-null    float64\n",
      " 21  19/05/2025          260 non-null    float64\n",
      " 22  20/05/2025          260 non-null    float64\n",
      " 23  21/05/2025          260 non-null    float64\n",
      " 24  22/05/2025          260 non-null    float64\n",
      " 25  23/05/2025          260 non-null    object \n",
      " 26  24/05/2025          260 non-null    float64\n",
      " 27  25/05/2025          260 non-null    float64\n",
      " 28  26/05/2025          260 non-null    float64\n",
      " 29  27/05/2025          260 non-null    float64\n",
      " 30  28/05/2025          260 non-null    float64\n",
      " 31  29/05/2025          260 non-null    float64\n",
      " 32  30/05/2025          260 non-null    float64\n",
      " 33  31/05/2025          260 non-null    float64\n",
      "dtypes: float64(28), object(6)\n",
      "memory usage: 69.2+ KB\n",
      "None\n"
     ]
    }
   ],
   "source": [
    "# rellenar 'espacios vacios' o 'punto' con NaN\n",
    "chala = chala.replace(r'^\\s*$|^\\.$', np.nan, regex=True)\n",
    "\n",
    "# rellenar los valores NaN con 0\n",
    "chala = chala.fillna(0)\n",
    "print(chala.info())"
   ]
  },
  {
   "cell_type": "code",
   "execution_count": 9,
   "id": "4c8ed369",
   "metadata": {},
   "outputs": [],
   "source": [
    "# transformar tabla formato reporte autoventa gral\n",
    "chala = pd.melt(\n",
    "    chala,\n",
    "    id_vars=[\"APELLIDOS Y NOMBRE\", \"CARGO\", \"Producto\"],  # Las columnas que deben permanecer fijas\n",
    "    var_name=\"Fecha\",                                     # Nombre de la nueva columna para las fechas\n",
    "    value_name=\"Cantidad\"                                 # Nombre de la nueva columna con los valores\n",
    ")"
   ]
  },
  {
   "cell_type": "code",
   "execution_count": 10,
   "id": "11e41c97",
   "metadata": {},
   "outputs": [
    {
     "name": "stdout",
     "output_type": "stream",
     "text": [
      "<class 'pandas.core.frame.DataFrame'>\n",
      "Index: 289 entries, 3 to 7788\n",
      "Data columns (total 5 columns):\n",
      " #   Column              Non-Null Count  Dtype \n",
      "---  ------              --------------  ----- \n",
      " 0   APELLIDOS Y NOMBRE  289 non-null    object\n",
      " 1   CARGO               289 non-null    object\n",
      " 2   Producto            289 non-null    object\n",
      " 3   Fecha               289 non-null    object\n",
      " 4   Cantidad            289 non-null    object\n",
      "dtypes: object(5)\n",
      "memory usage: 13.5+ KB\n",
      "None\n"
     ]
    }
   ],
   "source": [
    "# eliminar filas cuando 'cantidad' sea 0\n",
    "chala = chala[chala[\"Cantidad\"] != 0]\n",
    "print(chala.info())"
   ]
  },
  {
   "cell_type": "code",
   "execution_count": 11,
   "id": "4aea52b7",
   "metadata": {},
   "outputs": [
    {
     "name": "stdout",
     "output_type": "stream",
     "text": [
      "<class 'pandas.core.frame.DataFrame'>\n",
      "Index: 289 entries, 3 to 7788\n",
      "Data columns (total 5 columns):\n",
      " #   Column              Non-Null Count  Dtype \n",
      "---  ------              --------------  ----- \n",
      " 0   APELLIDOS Y NOMBRE  289 non-null    object\n",
      " 1   CARGO               289 non-null    object\n",
      " 2   Producto            289 non-null    object\n",
      " 3   Fecha               289 non-null    object\n",
      " 4   Cantidad            289 non-null    object\n",
      "dtypes: object(5)\n",
      "memory usage: 13.5+ KB\n",
      "None\n"
     ]
    }
   ],
   "source": [
    "# corregir nombre de cargo\n",
    "chala[\"CARGO\"] = chala[\"CARGO\"].replace({\n",
    "    \"AUXILIAR REPARTO\": \"AUXILIAR DE REPARTO\",\n",
    "    \"AYUDANTE REPARTO\": \"AUXILIAR DE REPARTO\",\n",
    "    \"CHOFER - VENDEDOR\": \"CHOFER VENDEDOR\"\n",
    "})\n",
    "print(chala.info())"
   ]
  },
  {
   "cell_type": "code",
   "execution_count": 12,
   "id": "76d0db4e",
   "metadata": {},
   "outputs": [
    {
     "name": "stdout",
     "output_type": "stream",
     "text": [
      "<class 'pandas.core.frame.DataFrame'>\n",
      "Index: 289 entries, 3 to 7788\n",
      "Data columns (total 5 columns):\n",
      " #   Column              Non-Null Count  Dtype \n",
      "---  ------              --------------  ----- \n",
      " 0   APELLIDOS Y NOMBRE  289 non-null    object\n",
      " 1   CARGO               289 non-null    object\n",
      " 2   Producto            289 non-null    object\n",
      " 3   Fecha               289 non-null    object\n",
      " 4   Cantidad            289 non-null    object\n",
      "dtypes: object(5)\n",
      "memory usage: 13.5+ KB\n",
      "None\n"
     ]
    }
   ],
   "source": [
    "# eliminar espacios dobles \"  \" y cambiarlos por un solo espacio \" \" de la columna Producto\n",
    "chala[\"Producto\"] = chala[\"Producto\"].replace(r'\\s+', ' ', regex=True)\n",
    "\n",
    "# cambiar nombre de productos                (\"nombre anterior\", \"nombre nuevo\")\n",
    "chala[\"Producto\"] = chala[\"Producto\"].replace(\"INCAKOLA 3 LITROS\", \"INCA KOLA PET 3.0 L x04 REFORMADA\")\n",
    "chala[\"Producto\"] = chala[\"Producto\"].replace(\"INCA KOLA PET 2..5 LX06 RF 2.0\", \"INCA KOLA PET 2.5LX06 RF\")\n",
    "chala[\"Producto\"] = chala[\"Producto\"].replace(\"COCA COLA PET.2.5 X6 RF\", \"COCA COLA PET 2.5X6 RF\")\n",
    "chala[\"Producto\"] = chala[\"Producto\"].replace(\"SAN LUIS 2500\", \"SL SG 2.5x06 PET\")\n",
    "\n",
    "print(chala.info())"
   ]
  },
  {
   "cell_type": "code",
   "execution_count": 13,
   "id": "cf1740c6",
   "metadata": {},
   "outputs": [
    {
     "name": "stdout",
     "output_type": "stream",
     "text": [
      "<class 'pandas.core.frame.DataFrame'>\n",
      "Index: 289 entries, 3 to 7788\n",
      "Data columns (total 6 columns):\n",
      " #   Column              Non-Null Count  Dtype \n",
      "---  ------              --------------  ----- \n",
      " 0   APELLIDOS Y NOMBRE  289 non-null    object\n",
      " 1   CARGO               289 non-null    object\n",
      " 2   Producto            289 non-null    object\n",
      " 3   Fecha               289 non-null    object\n",
      " 4   Cantidad            289 non-null    object\n",
      " 5   Sede                289 non-null    object\n",
      "dtypes: object(6)\n",
      "memory usage: 15.8+ KB\n",
      "None\n"
     ]
    }
   ],
   "source": [
    "# agregar columna con su sede\n",
    "chala[\"Sede\"] = \"CHALA\"\n",
    "print(chala.info())"
   ]
  },
  {
   "cell_type": "code",
   "execution_count": 14,
   "id": "5c90c2e9",
   "metadata": {},
   "outputs": [
    {
     "name": "stdout",
     "output_type": "stream",
     "text": [
      "<class 'pandas.core.frame.DataFrame'>\n",
      "Index: 289 entries, 3 to 7788\n",
      "Data columns (total 6 columns):\n",
      " #   Column              Non-Null Count  Dtype \n",
      "---  ------              --------------  ----- \n",
      " 0   Fecha               289 non-null    object\n",
      " 1   Sede                289 non-null    object\n",
      " 2   APELLIDOS Y NOMBRE  289 non-null    object\n",
      " 3   CARGO               289 non-null    object\n",
      " 4   Producto            289 non-null    object\n",
      " 5   Cantidad            289 non-null    object\n",
      "dtypes: object(6)\n",
      "memory usage: 15.8+ KB\n",
      "None\n"
     ]
    }
   ],
   "source": [
    "# ordenar las columnas del dataframe\n",
    "chala = chala[[\"Fecha\", \"Sede\", \"APELLIDOS Y NOMBRE\", \"CARGO\", \"Producto\", \"Cantidad\"]]\n",
    "print(chala.info())\n",
    "\n",
    "# guardar el dataframe en csv con formato utf-8\n",
    "chala.to_csv(\"chala_procesado.csv\", index=False, encoding=\"utf-8-sig\")"
   ]
  },
  {
   "cell_type": "markdown",
   "id": "5d4562c1",
   "metadata": {},
   "source": [
    "### JUNTAR PROCESADOS"
   ]
  },
  {
   "cell_type": "code",
   "execution_count": 212,
   "id": "68715d3d",
   "metadata": {},
   "outputs": [],
   "source": [
    "# Como buscar un registro específico\n",
    "# resultado = chala[(chala[\"Fecha\"] == \"14/04/2025\") & (chala[\"APELLIDOS Y NOMBRE\"] == \"QUISPE HUARCAYA JORGE LUIS\")]\n",
    "# print(resultado)"
   ]
  },
  {
   "cell_type": "code",
   "execution_count": 15,
   "id": "3693e4e9",
   "metadata": {},
   "outputs": [],
   "source": [
    "locaciones = ['camana', 'pedregal', 'chala',]\n",
    "dfs = [pd.read_csv(f'{x}_procesado.csv') for x in locaciones]\n",
    "df_total = pd.concat(dfs, ignore_index=True)\n",
    "\n",
    "# Guardar concatenacion de csv\n",
    "df_total.to_csv(\"historial_autoventa.csv\", index=False, encoding=\"utf-8-sig\")"
   ]
  }
 ],
 "metadata": {
  "kernelspec": {
   "display_name": "Python 3",
   "language": "python",
   "name": "python3"
  },
  "language_info": {
   "codemirror_mode": {
    "name": "ipython",
    "version": 3
   },
   "file_extension": ".py",
   "mimetype": "text/x-python",
   "name": "python",
   "nbconvert_exporter": "python",
   "pygments_lexer": "ipython3",
   "version": "3.13.3"
  }
 },
 "nbformat": 4,
 "nbformat_minor": 5
}
