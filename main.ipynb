{
 "cells": [
  {
   "cell_type": "code",
   "execution_count": 1,
   "id": "36d257a9",
   "metadata": {},
   "outputs": [],
   "source": [
    "import os\n",
    "import pandas as pd\n",
    "import time\n",
    "from datetime import datetime\n",
    "import importlib\n",
    "import warnings\n",
    "warnings.filterwarnings(\"ignore\")  # Oculta todos los warnings\n",
    "\n",
    "# My libraries\n",
    "import get_data as gd\n",
    "import transform_data as tf\n",
    "import normalize_data as nd\n",
    "import print_management as pm"
   ]
  },
  {
   "cell_type": "code",
   "execution_count": 2,
   "id": "8b9888fc",
   "metadata": {},
   "outputs": [
    {
     "name": "stdout",
     "output_type": "stream",
     "text": [
      "\n",
      "    _         _                       _         __        ______ ____  ____  \n",
      "   / \\  _   _| |_ _____   _____ _ __ | |_ __ _  \\ \\      / / ___/ ___||  _ \\ \n",
      "  / _ \\| | | | __/ _ \\ \\ / / _ \\ '_ \\| __/ _` |  \\ \\ /\\ / /\\___ \\___ \\| |_) |\n",
      " / ___ \\ |_| | || (_) \\ V /  __/ | | | || (_| |   \\ V  V /  ___) |__) |  __/ \n",
      "/_/   \\_\\__,_|\\__\\___/ \\_/ \\___|_| |_|\\__\\__,_|    \\_/\\_/  |____/____/|_|                                                                                                                                                         \n",
      "\n",
      "          💥 AUTOMATIZADOR DE FORMATO AUTOVENTA POR SEDE 💥\n",
      "\n",
      "\n"
     ]
    }
   ],
   "source": [
    "# import pyfiglet\n",
    "# print(pyfiglet.figlet_format(\"Autoventa WSSP\"))\n",
    "\n",
    "banner = r\"\"\"\n",
    "    _         _                       _         __        ______ ____  ____  \n",
    "   / \\  _   _| |_ _____   _____ _ __ | |_ __ _  \\ \\      / / ___/ ___||  _ \\ \n",
    "  / _ \\| | | | __/ _ \\ \\ / / _ \\ '_ \\| __/ _` |  \\ \\ /\\ / /\\___ \\___ \\| |_) |\n",
    " / ___ \\ |_| | || (_) \\ V /  __/ | | | || (_| |   \\ V  V /  ___) |__) |  __/ \n",
    "/_/   \\_\\__,_|\\__\\___/ \\_/ \\___|_| |_|\\__\\__,_|    \\_/\\_/  |____/____/|_|                                                                                                                                                         \n",
    "\n",
    "          💥 AUTOMATIZADOR DE FORMATO AUTOVENTA POR SEDE 💥\n",
    "\"\"\"\n",
    "\n",
    "print(banner, end='\\n\\n')\n",
    "time.sleep(1)"
   ]
  },
  {
   "cell_type": "code",
   "execution_count": 2,
   "id": "67bfeaa2",
   "metadata": {},
   "outputs": [],
   "source": [
    "# Variables\n",
    "PROJECT_ADDRESS = os.getcwd()\n",
    "TODAY = datetime.today().date()\n",
    "MONTH = TODAY.month\n",
    "CAMANA = {\n",
    "    'name': 'CAMANÁ',\n",
    "    'source': os.path.join(PROJECT_ADDRESS, '07 Autoventa JULIO Camana 2025.xlsx'),\n",
    "    'sheet_name': 'DETALLE',\n",
    "    'relevant_columns': [\n",
    "        \"Fecha\", \n",
    "        \"Sede\", \n",
    "        \"APELLIDOS Y NOMBRE\", \n",
    "        \"CARGO\", \n",
    "        \"Producto\", \n",
    "        \"Cantidad\"\n",
    "    ],\n",
    "    'irrelevant_columns': [\n",
    "        'Basis',\n",
    "        'RUTA', \n",
    "        'DNI',\n",
    "        'Importe Facturado',\n",
    "        'Valor de Venta',\n",
    "        'Importe IGV'\n",
    "    ],\n",
    "    'cargo_renames': {\n",
    "        \"AUXILIAR REPARTO\": \"AUXILIAR DE REPARTO\",\n",
    "        \"AYUDANTE REPARTO\": \"AUXILIAR DE REPARTO\",\n",
    "        \"CHOFER - VENDEDOR\": \"CHOFER VENDEDOR\"\n",
    "    },\n",
    "    'producto_renames': {\n",
    "        \"INCAKOLA 3 LITROS\": \"INCA KOLA PET 3.0 L x04 REFORMADA\",\n",
    "        \"INCA KOLA PET 2..5 LX06 RF 2.0\": \"INCA KOLA PET 2.5LX06 RF\",\n",
    "        \"COCA COLA PET.2.5 X6 RF\": \"COCA COLA PET 2.5X6 RF\",\n",
    "        \"SAN LUIS 2500\": \"SL SG 2.5x06 PET\"\n",
    "    }\n",
    "}\n",
    "PEDREGAL = {\n",
    "    'name': 'PEDREGAL',\n",
    "    'source': os.path.join(PROJECT_ADDRESS, '07 Autoventa JULIO Pedregal 2025.xlsx'),\n",
    "    'sheet_name': 'DETALLE',\n",
    "    'relevant_columns': [\n",
    "        \"Fecha\", \n",
    "        \"Sede\", \n",
    "        \"APELLIDOS Y NOMBRE\", \n",
    "        \"CARGO\", \n",
    "        \"Producto\", \n",
    "        \"Cantidad\"\n",
    "    ],\n",
    "    'irrelevant_columns': [\n",
    "        'Basis',\n",
    "        'Importe Facturado',\n",
    "        'Valor de Venta',\n",
    "        'Importe IGV',\n",
    "        'CHOFER',\n",
    "        'xx1',\n",
    "        'xx2'\n",
    "    ],\n",
    "    'cargo_renames': {\n",
    "        \"AUXILIAR REPARTO\": \"AUXILIAR DE REPARTO\",\n",
    "        \"AYUDANTE REPARTO\": \"AUXILIAR DE REPARTO\",\n",
    "        \"CHOFER - VENDEDOR\": \"CHOFER VENDEDOR\"\n",
    "    },\n",
    "    'producto_renames': {\n",
    "        \"INCAKOLA 3 LITROS\": \"INCA KOLA PET 3.0 L x04 REFORMADA\",\n",
    "        \"INCA KOLA PET 2..5 LX06 RF 2.0\": \"INCA KOLA PET 2.5LX06 RF\",\n",
    "        \"COCA COLA PET.2.5 X6 RF\": \"COCA COLA PET 2.5X6 RF\",\n",
    "        \"SAN LUIS 2500\": \"SL SG 2.5x06 PET\"\n",
    "    }\n",
    "}\n",
    "CHALA = {\n",
    "    'name': 'CHALA',\n",
    "    'source': os.path.join(PROJECT_ADDRESS, '07 Autoventa JULIO Chala 2025.xlsx'),\n",
    "    'sheet_name': 'DETALLE',\n",
    "    'relevant_columns': [\n",
    "        \"Fecha\", \n",
    "        \"Sede\", \n",
    "        \"APELLIDOS Y NOMBRE\", \n",
    "        \"CARGO\", \n",
    "        \"Producto\", \n",
    "        \"Cantidad\"\n",
    "    ],\n",
    "    'irrelevant_columns': [\n",
    "        'Basis',\n",
    "        'DNI',\n",
    "        'Importe Facturado',\n",
    "        'Valor de Venta',\n",
    "        'Importe IGV'\n",
    "    ],\n",
    "    'cargo_renames': {\n",
    "        \"AUXILIAR REPARTO\": \"AUXILIAR DE REPARTO\",\n",
    "        \"AYUDANTE REPARTO\": \"AUXILIAR DE REPARTO\",\n",
    "        \"CHOFER - VENDEDOR\": \"CHOFER VENDEDOR\"\n",
    "    },\n",
    "    'producto_renames': {\n",
    "        \"INCAKOLA 3 LITROS\": \"INCA KOLA PET 3.0 L x04 REFORMADA\",\n",
    "        \"INCA KOLA PET 2..5 LX06 RF 2.0\": \"INCA KOLA PET 2.5LX06 RF\",\n",
    "        \"COCA COLA PET.2.5 X6 RF\": \"COCA COLA PET 2.5X6 RF\",\n",
    "        \"SAN LUIS 2500\": \"SL SG 2.5x06 PET\"\n",
    "    }\n",
    "}\n",
    "\n",
    "# Listas\n",
    "LOCACIONES = ['PEDREGAL', 'CHALA', 'CAMANÁ']"
   ]
  },
  {
   "cell_type": "markdown",
   "id": "ea950eab",
   "metadata": {},
   "source": [
    "### Camana"
   ]
  },
  {
   "cell_type": "code",
   "execution_count": 36,
   "id": "1ffd5977",
   "metadata": {},
   "outputs": [
    {
     "data": {
      "text/html": [
       "<pre style=\"white-space:pre;overflow-x:auto;line-height:normal;font-family:Menlo,'DejaVu Sans Mono',consolas,'Courier New',monospace\">╭──────────────────── 📊 Resumen de DataFrame ─────────────────────╮\n",
       "│ ┌─────────────────────┬─────────┬─────────────┬────────────────┐ │\n",
       "│ │<span style=\"color: #c0c0c0; text-decoration-color: #c0c0c0; background-color: #870000; font-weight: bold\"> 🧱 Columna          </span>│<span style=\"color: #c0c0c0; text-decoration-color: #c0c0c0; background-color: #870000; font-weight: bold\"> 📂 Tipo </span>│<span style=\"color: #c0c0c0; text-decoration-color: #c0c0c0; background-color: #870000; font-weight: bold\"> ✅ Non-Null </span>│<span style=\"color: #c0c0c0; text-decoration-color: #c0c0c0; background-color: #870000; font-weight: bold\"> 📈 Completitud </span>│ │\n",
       "│ ├─────────────────────┼─────────┼─────────────┼────────────────┤ │\n",
       "│ │<span style=\"color: #008080; text-decoration-color: #008080; font-weight: bold\"> APELLIDOS Y NOMBRE  </span>│<span style=\"color: #800080; text-decoration-color: #800080; font-weight: bold\"> object  </span>│<span style=\"color: #008000; text-decoration-color: #008000\">          22 </span>│<span style=\"color: #808000; text-decoration-color: #808000\">           8.1% </span>│ │\n",
       "│ │<span style=\"color: #008080; text-decoration-color: #008080; font-weight: bold\"> CARGO               </span>│<span style=\"color: #800080; text-decoration-color: #800080; font-weight: bold\"> object  </span>│<span style=\"color: #008000; text-decoration-color: #008000\">          22 </span>│<span style=\"color: #808000; text-decoration-color: #808000\">           8.1% </span>│ │\n",
       "│ │<span style=\"color: #008080; text-decoration-color: #008080; font-weight: bold\"> Producto            </span>│<span style=\"color: #800080; text-decoration-color: #800080; font-weight: bold\"> object  </span>│<span style=\"color: #008000; text-decoration-color: #008000\">         267 </span>│<span style=\"color: #808000; text-decoration-color: #808000\">          98.9% </span>│ │\n",
       "│ │<span style=\"color: #008080; text-decoration-color: #008080; font-weight: bold\"> 2025-07-01 00:00:00 </span>│<span style=\"color: #800080; text-decoration-color: #800080; font-weight: bold\"> object  </span>│<span style=\"color: #008000; text-decoration-color: #008000\">          11 </span>│<span style=\"color: #808000; text-decoration-color: #808000\">           4.1% </span>│ │\n",
       "│ │<span style=\"color: #008080; text-decoration-color: #008080; font-weight: bold\"> 2025-07-02 00:00:00 </span>│<span style=\"color: #800080; text-decoration-color: #800080; font-weight: bold\"> object  </span>│<span style=\"color: #008000; text-decoration-color: #008000\">           7 </span>│<span style=\"color: #808000; text-decoration-color: #808000\">           2.6% </span>│ │\n",
       "│ │<span style=\"color: #008080; text-decoration-color: #008080; font-weight: bold\"> 2025-07-03 00:00:00 </span>│<span style=\"color: #800080; text-decoration-color: #800080; font-weight: bold\"> object  </span>│<span style=\"color: #008000; text-decoration-color: #008000\">          25 </span>│<span style=\"color: #808000; text-decoration-color: #808000\">           9.3% </span>│ │\n",
       "│ │<span style=\"color: #008080; text-decoration-color: #008080; font-weight: bold\"> 2025-07-04 00:00:00 </span>│<span style=\"color: #800080; text-decoration-color: #800080; font-weight: bold\"> object  </span>│<span style=\"color: #008000; text-decoration-color: #008000\">           6 </span>│<span style=\"color: #808000; text-decoration-color: #808000\">           2.2% </span>│ │\n",
       "│ │<span style=\"color: #008080; text-decoration-color: #008080; font-weight: bold\"> 2025-07-05 00:00:00 </span>│<span style=\"color: #800080; text-decoration-color: #800080; font-weight: bold\"> object  </span>│<span style=\"color: #008000; text-decoration-color: #008000\">          17 </span>│<span style=\"color: #808000; text-decoration-color: #808000\">           6.3% </span>│ │\n",
       "│ │<span style=\"color: #008080; text-decoration-color: #008080; font-weight: bold\"> 2025-07-06 00:00:00 </span>│<span style=\"color: #800080; text-decoration-color: #800080; font-weight: bold\"> object  </span>│<span style=\"color: #008000; text-decoration-color: #008000\">           2 </span>│<span style=\"color: #808000; text-decoration-color: #808000\">           0.7% </span>│ │\n",
       "│ │<span style=\"color: #008080; text-decoration-color: #008080; font-weight: bold\"> 2025-07-07 00:00:00 </span>│<span style=\"color: #800080; text-decoration-color: #800080; font-weight: bold\"> object  </span>│<span style=\"color: #008000; text-decoration-color: #008000\">          21 </span>│<span style=\"color: #808000; text-decoration-color: #808000\">           7.8% </span>│ │\n",
       "│ │<span style=\"color: #008080; text-decoration-color: #008080; font-weight: bold\"> 2025-07-08 00:00:00 </span>│<span style=\"color: #800080; text-decoration-color: #800080; font-weight: bold\"> object  </span>│<span style=\"color: #008000; text-decoration-color: #008000\">          16 </span>│<span style=\"color: #808000; text-decoration-color: #808000\">           5.9% </span>│ │\n",
       "│ │<span style=\"color: #008080; text-decoration-color: #008080; font-weight: bold\"> 2025-07-09 00:00:00 </span>│<span style=\"color: #800080; text-decoration-color: #800080; font-weight: bold\"> object  </span>│<span style=\"color: #008000; text-decoration-color: #008000\">          22 </span>│<span style=\"color: #808000; text-decoration-color: #808000\">           8.1% </span>│ │\n",
       "│ │<span style=\"color: #008080; text-decoration-color: #008080; font-weight: bold\"> 2025-07-10 00:00:00 </span>│<span style=\"color: #800080; text-decoration-color: #800080; font-weight: bold\"> object  </span>│<span style=\"color: #008000; text-decoration-color: #008000\">          16 </span>│<span style=\"color: #808000; text-decoration-color: #808000\">           5.9% </span>│ │\n",
       "│ │<span style=\"color: #008080; text-decoration-color: #008080; font-weight: bold\"> 2025-07-11 00:00:00 </span>│<span style=\"color: #800080; text-decoration-color: #800080; font-weight: bold\"> object  </span>│<span style=\"color: #008000; text-decoration-color: #008000\">           5 </span>│<span style=\"color: #808000; text-decoration-color: #808000\">           1.9% </span>│ │\n",
       "│ │<span style=\"color: #008080; text-decoration-color: #008080; font-weight: bold\"> 2025-07-12 00:00:00 </span>│<span style=\"color: #800080; text-decoration-color: #800080; font-weight: bold\"> object  </span>│<span style=\"color: #008000; text-decoration-color: #008000\">          20 </span>│<span style=\"color: #808000; text-decoration-color: #808000\">           7.4% </span>│ │\n",
       "│ │<span style=\"color: #008080; text-decoration-color: #008080; font-weight: bold\"> 2025-07-13 00:00:00 </span>│<span style=\"color: #800080; text-decoration-color: #800080; font-weight: bold\"> object  </span>│<span style=\"color: #008000; text-decoration-color: #008000\">           2 </span>│<span style=\"color: #808000; text-decoration-color: #808000\">           0.7% </span>│ │\n",
       "│ │<span style=\"color: #008080; text-decoration-color: #008080; font-weight: bold\"> 2025-07-14 00:00:00 </span>│<span style=\"color: #800080; text-decoration-color: #800080; font-weight: bold\"> object  </span>│<span style=\"color: #008000; text-decoration-color: #008000\">          36 </span>│<span style=\"color: #808000; text-decoration-color: #808000\">          13.3% </span>│ │\n",
       "│ │<span style=\"color: #008080; text-decoration-color: #008080; font-weight: bold\"> 2025-07-15 00:00:00 </span>│<span style=\"color: #800080; text-decoration-color: #800080; font-weight: bold\"> object  </span>│<span style=\"color: #008000; text-decoration-color: #008000\">          17 </span>│<span style=\"color: #808000; text-decoration-color: #808000\">           6.3% </span>│ │\n",
       "│ │<span style=\"color: #008080; text-decoration-color: #008080; font-weight: bold\"> 2025-07-16 00:00:00 </span>│<span style=\"color: #800080; text-decoration-color: #800080; font-weight: bold\"> object  </span>│<span style=\"color: #008000; text-decoration-color: #008000\">           7 </span>│<span style=\"color: #808000; text-decoration-color: #808000\">           2.6% </span>│ │\n",
       "│ │<span style=\"color: #008080; text-decoration-color: #008080; font-weight: bold\"> 2025-07-17 00:00:00 </span>│<span style=\"color: #800080; text-decoration-color: #800080; font-weight: bold\"> object  </span>│<span style=\"color: #008000; text-decoration-color: #008000\">          27 </span>│<span style=\"color: #808000; text-decoration-color: #808000\">          10.0% </span>│ │\n",
       "│ │<span style=\"color: #008080; text-decoration-color: #008080; font-weight: bold\"> 2025-07-18 00:00:00 </span>│<span style=\"color: #800080; text-decoration-color: #800080; font-weight: bold\"> object  </span>│<span style=\"color: #008000; text-decoration-color: #008000\">          15 </span>│<span style=\"color: #808000; text-decoration-color: #808000\">           5.6% </span>│ │\n",
       "│ │<span style=\"color: #008080; text-decoration-color: #008080; font-weight: bold\"> 2025-07-19 00:00:00 </span>│<span style=\"color: #800080; text-decoration-color: #800080; font-weight: bold\"> object  </span>│<span style=\"color: #008000; text-decoration-color: #008000\">          16 </span>│<span style=\"color: #808000; text-decoration-color: #808000\">           5.9% </span>│ │\n",
       "│ │<span style=\"color: #008080; text-decoration-color: #008080; font-weight: bold\"> 2025-07-20 00:00:00 </span>│<span style=\"color: #800080; text-decoration-color: #800080; font-weight: bold\"> object  </span>│<span style=\"color: #008000; text-decoration-color: #008000\">           2 </span>│<span style=\"color: #808000; text-decoration-color: #808000\">           0.7% </span>│ │\n",
       "│ │<span style=\"color: #008080; text-decoration-color: #008080; font-weight: bold\"> 2025-07-21 00:00:00 </span>│<span style=\"color: #800080; text-decoration-color: #800080; font-weight: bold\"> object  </span>│<span style=\"color: #008000; text-decoration-color: #008000\">          24 </span>│<span style=\"color: #808000; text-decoration-color: #808000\">           8.9% </span>│ │\n",
       "│ │<span style=\"color: #008080; text-decoration-color: #008080; font-weight: bold\"> 2025-07-22 00:00:00 </span>│<span style=\"color: #800080; text-decoration-color: #800080; font-weight: bold\"> object  </span>│<span style=\"color: #008000; text-decoration-color: #008000\">          16 </span>│<span style=\"color: #808000; text-decoration-color: #808000\">           5.9% </span>│ │\n",
       "│ │<span style=\"color: #008080; text-decoration-color: #008080; font-weight: bold\"> 2025-07-23 00:00:00 </span>│<span style=\"color: #800080; text-decoration-color: #800080; font-weight: bold\"> object  </span>│<span style=\"color: #008000; text-decoration-color: #008000\">          20 </span>│<span style=\"color: #808000; text-decoration-color: #808000\">           7.4% </span>│ │\n",
       "│ │<span style=\"color: #008080; text-decoration-color: #008080; font-weight: bold\"> 2025-07-24 00:00:00 </span>│<span style=\"color: #800080; text-decoration-color: #800080; font-weight: bold\"> object  </span>│<span style=\"color: #008000; text-decoration-color: #008000\">          19 </span>│<span style=\"color: #808000; text-decoration-color: #808000\">           7.0% </span>│ │\n",
       "│ │<span style=\"color: #008080; text-decoration-color: #008080; font-weight: bold\"> 2025-07-25 00:00:00 </span>│<span style=\"color: #800080; text-decoration-color: #800080; font-weight: bold\"> object  </span>│<span style=\"color: #008000; text-decoration-color: #008000\">          18 </span>│<span style=\"color: #808000; text-decoration-color: #808000\">           6.7% </span>│ │\n",
       "│ │<span style=\"color: #008080; text-decoration-color: #008080; font-weight: bold\"> 2025-07-26 00:00:00 </span>│<span style=\"color: #800080; text-decoration-color: #800080; font-weight: bold\"> object  </span>│<span style=\"color: #008000; text-decoration-color: #008000\">          18 </span>│<span style=\"color: #808000; text-decoration-color: #808000\">           6.7% </span>│ │\n",
       "│ │<span style=\"color: #008080; text-decoration-color: #008080; font-weight: bold\"> 2025-07-27 00:00:00 </span>│<span style=\"color: #800080; text-decoration-color: #800080; font-weight: bold\"> object  </span>│<span style=\"color: #008000; text-decoration-color: #008000\">          25 </span>│<span style=\"color: #808000; text-decoration-color: #808000\">           9.3% </span>│ │\n",
       "│ │<span style=\"color: #008080; text-decoration-color: #008080; font-weight: bold\"> 2025-07-28 00:00:00 </span>│<span style=\"color: #800080; text-decoration-color: #800080; font-weight: bold\"> object  </span>│<span style=\"color: #008000; text-decoration-color: #008000\">          19 </span>│<span style=\"color: #808000; text-decoration-color: #808000\">           7.0% </span>│ │\n",
       "│ │<span style=\"color: #008080; text-decoration-color: #008080; font-weight: bold\"> 2025-07-29 00:00:00 </span>│<span style=\"color: #800080; text-decoration-color: #800080; font-weight: bold\"> object  </span>│<span style=\"color: #008000; text-decoration-color: #008000\">           2 </span>│<span style=\"color: #808000; text-decoration-color: #808000\">           0.7% </span>│ │\n",
       "│ │<span style=\"color: #008080; text-decoration-color: #008080; font-weight: bold\"> 2025-07-30 00:00:00 </span>│<span style=\"color: #800080; text-decoration-color: #800080; font-weight: bold\"> object  </span>│<span style=\"color: #008000; text-decoration-color: #008000\">          24 </span>│<span style=\"color: #808000; text-decoration-color: #808000\">           8.9% </span>│ │\n",
       "│ │<span style=\"color: #008080; text-decoration-color: #008080; font-weight: bold\"> 2025-07-31 00:00:00 </span>│<span style=\"color: #800080; text-decoration-color: #800080; font-weight: bold\"> object  </span>│<span style=\"color: #008000; text-decoration-color: #008000\">          15 </span>│<span style=\"color: #808000; text-decoration-color: #808000\">           5.6% </span>│ │\n",
       "│ └─────────────────────┴─────────┴─────────────┴────────────────┘ │\n",
       "╰──────────────────────────────────────────────────────────────────╯\n",
       "</pre>\n"
      ],
      "text/plain": [
       "╭──────────────────── 📊 Resumen de DataFrame ─────────────────────╮\n",
       "│ ┌─────────────────────┬─────────┬─────────────┬────────────────┐ │\n",
       "│ │\u001b[1;37;48;5;88m \u001b[0m\u001b[1;37;48;5;88m🧱 Columna         \u001b[0m\u001b[1;37;48;5;88m \u001b[0m│\u001b[1;37;48;5;88m \u001b[0m\u001b[1;37;48;5;88m📂 Tipo\u001b[0m\u001b[1;37;48;5;88m \u001b[0m│\u001b[1;37;48;5;88m \u001b[0m\u001b[1;37;48;5;88m✅ Non-Null\u001b[0m\u001b[1;37;48;5;88m \u001b[0m│\u001b[1;37;48;5;88m \u001b[0m\u001b[1;37;48;5;88m📈 Completitud\u001b[0m\u001b[1;37;48;5;88m \u001b[0m│ │\n",
       "│ ├─────────────────────┼─────────┼─────────────┼────────────────┤ │\n",
       "│ │\u001b[1;36m \u001b[0m\u001b[1;36mAPELLIDOS Y NOMBRE \u001b[0m\u001b[1;36m \u001b[0m│\u001b[1;35m \u001b[0m\u001b[1;35mobject \u001b[0m\u001b[1;35m \u001b[0m│\u001b[32m \u001b[0m\u001b[32m         22\u001b[0m\u001b[32m \u001b[0m│\u001b[33m \u001b[0m\u001b[33m          8.1%\u001b[0m\u001b[33m \u001b[0m│ │\n",
       "│ │\u001b[1;36m \u001b[0m\u001b[1;36mCARGO              \u001b[0m\u001b[1;36m \u001b[0m│\u001b[1;35m \u001b[0m\u001b[1;35mobject \u001b[0m\u001b[1;35m \u001b[0m│\u001b[32m \u001b[0m\u001b[32m         22\u001b[0m\u001b[32m \u001b[0m│\u001b[33m \u001b[0m\u001b[33m          8.1%\u001b[0m\u001b[33m \u001b[0m│ │\n",
       "│ │\u001b[1;36m \u001b[0m\u001b[1;36mProducto           \u001b[0m\u001b[1;36m \u001b[0m│\u001b[1;35m \u001b[0m\u001b[1;35mobject \u001b[0m\u001b[1;35m \u001b[0m│\u001b[32m \u001b[0m\u001b[32m        267\u001b[0m\u001b[32m \u001b[0m│\u001b[33m \u001b[0m\u001b[33m         98.9%\u001b[0m\u001b[33m \u001b[0m│ │\n",
       "│ │\u001b[1;36m \u001b[0m\u001b[1;36m2025-07-01 00:00:00\u001b[0m\u001b[1;36m \u001b[0m│\u001b[1;35m \u001b[0m\u001b[1;35mobject \u001b[0m\u001b[1;35m \u001b[0m│\u001b[32m \u001b[0m\u001b[32m         11\u001b[0m\u001b[32m \u001b[0m│\u001b[33m \u001b[0m\u001b[33m          4.1%\u001b[0m\u001b[33m \u001b[0m│ │\n",
       "│ │\u001b[1;36m \u001b[0m\u001b[1;36m2025-07-02 00:00:00\u001b[0m\u001b[1;36m \u001b[0m│\u001b[1;35m \u001b[0m\u001b[1;35mobject \u001b[0m\u001b[1;35m \u001b[0m│\u001b[32m \u001b[0m\u001b[32m          7\u001b[0m\u001b[32m \u001b[0m│\u001b[33m \u001b[0m\u001b[33m          2.6%\u001b[0m\u001b[33m \u001b[0m│ │\n",
       "│ │\u001b[1;36m \u001b[0m\u001b[1;36m2025-07-03 00:00:00\u001b[0m\u001b[1;36m \u001b[0m│\u001b[1;35m \u001b[0m\u001b[1;35mobject \u001b[0m\u001b[1;35m \u001b[0m│\u001b[32m \u001b[0m\u001b[32m         25\u001b[0m\u001b[32m \u001b[0m│\u001b[33m \u001b[0m\u001b[33m          9.3%\u001b[0m\u001b[33m \u001b[0m│ │\n",
       "│ │\u001b[1;36m \u001b[0m\u001b[1;36m2025-07-04 00:00:00\u001b[0m\u001b[1;36m \u001b[0m│\u001b[1;35m \u001b[0m\u001b[1;35mobject \u001b[0m\u001b[1;35m \u001b[0m│\u001b[32m \u001b[0m\u001b[32m          6\u001b[0m\u001b[32m \u001b[0m│\u001b[33m \u001b[0m\u001b[33m          2.2%\u001b[0m\u001b[33m \u001b[0m│ │\n",
       "│ │\u001b[1;36m \u001b[0m\u001b[1;36m2025-07-05 00:00:00\u001b[0m\u001b[1;36m \u001b[0m│\u001b[1;35m \u001b[0m\u001b[1;35mobject \u001b[0m\u001b[1;35m \u001b[0m│\u001b[32m \u001b[0m\u001b[32m         17\u001b[0m\u001b[32m \u001b[0m│\u001b[33m \u001b[0m\u001b[33m          6.3%\u001b[0m\u001b[33m \u001b[0m│ │\n",
       "│ │\u001b[1;36m \u001b[0m\u001b[1;36m2025-07-06 00:00:00\u001b[0m\u001b[1;36m \u001b[0m│\u001b[1;35m \u001b[0m\u001b[1;35mobject \u001b[0m\u001b[1;35m \u001b[0m│\u001b[32m \u001b[0m\u001b[32m          2\u001b[0m\u001b[32m \u001b[0m│\u001b[33m \u001b[0m\u001b[33m          0.7%\u001b[0m\u001b[33m \u001b[0m│ │\n",
       "│ │\u001b[1;36m \u001b[0m\u001b[1;36m2025-07-07 00:00:00\u001b[0m\u001b[1;36m \u001b[0m│\u001b[1;35m \u001b[0m\u001b[1;35mobject \u001b[0m\u001b[1;35m \u001b[0m│\u001b[32m \u001b[0m\u001b[32m         21\u001b[0m\u001b[32m \u001b[0m│\u001b[33m \u001b[0m\u001b[33m          7.8%\u001b[0m\u001b[33m \u001b[0m│ │\n",
       "│ │\u001b[1;36m \u001b[0m\u001b[1;36m2025-07-08 00:00:00\u001b[0m\u001b[1;36m \u001b[0m│\u001b[1;35m \u001b[0m\u001b[1;35mobject \u001b[0m\u001b[1;35m \u001b[0m│\u001b[32m \u001b[0m\u001b[32m         16\u001b[0m\u001b[32m \u001b[0m│\u001b[33m \u001b[0m\u001b[33m          5.9%\u001b[0m\u001b[33m \u001b[0m│ │\n",
       "│ │\u001b[1;36m \u001b[0m\u001b[1;36m2025-07-09 00:00:00\u001b[0m\u001b[1;36m \u001b[0m│\u001b[1;35m \u001b[0m\u001b[1;35mobject \u001b[0m\u001b[1;35m \u001b[0m│\u001b[32m \u001b[0m\u001b[32m         22\u001b[0m\u001b[32m \u001b[0m│\u001b[33m \u001b[0m\u001b[33m          8.1%\u001b[0m\u001b[33m \u001b[0m│ │\n",
       "│ │\u001b[1;36m \u001b[0m\u001b[1;36m2025-07-10 00:00:00\u001b[0m\u001b[1;36m \u001b[0m│\u001b[1;35m \u001b[0m\u001b[1;35mobject \u001b[0m\u001b[1;35m \u001b[0m│\u001b[32m \u001b[0m\u001b[32m         16\u001b[0m\u001b[32m \u001b[0m│\u001b[33m \u001b[0m\u001b[33m          5.9%\u001b[0m\u001b[33m \u001b[0m│ │\n",
       "│ │\u001b[1;36m \u001b[0m\u001b[1;36m2025-07-11 00:00:00\u001b[0m\u001b[1;36m \u001b[0m│\u001b[1;35m \u001b[0m\u001b[1;35mobject \u001b[0m\u001b[1;35m \u001b[0m│\u001b[32m \u001b[0m\u001b[32m          5\u001b[0m\u001b[32m \u001b[0m│\u001b[33m \u001b[0m\u001b[33m          1.9%\u001b[0m\u001b[33m \u001b[0m│ │\n",
       "│ │\u001b[1;36m \u001b[0m\u001b[1;36m2025-07-12 00:00:00\u001b[0m\u001b[1;36m \u001b[0m│\u001b[1;35m \u001b[0m\u001b[1;35mobject \u001b[0m\u001b[1;35m \u001b[0m│\u001b[32m \u001b[0m\u001b[32m         20\u001b[0m\u001b[32m \u001b[0m│\u001b[33m \u001b[0m\u001b[33m          7.4%\u001b[0m\u001b[33m \u001b[0m│ │\n",
       "│ │\u001b[1;36m \u001b[0m\u001b[1;36m2025-07-13 00:00:00\u001b[0m\u001b[1;36m \u001b[0m│\u001b[1;35m \u001b[0m\u001b[1;35mobject \u001b[0m\u001b[1;35m \u001b[0m│\u001b[32m \u001b[0m\u001b[32m          2\u001b[0m\u001b[32m \u001b[0m│\u001b[33m \u001b[0m\u001b[33m          0.7%\u001b[0m\u001b[33m \u001b[0m│ │\n",
       "│ │\u001b[1;36m \u001b[0m\u001b[1;36m2025-07-14 00:00:00\u001b[0m\u001b[1;36m \u001b[0m│\u001b[1;35m \u001b[0m\u001b[1;35mobject \u001b[0m\u001b[1;35m \u001b[0m│\u001b[32m \u001b[0m\u001b[32m         36\u001b[0m\u001b[32m \u001b[0m│\u001b[33m \u001b[0m\u001b[33m         13.3%\u001b[0m\u001b[33m \u001b[0m│ │\n",
       "│ │\u001b[1;36m \u001b[0m\u001b[1;36m2025-07-15 00:00:00\u001b[0m\u001b[1;36m \u001b[0m│\u001b[1;35m \u001b[0m\u001b[1;35mobject \u001b[0m\u001b[1;35m \u001b[0m│\u001b[32m \u001b[0m\u001b[32m         17\u001b[0m\u001b[32m \u001b[0m│\u001b[33m \u001b[0m\u001b[33m          6.3%\u001b[0m\u001b[33m \u001b[0m│ │\n",
       "│ │\u001b[1;36m \u001b[0m\u001b[1;36m2025-07-16 00:00:00\u001b[0m\u001b[1;36m \u001b[0m│\u001b[1;35m \u001b[0m\u001b[1;35mobject \u001b[0m\u001b[1;35m \u001b[0m│\u001b[32m \u001b[0m\u001b[32m          7\u001b[0m\u001b[32m \u001b[0m│\u001b[33m \u001b[0m\u001b[33m          2.6%\u001b[0m\u001b[33m \u001b[0m│ │\n",
       "│ │\u001b[1;36m \u001b[0m\u001b[1;36m2025-07-17 00:00:00\u001b[0m\u001b[1;36m \u001b[0m│\u001b[1;35m \u001b[0m\u001b[1;35mobject \u001b[0m\u001b[1;35m \u001b[0m│\u001b[32m \u001b[0m\u001b[32m         27\u001b[0m\u001b[32m \u001b[0m│\u001b[33m \u001b[0m\u001b[33m         10.0%\u001b[0m\u001b[33m \u001b[0m│ │\n",
       "│ │\u001b[1;36m \u001b[0m\u001b[1;36m2025-07-18 00:00:00\u001b[0m\u001b[1;36m \u001b[0m│\u001b[1;35m \u001b[0m\u001b[1;35mobject \u001b[0m\u001b[1;35m \u001b[0m│\u001b[32m \u001b[0m\u001b[32m         15\u001b[0m\u001b[32m \u001b[0m│\u001b[33m \u001b[0m\u001b[33m          5.6%\u001b[0m\u001b[33m \u001b[0m│ │\n",
       "│ │\u001b[1;36m \u001b[0m\u001b[1;36m2025-07-19 00:00:00\u001b[0m\u001b[1;36m \u001b[0m│\u001b[1;35m \u001b[0m\u001b[1;35mobject \u001b[0m\u001b[1;35m \u001b[0m│\u001b[32m \u001b[0m\u001b[32m         16\u001b[0m\u001b[32m \u001b[0m│\u001b[33m \u001b[0m\u001b[33m          5.9%\u001b[0m\u001b[33m \u001b[0m│ │\n",
       "│ │\u001b[1;36m \u001b[0m\u001b[1;36m2025-07-20 00:00:00\u001b[0m\u001b[1;36m \u001b[0m│\u001b[1;35m \u001b[0m\u001b[1;35mobject \u001b[0m\u001b[1;35m \u001b[0m│\u001b[32m \u001b[0m\u001b[32m          2\u001b[0m\u001b[32m \u001b[0m│\u001b[33m \u001b[0m\u001b[33m          0.7%\u001b[0m\u001b[33m \u001b[0m│ │\n",
       "│ │\u001b[1;36m \u001b[0m\u001b[1;36m2025-07-21 00:00:00\u001b[0m\u001b[1;36m \u001b[0m│\u001b[1;35m \u001b[0m\u001b[1;35mobject \u001b[0m\u001b[1;35m \u001b[0m│\u001b[32m \u001b[0m\u001b[32m         24\u001b[0m\u001b[32m \u001b[0m│\u001b[33m \u001b[0m\u001b[33m          8.9%\u001b[0m\u001b[33m \u001b[0m│ │\n",
       "│ │\u001b[1;36m \u001b[0m\u001b[1;36m2025-07-22 00:00:00\u001b[0m\u001b[1;36m \u001b[0m│\u001b[1;35m \u001b[0m\u001b[1;35mobject \u001b[0m\u001b[1;35m \u001b[0m│\u001b[32m \u001b[0m\u001b[32m         16\u001b[0m\u001b[32m \u001b[0m│\u001b[33m \u001b[0m\u001b[33m          5.9%\u001b[0m\u001b[33m \u001b[0m│ │\n",
       "│ │\u001b[1;36m \u001b[0m\u001b[1;36m2025-07-23 00:00:00\u001b[0m\u001b[1;36m \u001b[0m│\u001b[1;35m \u001b[0m\u001b[1;35mobject \u001b[0m\u001b[1;35m \u001b[0m│\u001b[32m \u001b[0m\u001b[32m         20\u001b[0m\u001b[32m \u001b[0m│\u001b[33m \u001b[0m\u001b[33m          7.4%\u001b[0m\u001b[33m \u001b[0m│ │\n",
       "│ │\u001b[1;36m \u001b[0m\u001b[1;36m2025-07-24 00:00:00\u001b[0m\u001b[1;36m \u001b[0m│\u001b[1;35m \u001b[0m\u001b[1;35mobject \u001b[0m\u001b[1;35m \u001b[0m│\u001b[32m \u001b[0m\u001b[32m         19\u001b[0m\u001b[32m \u001b[0m│\u001b[33m \u001b[0m\u001b[33m          7.0%\u001b[0m\u001b[33m \u001b[0m│ │\n",
       "│ │\u001b[1;36m \u001b[0m\u001b[1;36m2025-07-25 00:00:00\u001b[0m\u001b[1;36m \u001b[0m│\u001b[1;35m \u001b[0m\u001b[1;35mobject \u001b[0m\u001b[1;35m \u001b[0m│\u001b[32m \u001b[0m\u001b[32m         18\u001b[0m\u001b[32m \u001b[0m│\u001b[33m \u001b[0m\u001b[33m          6.7%\u001b[0m\u001b[33m \u001b[0m│ │\n",
       "│ │\u001b[1;36m \u001b[0m\u001b[1;36m2025-07-26 00:00:00\u001b[0m\u001b[1;36m \u001b[0m│\u001b[1;35m \u001b[0m\u001b[1;35mobject \u001b[0m\u001b[1;35m \u001b[0m│\u001b[32m \u001b[0m\u001b[32m         18\u001b[0m\u001b[32m \u001b[0m│\u001b[33m \u001b[0m\u001b[33m          6.7%\u001b[0m\u001b[33m \u001b[0m│ │\n",
       "│ │\u001b[1;36m \u001b[0m\u001b[1;36m2025-07-27 00:00:00\u001b[0m\u001b[1;36m \u001b[0m│\u001b[1;35m \u001b[0m\u001b[1;35mobject \u001b[0m\u001b[1;35m \u001b[0m│\u001b[32m \u001b[0m\u001b[32m         25\u001b[0m\u001b[32m \u001b[0m│\u001b[33m \u001b[0m\u001b[33m          9.3%\u001b[0m\u001b[33m \u001b[0m│ │\n",
       "│ │\u001b[1;36m \u001b[0m\u001b[1;36m2025-07-28 00:00:00\u001b[0m\u001b[1;36m \u001b[0m│\u001b[1;35m \u001b[0m\u001b[1;35mobject \u001b[0m\u001b[1;35m \u001b[0m│\u001b[32m \u001b[0m\u001b[32m         19\u001b[0m\u001b[32m \u001b[0m│\u001b[33m \u001b[0m\u001b[33m          7.0%\u001b[0m\u001b[33m \u001b[0m│ │\n",
       "│ │\u001b[1;36m \u001b[0m\u001b[1;36m2025-07-29 00:00:00\u001b[0m\u001b[1;36m \u001b[0m│\u001b[1;35m \u001b[0m\u001b[1;35mobject \u001b[0m\u001b[1;35m \u001b[0m│\u001b[32m \u001b[0m\u001b[32m          2\u001b[0m\u001b[32m \u001b[0m│\u001b[33m \u001b[0m\u001b[33m          0.7%\u001b[0m\u001b[33m \u001b[0m│ │\n",
       "│ │\u001b[1;36m \u001b[0m\u001b[1;36m2025-07-30 00:00:00\u001b[0m\u001b[1;36m \u001b[0m│\u001b[1;35m \u001b[0m\u001b[1;35mobject \u001b[0m\u001b[1;35m \u001b[0m│\u001b[32m \u001b[0m\u001b[32m         24\u001b[0m\u001b[32m \u001b[0m│\u001b[33m \u001b[0m\u001b[33m          8.9%\u001b[0m\u001b[33m \u001b[0m│ │\n",
       "│ │\u001b[1;36m \u001b[0m\u001b[1;36m2025-07-31 00:00:00\u001b[0m\u001b[1;36m \u001b[0m│\u001b[1;35m \u001b[0m\u001b[1;35mobject \u001b[0m\u001b[1;35m \u001b[0m│\u001b[32m \u001b[0m\u001b[32m         15\u001b[0m\u001b[32m \u001b[0m│\u001b[33m \u001b[0m\u001b[33m          5.6%\u001b[0m\u001b[33m \u001b[0m│ │\n",
       "│ └─────────────────────┴─────────┴─────────────┴────────────────┘ │\n",
       "╰──────────────────────────────────────────────────────────────────╯\n"
      ]
     },
     "metadata": {},
     "output_type": "display_data"
    },
    {
     "data": {
      "text/html": [
       "<pre style=\"white-space:pre;overflow-x:auto;line-height:normal;font-family:Menlo,'DejaVu Sans Mono',consolas,'Courier New',monospace\"><span style=\"color: #808080; text-decoration-color: #808080\">╭───────────── 📎 Resumen ──────────────╮</span>\n",
       "<span style=\"color: #808080; text-decoration-color: #808080\">│</span> <span style=\"color: #808000; text-decoration-color: #808000; font-weight: bold\">🔢 Dimensión:</span> 270 filas × 34 columnas <span style=\"color: #808080; text-decoration-color: #808080\">│</span>\n",
       "<span style=\"color: #808080; text-decoration-color: #808080\">│</span> <span style=\"color: #008000; text-decoration-color: #008000; font-weight: bold\">💾 Memoria usada:</span> 301.90 KB           <span style=\"color: #808080; text-decoration-color: #808080\">│</span>\n",
       "<span style=\"color: #808080; text-decoration-color: #808080\">╰───────────────────────────────────────╯</span>\n",
       "</pre>\n"
      ],
      "text/plain": [
       "\u001b[38;5;244m╭─\u001b[0m\u001b[38;5;244m────────────\u001b[0m\u001b[38;5;244m 📎 Resumen \u001b[0m\u001b[38;5;244m─────────────\u001b[0m\u001b[38;5;244m─╮\u001b[0m\n",
       "\u001b[38;5;244m│\u001b[0m \u001b[1;33m🔢 Dimensión:\u001b[0m 270 filas × 34 columnas \u001b[38;5;244m│\u001b[0m\n",
       "\u001b[38;5;244m│\u001b[0m \u001b[1;32m💾 Memoria usada:\u001b[0m 301.90 KB           \u001b[38;5;244m│\u001b[0m\n",
       "\u001b[38;5;244m╰───────────────────────────────────────╯\u001b[0m\n"
      ]
     },
     "metadata": {},
     "output_type": "display_data"
    }
   ],
   "source": [
    "importlib.reload(gd)\n",
    "importlib.reload(pm)\n",
    "camana = gd.get_camana_data(CAMANA, MONTH)\n",
    "pm.show_df(camana)"
   ]
  },
  {
   "cell_type": "code",
   "execution_count": 37,
   "id": "e66d344f",
   "metadata": {},
   "outputs": [
    {
     "data": {
      "text/html": [
       "<pre style=\"white-space:pre;overflow-x:auto;line-height:normal;font-family:Menlo,'DejaVu Sans Mono',consolas,'Courier New',monospace\">╭──────────────────── 📊 Resumen de DataFrame ────────────────────╮\n",
       "│ ┌────────────────────┬─────────┬─────────────┬────────────────┐ │\n",
       "│ │<span style=\"color: #c0c0c0; text-decoration-color: #c0c0c0; background-color: #870000; font-weight: bold\"> 🧱 Columna         </span>│<span style=\"color: #c0c0c0; text-decoration-color: #c0c0c0; background-color: #870000; font-weight: bold\"> 📂 Tipo </span>│<span style=\"color: #c0c0c0; text-decoration-color: #c0c0c0; background-color: #870000; font-weight: bold\"> ✅ Non-Null </span>│<span style=\"color: #c0c0c0; text-decoration-color: #c0c0c0; background-color: #870000; font-weight: bold\"> 📈 Completitud </span>│ │\n",
       "│ ├────────────────────┼─────────┼─────────────┼────────────────┤ │\n",
       "│ │<span style=\"color: #008080; text-decoration-color: #008080; font-weight: bold\"> APELLIDOS Y NOMBRE </span>│<span style=\"color: #800080; text-decoration-color: #800080; font-weight: bold\"> object  </span>│<span style=\"color: #008000; text-decoration-color: #008000\">         428 </span>│<span style=\"color: #808000; text-decoration-color: #808000\">         100.0% </span>│ │\n",
       "│ │<span style=\"color: #008080; text-decoration-color: #008080; font-weight: bold\"> CARGO              </span>│<span style=\"color: #800080; text-decoration-color: #800080; font-weight: bold\"> object  </span>│<span style=\"color: #008000; text-decoration-color: #008000\">         428 </span>│<span style=\"color: #808000; text-decoration-color: #808000\">         100.0% </span>│ │\n",
       "│ │<span style=\"color: #008080; text-decoration-color: #008080; font-weight: bold\"> Producto           </span>│<span style=\"color: #800080; text-decoration-color: #800080; font-weight: bold\"> object  </span>│<span style=\"color: #008000; text-decoration-color: #008000\">         428 </span>│<span style=\"color: #808000; text-decoration-color: #808000\">         100.0% </span>│ │\n",
       "│ │<span style=\"color: #008080; text-decoration-color: #008080; font-weight: bold\"> Fecha              </span>│<span style=\"color: #800080; text-decoration-color: #800080; font-weight: bold\"> object  </span>│<span style=\"color: #008000; text-decoration-color: #008000\">         428 </span>│<span style=\"color: #808000; text-decoration-color: #808000\">         100.0% </span>│ │\n",
       "│ │<span style=\"color: #008080; text-decoration-color: #008080; font-weight: bold\"> Cantidad           </span>│<span style=\"color: #800080; text-decoration-color: #800080; font-weight: bold\"> float64 </span>│<span style=\"color: #008000; text-decoration-color: #008000\">         428 </span>│<span style=\"color: #808000; text-decoration-color: #808000\">         100.0% </span>│ │\n",
       "│ └────────────────────┴─────────┴─────────────┴────────────────┘ │\n",
       "╰─────────────────────────────────────────────────────────────────╯\n",
       "</pre>\n"
      ],
      "text/plain": [
       "╭──────────────────── 📊 Resumen de DataFrame ────────────────────╮\n",
       "│ ┌────────────────────┬─────────┬─────────────┬────────────────┐ │\n",
       "│ │\u001b[1;37;48;5;88m \u001b[0m\u001b[1;37;48;5;88m🧱 Columna        \u001b[0m\u001b[1;37;48;5;88m \u001b[0m│\u001b[1;37;48;5;88m \u001b[0m\u001b[1;37;48;5;88m📂 Tipo\u001b[0m\u001b[1;37;48;5;88m \u001b[0m│\u001b[1;37;48;5;88m \u001b[0m\u001b[1;37;48;5;88m✅ Non-Null\u001b[0m\u001b[1;37;48;5;88m \u001b[0m│\u001b[1;37;48;5;88m \u001b[0m\u001b[1;37;48;5;88m📈 Completitud\u001b[0m\u001b[1;37;48;5;88m \u001b[0m│ │\n",
       "│ ├────────────────────┼─────────┼─────────────┼────────────────┤ │\n",
       "│ │\u001b[1;36m \u001b[0m\u001b[1;36mAPELLIDOS Y NOMBRE\u001b[0m\u001b[1;36m \u001b[0m│\u001b[1;35m \u001b[0m\u001b[1;35mobject \u001b[0m\u001b[1;35m \u001b[0m│\u001b[32m \u001b[0m\u001b[32m        428\u001b[0m\u001b[32m \u001b[0m│\u001b[33m \u001b[0m\u001b[33m        100.0%\u001b[0m\u001b[33m \u001b[0m│ │\n",
       "│ │\u001b[1;36m \u001b[0m\u001b[1;36mCARGO             \u001b[0m\u001b[1;36m \u001b[0m│\u001b[1;35m \u001b[0m\u001b[1;35mobject \u001b[0m\u001b[1;35m \u001b[0m│\u001b[32m \u001b[0m\u001b[32m        428\u001b[0m\u001b[32m \u001b[0m│\u001b[33m \u001b[0m\u001b[33m        100.0%\u001b[0m\u001b[33m \u001b[0m│ │\n",
       "│ │\u001b[1;36m \u001b[0m\u001b[1;36mProducto          \u001b[0m\u001b[1;36m \u001b[0m│\u001b[1;35m \u001b[0m\u001b[1;35mobject \u001b[0m\u001b[1;35m \u001b[0m│\u001b[32m \u001b[0m\u001b[32m        428\u001b[0m\u001b[32m \u001b[0m│\u001b[33m \u001b[0m\u001b[33m        100.0%\u001b[0m\u001b[33m \u001b[0m│ │\n",
       "│ │\u001b[1;36m \u001b[0m\u001b[1;36mFecha             \u001b[0m\u001b[1;36m \u001b[0m│\u001b[1;35m \u001b[0m\u001b[1;35mobject \u001b[0m\u001b[1;35m \u001b[0m│\u001b[32m \u001b[0m\u001b[32m        428\u001b[0m\u001b[32m \u001b[0m│\u001b[33m \u001b[0m\u001b[33m        100.0%\u001b[0m\u001b[33m \u001b[0m│ │\n",
       "│ │\u001b[1;36m \u001b[0m\u001b[1;36mCantidad          \u001b[0m\u001b[1;36m \u001b[0m│\u001b[1;35m \u001b[0m\u001b[1;35mfloat64\u001b[0m\u001b[1;35m \u001b[0m│\u001b[32m \u001b[0m\u001b[32m        428\u001b[0m\u001b[32m \u001b[0m│\u001b[33m \u001b[0m\u001b[33m        100.0%\u001b[0m\u001b[33m \u001b[0m│ │\n",
       "│ └────────────────────┴─────────┴─────────────┴────────────────┘ │\n",
       "╰─────────────────────────────────────────────────────────────────╯\n"
      ]
     },
     "metadata": {},
     "output_type": "display_data"
    },
    {
     "data": {
      "text/html": [
       "<pre style=\"white-space:pre;overflow-x:auto;line-height:normal;font-family:Menlo,'DejaVu Sans Mono',consolas,'Courier New',monospace\"><span style=\"color: #808080; text-decoration-color: #808080\">╭───────────── 📎 Resumen ─────────────╮</span>\n",
       "<span style=\"color: #808080; text-decoration-color: #808080\">│</span> <span style=\"color: #808000; text-decoration-color: #808000; font-weight: bold\">🔢 Dimensión:</span> 428 filas × 5 columnas <span style=\"color: #808080; text-decoration-color: #808080\">│</span>\n",
       "<span style=\"color: #808080; text-decoration-color: #808080\">│</span> <span style=\"color: #008000; text-decoration-color: #008000; font-weight: bold\">💾 Memoria usada:</span> 124.69 KB          <span style=\"color: #808080; text-decoration-color: #808080\">│</span>\n",
       "<span style=\"color: #808080; text-decoration-color: #808080\">╰──────────────────────────────────────╯</span>\n",
       "</pre>\n"
      ],
      "text/plain": [
       "\u001b[38;5;244m╭─\u001b[0m\u001b[38;5;244m────────────\u001b[0m\u001b[38;5;244m 📎 Resumen \u001b[0m\u001b[38;5;244m────────────\u001b[0m\u001b[38;5;244m─╮\u001b[0m\n",
       "\u001b[38;5;244m│\u001b[0m \u001b[1;33m🔢 Dimensión:\u001b[0m 428 filas × 5 columnas \u001b[38;5;244m│\u001b[0m\n",
       "\u001b[38;5;244m│\u001b[0m \u001b[1;32m💾 Memoria usada:\u001b[0m 124.69 KB          \u001b[38;5;244m│\u001b[0m\n",
       "\u001b[38;5;244m╰──────────────────────────────────────╯\u001b[0m\n"
      ]
     },
     "metadata": {},
     "output_type": "display_data"
    }
   ],
   "source": [
    "importlib.reload(tf)\n",
    "importlib.reload(pm)\n",
    "camana_transformed = tf.transform_data_camana(camana)\n",
    "pm.show_df(camana_transformed)"
   ]
  },
  {
   "cell_type": "code",
   "execution_count": 38,
   "id": "7cde6aaa",
   "metadata": {},
   "outputs": [
    {
     "data": {
      "text/html": [
       "<pre style=\"white-space:pre;overflow-x:auto;line-height:normal;font-family:Menlo,'DejaVu Sans Mono',consolas,'Courier New',monospace\">╭──────────────────── 📊 Resumen de DataFrame ────────────────────╮\n",
       "│ ┌────────────────────┬─────────┬─────────────┬────────────────┐ │\n",
       "│ │<span style=\"color: #c0c0c0; text-decoration-color: #c0c0c0; background-color: #870000; font-weight: bold\"> 🧱 Columna         </span>│<span style=\"color: #c0c0c0; text-decoration-color: #c0c0c0; background-color: #870000; font-weight: bold\"> 📂 Tipo </span>│<span style=\"color: #c0c0c0; text-decoration-color: #c0c0c0; background-color: #870000; font-weight: bold\"> ✅ Non-Null </span>│<span style=\"color: #c0c0c0; text-decoration-color: #c0c0c0; background-color: #870000; font-weight: bold\"> 📈 Completitud </span>│ │\n",
       "│ ├────────────────────┼─────────┼─────────────┼────────────────┤ │\n",
       "│ │<span style=\"color: #008080; text-decoration-color: #008080; font-weight: bold\"> Fecha              </span>│<span style=\"color: #800080; text-decoration-color: #800080; font-weight: bold\"> object  </span>│<span style=\"color: #008000; text-decoration-color: #008000\">         428 </span>│<span style=\"color: #808000; text-decoration-color: #808000\">         100.0% </span>│ │\n",
       "│ │<span style=\"color: #008080; text-decoration-color: #008080; font-weight: bold\"> Sede               </span>│<span style=\"color: #800080; text-decoration-color: #800080; font-weight: bold\"> object  </span>│<span style=\"color: #008000; text-decoration-color: #008000\">         428 </span>│<span style=\"color: #808000; text-decoration-color: #808000\">         100.0% </span>│ │\n",
       "│ │<span style=\"color: #008080; text-decoration-color: #008080; font-weight: bold\"> APELLIDOS Y NOMBRE </span>│<span style=\"color: #800080; text-decoration-color: #800080; font-weight: bold\"> object  </span>│<span style=\"color: #008000; text-decoration-color: #008000\">         428 </span>│<span style=\"color: #808000; text-decoration-color: #808000\">         100.0% </span>│ │\n",
       "│ │<span style=\"color: #008080; text-decoration-color: #008080; font-weight: bold\"> CARGO              </span>│<span style=\"color: #800080; text-decoration-color: #800080; font-weight: bold\"> object  </span>│<span style=\"color: #008000; text-decoration-color: #008000\">         428 </span>│<span style=\"color: #808000; text-decoration-color: #808000\">         100.0% </span>│ │\n",
       "│ │<span style=\"color: #008080; text-decoration-color: #008080; font-weight: bold\"> Producto           </span>│<span style=\"color: #800080; text-decoration-color: #800080; font-weight: bold\"> object  </span>│<span style=\"color: #008000; text-decoration-color: #008000\">         428 </span>│<span style=\"color: #808000; text-decoration-color: #808000\">         100.0% </span>│ │\n",
       "│ │<span style=\"color: #008080; text-decoration-color: #008080; font-weight: bold\"> Cantidad           </span>│<span style=\"color: #800080; text-decoration-color: #800080; font-weight: bold\"> float64 </span>│<span style=\"color: #008000; text-decoration-color: #008000\">         428 </span>│<span style=\"color: #808000; text-decoration-color: #808000\">         100.0% </span>│ │\n",
       "│ └────────────────────┴─────────┴─────────────┴────────────────┘ │\n",
       "╰─────────────────────────────────────────────────────────────────╯\n",
       "</pre>\n"
      ],
      "text/plain": [
       "╭──────────────────── 📊 Resumen de DataFrame ────────────────────╮\n",
       "│ ┌────────────────────┬─────────┬─────────────┬────────────────┐ │\n",
       "│ │\u001b[1;37;48;5;88m \u001b[0m\u001b[1;37;48;5;88m🧱 Columna        \u001b[0m\u001b[1;37;48;5;88m \u001b[0m│\u001b[1;37;48;5;88m \u001b[0m\u001b[1;37;48;5;88m📂 Tipo\u001b[0m\u001b[1;37;48;5;88m \u001b[0m│\u001b[1;37;48;5;88m \u001b[0m\u001b[1;37;48;5;88m✅ Non-Null\u001b[0m\u001b[1;37;48;5;88m \u001b[0m│\u001b[1;37;48;5;88m \u001b[0m\u001b[1;37;48;5;88m📈 Completitud\u001b[0m\u001b[1;37;48;5;88m \u001b[0m│ │\n",
       "│ ├────────────────────┼─────────┼─────────────┼────────────────┤ │\n",
       "│ │\u001b[1;36m \u001b[0m\u001b[1;36mFecha             \u001b[0m\u001b[1;36m \u001b[0m│\u001b[1;35m \u001b[0m\u001b[1;35mobject \u001b[0m\u001b[1;35m \u001b[0m│\u001b[32m \u001b[0m\u001b[32m        428\u001b[0m\u001b[32m \u001b[0m│\u001b[33m \u001b[0m\u001b[33m        100.0%\u001b[0m\u001b[33m \u001b[0m│ │\n",
       "│ │\u001b[1;36m \u001b[0m\u001b[1;36mSede              \u001b[0m\u001b[1;36m \u001b[0m│\u001b[1;35m \u001b[0m\u001b[1;35mobject \u001b[0m\u001b[1;35m \u001b[0m│\u001b[32m \u001b[0m\u001b[32m        428\u001b[0m\u001b[32m \u001b[0m│\u001b[33m \u001b[0m\u001b[33m        100.0%\u001b[0m\u001b[33m \u001b[0m│ │\n",
       "│ │\u001b[1;36m \u001b[0m\u001b[1;36mAPELLIDOS Y NOMBRE\u001b[0m\u001b[1;36m \u001b[0m│\u001b[1;35m \u001b[0m\u001b[1;35mobject \u001b[0m\u001b[1;35m \u001b[0m│\u001b[32m \u001b[0m\u001b[32m        428\u001b[0m\u001b[32m \u001b[0m│\u001b[33m \u001b[0m\u001b[33m        100.0%\u001b[0m\u001b[33m \u001b[0m│ │\n",
       "│ │\u001b[1;36m \u001b[0m\u001b[1;36mCARGO             \u001b[0m\u001b[1;36m \u001b[0m│\u001b[1;35m \u001b[0m\u001b[1;35mobject \u001b[0m\u001b[1;35m \u001b[0m│\u001b[32m \u001b[0m\u001b[32m        428\u001b[0m\u001b[32m \u001b[0m│\u001b[33m \u001b[0m\u001b[33m        100.0%\u001b[0m\u001b[33m \u001b[0m│ │\n",
       "│ │\u001b[1;36m \u001b[0m\u001b[1;36mProducto          \u001b[0m\u001b[1;36m \u001b[0m│\u001b[1;35m \u001b[0m\u001b[1;35mobject \u001b[0m\u001b[1;35m \u001b[0m│\u001b[32m \u001b[0m\u001b[32m        428\u001b[0m\u001b[32m \u001b[0m│\u001b[33m \u001b[0m\u001b[33m        100.0%\u001b[0m\u001b[33m \u001b[0m│ │\n",
       "│ │\u001b[1;36m \u001b[0m\u001b[1;36mCantidad          \u001b[0m\u001b[1;36m \u001b[0m│\u001b[1;35m \u001b[0m\u001b[1;35mfloat64\u001b[0m\u001b[1;35m \u001b[0m│\u001b[32m \u001b[0m\u001b[32m        428\u001b[0m\u001b[32m \u001b[0m│\u001b[33m \u001b[0m\u001b[33m        100.0%\u001b[0m\u001b[33m \u001b[0m│ │\n",
       "│ └────────────────────┴─────────┴─────────────┴────────────────┘ │\n",
       "╰─────────────────────────────────────────────────────────────────╯\n"
      ]
     },
     "metadata": {},
     "output_type": "display_data"
    },
    {
     "data": {
      "text/html": [
       "<pre style=\"white-space:pre;overflow-x:auto;line-height:normal;font-family:Menlo,'DejaVu Sans Mono',consolas,'Courier New',monospace\"><span style=\"color: #808080; text-decoration-color: #808080\">╭───────────── 📎 Resumen ─────────────╮</span>\n",
       "<span style=\"color: #808080; text-decoration-color: #808080\">│</span> <span style=\"color: #808000; text-decoration-color: #808000; font-weight: bold\">🔢 Dimensión:</span> 428 filas × 6 columnas <span style=\"color: #808080; text-decoration-color: #808080\">│</span>\n",
       "<span style=\"color: #808080; text-decoration-color: #808080\">│</span> <span style=\"color: #008000; text-decoration-color: #008000; font-weight: bold\">💾 Memoria usada:</span> 153.99 KB          <span style=\"color: #808080; text-decoration-color: #808080\">│</span>\n",
       "<span style=\"color: #808080; text-decoration-color: #808080\">╰──────────────────────────────────────╯</span>\n",
       "</pre>\n"
      ],
      "text/plain": [
       "\u001b[38;5;244m╭─\u001b[0m\u001b[38;5;244m────────────\u001b[0m\u001b[38;5;244m 📎 Resumen \u001b[0m\u001b[38;5;244m────────────\u001b[0m\u001b[38;5;244m─╮\u001b[0m\n",
       "\u001b[38;5;244m│\u001b[0m \u001b[1;33m🔢 Dimensión:\u001b[0m 428 filas × 6 columnas \u001b[38;5;244m│\u001b[0m\n",
       "\u001b[38;5;244m│\u001b[0m \u001b[1;32m💾 Memoria usada:\u001b[0m 153.99 KB          \u001b[38;5;244m│\u001b[0m\n",
       "\u001b[38;5;244m╰──────────────────────────────────────╯\u001b[0m\n"
      ]
     },
     "metadata": {},
     "output_type": "display_data"
    }
   ],
   "source": [
    "importlib.reload(nd)\n",
    "importlib.reload(pm)\n",
    "camana_normalized = nd.normalize_data_camana(CAMANA, camana_transformed)\n",
    "pm.show_df(camana_normalized)"
   ]
  },
  {
   "cell_type": "code",
   "execution_count": 39,
   "id": "937a1469",
   "metadata": {},
   "outputs": [],
   "source": [
    "camana_normalized.to_csv(\"camana.csv\", index=False, encoding=\"utf-8-sig\", sep=\";\")"
   ]
  },
  {
   "cell_type": "markdown",
   "id": "470dfb10",
   "metadata": {},
   "source": [
    "### Pedregal"
   ]
  },
  {
   "cell_type": "code",
   "execution_count": 4,
   "id": "3680e51c",
   "metadata": {},
   "outputs": [
    {
     "data": {
      "text/html": [
       "<pre style=\"white-space:pre;overflow-x:auto;line-height:normal;font-family:Menlo,'DejaVu Sans Mono',consolas,'Courier New',monospace\">╭──────────────────── 📊 Resumen de DataFrame ────────────────────╮\n",
       "│ ┌────────────────────┬─────────┬─────────────┬────────────────┐ │\n",
       "│ │<span style=\"color: #c0c0c0; text-decoration-color: #c0c0c0; background-color: #870000; font-weight: bold\"> 🧱 Columna         </span>│<span style=\"color: #c0c0c0; text-decoration-color: #c0c0c0; background-color: #870000; font-weight: bold\"> 📂 Tipo </span>│<span style=\"color: #c0c0c0; text-decoration-color: #c0c0c0; background-color: #870000; font-weight: bold\"> ✅ Non-Null </span>│<span style=\"color: #c0c0c0; text-decoration-color: #c0c0c0; background-color: #870000; font-weight: bold\"> 📈 Completitud </span>│ │\n",
       "│ ├────────────────────┼─────────┼─────────────┼────────────────┤ │\n",
       "│ │<span style=\"color: #008080; text-decoration-color: #008080; font-weight: bold\"> APELLIDOS Y NOMBRE </span>│<span style=\"color: #800080; text-decoration-color: #800080; font-weight: bold\"> object  </span>│<span style=\"color: #008000; text-decoration-color: #008000\">         280 </span>│<span style=\"color: #808000; text-decoration-color: #808000\">          99.6% </span>│ │\n",
       "│ │<span style=\"color: #008080; text-decoration-color: #008080; font-weight: bold\"> CARGO              </span>│<span style=\"color: #800080; text-decoration-color: #800080; font-weight: bold\"> object  </span>│<span style=\"color: #008000; text-decoration-color: #008000\">         266 </span>│<span style=\"color: #808000; text-decoration-color: #808000\">          94.7% </span>│ │\n",
       "│ │<span style=\"color: #008080; text-decoration-color: #008080; font-weight: bold\"> Producto           </span>│<span style=\"color: #800080; text-decoration-color: #800080; font-weight: bold\"> object  </span>│<span style=\"color: #008000; text-decoration-color: #008000\">         280 </span>│<span style=\"color: #808000; text-decoration-color: #808000\">          99.6% </span>│ │\n",
       "│ │<span style=\"color: #008080; text-decoration-color: #008080; font-weight: bold\"> 1/07/2025          </span>│<span style=\"color: #800080; text-decoration-color: #800080; font-weight: bold\"> object  </span>│<span style=\"color: #008000; text-decoration-color: #008000\">          63 </span>│<span style=\"color: #808000; text-decoration-color: #808000\">          22.4% </span>│ │\n",
       "│ │<span style=\"color: #008080; text-decoration-color: #008080; font-weight: bold\"> 2/07/2025          </span>│<span style=\"color: #800080; text-decoration-color: #800080; font-weight: bold\"> object  </span>│<span style=\"color: #008000; text-decoration-color: #008000\">          54 </span>│<span style=\"color: #808000; text-decoration-color: #808000\">          19.2% </span>│ │\n",
       "│ │<span style=\"color: #008080; text-decoration-color: #008080; font-weight: bold\"> 3/07/2025          </span>│<span style=\"color: #800080; text-decoration-color: #800080; font-weight: bold\"> object  </span>│<span style=\"color: #008000; text-decoration-color: #008000\">          55 </span>│<span style=\"color: #808000; text-decoration-color: #808000\">          19.6% </span>│ │\n",
       "│ │<span style=\"color: #008080; text-decoration-color: #008080; font-weight: bold\"> 4/07/2025          </span>│<span style=\"color: #800080; text-decoration-color: #800080; font-weight: bold\"> object  </span>│<span style=\"color: #008000; text-decoration-color: #008000\">          60 </span>│<span style=\"color: #808000; text-decoration-color: #808000\">          21.4% </span>│ │\n",
       "│ │<span style=\"color: #008080; text-decoration-color: #008080; font-weight: bold\"> 5/07/2025          </span>│<span style=\"color: #800080; text-decoration-color: #800080; font-weight: bold\"> object  </span>│<span style=\"color: #008000; text-decoration-color: #008000\">          62 </span>│<span style=\"color: #808000; text-decoration-color: #808000\">          22.1% </span>│ │\n",
       "│ │<span style=\"color: #008080; text-decoration-color: #008080; font-weight: bold\"> 6/07/2025          </span>│<span style=\"color: #800080; text-decoration-color: #800080; font-weight: bold\"> object  </span>│<span style=\"color: #008000; text-decoration-color: #008000\">           1 </span>│<span style=\"color: #808000; text-decoration-color: #808000\">           0.4% </span>│ │\n",
       "│ │<span style=\"color: #008080; text-decoration-color: #008080; font-weight: bold\"> 7/07/2025          </span>│<span style=\"color: #800080; text-decoration-color: #800080; font-weight: bold\"> object  </span>│<span style=\"color: #008000; text-decoration-color: #008000\">          76 </span>│<span style=\"color: #808000; text-decoration-color: #808000\">          27.0% </span>│ │\n",
       "│ │<span style=\"color: #008080; text-decoration-color: #008080; font-weight: bold\"> 8/07/2025          </span>│<span style=\"color: #800080; text-decoration-color: #800080; font-weight: bold\"> object  </span>│<span style=\"color: #008000; text-decoration-color: #008000\">          48 </span>│<span style=\"color: #808000; text-decoration-color: #808000\">          17.1% </span>│ │\n",
       "│ │<span style=\"color: #008080; text-decoration-color: #008080; font-weight: bold\"> 9/07/2025          </span>│<span style=\"color: #800080; text-decoration-color: #800080; font-weight: bold\"> object  </span>│<span style=\"color: #008000; text-decoration-color: #008000\">          54 </span>│<span style=\"color: #808000; text-decoration-color: #808000\">          19.2% </span>│ │\n",
       "│ │<span style=\"color: #008080; text-decoration-color: #008080; font-weight: bold\"> 10/07/2025         </span>│<span style=\"color: #800080; text-decoration-color: #800080; font-weight: bold\"> object  </span>│<span style=\"color: #008000; text-decoration-color: #008000\">          47 </span>│<span style=\"color: #808000; text-decoration-color: #808000\">          16.7% </span>│ │\n",
       "│ │<span style=\"color: #008080; text-decoration-color: #008080; font-weight: bold\"> 11/07/2025         </span>│<span style=\"color: #800080; text-decoration-color: #800080; font-weight: bold\"> object  </span>│<span style=\"color: #008000; text-decoration-color: #008000\">          63 </span>│<span style=\"color: #808000; text-decoration-color: #808000\">          22.4% </span>│ │\n",
       "│ │<span style=\"color: #008080; text-decoration-color: #008080; font-weight: bold\"> 12/07/2025         </span>│<span style=\"color: #800080; text-decoration-color: #800080; font-weight: bold\"> object  </span>│<span style=\"color: #008000; text-decoration-color: #008000\">          60 </span>│<span style=\"color: #808000; text-decoration-color: #808000\">          21.4% </span>│ │\n",
       "│ │<span style=\"color: #008080; text-decoration-color: #008080; font-weight: bold\"> 13/07/2025         </span>│<span style=\"color: #800080; text-decoration-color: #800080; font-weight: bold\"> object  </span>│<span style=\"color: #008000; text-decoration-color: #008000\">           1 </span>│<span style=\"color: #808000; text-decoration-color: #808000\">           0.4% </span>│ │\n",
       "│ │<span style=\"color: #008080; text-decoration-color: #008080; font-weight: bold\"> 14/07/2025         </span>│<span style=\"color: #800080; text-decoration-color: #800080; font-weight: bold\"> object  </span>│<span style=\"color: #008000; text-decoration-color: #008000\">          67 </span>│<span style=\"color: #808000; text-decoration-color: #808000\">          23.8% </span>│ │\n",
       "│ │<span style=\"color: #008080; text-decoration-color: #008080; font-weight: bold\"> 15/07/2025         </span>│<span style=\"color: #800080; text-decoration-color: #800080; font-weight: bold\"> object  </span>│<span style=\"color: #008000; text-decoration-color: #008000\">          50 </span>│<span style=\"color: #808000; text-decoration-color: #808000\">          17.8% </span>│ │\n",
       "│ │<span style=\"color: #008080; text-decoration-color: #008080; font-weight: bold\"> 16/07/2025         </span>│<span style=\"color: #800080; text-decoration-color: #800080; font-weight: bold\"> object  </span>│<span style=\"color: #008000; text-decoration-color: #008000\">          55 </span>│<span style=\"color: #808000; text-decoration-color: #808000\">          19.6% </span>│ │\n",
       "│ │<span style=\"color: #008080; text-decoration-color: #008080; font-weight: bold\"> 17/07/2025         </span>│<span style=\"color: #800080; text-decoration-color: #800080; font-weight: bold\"> object  </span>│<span style=\"color: #008000; text-decoration-color: #008000\">          55 </span>│<span style=\"color: #808000; text-decoration-color: #808000\">          19.6% </span>│ │\n",
       "│ │<span style=\"color: #008080; text-decoration-color: #008080; font-weight: bold\"> 18/07/2025         </span>│<span style=\"color: #800080; text-decoration-color: #800080; font-weight: bold\"> object  </span>│<span style=\"color: #008000; text-decoration-color: #008000\">          63 </span>│<span style=\"color: #808000; text-decoration-color: #808000\">          22.4% </span>│ │\n",
       "│ │<span style=\"color: #008080; text-decoration-color: #008080; font-weight: bold\"> 19/07/2025         </span>│<span style=\"color: #800080; text-decoration-color: #800080; font-weight: bold\"> object  </span>│<span style=\"color: #008000; text-decoration-color: #008000\">          46 </span>│<span style=\"color: #808000; text-decoration-color: #808000\">          16.4% </span>│ │\n",
       "│ │<span style=\"color: #008080; text-decoration-color: #008080; font-weight: bold\"> 20/07/2025         </span>│<span style=\"color: #800080; text-decoration-color: #800080; font-weight: bold\"> object  </span>│<span style=\"color: #008000; text-decoration-color: #008000\">           1 </span>│<span style=\"color: #808000; text-decoration-color: #808000\">           0.4% </span>│ │\n",
       "│ │<span style=\"color: #008080; text-decoration-color: #008080; font-weight: bold\"> 21/07/2025         </span>│<span style=\"color: #800080; text-decoration-color: #800080; font-weight: bold\"> object  </span>│<span style=\"color: #008000; text-decoration-color: #008000\">          68 </span>│<span style=\"color: #808000; text-decoration-color: #808000\">          24.2% </span>│ │\n",
       "│ │<span style=\"color: #008080; text-decoration-color: #008080; font-weight: bold\"> 22/07/2025         </span>│<span style=\"color: #800080; text-decoration-color: #800080; font-weight: bold\"> object  </span>│<span style=\"color: #008000; text-decoration-color: #008000\">          52 </span>│<span style=\"color: #808000; text-decoration-color: #808000\">          18.5% </span>│ │\n",
       "│ │<span style=\"color: #008080; text-decoration-color: #008080; font-weight: bold\"> 23/07/2025         </span>│<span style=\"color: #800080; text-decoration-color: #800080; font-weight: bold\"> object  </span>│<span style=\"color: #008000; text-decoration-color: #008000\">          67 </span>│<span style=\"color: #808000; text-decoration-color: #808000\">          23.8% </span>│ │\n",
       "│ │<span style=\"color: #008080; text-decoration-color: #008080; font-weight: bold\"> 24/07/2025         </span>│<span style=\"color: #800080; text-decoration-color: #800080; font-weight: bold\"> object  </span>│<span style=\"color: #008000; text-decoration-color: #008000\">          70 </span>│<span style=\"color: #808000; text-decoration-color: #808000\">          24.9% </span>│ │\n",
       "│ │<span style=\"color: #008080; text-decoration-color: #008080; font-weight: bold\"> 25/07/2025         </span>│<span style=\"color: #800080; text-decoration-color: #800080; font-weight: bold\"> object  </span>│<span style=\"color: #008000; text-decoration-color: #008000\">          45 </span>│<span style=\"color: #808000; text-decoration-color: #808000\">          16.0% </span>│ │\n",
       "│ │<span style=\"color: #008080; text-decoration-color: #008080; font-weight: bold\"> 26/07/2025         </span>│<span style=\"color: #800080; text-decoration-color: #800080; font-weight: bold\"> object  </span>│<span style=\"color: #008000; text-decoration-color: #008000\">          58 </span>│<span style=\"color: #808000; text-decoration-color: #808000\">          20.6% </span>│ │\n",
       "│ │<span style=\"color: #008080; text-decoration-color: #008080; font-weight: bold\"> 27/07/2025         </span>│<span style=\"color: #800080; text-decoration-color: #800080; font-weight: bold\"> object  </span>│<span style=\"color: #008000; text-decoration-color: #008000\">          67 </span>│<span style=\"color: #808000; text-decoration-color: #808000\">          23.8% </span>│ │\n",
       "│ │<span style=\"color: #008080; text-decoration-color: #008080; font-weight: bold\"> 28/07/2025         </span>│<span style=\"color: #800080; text-decoration-color: #800080; font-weight: bold\"> object  </span>│<span style=\"color: #008000; text-decoration-color: #008000\">          72 </span>│<span style=\"color: #808000; text-decoration-color: #808000\">          25.6% </span>│ │\n",
       "│ │<span style=\"color: #008080; text-decoration-color: #008080; font-weight: bold\"> 29/07/2025         </span>│<span style=\"color: #800080; text-decoration-color: #800080; font-weight: bold\"> object  </span>│<span style=\"color: #008000; text-decoration-color: #008000\">           1 </span>│<span style=\"color: #808000; text-decoration-color: #808000\">           0.4% </span>│ │\n",
       "│ │<span style=\"color: #008080; text-decoration-color: #008080; font-weight: bold\"> 30/07/2025         </span>│<span style=\"color: #800080; text-decoration-color: #800080; font-weight: bold\"> object  </span>│<span style=\"color: #008000; text-decoration-color: #008000\">          66 </span>│<span style=\"color: #808000; text-decoration-color: #808000\">          23.5% </span>│ │\n",
       "│ │<span style=\"color: #008080; text-decoration-color: #008080; font-weight: bold\"> 31/07/2025         </span>│<span style=\"color: #800080; text-decoration-color: #800080; font-weight: bold\"> object  </span>│<span style=\"color: #008000; text-decoration-color: #008000\">          49 </span>│<span style=\"color: #808000; text-decoration-color: #808000\">          17.4% </span>│ │\n",
       "│ └────────────────────┴─────────┴─────────────┴────────────────┘ │\n",
       "╰─────────────────────────────────────────────────────────────────╯\n",
       "</pre>\n"
      ],
      "text/plain": [
       "╭──────────────────── 📊 Resumen de DataFrame ────────────────────╮\n",
       "│ ┌────────────────────┬─────────┬─────────────┬────────────────┐ │\n",
       "│ │\u001b[1;37;48;5;88m \u001b[0m\u001b[1;37;48;5;88m🧱 Columna        \u001b[0m\u001b[1;37;48;5;88m \u001b[0m│\u001b[1;37;48;5;88m \u001b[0m\u001b[1;37;48;5;88m📂 Tipo\u001b[0m\u001b[1;37;48;5;88m \u001b[0m│\u001b[1;37;48;5;88m \u001b[0m\u001b[1;37;48;5;88m✅ Non-Null\u001b[0m\u001b[1;37;48;5;88m \u001b[0m│\u001b[1;37;48;5;88m \u001b[0m\u001b[1;37;48;5;88m📈 Completitud\u001b[0m\u001b[1;37;48;5;88m \u001b[0m│ │\n",
       "│ ├────────────────────┼─────────┼─────────────┼────────────────┤ │\n",
       "│ │\u001b[1;36m \u001b[0m\u001b[1;36mAPELLIDOS Y NOMBRE\u001b[0m\u001b[1;36m \u001b[0m│\u001b[1;35m \u001b[0m\u001b[1;35mobject \u001b[0m\u001b[1;35m \u001b[0m│\u001b[32m \u001b[0m\u001b[32m        280\u001b[0m\u001b[32m \u001b[0m│\u001b[33m \u001b[0m\u001b[33m         99.6%\u001b[0m\u001b[33m \u001b[0m│ │\n",
       "│ │\u001b[1;36m \u001b[0m\u001b[1;36mCARGO             \u001b[0m\u001b[1;36m \u001b[0m│\u001b[1;35m \u001b[0m\u001b[1;35mobject \u001b[0m\u001b[1;35m \u001b[0m│\u001b[32m \u001b[0m\u001b[32m        266\u001b[0m\u001b[32m \u001b[0m│\u001b[33m \u001b[0m\u001b[33m         94.7%\u001b[0m\u001b[33m \u001b[0m│ │\n",
       "│ │\u001b[1;36m \u001b[0m\u001b[1;36mProducto          \u001b[0m\u001b[1;36m \u001b[0m│\u001b[1;35m \u001b[0m\u001b[1;35mobject \u001b[0m\u001b[1;35m \u001b[0m│\u001b[32m \u001b[0m\u001b[32m        280\u001b[0m\u001b[32m \u001b[0m│\u001b[33m \u001b[0m\u001b[33m         99.6%\u001b[0m\u001b[33m \u001b[0m│ │\n",
       "│ │\u001b[1;36m \u001b[0m\u001b[1;36m1/07/2025         \u001b[0m\u001b[1;36m \u001b[0m│\u001b[1;35m \u001b[0m\u001b[1;35mobject \u001b[0m\u001b[1;35m \u001b[0m│\u001b[32m \u001b[0m\u001b[32m         63\u001b[0m\u001b[32m \u001b[0m│\u001b[33m \u001b[0m\u001b[33m         22.4%\u001b[0m\u001b[33m \u001b[0m│ │\n",
       "│ │\u001b[1;36m \u001b[0m\u001b[1;36m2/07/2025         \u001b[0m\u001b[1;36m \u001b[0m│\u001b[1;35m \u001b[0m\u001b[1;35mobject \u001b[0m\u001b[1;35m \u001b[0m│\u001b[32m \u001b[0m\u001b[32m         54\u001b[0m\u001b[32m \u001b[0m│\u001b[33m \u001b[0m\u001b[33m         19.2%\u001b[0m\u001b[33m \u001b[0m│ │\n",
       "│ │\u001b[1;36m \u001b[0m\u001b[1;36m3/07/2025         \u001b[0m\u001b[1;36m \u001b[0m│\u001b[1;35m \u001b[0m\u001b[1;35mobject \u001b[0m\u001b[1;35m \u001b[0m│\u001b[32m \u001b[0m\u001b[32m         55\u001b[0m\u001b[32m \u001b[0m│\u001b[33m \u001b[0m\u001b[33m         19.6%\u001b[0m\u001b[33m \u001b[0m│ │\n",
       "│ │\u001b[1;36m \u001b[0m\u001b[1;36m4/07/2025         \u001b[0m\u001b[1;36m \u001b[0m│\u001b[1;35m \u001b[0m\u001b[1;35mobject \u001b[0m\u001b[1;35m \u001b[0m│\u001b[32m \u001b[0m\u001b[32m         60\u001b[0m\u001b[32m \u001b[0m│\u001b[33m \u001b[0m\u001b[33m         21.4%\u001b[0m\u001b[33m \u001b[0m│ │\n",
       "│ │\u001b[1;36m \u001b[0m\u001b[1;36m5/07/2025         \u001b[0m\u001b[1;36m \u001b[0m│\u001b[1;35m \u001b[0m\u001b[1;35mobject \u001b[0m\u001b[1;35m \u001b[0m│\u001b[32m \u001b[0m\u001b[32m         62\u001b[0m\u001b[32m \u001b[0m│\u001b[33m \u001b[0m\u001b[33m         22.1%\u001b[0m\u001b[33m \u001b[0m│ │\n",
       "│ │\u001b[1;36m \u001b[0m\u001b[1;36m6/07/2025         \u001b[0m\u001b[1;36m \u001b[0m│\u001b[1;35m \u001b[0m\u001b[1;35mobject \u001b[0m\u001b[1;35m \u001b[0m│\u001b[32m \u001b[0m\u001b[32m          1\u001b[0m\u001b[32m \u001b[0m│\u001b[33m \u001b[0m\u001b[33m          0.4%\u001b[0m\u001b[33m \u001b[0m│ │\n",
       "│ │\u001b[1;36m \u001b[0m\u001b[1;36m7/07/2025         \u001b[0m\u001b[1;36m \u001b[0m│\u001b[1;35m \u001b[0m\u001b[1;35mobject \u001b[0m\u001b[1;35m \u001b[0m│\u001b[32m \u001b[0m\u001b[32m         76\u001b[0m\u001b[32m \u001b[0m│\u001b[33m \u001b[0m\u001b[33m         27.0%\u001b[0m\u001b[33m \u001b[0m│ │\n",
       "│ │\u001b[1;36m \u001b[0m\u001b[1;36m8/07/2025         \u001b[0m\u001b[1;36m \u001b[0m│\u001b[1;35m \u001b[0m\u001b[1;35mobject \u001b[0m\u001b[1;35m \u001b[0m│\u001b[32m \u001b[0m\u001b[32m         48\u001b[0m\u001b[32m \u001b[0m│\u001b[33m \u001b[0m\u001b[33m         17.1%\u001b[0m\u001b[33m \u001b[0m│ │\n",
       "│ │\u001b[1;36m \u001b[0m\u001b[1;36m9/07/2025         \u001b[0m\u001b[1;36m \u001b[0m│\u001b[1;35m \u001b[0m\u001b[1;35mobject \u001b[0m\u001b[1;35m \u001b[0m│\u001b[32m \u001b[0m\u001b[32m         54\u001b[0m\u001b[32m \u001b[0m│\u001b[33m \u001b[0m\u001b[33m         19.2%\u001b[0m\u001b[33m \u001b[0m│ │\n",
       "│ │\u001b[1;36m \u001b[0m\u001b[1;36m10/07/2025        \u001b[0m\u001b[1;36m \u001b[0m│\u001b[1;35m \u001b[0m\u001b[1;35mobject \u001b[0m\u001b[1;35m \u001b[0m│\u001b[32m \u001b[0m\u001b[32m         47\u001b[0m\u001b[32m \u001b[0m│\u001b[33m \u001b[0m\u001b[33m         16.7%\u001b[0m\u001b[33m \u001b[0m│ │\n",
       "│ │\u001b[1;36m \u001b[0m\u001b[1;36m11/07/2025        \u001b[0m\u001b[1;36m \u001b[0m│\u001b[1;35m \u001b[0m\u001b[1;35mobject \u001b[0m\u001b[1;35m \u001b[0m│\u001b[32m \u001b[0m\u001b[32m         63\u001b[0m\u001b[32m \u001b[0m│\u001b[33m \u001b[0m\u001b[33m         22.4%\u001b[0m\u001b[33m \u001b[0m│ │\n",
       "│ │\u001b[1;36m \u001b[0m\u001b[1;36m12/07/2025        \u001b[0m\u001b[1;36m \u001b[0m│\u001b[1;35m \u001b[0m\u001b[1;35mobject \u001b[0m\u001b[1;35m \u001b[0m│\u001b[32m \u001b[0m\u001b[32m         60\u001b[0m\u001b[32m \u001b[0m│\u001b[33m \u001b[0m\u001b[33m         21.4%\u001b[0m\u001b[33m \u001b[0m│ │\n",
       "│ │\u001b[1;36m \u001b[0m\u001b[1;36m13/07/2025        \u001b[0m\u001b[1;36m \u001b[0m│\u001b[1;35m \u001b[0m\u001b[1;35mobject \u001b[0m\u001b[1;35m \u001b[0m│\u001b[32m \u001b[0m\u001b[32m          1\u001b[0m\u001b[32m \u001b[0m│\u001b[33m \u001b[0m\u001b[33m          0.4%\u001b[0m\u001b[33m \u001b[0m│ │\n",
       "│ │\u001b[1;36m \u001b[0m\u001b[1;36m14/07/2025        \u001b[0m\u001b[1;36m \u001b[0m│\u001b[1;35m \u001b[0m\u001b[1;35mobject \u001b[0m\u001b[1;35m \u001b[0m│\u001b[32m \u001b[0m\u001b[32m         67\u001b[0m\u001b[32m \u001b[0m│\u001b[33m \u001b[0m\u001b[33m         23.8%\u001b[0m\u001b[33m \u001b[0m│ │\n",
       "│ │\u001b[1;36m \u001b[0m\u001b[1;36m15/07/2025        \u001b[0m\u001b[1;36m \u001b[0m│\u001b[1;35m \u001b[0m\u001b[1;35mobject \u001b[0m\u001b[1;35m \u001b[0m│\u001b[32m \u001b[0m\u001b[32m         50\u001b[0m\u001b[32m \u001b[0m│\u001b[33m \u001b[0m\u001b[33m         17.8%\u001b[0m\u001b[33m \u001b[0m│ │\n",
       "│ │\u001b[1;36m \u001b[0m\u001b[1;36m16/07/2025        \u001b[0m\u001b[1;36m \u001b[0m│\u001b[1;35m \u001b[0m\u001b[1;35mobject \u001b[0m\u001b[1;35m \u001b[0m│\u001b[32m \u001b[0m\u001b[32m         55\u001b[0m\u001b[32m \u001b[0m│\u001b[33m \u001b[0m\u001b[33m         19.6%\u001b[0m\u001b[33m \u001b[0m│ │\n",
       "│ │\u001b[1;36m \u001b[0m\u001b[1;36m17/07/2025        \u001b[0m\u001b[1;36m \u001b[0m│\u001b[1;35m \u001b[0m\u001b[1;35mobject \u001b[0m\u001b[1;35m \u001b[0m│\u001b[32m \u001b[0m\u001b[32m         55\u001b[0m\u001b[32m \u001b[0m│\u001b[33m \u001b[0m\u001b[33m         19.6%\u001b[0m\u001b[33m \u001b[0m│ │\n",
       "│ │\u001b[1;36m \u001b[0m\u001b[1;36m18/07/2025        \u001b[0m\u001b[1;36m \u001b[0m│\u001b[1;35m \u001b[0m\u001b[1;35mobject \u001b[0m\u001b[1;35m \u001b[0m│\u001b[32m \u001b[0m\u001b[32m         63\u001b[0m\u001b[32m \u001b[0m│\u001b[33m \u001b[0m\u001b[33m         22.4%\u001b[0m\u001b[33m \u001b[0m│ │\n",
       "│ │\u001b[1;36m \u001b[0m\u001b[1;36m19/07/2025        \u001b[0m\u001b[1;36m \u001b[0m│\u001b[1;35m \u001b[0m\u001b[1;35mobject \u001b[0m\u001b[1;35m \u001b[0m│\u001b[32m \u001b[0m\u001b[32m         46\u001b[0m\u001b[32m \u001b[0m│\u001b[33m \u001b[0m\u001b[33m         16.4%\u001b[0m\u001b[33m \u001b[0m│ │\n",
       "│ │\u001b[1;36m \u001b[0m\u001b[1;36m20/07/2025        \u001b[0m\u001b[1;36m \u001b[0m│\u001b[1;35m \u001b[0m\u001b[1;35mobject \u001b[0m\u001b[1;35m \u001b[0m│\u001b[32m \u001b[0m\u001b[32m          1\u001b[0m\u001b[32m \u001b[0m│\u001b[33m \u001b[0m\u001b[33m          0.4%\u001b[0m\u001b[33m \u001b[0m│ │\n",
       "│ │\u001b[1;36m \u001b[0m\u001b[1;36m21/07/2025        \u001b[0m\u001b[1;36m \u001b[0m│\u001b[1;35m \u001b[0m\u001b[1;35mobject \u001b[0m\u001b[1;35m \u001b[0m│\u001b[32m \u001b[0m\u001b[32m         68\u001b[0m\u001b[32m \u001b[0m│\u001b[33m \u001b[0m\u001b[33m         24.2%\u001b[0m\u001b[33m \u001b[0m│ │\n",
       "│ │\u001b[1;36m \u001b[0m\u001b[1;36m22/07/2025        \u001b[0m\u001b[1;36m \u001b[0m│\u001b[1;35m \u001b[0m\u001b[1;35mobject \u001b[0m\u001b[1;35m \u001b[0m│\u001b[32m \u001b[0m\u001b[32m         52\u001b[0m\u001b[32m \u001b[0m│\u001b[33m \u001b[0m\u001b[33m         18.5%\u001b[0m\u001b[33m \u001b[0m│ │\n",
       "│ │\u001b[1;36m \u001b[0m\u001b[1;36m23/07/2025        \u001b[0m\u001b[1;36m \u001b[0m│\u001b[1;35m \u001b[0m\u001b[1;35mobject \u001b[0m\u001b[1;35m \u001b[0m│\u001b[32m \u001b[0m\u001b[32m         67\u001b[0m\u001b[32m \u001b[0m│\u001b[33m \u001b[0m\u001b[33m         23.8%\u001b[0m\u001b[33m \u001b[0m│ │\n",
       "│ │\u001b[1;36m \u001b[0m\u001b[1;36m24/07/2025        \u001b[0m\u001b[1;36m \u001b[0m│\u001b[1;35m \u001b[0m\u001b[1;35mobject \u001b[0m\u001b[1;35m \u001b[0m│\u001b[32m \u001b[0m\u001b[32m         70\u001b[0m\u001b[32m \u001b[0m│\u001b[33m \u001b[0m\u001b[33m         24.9%\u001b[0m\u001b[33m \u001b[0m│ │\n",
       "│ │\u001b[1;36m \u001b[0m\u001b[1;36m25/07/2025        \u001b[0m\u001b[1;36m \u001b[0m│\u001b[1;35m \u001b[0m\u001b[1;35mobject \u001b[0m\u001b[1;35m \u001b[0m│\u001b[32m \u001b[0m\u001b[32m         45\u001b[0m\u001b[32m \u001b[0m│\u001b[33m \u001b[0m\u001b[33m         16.0%\u001b[0m\u001b[33m \u001b[0m│ │\n",
       "│ │\u001b[1;36m \u001b[0m\u001b[1;36m26/07/2025        \u001b[0m\u001b[1;36m \u001b[0m│\u001b[1;35m \u001b[0m\u001b[1;35mobject \u001b[0m\u001b[1;35m \u001b[0m│\u001b[32m \u001b[0m\u001b[32m         58\u001b[0m\u001b[32m \u001b[0m│\u001b[33m \u001b[0m\u001b[33m         20.6%\u001b[0m\u001b[33m \u001b[0m│ │\n",
       "│ │\u001b[1;36m \u001b[0m\u001b[1;36m27/07/2025        \u001b[0m\u001b[1;36m \u001b[0m│\u001b[1;35m \u001b[0m\u001b[1;35mobject \u001b[0m\u001b[1;35m \u001b[0m│\u001b[32m \u001b[0m\u001b[32m         67\u001b[0m\u001b[32m \u001b[0m│\u001b[33m \u001b[0m\u001b[33m         23.8%\u001b[0m\u001b[33m \u001b[0m│ │\n",
       "│ │\u001b[1;36m \u001b[0m\u001b[1;36m28/07/2025        \u001b[0m\u001b[1;36m \u001b[0m│\u001b[1;35m \u001b[0m\u001b[1;35mobject \u001b[0m\u001b[1;35m \u001b[0m│\u001b[32m \u001b[0m\u001b[32m         72\u001b[0m\u001b[32m \u001b[0m│\u001b[33m \u001b[0m\u001b[33m         25.6%\u001b[0m\u001b[33m \u001b[0m│ │\n",
       "│ │\u001b[1;36m \u001b[0m\u001b[1;36m29/07/2025        \u001b[0m\u001b[1;36m \u001b[0m│\u001b[1;35m \u001b[0m\u001b[1;35mobject \u001b[0m\u001b[1;35m \u001b[0m│\u001b[32m \u001b[0m\u001b[32m          1\u001b[0m\u001b[32m \u001b[0m│\u001b[33m \u001b[0m\u001b[33m          0.4%\u001b[0m\u001b[33m \u001b[0m│ │\n",
       "│ │\u001b[1;36m \u001b[0m\u001b[1;36m30/07/2025        \u001b[0m\u001b[1;36m \u001b[0m│\u001b[1;35m \u001b[0m\u001b[1;35mobject \u001b[0m\u001b[1;35m \u001b[0m│\u001b[32m \u001b[0m\u001b[32m         66\u001b[0m\u001b[32m \u001b[0m│\u001b[33m \u001b[0m\u001b[33m         23.5%\u001b[0m\u001b[33m \u001b[0m│ │\n",
       "│ │\u001b[1;36m \u001b[0m\u001b[1;36m31/07/2025        \u001b[0m\u001b[1;36m \u001b[0m│\u001b[1;35m \u001b[0m\u001b[1;35mobject \u001b[0m\u001b[1;35m \u001b[0m│\u001b[32m \u001b[0m\u001b[32m         49\u001b[0m\u001b[32m \u001b[0m│\u001b[33m \u001b[0m\u001b[33m         17.4%\u001b[0m\u001b[33m \u001b[0m│ │\n",
       "│ └────────────────────┴─────────┴─────────────┴────────────────┘ │\n",
       "╰─────────────────────────────────────────────────────────────────╯\n"
      ]
     },
     "metadata": {},
     "output_type": "display_data"
    },
    {
     "data": {
      "text/html": [
       "<pre style=\"white-space:pre;overflow-x:auto;line-height:normal;font-family:Menlo,'DejaVu Sans Mono',consolas,'Courier New',monospace\"><span style=\"color: #808080; text-decoration-color: #808080\">╭───────────── 📎 Resumen ──────────────╮</span>\n",
       "<span style=\"color: #808080; text-decoration-color: #808080\">│</span> <span style=\"color: #808000; text-decoration-color: #808000; font-weight: bold\">🔢 Dimensión:</span> 281 filas × 34 columnas <span style=\"color: #808080; text-decoration-color: #808080\">│</span>\n",
       "<span style=\"color: #808080; text-decoration-color: #808080\">│</span> <span style=\"color: #008000; text-decoration-color: #008000; font-weight: bold\">💾 Memoria usada:</span> 334.94 KB           <span style=\"color: #808080; text-decoration-color: #808080\">│</span>\n",
       "<span style=\"color: #808080; text-decoration-color: #808080\">╰───────────────────────────────────────╯</span>\n",
       "</pre>\n"
      ],
      "text/plain": [
       "\u001b[38;5;244m╭─\u001b[0m\u001b[38;5;244m────────────\u001b[0m\u001b[38;5;244m 📎 Resumen \u001b[0m\u001b[38;5;244m─────────────\u001b[0m\u001b[38;5;244m─╮\u001b[0m\n",
       "\u001b[38;5;244m│\u001b[0m \u001b[1;33m🔢 Dimensión:\u001b[0m 281 filas × 34 columnas \u001b[38;5;244m│\u001b[0m\n",
       "\u001b[38;5;244m│\u001b[0m \u001b[1;32m💾 Memoria usada:\u001b[0m 334.94 KB           \u001b[38;5;244m│\u001b[0m\n",
       "\u001b[38;5;244m╰───────────────────────────────────────╯\u001b[0m\n"
      ]
     },
     "metadata": {},
     "output_type": "display_data"
    }
   ],
   "source": [
    "importlib.reload(gd)\n",
    "importlib.reload(pm)\n",
    "pedregal = gd.get_pedregal_data(PEDREGAL, MONTH)\n",
    "pm.show_df(pedregal)"
   ]
  },
  {
   "cell_type": "code",
   "execution_count": 5,
   "id": "242f7ed7",
   "metadata": {},
   "outputs": [
    {
     "data": {
      "text/html": [
       "<pre style=\"white-space:pre;overflow-x:auto;line-height:normal;font-family:Menlo,'DejaVu Sans Mono',consolas,'Courier New',monospace\">╭──────────────────── 📊 Resumen de DataFrame ────────────────────╮\n",
       "│ ┌────────────────────┬─────────┬─────────────┬────────────────┐ │\n",
       "│ │<span style=\"color: #c0c0c0; text-decoration-color: #c0c0c0; background-color: #870000; font-weight: bold\"> 🧱 Columna         </span>│<span style=\"color: #c0c0c0; text-decoration-color: #c0c0c0; background-color: #870000; font-weight: bold\"> 📂 Tipo </span>│<span style=\"color: #c0c0c0; text-decoration-color: #c0c0c0; background-color: #870000; font-weight: bold\"> ✅ Non-Null </span>│<span style=\"color: #c0c0c0; text-decoration-color: #c0c0c0; background-color: #870000; font-weight: bold\"> 📈 Completitud </span>│ │\n",
       "│ ├────────────────────┼─────────┼─────────────┼────────────────┤ │\n",
       "│ │<span style=\"color: #008080; text-decoration-color: #008080; font-weight: bold\"> APELLIDOS Y NOMBRE </span>│<span style=\"color: #800080; text-decoration-color: #800080; font-weight: bold\"> object  </span>│<span style=\"color: #008000; text-decoration-color: #008000\">        1565 </span>│<span style=\"color: #808000; text-decoration-color: #808000\">         100.0% </span>│ │\n",
       "│ │<span style=\"color: #008080; text-decoration-color: #008080; font-weight: bold\"> CARGO              </span>│<span style=\"color: #800080; text-decoration-color: #800080; font-weight: bold\"> object  </span>│<span style=\"color: #008000; text-decoration-color: #008000\">        1565 </span>│<span style=\"color: #808000; text-decoration-color: #808000\">         100.0% </span>│ │\n",
       "│ │<span style=\"color: #008080; text-decoration-color: #008080; font-weight: bold\"> Producto           </span>│<span style=\"color: #800080; text-decoration-color: #800080; font-weight: bold\"> object  </span>│<span style=\"color: #008000; text-decoration-color: #008000\">        1565 </span>│<span style=\"color: #808000; text-decoration-color: #808000\">         100.0% </span>│ │\n",
       "│ │<span style=\"color: #008080; text-decoration-color: #008080; font-weight: bold\"> Fecha              </span>│<span style=\"color: #800080; text-decoration-color: #800080; font-weight: bold\"> object  </span>│<span style=\"color: #008000; text-decoration-color: #008000\">        1565 </span>│<span style=\"color: #808000; text-decoration-color: #808000\">         100.0% </span>│ │\n",
       "│ │<span style=\"color: #008080; text-decoration-color: #008080; font-weight: bold\"> Cantidad           </span>│<span style=\"color: #800080; text-decoration-color: #800080; font-weight: bold\"> float64 </span>│<span style=\"color: #008000; text-decoration-color: #008000\">        1565 </span>│<span style=\"color: #808000; text-decoration-color: #808000\">         100.0% </span>│ │\n",
       "│ └────────────────────┴─────────┴─────────────┴────────────────┘ │\n",
       "╰─────────────────────────────────────────────────────────────────╯\n",
       "</pre>\n"
      ],
      "text/plain": [
       "╭──────────────────── 📊 Resumen de DataFrame ────────────────────╮\n",
       "│ ┌────────────────────┬─────────┬─────────────┬────────────────┐ │\n",
       "│ │\u001b[1;37;48;5;88m \u001b[0m\u001b[1;37;48;5;88m🧱 Columna        \u001b[0m\u001b[1;37;48;5;88m \u001b[0m│\u001b[1;37;48;5;88m \u001b[0m\u001b[1;37;48;5;88m📂 Tipo\u001b[0m\u001b[1;37;48;5;88m \u001b[0m│\u001b[1;37;48;5;88m \u001b[0m\u001b[1;37;48;5;88m✅ Non-Null\u001b[0m\u001b[1;37;48;5;88m \u001b[0m│\u001b[1;37;48;5;88m \u001b[0m\u001b[1;37;48;5;88m📈 Completitud\u001b[0m\u001b[1;37;48;5;88m \u001b[0m│ │\n",
       "│ ├────────────────────┼─────────┼─────────────┼────────────────┤ │\n",
       "│ │\u001b[1;36m \u001b[0m\u001b[1;36mAPELLIDOS Y NOMBRE\u001b[0m\u001b[1;36m \u001b[0m│\u001b[1;35m \u001b[0m\u001b[1;35mobject \u001b[0m\u001b[1;35m \u001b[0m│\u001b[32m \u001b[0m\u001b[32m       1565\u001b[0m\u001b[32m \u001b[0m│\u001b[33m \u001b[0m\u001b[33m        100.0%\u001b[0m\u001b[33m \u001b[0m│ │\n",
       "│ │\u001b[1;36m \u001b[0m\u001b[1;36mCARGO             \u001b[0m\u001b[1;36m \u001b[0m│\u001b[1;35m \u001b[0m\u001b[1;35mobject \u001b[0m\u001b[1;35m \u001b[0m│\u001b[32m \u001b[0m\u001b[32m       1565\u001b[0m\u001b[32m \u001b[0m│\u001b[33m \u001b[0m\u001b[33m        100.0%\u001b[0m\u001b[33m \u001b[0m│ │\n",
       "│ │\u001b[1;36m \u001b[0m\u001b[1;36mProducto          \u001b[0m\u001b[1;36m \u001b[0m│\u001b[1;35m \u001b[0m\u001b[1;35mobject \u001b[0m\u001b[1;35m \u001b[0m│\u001b[32m \u001b[0m\u001b[32m       1565\u001b[0m\u001b[32m \u001b[0m│\u001b[33m \u001b[0m\u001b[33m        100.0%\u001b[0m\u001b[33m \u001b[0m│ │\n",
       "│ │\u001b[1;36m \u001b[0m\u001b[1;36mFecha             \u001b[0m\u001b[1;36m \u001b[0m│\u001b[1;35m \u001b[0m\u001b[1;35mobject \u001b[0m\u001b[1;35m \u001b[0m│\u001b[32m \u001b[0m\u001b[32m       1565\u001b[0m\u001b[32m \u001b[0m│\u001b[33m \u001b[0m\u001b[33m        100.0%\u001b[0m\u001b[33m \u001b[0m│ │\n",
       "│ │\u001b[1;36m \u001b[0m\u001b[1;36mCantidad          \u001b[0m\u001b[1;36m \u001b[0m│\u001b[1;35m \u001b[0m\u001b[1;35mfloat64\u001b[0m\u001b[1;35m \u001b[0m│\u001b[32m \u001b[0m\u001b[32m       1565\u001b[0m\u001b[32m \u001b[0m│\u001b[33m \u001b[0m\u001b[33m        100.0%\u001b[0m\u001b[33m \u001b[0m│ │\n",
       "│ └────────────────────┴─────────┴─────────────┴────────────────┘ │\n",
       "╰─────────────────────────────────────────────────────────────────╯\n"
      ]
     },
     "metadata": {},
     "output_type": "display_data"
    },
    {
     "data": {
      "text/html": [
       "<pre style=\"white-space:pre;overflow-x:auto;line-height:normal;font-family:Menlo,'DejaVu Sans Mono',consolas,'Courier New',monospace\"><span style=\"color: #808080; text-decoration-color: #808080\">╭───────────── 📎 Resumen ──────────────╮</span>\n",
       "<span style=\"color: #808080; text-decoration-color: #808080\">│</span> <span style=\"color: #808000; text-decoration-color: #808000; font-weight: bold\">🔢 Dimensión:</span> 1565 filas × 5 columnas <span style=\"color: #808080; text-decoration-color: #808080\">│</span>\n",
       "<span style=\"color: #808080; text-decoration-color: #808080\">│</span> <span style=\"color: #008000; text-decoration-color: #008000; font-weight: bold\">💾 Memoria usada:</span> 439.28 KB           <span style=\"color: #808080; text-decoration-color: #808080\">│</span>\n",
       "<span style=\"color: #808080; text-decoration-color: #808080\">╰───────────────────────────────────────╯</span>\n",
       "</pre>\n"
      ],
      "text/plain": [
       "\u001b[38;5;244m╭─\u001b[0m\u001b[38;5;244m────────────\u001b[0m\u001b[38;5;244m 📎 Resumen \u001b[0m\u001b[38;5;244m─────────────\u001b[0m\u001b[38;5;244m─╮\u001b[0m\n",
       "\u001b[38;5;244m│\u001b[0m \u001b[1;33m🔢 Dimensión:\u001b[0m 1565 filas × 5 columnas \u001b[38;5;244m│\u001b[0m\n",
       "\u001b[38;5;244m│\u001b[0m \u001b[1;32m💾 Memoria usada:\u001b[0m 439.28 KB           \u001b[38;5;244m│\u001b[0m\n",
       "\u001b[38;5;244m╰───────────────────────────────────────╯\u001b[0m\n"
      ]
     },
     "metadata": {},
     "output_type": "display_data"
    }
   ],
   "source": [
    "importlib.reload(tf)\n",
    "importlib.reload(pm)\n",
    "pedregal_transformed = tf.transform_data_pedregal(pedregal)\n",
    "pm.show_df(pedregal_transformed)"
   ]
  },
  {
   "cell_type": "code",
   "execution_count": 6,
   "id": "a1fff754",
   "metadata": {},
   "outputs": [
    {
     "data": {
      "text/html": [
       "<pre style=\"white-space:pre;overflow-x:auto;line-height:normal;font-family:Menlo,'DejaVu Sans Mono',consolas,'Courier New',monospace\">╭──────────────────── 📊 Resumen de DataFrame ────────────────────╮\n",
       "│ ┌────────────────────┬─────────┬─────────────┬────────────────┐ │\n",
       "│ │<span style=\"color: #c0c0c0; text-decoration-color: #c0c0c0; background-color: #870000; font-weight: bold\"> 🧱 Columna         </span>│<span style=\"color: #c0c0c0; text-decoration-color: #c0c0c0; background-color: #870000; font-weight: bold\"> 📂 Tipo </span>│<span style=\"color: #c0c0c0; text-decoration-color: #c0c0c0; background-color: #870000; font-weight: bold\"> ✅ Non-Null </span>│<span style=\"color: #c0c0c0; text-decoration-color: #c0c0c0; background-color: #870000; font-weight: bold\"> 📈 Completitud </span>│ │\n",
       "│ ├────────────────────┼─────────┼─────────────┼────────────────┤ │\n",
       "│ │<span style=\"color: #008080; text-decoration-color: #008080; font-weight: bold\"> Fecha              </span>│<span style=\"color: #800080; text-decoration-color: #800080; font-weight: bold\"> object  </span>│<span style=\"color: #008000; text-decoration-color: #008000\">        1565 </span>│<span style=\"color: #808000; text-decoration-color: #808000\">         100.0% </span>│ │\n",
       "│ │<span style=\"color: #008080; text-decoration-color: #008080; font-weight: bold\"> Sede               </span>│<span style=\"color: #800080; text-decoration-color: #800080; font-weight: bold\"> object  </span>│<span style=\"color: #008000; text-decoration-color: #008000\">        1565 </span>│<span style=\"color: #808000; text-decoration-color: #808000\">         100.0% </span>│ │\n",
       "│ │<span style=\"color: #008080; text-decoration-color: #008080; font-weight: bold\"> APELLIDOS Y NOMBRE </span>│<span style=\"color: #800080; text-decoration-color: #800080; font-weight: bold\"> object  </span>│<span style=\"color: #008000; text-decoration-color: #008000\">        1565 </span>│<span style=\"color: #808000; text-decoration-color: #808000\">         100.0% </span>│ │\n",
       "│ │<span style=\"color: #008080; text-decoration-color: #008080; font-weight: bold\"> CARGO              </span>│<span style=\"color: #800080; text-decoration-color: #800080; font-weight: bold\"> object  </span>│<span style=\"color: #008000; text-decoration-color: #008000\">        1565 </span>│<span style=\"color: #808000; text-decoration-color: #808000\">         100.0% </span>│ │\n",
       "│ │<span style=\"color: #008080; text-decoration-color: #008080; font-weight: bold\"> Producto           </span>│<span style=\"color: #800080; text-decoration-color: #800080; font-weight: bold\"> object  </span>│<span style=\"color: #008000; text-decoration-color: #008000\">        1565 </span>│<span style=\"color: #808000; text-decoration-color: #808000\">         100.0% </span>│ │\n",
       "│ │<span style=\"color: #008080; text-decoration-color: #008080; font-weight: bold\"> Cantidad           </span>│<span style=\"color: #800080; text-decoration-color: #800080; font-weight: bold\"> float64 </span>│<span style=\"color: #008000; text-decoration-color: #008000\">        1565 </span>│<span style=\"color: #808000; text-decoration-color: #808000\">         100.0% </span>│ │\n",
       "│ └────────────────────┴─────────┴─────────────┴────────────────┘ │\n",
       "╰─────────────────────────────────────────────────────────────────╯\n",
       "</pre>\n"
      ],
      "text/plain": [
       "╭──────────────────── 📊 Resumen de DataFrame ────────────────────╮\n",
       "│ ┌────────────────────┬─────────┬─────────────┬────────────────┐ │\n",
       "│ │\u001b[1;37;48;5;88m \u001b[0m\u001b[1;37;48;5;88m🧱 Columna        \u001b[0m\u001b[1;37;48;5;88m \u001b[0m│\u001b[1;37;48;5;88m \u001b[0m\u001b[1;37;48;5;88m📂 Tipo\u001b[0m\u001b[1;37;48;5;88m \u001b[0m│\u001b[1;37;48;5;88m \u001b[0m\u001b[1;37;48;5;88m✅ Non-Null\u001b[0m\u001b[1;37;48;5;88m \u001b[0m│\u001b[1;37;48;5;88m \u001b[0m\u001b[1;37;48;5;88m📈 Completitud\u001b[0m\u001b[1;37;48;5;88m \u001b[0m│ │\n",
       "│ ├────────────────────┼─────────┼─────────────┼────────────────┤ │\n",
       "│ │\u001b[1;36m \u001b[0m\u001b[1;36mFecha             \u001b[0m\u001b[1;36m \u001b[0m│\u001b[1;35m \u001b[0m\u001b[1;35mobject \u001b[0m\u001b[1;35m \u001b[0m│\u001b[32m \u001b[0m\u001b[32m       1565\u001b[0m\u001b[32m \u001b[0m│\u001b[33m \u001b[0m\u001b[33m        100.0%\u001b[0m\u001b[33m \u001b[0m│ │\n",
       "│ │\u001b[1;36m \u001b[0m\u001b[1;36mSede              \u001b[0m\u001b[1;36m \u001b[0m│\u001b[1;35m \u001b[0m\u001b[1;35mobject \u001b[0m\u001b[1;35m \u001b[0m│\u001b[32m \u001b[0m\u001b[32m       1565\u001b[0m\u001b[32m \u001b[0m│\u001b[33m \u001b[0m\u001b[33m        100.0%\u001b[0m\u001b[33m \u001b[0m│ │\n",
       "│ │\u001b[1;36m \u001b[0m\u001b[1;36mAPELLIDOS Y NOMBRE\u001b[0m\u001b[1;36m \u001b[0m│\u001b[1;35m \u001b[0m\u001b[1;35mobject \u001b[0m\u001b[1;35m \u001b[0m│\u001b[32m \u001b[0m\u001b[32m       1565\u001b[0m\u001b[32m \u001b[0m│\u001b[33m \u001b[0m\u001b[33m        100.0%\u001b[0m\u001b[33m \u001b[0m│ │\n",
       "│ │\u001b[1;36m \u001b[0m\u001b[1;36mCARGO             \u001b[0m\u001b[1;36m \u001b[0m│\u001b[1;35m \u001b[0m\u001b[1;35mobject \u001b[0m\u001b[1;35m \u001b[0m│\u001b[32m \u001b[0m\u001b[32m       1565\u001b[0m\u001b[32m \u001b[0m│\u001b[33m \u001b[0m\u001b[33m        100.0%\u001b[0m\u001b[33m \u001b[0m│ │\n",
       "│ │\u001b[1;36m \u001b[0m\u001b[1;36mProducto          \u001b[0m\u001b[1;36m \u001b[0m│\u001b[1;35m \u001b[0m\u001b[1;35mobject \u001b[0m\u001b[1;35m \u001b[0m│\u001b[32m \u001b[0m\u001b[32m       1565\u001b[0m\u001b[32m \u001b[0m│\u001b[33m \u001b[0m\u001b[33m        100.0%\u001b[0m\u001b[33m \u001b[0m│ │\n",
       "│ │\u001b[1;36m \u001b[0m\u001b[1;36mCantidad          \u001b[0m\u001b[1;36m \u001b[0m│\u001b[1;35m \u001b[0m\u001b[1;35mfloat64\u001b[0m\u001b[1;35m \u001b[0m│\u001b[32m \u001b[0m\u001b[32m       1565\u001b[0m\u001b[32m \u001b[0m│\u001b[33m \u001b[0m\u001b[33m        100.0%\u001b[0m\u001b[33m \u001b[0m│ │\n",
       "│ └────────────────────┴─────────┴─────────────┴────────────────┘ │\n",
       "╰─────────────────────────────────────────────────────────────────╯\n"
      ]
     },
     "metadata": {},
     "output_type": "display_data"
    },
    {
     "data": {
      "text/html": [
       "<pre style=\"white-space:pre;overflow-x:auto;line-height:normal;font-family:Menlo,'DejaVu Sans Mono',consolas,'Courier New',monospace\"><span style=\"color: #808080; text-decoration-color: #808080\">╭───────────── 📎 Resumen ──────────────╮</span>\n",
       "<span style=\"color: #808080; text-decoration-color: #808080\">│</span> <span style=\"color: #808000; text-decoration-color: #808000; font-weight: bold\">🔢 Dimensión:</span> 1565 filas × 6 columnas <span style=\"color: #808080; text-decoration-color: #808080\">│</span>\n",
       "<span style=\"color: #808080; text-decoration-color: #808080\">│</span> <span style=\"color: #008000; text-decoration-color: #008000; font-weight: bold\">💾 Memoria usada:</span> 525.58 KB           <span style=\"color: #808080; text-decoration-color: #808080\">│</span>\n",
       "<span style=\"color: #808080; text-decoration-color: #808080\">╰───────────────────────────────────────╯</span>\n",
       "</pre>\n"
      ],
      "text/plain": [
       "\u001b[38;5;244m╭─\u001b[0m\u001b[38;5;244m────────────\u001b[0m\u001b[38;5;244m 📎 Resumen \u001b[0m\u001b[38;5;244m─────────────\u001b[0m\u001b[38;5;244m─╮\u001b[0m\n",
       "\u001b[38;5;244m│\u001b[0m \u001b[1;33m🔢 Dimensión:\u001b[0m 1565 filas × 6 columnas \u001b[38;5;244m│\u001b[0m\n",
       "\u001b[38;5;244m│\u001b[0m \u001b[1;32m💾 Memoria usada:\u001b[0m 525.58 KB           \u001b[38;5;244m│\u001b[0m\n",
       "\u001b[38;5;244m╰───────────────────────────────────────╯\u001b[0m\n"
      ]
     },
     "metadata": {},
     "output_type": "display_data"
    }
   ],
   "source": [
    "importlib.reload(nd)\n",
    "importlib.reload(pm)\n",
    "pedregal_normalized = nd.normalize_data_pedregal(PEDREGAL, pedregal_transformed)\n",
    "pm.show_df(pedregal_normalized)"
   ]
  },
  {
   "cell_type": "code",
   "execution_count": 7,
   "id": "a7fb4e2f",
   "metadata": {},
   "outputs": [],
   "source": [
    "pedregal_normalized.to_csv(\"pedregal.csv\", index=False, encoding=\"utf-8-sig\", sep=\";\")"
   ]
  },
  {
   "cell_type": "markdown",
   "id": "eb5c4f1b",
   "metadata": {},
   "source": [
    "### Chala"
   ]
  },
  {
   "cell_type": "code",
   "execution_count": 40,
   "id": "ed61f2fb",
   "metadata": {},
   "outputs": [
    {
     "data": {
      "text/html": [
       "<pre style=\"white-space:pre;overflow-x:auto;line-height:normal;font-family:Menlo,'DejaVu Sans Mono',consolas,'Courier New',monospace\">╭────────────────────── 📊 Resumen de DataFrame ──────────────────────╮\n",
       "│ ┌─────────────────────┬────────────┬─────────────┬────────────────┐ │\n",
       "│ │<span style=\"color: #c0c0c0; text-decoration-color: #c0c0c0; background-color: #870000; font-weight: bold\"> 🧱 Columna          </span>│<span style=\"color: #c0c0c0; text-decoration-color: #c0c0c0; background-color: #870000; font-weight: bold\"> 📂 Tipo    </span>│<span style=\"color: #c0c0c0; text-decoration-color: #c0c0c0; background-color: #870000; font-weight: bold\"> ✅ Non-Null </span>│<span style=\"color: #c0c0c0; text-decoration-color: #c0c0c0; background-color: #870000; font-weight: bold\"> 📈 Completitud </span>│ │\n",
       "│ ├─────────────────────┼────────────┼─────────────┼────────────────┤ │\n",
       "│ │<span style=\"color: #008080; text-decoration-color: #008080; font-weight: bold\"> APELLIDOS Y NOMBRE  </span>│<span style=\"color: #800080; text-decoration-color: #800080; font-weight: bold\"> object     </span>│<span style=\"color: #008000; text-decoration-color: #008000\">          19 </span>│<span style=\"color: #808000; text-decoration-color: #808000\">           7.3% </span>│ │\n",
       "│ │<span style=\"color: #008080; text-decoration-color: #008080; font-weight: bold\"> CARGO               </span>│<span style=\"color: #800080; text-decoration-color: #800080; font-weight: bold\"> object     </span>│<span style=\"color: #008000; text-decoration-color: #008000\">          19 </span>│<span style=\"color: #808000; text-decoration-color: #808000\">           7.3% </span>│ │\n",
       "│ │<span style=\"color: #008080; text-decoration-color: #008080; font-weight: bold\"> RUTA                </span>│<span style=\"color: #800080; text-decoration-color: #800080; font-weight: bold\"> object     </span>│<span style=\"color: #008000; text-decoration-color: #008000\">           0 </span>│<span style=\"color: #808000; text-decoration-color: #808000\">           0.0% </span>│ │\n",
       "│ │<span style=\"color: #008080; text-decoration-color: #008080; font-weight: bold\"> Producto            </span>│<span style=\"color: #800080; text-decoration-color: #800080; font-weight: bold\"> object     </span>│<span style=\"color: #008000; text-decoration-color: #008000\">         260 </span>│<span style=\"color: #808000; text-decoration-color: #808000\">          99.6% </span>│ │\n",
       "│ │<span style=\"color: #008080; text-decoration-color: #008080; font-weight: bold\"> 2025-07-01 00:00:00 </span>│<span style=\"color: #800080; text-decoration-color: #800080; font-weight: bold\"> object     </span>│<span style=\"color: #008000; text-decoration-color: #008000\">          15 </span>│<span style=\"color: #808000; text-decoration-color: #808000\">           5.7% </span>│ │\n",
       "│ │<span style=\"color: #008080; text-decoration-color: #008080; font-weight: bold\"> 2025-07-02 00:00:00 </span>│<span style=\"color: #800080; text-decoration-color: #800080; font-weight: bold\"> object     </span>│<span style=\"color: #008000; text-decoration-color: #008000\">          14 </span>│<span style=\"color: #808000; text-decoration-color: #808000\">           5.4% </span>│ │\n",
       "│ │<span style=\"color: #008080; text-decoration-color: #008080; font-weight: bold\"> 2025-07-03 00:00:00 </span>│<span style=\"color: #800080; text-decoration-color: #800080; font-weight: bold\"> object     </span>│<span style=\"color: #008000; text-decoration-color: #008000\">          11 </span>│<span style=\"color: #808000; text-decoration-color: #808000\">           4.2% </span>│ │\n",
       "│ │<span style=\"color: #008080; text-decoration-color: #008080; font-weight: bold\"> 2025-07-04 00:00:00 </span>│<span style=\"color: #800080; text-decoration-color: #800080; font-weight: bold\"> object     </span>│<span style=\"color: #008000; text-decoration-color: #008000\">           7 </span>│<span style=\"color: #808000; text-decoration-color: #808000\">           2.7% </span>│ │\n",
       "│ │<span style=\"color: #008080; text-decoration-color: #008080; font-weight: bold\"> 2025-07-05 00:00:00 </span>│<span style=\"color: #800080; text-decoration-color: #800080; font-weight: bold\"> object     </span>│<span style=\"color: #008000; text-decoration-color: #008000\">           5 </span>│<span style=\"color: #808000; text-decoration-color: #808000\">           1.9% </span>│ │\n",
       "│ │<span style=\"color: #008080; text-decoration-color: #008080; font-weight: bold\"> 2025-07-06 00:00:00 </span>│<span style=\"color: #800080; text-decoration-color: #800080; font-weight: bold\"> object     </span>│<span style=\"color: #008000; text-decoration-color: #008000\">           1 </span>│<span style=\"color: #808000; text-decoration-color: #808000\">           0.4% </span>│ │\n",
       "│ │<span style=\"color: #008080; text-decoration-color: #008080; font-weight: bold\"> 2025-07-07 00:00:00 </span>│<span style=\"color: #800080; text-decoration-color: #800080; font-weight: bold\"> object     </span>│<span style=\"color: #008000; text-decoration-color: #008000\">           7 </span>│<span style=\"color: #808000; text-decoration-color: #808000\">           2.7% </span>│ │\n",
       "│ │<span style=\"color: #008080; text-decoration-color: #008080; font-weight: bold\"> 2025-07-08 00:00:00 </span>│<span style=\"color: #800080; text-decoration-color: #800080; font-weight: bold\"> object     </span>│<span style=\"color: #008000; text-decoration-color: #008000\">           1 </span>│<span style=\"color: #808000; text-decoration-color: #808000\">           0.4% </span>│ │\n",
       "│ │<span style=\"color: #008080; text-decoration-color: #008080; font-weight: bold\"> 2025-07-09 00:00:00 </span>│<span style=\"color: #800080; text-decoration-color: #800080; font-weight: bold\"> object     </span>│<span style=\"color: #008000; text-decoration-color: #008000\">           4 </span>│<span style=\"color: #808000; text-decoration-color: #808000\">           1.5% </span>│ │\n",
       "│ │<span style=\"color: #008080; text-decoration-color: #008080; font-weight: bold\"> 2025-07-10 00:00:00 </span>│<span style=\"color: #800080; text-decoration-color: #800080; font-weight: bold\"> object     </span>│<span style=\"color: #008000; text-decoration-color: #008000\">           6 </span>│<span style=\"color: #808000; text-decoration-color: #808000\">           2.3% </span>│ │\n",
       "│ │<span style=\"color: #008080; text-decoration-color: #008080; font-weight: bold\"> 2025-07-11 00:00:00 </span>│<span style=\"color: #800080; text-decoration-color: #800080; font-weight: bold\"> object     </span>│<span style=\"color: #008000; text-decoration-color: #008000\">           1 </span>│<span style=\"color: #808000; text-decoration-color: #808000\">           0.4% </span>│ │\n",
       "│ │<span style=\"color: #008080; text-decoration-color: #008080; font-weight: bold\"> 2025-07-12 00:00:00 </span>│<span style=\"color: #800080; text-decoration-color: #800080; font-weight: bold\"> object     </span>│<span style=\"color: #008000; text-decoration-color: #008000\">           7 </span>│<span style=\"color: #808000; text-decoration-color: #808000\">           2.7% </span>│ │\n",
       "│ │<span style=\"color: #008080; text-decoration-color: #008080; font-weight: bold\"> 2025-07-13 00:00:00 </span>│<span style=\"color: #800080; text-decoration-color: #800080; font-weight: bold\"> object     </span>│<span style=\"color: #008000; text-decoration-color: #008000\">           1 </span>│<span style=\"color: #808000; text-decoration-color: #808000\">           0.4% </span>│ │\n",
       "│ │<span style=\"color: #008080; text-decoration-color: #008080; font-weight: bold\"> 2025-07-14 00:00:00 </span>│<span style=\"color: #800080; text-decoration-color: #800080; font-weight: bold\"> object     </span>│<span style=\"color: #008000; text-decoration-color: #008000\">           5 </span>│<span style=\"color: #808000; text-decoration-color: #808000\">           1.9% </span>│ │\n",
       "│ │<span style=\"color: #008080; text-decoration-color: #008080; font-weight: bold\"> 2025-07-15 00:00:00 </span>│<span style=\"color: #800080; text-decoration-color: #800080; font-weight: bold\"> object     </span>│<span style=\"color: #008000; text-decoration-color: #008000\">           5 </span>│<span style=\"color: #808000; text-decoration-color: #808000\">           1.9% </span>│ │\n",
       "│ │<span style=\"color: #008080; text-decoration-color: #008080; font-weight: bold\"> 2025-07-16 00:00:00 </span>│<span style=\"color: #800080; text-decoration-color: #800080; font-weight: bold\"> object     </span>│<span style=\"color: #008000; text-decoration-color: #008000\">           1 </span>│<span style=\"color: #808000; text-decoration-color: #808000\">           0.4% </span>│ │\n",
       "│ │<span style=\"color: #008080; text-decoration-color: #008080; font-weight: bold\"> 2025-07-17 00:00:00 </span>│<span style=\"color: #800080; text-decoration-color: #800080; font-weight: bold\"> object     </span>│<span style=\"color: #008000; text-decoration-color: #008000\">          10 </span>│<span style=\"color: #808000; text-decoration-color: #808000\">           3.8% </span>│ │\n",
       "│ │<span style=\"color: #008080; text-decoration-color: #008080; font-weight: bold\"> 2025-07-18 00:00:00 </span>│<span style=\"color: #800080; text-decoration-color: #800080; font-weight: bold\"> object     </span>│<span style=\"color: #008000; text-decoration-color: #008000\">          10 </span>│<span style=\"color: #808000; text-decoration-color: #808000\">           3.8% </span>│ │\n",
       "│ │<span style=\"color: #008080; text-decoration-color: #008080; font-weight: bold\"> 2025-07-19 00:00:00 </span>│<span style=\"color: #800080; text-decoration-color: #800080; font-weight: bold\"> object     </span>│<span style=\"color: #008000; text-decoration-color: #008000\">          19 </span>│<span style=\"color: #808000; text-decoration-color: #808000\">           7.3% </span>│ │\n",
       "│ │<span style=\"color: #008080; text-decoration-color: #008080; font-weight: bold\"> 2025-07-20 00:00:00 </span>│<span style=\"color: #800080; text-decoration-color: #800080; font-weight: bold\"> object     </span>│<span style=\"color: #008000; text-decoration-color: #008000\">           1 </span>│<span style=\"color: #808000; text-decoration-color: #808000\">           0.4% </span>│ │\n",
       "│ │<span style=\"color: #008080; text-decoration-color: #008080; font-weight: bold\"> 2025-07-21 00:00:00 </span>│<span style=\"color: #800080; text-decoration-color: #800080; font-weight: bold\"> object     </span>│<span style=\"color: #008000; text-decoration-color: #008000\">          12 </span>│<span style=\"color: #808000; text-decoration-color: #808000\">           4.6% </span>│ │\n",
       "│ │<span style=\"color: #008080; text-decoration-color: #008080; font-weight: bold\"> 2025-07-22 00:00:00 </span>│<span style=\"color: #800080; text-decoration-color: #800080; font-weight: bold\"> object     </span>│<span style=\"color: #008000; text-decoration-color: #008000\">           4 </span>│<span style=\"color: #808000; text-decoration-color: #808000\">           1.5% </span>│ │\n",
       "│ │<span style=\"color: #008080; text-decoration-color: #008080; font-weight: bold\"> 2025-07-23 00:00:00 </span>│<span style=\"color: #800080; text-decoration-color: #800080; font-weight: bold\"> object     </span>│<span style=\"color: #008000; text-decoration-color: #008000\">          11 </span>│<span style=\"color: #808000; text-decoration-color: #808000\">           4.2% </span>│ │\n",
       "│ │<span style=\"color: #008080; text-decoration-color: #008080; font-weight: bold\"> 2025-07-24 00:00:00 </span>│<span style=\"color: #800080; text-decoration-color: #800080; font-weight: bold\"> object     </span>│<span style=\"color: #008000; text-decoration-color: #008000\">           7 </span>│<span style=\"color: #808000; text-decoration-color: #808000\">           2.7% </span>│ │\n",
       "│ │<span style=\"color: #008080; text-decoration-color: #008080; font-weight: bold\"> 2025-07-25 00:00:00 </span>│<span style=\"color: #800080; text-decoration-color: #800080; font-weight: bold\"> object     </span>│<span style=\"color: #008000; text-decoration-color: #008000\">          15 </span>│<span style=\"color: #808000; text-decoration-color: #808000\">           5.7% </span>│ │\n",
       "│ │<span style=\"color: #008080; text-decoration-color: #008080; font-weight: bold\"> 2025-07-26 00:00:00 </span>│<span style=\"color: #800080; text-decoration-color: #800080; font-weight: bold\"> object     </span>│<span style=\"color: #008000; text-decoration-color: #008000\">          12 </span>│<span style=\"color: #808000; text-decoration-color: #808000\">           4.6% </span>│ │\n",
       "│ │<span style=\"color: #008080; text-decoration-color: #008080; font-weight: bold\"> 2025-07-27 00:00:00 </span>│<span style=\"color: #800080; text-decoration-color: #800080; font-weight: bold\"> object     </span>│<span style=\"color: #008000; text-decoration-color: #008000\">          19 </span>│<span style=\"color: #808000; text-decoration-color: #808000\">           7.3% </span>│ │\n",
       "│ │<span style=\"color: #008080; text-decoration-color: #008080; font-weight: bold\"> 2025-07-28 00:00:00 </span>│<span style=\"color: #800080; text-decoration-color: #800080; font-weight: bold\"> object     </span>│<span style=\"color: #008000; text-decoration-color: #008000\">           5 </span>│<span style=\"color: #808000; text-decoration-color: #808000\">           1.9% </span>│ │\n",
       "│ │<span style=\"color: #008080; text-decoration-color: #008080; font-weight: bold\"> 2025-07-29 00:00:00 </span>│<span style=\"color: #800080; text-decoration-color: #800080; font-weight: bold\"> datetime64 </span>│<span style=\"color: #008000; text-decoration-color: #008000\">           0 </span>│<span style=\"color: #808000; text-decoration-color: #808000\">           0.0% </span>│ │\n",
       "│ │<span style=\"color: #008080; text-decoration-color: #008080; font-weight: bold\"> 2025-07-30 00:00:00 </span>│<span style=\"color: #800080; text-decoration-color: #800080; font-weight: bold\"> object     </span>│<span style=\"color: #008000; text-decoration-color: #008000\">          12 </span>│<span style=\"color: #808000; text-decoration-color: #808000\">           4.6% </span>│ │\n",
       "│ │<span style=\"color: #008080; text-decoration-color: #008080; font-weight: bold\"> 2025-07-31 00:00:00 </span>│<span style=\"color: #800080; text-decoration-color: #800080; font-weight: bold\"> object     </span>│<span style=\"color: #008000; text-decoration-color: #008000\">          16 </span>│<span style=\"color: #808000; text-decoration-color: #808000\">           6.1% </span>│ │\n",
       "│ └─────────────────────┴────────────┴─────────────┴────────────────┘ │\n",
       "╰─────────────────────────────────────────────────────────────────────╯\n",
       "</pre>\n"
      ],
      "text/plain": [
       "╭────────────────────── 📊 Resumen de DataFrame ──────────────────────╮\n",
       "│ ┌─────────────────────┬────────────┬─────────────┬────────────────┐ │\n",
       "│ │\u001b[1;37;48;5;88m \u001b[0m\u001b[1;37;48;5;88m🧱 Columna         \u001b[0m\u001b[1;37;48;5;88m \u001b[0m│\u001b[1;37;48;5;88m \u001b[0m\u001b[1;37;48;5;88m📂 Tipo   \u001b[0m\u001b[1;37;48;5;88m \u001b[0m│\u001b[1;37;48;5;88m \u001b[0m\u001b[1;37;48;5;88m✅ Non-Null\u001b[0m\u001b[1;37;48;5;88m \u001b[0m│\u001b[1;37;48;5;88m \u001b[0m\u001b[1;37;48;5;88m📈 Completitud\u001b[0m\u001b[1;37;48;5;88m \u001b[0m│ │\n",
       "│ ├─────────────────────┼────────────┼─────────────┼────────────────┤ │\n",
       "│ │\u001b[1;36m \u001b[0m\u001b[1;36mAPELLIDOS Y NOMBRE \u001b[0m\u001b[1;36m \u001b[0m│\u001b[1;35m \u001b[0m\u001b[1;35mobject    \u001b[0m\u001b[1;35m \u001b[0m│\u001b[32m \u001b[0m\u001b[32m         19\u001b[0m\u001b[32m \u001b[0m│\u001b[33m \u001b[0m\u001b[33m          7.3%\u001b[0m\u001b[33m \u001b[0m│ │\n",
       "│ │\u001b[1;36m \u001b[0m\u001b[1;36mCARGO              \u001b[0m\u001b[1;36m \u001b[0m│\u001b[1;35m \u001b[0m\u001b[1;35mobject    \u001b[0m\u001b[1;35m \u001b[0m│\u001b[32m \u001b[0m\u001b[32m         19\u001b[0m\u001b[32m \u001b[0m│\u001b[33m \u001b[0m\u001b[33m          7.3%\u001b[0m\u001b[33m \u001b[0m│ │\n",
       "│ │\u001b[1;36m \u001b[0m\u001b[1;36mRUTA               \u001b[0m\u001b[1;36m \u001b[0m│\u001b[1;35m \u001b[0m\u001b[1;35mobject    \u001b[0m\u001b[1;35m \u001b[0m│\u001b[32m \u001b[0m\u001b[32m          0\u001b[0m\u001b[32m \u001b[0m│\u001b[33m \u001b[0m\u001b[33m          0.0%\u001b[0m\u001b[33m \u001b[0m│ │\n",
       "│ │\u001b[1;36m \u001b[0m\u001b[1;36mProducto           \u001b[0m\u001b[1;36m \u001b[0m│\u001b[1;35m \u001b[0m\u001b[1;35mobject    \u001b[0m\u001b[1;35m \u001b[0m│\u001b[32m \u001b[0m\u001b[32m        260\u001b[0m\u001b[32m \u001b[0m│\u001b[33m \u001b[0m\u001b[33m         99.6%\u001b[0m\u001b[33m \u001b[0m│ │\n",
       "│ │\u001b[1;36m \u001b[0m\u001b[1;36m2025-07-01 00:00:00\u001b[0m\u001b[1;36m \u001b[0m│\u001b[1;35m \u001b[0m\u001b[1;35mobject    \u001b[0m\u001b[1;35m \u001b[0m│\u001b[32m \u001b[0m\u001b[32m         15\u001b[0m\u001b[32m \u001b[0m│\u001b[33m \u001b[0m\u001b[33m          5.7%\u001b[0m\u001b[33m \u001b[0m│ │\n",
       "│ │\u001b[1;36m \u001b[0m\u001b[1;36m2025-07-02 00:00:00\u001b[0m\u001b[1;36m \u001b[0m│\u001b[1;35m \u001b[0m\u001b[1;35mobject    \u001b[0m\u001b[1;35m \u001b[0m│\u001b[32m \u001b[0m\u001b[32m         14\u001b[0m\u001b[32m \u001b[0m│\u001b[33m \u001b[0m\u001b[33m          5.4%\u001b[0m\u001b[33m \u001b[0m│ │\n",
       "│ │\u001b[1;36m \u001b[0m\u001b[1;36m2025-07-03 00:00:00\u001b[0m\u001b[1;36m \u001b[0m│\u001b[1;35m \u001b[0m\u001b[1;35mobject    \u001b[0m\u001b[1;35m \u001b[0m│\u001b[32m \u001b[0m\u001b[32m         11\u001b[0m\u001b[32m \u001b[0m│\u001b[33m \u001b[0m\u001b[33m          4.2%\u001b[0m\u001b[33m \u001b[0m│ │\n",
       "│ │\u001b[1;36m \u001b[0m\u001b[1;36m2025-07-04 00:00:00\u001b[0m\u001b[1;36m \u001b[0m│\u001b[1;35m \u001b[0m\u001b[1;35mobject    \u001b[0m\u001b[1;35m \u001b[0m│\u001b[32m \u001b[0m\u001b[32m          7\u001b[0m\u001b[32m \u001b[0m│\u001b[33m \u001b[0m\u001b[33m          2.7%\u001b[0m\u001b[33m \u001b[0m│ │\n",
       "│ │\u001b[1;36m \u001b[0m\u001b[1;36m2025-07-05 00:00:00\u001b[0m\u001b[1;36m \u001b[0m│\u001b[1;35m \u001b[0m\u001b[1;35mobject    \u001b[0m\u001b[1;35m \u001b[0m│\u001b[32m \u001b[0m\u001b[32m          5\u001b[0m\u001b[32m \u001b[0m│\u001b[33m \u001b[0m\u001b[33m          1.9%\u001b[0m\u001b[33m \u001b[0m│ │\n",
       "│ │\u001b[1;36m \u001b[0m\u001b[1;36m2025-07-06 00:00:00\u001b[0m\u001b[1;36m \u001b[0m│\u001b[1;35m \u001b[0m\u001b[1;35mobject    \u001b[0m\u001b[1;35m \u001b[0m│\u001b[32m \u001b[0m\u001b[32m          1\u001b[0m\u001b[32m \u001b[0m│\u001b[33m \u001b[0m\u001b[33m          0.4%\u001b[0m\u001b[33m \u001b[0m│ │\n",
       "│ │\u001b[1;36m \u001b[0m\u001b[1;36m2025-07-07 00:00:00\u001b[0m\u001b[1;36m \u001b[0m│\u001b[1;35m \u001b[0m\u001b[1;35mobject    \u001b[0m\u001b[1;35m \u001b[0m│\u001b[32m \u001b[0m\u001b[32m          7\u001b[0m\u001b[32m \u001b[0m│\u001b[33m \u001b[0m\u001b[33m          2.7%\u001b[0m\u001b[33m \u001b[0m│ │\n",
       "│ │\u001b[1;36m \u001b[0m\u001b[1;36m2025-07-08 00:00:00\u001b[0m\u001b[1;36m \u001b[0m│\u001b[1;35m \u001b[0m\u001b[1;35mobject    \u001b[0m\u001b[1;35m \u001b[0m│\u001b[32m \u001b[0m\u001b[32m          1\u001b[0m\u001b[32m \u001b[0m│\u001b[33m \u001b[0m\u001b[33m          0.4%\u001b[0m\u001b[33m \u001b[0m│ │\n",
       "│ │\u001b[1;36m \u001b[0m\u001b[1;36m2025-07-09 00:00:00\u001b[0m\u001b[1;36m \u001b[0m│\u001b[1;35m \u001b[0m\u001b[1;35mobject    \u001b[0m\u001b[1;35m \u001b[0m│\u001b[32m \u001b[0m\u001b[32m          4\u001b[0m\u001b[32m \u001b[0m│\u001b[33m \u001b[0m\u001b[33m          1.5%\u001b[0m\u001b[33m \u001b[0m│ │\n",
       "│ │\u001b[1;36m \u001b[0m\u001b[1;36m2025-07-10 00:00:00\u001b[0m\u001b[1;36m \u001b[0m│\u001b[1;35m \u001b[0m\u001b[1;35mobject    \u001b[0m\u001b[1;35m \u001b[0m│\u001b[32m \u001b[0m\u001b[32m          6\u001b[0m\u001b[32m \u001b[0m│\u001b[33m \u001b[0m\u001b[33m          2.3%\u001b[0m\u001b[33m \u001b[0m│ │\n",
       "│ │\u001b[1;36m \u001b[0m\u001b[1;36m2025-07-11 00:00:00\u001b[0m\u001b[1;36m \u001b[0m│\u001b[1;35m \u001b[0m\u001b[1;35mobject    \u001b[0m\u001b[1;35m \u001b[0m│\u001b[32m \u001b[0m\u001b[32m          1\u001b[0m\u001b[32m \u001b[0m│\u001b[33m \u001b[0m\u001b[33m          0.4%\u001b[0m\u001b[33m \u001b[0m│ │\n",
       "│ │\u001b[1;36m \u001b[0m\u001b[1;36m2025-07-12 00:00:00\u001b[0m\u001b[1;36m \u001b[0m│\u001b[1;35m \u001b[0m\u001b[1;35mobject    \u001b[0m\u001b[1;35m \u001b[0m│\u001b[32m \u001b[0m\u001b[32m          7\u001b[0m\u001b[32m \u001b[0m│\u001b[33m \u001b[0m\u001b[33m          2.7%\u001b[0m\u001b[33m \u001b[0m│ │\n",
       "│ │\u001b[1;36m \u001b[0m\u001b[1;36m2025-07-13 00:00:00\u001b[0m\u001b[1;36m \u001b[0m│\u001b[1;35m \u001b[0m\u001b[1;35mobject    \u001b[0m\u001b[1;35m \u001b[0m│\u001b[32m \u001b[0m\u001b[32m          1\u001b[0m\u001b[32m \u001b[0m│\u001b[33m \u001b[0m\u001b[33m          0.4%\u001b[0m\u001b[33m \u001b[0m│ │\n",
       "│ │\u001b[1;36m \u001b[0m\u001b[1;36m2025-07-14 00:00:00\u001b[0m\u001b[1;36m \u001b[0m│\u001b[1;35m \u001b[0m\u001b[1;35mobject    \u001b[0m\u001b[1;35m \u001b[0m│\u001b[32m \u001b[0m\u001b[32m          5\u001b[0m\u001b[32m \u001b[0m│\u001b[33m \u001b[0m\u001b[33m          1.9%\u001b[0m\u001b[33m \u001b[0m│ │\n",
       "│ │\u001b[1;36m \u001b[0m\u001b[1;36m2025-07-15 00:00:00\u001b[0m\u001b[1;36m \u001b[0m│\u001b[1;35m \u001b[0m\u001b[1;35mobject    \u001b[0m\u001b[1;35m \u001b[0m│\u001b[32m \u001b[0m\u001b[32m          5\u001b[0m\u001b[32m \u001b[0m│\u001b[33m \u001b[0m\u001b[33m          1.9%\u001b[0m\u001b[33m \u001b[0m│ │\n",
       "│ │\u001b[1;36m \u001b[0m\u001b[1;36m2025-07-16 00:00:00\u001b[0m\u001b[1;36m \u001b[0m│\u001b[1;35m \u001b[0m\u001b[1;35mobject    \u001b[0m\u001b[1;35m \u001b[0m│\u001b[32m \u001b[0m\u001b[32m          1\u001b[0m\u001b[32m \u001b[0m│\u001b[33m \u001b[0m\u001b[33m          0.4%\u001b[0m\u001b[33m \u001b[0m│ │\n",
       "│ │\u001b[1;36m \u001b[0m\u001b[1;36m2025-07-17 00:00:00\u001b[0m\u001b[1;36m \u001b[0m│\u001b[1;35m \u001b[0m\u001b[1;35mobject    \u001b[0m\u001b[1;35m \u001b[0m│\u001b[32m \u001b[0m\u001b[32m         10\u001b[0m\u001b[32m \u001b[0m│\u001b[33m \u001b[0m\u001b[33m          3.8%\u001b[0m\u001b[33m \u001b[0m│ │\n",
       "│ │\u001b[1;36m \u001b[0m\u001b[1;36m2025-07-18 00:00:00\u001b[0m\u001b[1;36m \u001b[0m│\u001b[1;35m \u001b[0m\u001b[1;35mobject    \u001b[0m\u001b[1;35m \u001b[0m│\u001b[32m \u001b[0m\u001b[32m         10\u001b[0m\u001b[32m \u001b[0m│\u001b[33m \u001b[0m\u001b[33m          3.8%\u001b[0m\u001b[33m \u001b[0m│ │\n",
       "│ │\u001b[1;36m \u001b[0m\u001b[1;36m2025-07-19 00:00:00\u001b[0m\u001b[1;36m \u001b[0m│\u001b[1;35m \u001b[0m\u001b[1;35mobject    \u001b[0m\u001b[1;35m \u001b[0m│\u001b[32m \u001b[0m\u001b[32m         19\u001b[0m\u001b[32m \u001b[0m│\u001b[33m \u001b[0m\u001b[33m          7.3%\u001b[0m\u001b[33m \u001b[0m│ │\n",
       "│ │\u001b[1;36m \u001b[0m\u001b[1;36m2025-07-20 00:00:00\u001b[0m\u001b[1;36m \u001b[0m│\u001b[1;35m \u001b[0m\u001b[1;35mobject    \u001b[0m\u001b[1;35m \u001b[0m│\u001b[32m \u001b[0m\u001b[32m          1\u001b[0m\u001b[32m \u001b[0m│\u001b[33m \u001b[0m\u001b[33m          0.4%\u001b[0m\u001b[33m \u001b[0m│ │\n",
       "│ │\u001b[1;36m \u001b[0m\u001b[1;36m2025-07-21 00:00:00\u001b[0m\u001b[1;36m \u001b[0m│\u001b[1;35m \u001b[0m\u001b[1;35mobject    \u001b[0m\u001b[1;35m \u001b[0m│\u001b[32m \u001b[0m\u001b[32m         12\u001b[0m\u001b[32m \u001b[0m│\u001b[33m \u001b[0m\u001b[33m          4.6%\u001b[0m\u001b[33m \u001b[0m│ │\n",
       "│ │\u001b[1;36m \u001b[0m\u001b[1;36m2025-07-22 00:00:00\u001b[0m\u001b[1;36m \u001b[0m│\u001b[1;35m \u001b[0m\u001b[1;35mobject    \u001b[0m\u001b[1;35m \u001b[0m│\u001b[32m \u001b[0m\u001b[32m          4\u001b[0m\u001b[32m \u001b[0m│\u001b[33m \u001b[0m\u001b[33m          1.5%\u001b[0m\u001b[33m \u001b[0m│ │\n",
       "│ │\u001b[1;36m \u001b[0m\u001b[1;36m2025-07-23 00:00:00\u001b[0m\u001b[1;36m \u001b[0m│\u001b[1;35m \u001b[0m\u001b[1;35mobject    \u001b[0m\u001b[1;35m \u001b[0m│\u001b[32m \u001b[0m\u001b[32m         11\u001b[0m\u001b[32m \u001b[0m│\u001b[33m \u001b[0m\u001b[33m          4.2%\u001b[0m\u001b[33m \u001b[0m│ │\n",
       "│ │\u001b[1;36m \u001b[0m\u001b[1;36m2025-07-24 00:00:00\u001b[0m\u001b[1;36m \u001b[0m│\u001b[1;35m \u001b[0m\u001b[1;35mobject    \u001b[0m\u001b[1;35m \u001b[0m│\u001b[32m \u001b[0m\u001b[32m          7\u001b[0m\u001b[32m \u001b[0m│\u001b[33m \u001b[0m\u001b[33m          2.7%\u001b[0m\u001b[33m \u001b[0m│ │\n",
       "│ │\u001b[1;36m \u001b[0m\u001b[1;36m2025-07-25 00:00:00\u001b[0m\u001b[1;36m \u001b[0m│\u001b[1;35m \u001b[0m\u001b[1;35mobject    \u001b[0m\u001b[1;35m \u001b[0m│\u001b[32m \u001b[0m\u001b[32m         15\u001b[0m\u001b[32m \u001b[0m│\u001b[33m \u001b[0m\u001b[33m          5.7%\u001b[0m\u001b[33m \u001b[0m│ │\n",
       "│ │\u001b[1;36m \u001b[0m\u001b[1;36m2025-07-26 00:00:00\u001b[0m\u001b[1;36m \u001b[0m│\u001b[1;35m \u001b[0m\u001b[1;35mobject    \u001b[0m\u001b[1;35m \u001b[0m│\u001b[32m \u001b[0m\u001b[32m         12\u001b[0m\u001b[32m \u001b[0m│\u001b[33m \u001b[0m\u001b[33m          4.6%\u001b[0m\u001b[33m \u001b[0m│ │\n",
       "│ │\u001b[1;36m \u001b[0m\u001b[1;36m2025-07-27 00:00:00\u001b[0m\u001b[1;36m \u001b[0m│\u001b[1;35m \u001b[0m\u001b[1;35mobject    \u001b[0m\u001b[1;35m \u001b[0m│\u001b[32m \u001b[0m\u001b[32m         19\u001b[0m\u001b[32m \u001b[0m│\u001b[33m \u001b[0m\u001b[33m          7.3%\u001b[0m\u001b[33m \u001b[0m│ │\n",
       "│ │\u001b[1;36m \u001b[0m\u001b[1;36m2025-07-28 00:00:00\u001b[0m\u001b[1;36m \u001b[0m│\u001b[1;35m \u001b[0m\u001b[1;35mobject    \u001b[0m\u001b[1;35m \u001b[0m│\u001b[32m \u001b[0m\u001b[32m          5\u001b[0m\u001b[32m \u001b[0m│\u001b[33m \u001b[0m\u001b[33m          1.9%\u001b[0m\u001b[33m \u001b[0m│ │\n",
       "│ │\u001b[1;36m \u001b[0m\u001b[1;36m2025-07-29 00:00:00\u001b[0m\u001b[1;36m \u001b[0m│\u001b[1;35m \u001b[0m\u001b[1;35mdatetime64\u001b[0m\u001b[1;35m \u001b[0m│\u001b[32m \u001b[0m\u001b[32m          0\u001b[0m\u001b[32m \u001b[0m│\u001b[33m \u001b[0m\u001b[33m          0.0%\u001b[0m\u001b[33m \u001b[0m│ │\n",
       "│ │\u001b[1;36m \u001b[0m\u001b[1;36m2025-07-30 00:00:00\u001b[0m\u001b[1;36m \u001b[0m│\u001b[1;35m \u001b[0m\u001b[1;35mobject    \u001b[0m\u001b[1;35m \u001b[0m│\u001b[32m \u001b[0m\u001b[32m         12\u001b[0m\u001b[32m \u001b[0m│\u001b[33m \u001b[0m\u001b[33m          4.6%\u001b[0m\u001b[33m \u001b[0m│ │\n",
       "│ │\u001b[1;36m \u001b[0m\u001b[1;36m2025-07-31 00:00:00\u001b[0m\u001b[1;36m \u001b[0m│\u001b[1;35m \u001b[0m\u001b[1;35mobject    \u001b[0m\u001b[1;35m \u001b[0m│\u001b[32m \u001b[0m\u001b[32m         16\u001b[0m\u001b[32m \u001b[0m│\u001b[33m \u001b[0m\u001b[33m          6.1%\u001b[0m\u001b[33m \u001b[0m│ │\n",
       "│ └─────────────────────┴────────────┴─────────────┴────────────────┘ │\n",
       "╰─────────────────────────────────────────────────────────────────────╯\n"
      ]
     },
     "metadata": {},
     "output_type": "display_data"
    },
    {
     "data": {
      "text/html": [
       "<pre style=\"white-space:pre;overflow-x:auto;line-height:normal;font-family:Menlo,'DejaVu Sans Mono',consolas,'Courier New',monospace\"><span style=\"color: #808080; text-decoration-color: #808080\">╭───────────── 📎 Resumen ──────────────╮</span>\n",
       "<span style=\"color: #808080; text-decoration-color: #808080\">│</span> <span style=\"color: #808000; text-decoration-color: #808000; font-weight: bold\">🔢 Dimensión:</span> 261 filas × 35 columnas <span style=\"color: #808080; text-decoration-color: #808080\">│</span>\n",
       "<span style=\"color: #808080; text-decoration-color: #808080\">│</span> <span style=\"color: #008000; text-decoration-color: #008000; font-weight: bold\">💾 Memoria usada:</span> 291.78 KB           <span style=\"color: #808080; text-decoration-color: #808080\">│</span>\n",
       "<span style=\"color: #808080; text-decoration-color: #808080\">╰───────────────────────────────────────╯</span>\n",
       "</pre>\n"
      ],
      "text/plain": [
       "\u001b[38;5;244m╭─\u001b[0m\u001b[38;5;244m────────────\u001b[0m\u001b[38;5;244m 📎 Resumen \u001b[0m\u001b[38;5;244m─────────────\u001b[0m\u001b[38;5;244m─╮\u001b[0m\n",
       "\u001b[38;5;244m│\u001b[0m \u001b[1;33m🔢 Dimensión:\u001b[0m 261 filas × 35 columnas \u001b[38;5;244m│\u001b[0m\n",
       "\u001b[38;5;244m│\u001b[0m \u001b[1;32m💾 Memoria usada:\u001b[0m 291.78 KB           \u001b[38;5;244m│\u001b[0m\n",
       "\u001b[38;5;244m╰───────────────────────────────────────╯\u001b[0m\n"
      ]
     },
     "metadata": {},
     "output_type": "display_data"
    }
   ],
   "source": [
    "importlib.reload(gd)\n",
    "importlib.reload(pm)\n",
    "chala = gd.get_chala_data(CHALA, MONTH)\n",
    "pm.show_df(chala)"
   ]
  },
  {
   "cell_type": "code",
   "execution_count": 41,
   "id": "54113215",
   "metadata": {},
   "outputs": [
    {
     "data": {
      "text/html": [
       "<pre style=\"white-space:pre;overflow-x:auto;line-height:normal;font-family:Menlo,'DejaVu Sans Mono',consolas,'Courier New',monospace\">╭──────────────────── 📊 Resumen de DataFrame ────────────────────╮\n",
       "│ ┌────────────────────┬─────────┬─────────────┬────────────────┐ │\n",
       "│ │<span style=\"color: #c0c0c0; text-decoration-color: #c0c0c0; background-color: #870000; font-weight: bold\"> 🧱 Columna         </span>│<span style=\"color: #c0c0c0; text-decoration-color: #c0c0c0; background-color: #870000; font-weight: bold\"> 📂 Tipo </span>│<span style=\"color: #c0c0c0; text-decoration-color: #c0c0c0; background-color: #870000; font-weight: bold\"> ✅ Non-Null </span>│<span style=\"color: #c0c0c0; text-decoration-color: #c0c0c0; background-color: #870000; font-weight: bold\"> 📈 Completitud </span>│ │\n",
       "│ ├────────────────────┼─────────┼─────────────┼────────────────┤ │\n",
       "│ │<span style=\"color: #008080; text-decoration-color: #008080; font-weight: bold\"> APELLIDOS Y NOMBRE </span>│<span style=\"color: #800080; text-decoration-color: #800080; font-weight: bold\"> object  </span>│<span style=\"color: #008000; text-decoration-color: #008000\">         217 </span>│<span style=\"color: #808000; text-decoration-color: #808000\">         100.0% </span>│ │\n",
       "│ │<span style=\"color: #008080; text-decoration-color: #008080; font-weight: bold\"> CARGO              </span>│<span style=\"color: #800080; text-decoration-color: #800080; font-weight: bold\"> object  </span>│<span style=\"color: #008000; text-decoration-color: #008000\">         217 </span>│<span style=\"color: #808000; text-decoration-color: #808000\">         100.0% </span>│ │\n",
       "│ │<span style=\"color: #008080; text-decoration-color: #008080; font-weight: bold\"> Producto           </span>│<span style=\"color: #800080; text-decoration-color: #800080; font-weight: bold\"> object  </span>│<span style=\"color: #008000; text-decoration-color: #008000\">         217 </span>│<span style=\"color: #808000; text-decoration-color: #808000\">         100.0% </span>│ │\n",
       "│ │<span style=\"color: #008080; text-decoration-color: #008080; font-weight: bold\"> Fecha              </span>│<span style=\"color: #800080; text-decoration-color: #800080; font-weight: bold\"> object  </span>│<span style=\"color: #008000; text-decoration-color: #008000\">         217 </span>│<span style=\"color: #808000; text-decoration-color: #808000\">         100.0% </span>│ │\n",
       "│ │<span style=\"color: #008080; text-decoration-color: #008080; font-weight: bold\"> Cantidad           </span>│<span style=\"color: #800080; text-decoration-color: #800080; font-weight: bold\"> float64 </span>│<span style=\"color: #008000; text-decoration-color: #008000\">         217 </span>│<span style=\"color: #808000; text-decoration-color: #808000\">         100.0% </span>│ │\n",
       "│ └────────────────────┴─────────┴─────────────┴────────────────┘ │\n",
       "╰─────────────────────────────────────────────────────────────────╯\n",
       "</pre>\n"
      ],
      "text/plain": [
       "╭──────────────────── 📊 Resumen de DataFrame ────────────────────╮\n",
       "│ ┌────────────────────┬─────────┬─────────────┬────────────────┐ │\n",
       "│ │\u001b[1;37;48;5;88m \u001b[0m\u001b[1;37;48;5;88m🧱 Columna        \u001b[0m\u001b[1;37;48;5;88m \u001b[0m│\u001b[1;37;48;5;88m \u001b[0m\u001b[1;37;48;5;88m📂 Tipo\u001b[0m\u001b[1;37;48;5;88m \u001b[0m│\u001b[1;37;48;5;88m \u001b[0m\u001b[1;37;48;5;88m✅ Non-Null\u001b[0m\u001b[1;37;48;5;88m \u001b[0m│\u001b[1;37;48;5;88m \u001b[0m\u001b[1;37;48;5;88m📈 Completitud\u001b[0m\u001b[1;37;48;5;88m \u001b[0m│ │\n",
       "│ ├────────────────────┼─────────┼─────────────┼────────────────┤ │\n",
       "│ │\u001b[1;36m \u001b[0m\u001b[1;36mAPELLIDOS Y NOMBRE\u001b[0m\u001b[1;36m \u001b[0m│\u001b[1;35m \u001b[0m\u001b[1;35mobject \u001b[0m\u001b[1;35m \u001b[0m│\u001b[32m \u001b[0m\u001b[32m        217\u001b[0m\u001b[32m \u001b[0m│\u001b[33m \u001b[0m\u001b[33m        100.0%\u001b[0m\u001b[33m \u001b[0m│ │\n",
       "│ │\u001b[1;36m \u001b[0m\u001b[1;36mCARGO             \u001b[0m\u001b[1;36m \u001b[0m│\u001b[1;35m \u001b[0m\u001b[1;35mobject \u001b[0m\u001b[1;35m \u001b[0m│\u001b[32m \u001b[0m\u001b[32m        217\u001b[0m\u001b[32m \u001b[0m│\u001b[33m \u001b[0m\u001b[33m        100.0%\u001b[0m\u001b[33m \u001b[0m│ │\n",
       "│ │\u001b[1;36m \u001b[0m\u001b[1;36mProducto          \u001b[0m\u001b[1;36m \u001b[0m│\u001b[1;35m \u001b[0m\u001b[1;35mobject \u001b[0m\u001b[1;35m \u001b[0m│\u001b[32m \u001b[0m\u001b[32m        217\u001b[0m\u001b[32m \u001b[0m│\u001b[33m \u001b[0m\u001b[33m        100.0%\u001b[0m\u001b[33m \u001b[0m│ │\n",
       "│ │\u001b[1;36m \u001b[0m\u001b[1;36mFecha             \u001b[0m\u001b[1;36m \u001b[0m│\u001b[1;35m \u001b[0m\u001b[1;35mobject \u001b[0m\u001b[1;35m \u001b[0m│\u001b[32m \u001b[0m\u001b[32m        217\u001b[0m\u001b[32m \u001b[0m│\u001b[33m \u001b[0m\u001b[33m        100.0%\u001b[0m\u001b[33m \u001b[0m│ │\n",
       "│ │\u001b[1;36m \u001b[0m\u001b[1;36mCantidad          \u001b[0m\u001b[1;36m \u001b[0m│\u001b[1;35m \u001b[0m\u001b[1;35mfloat64\u001b[0m\u001b[1;35m \u001b[0m│\u001b[32m \u001b[0m\u001b[32m        217\u001b[0m\u001b[32m \u001b[0m│\u001b[33m \u001b[0m\u001b[33m        100.0%\u001b[0m\u001b[33m \u001b[0m│ │\n",
       "│ └────────────────────┴─────────┴─────────────┴────────────────┘ │\n",
       "╰─────────────────────────────────────────────────────────────────╯\n"
      ]
     },
     "metadata": {},
     "output_type": "display_data"
    },
    {
     "data": {
      "text/html": [
       "<pre style=\"white-space:pre;overflow-x:auto;line-height:normal;font-family:Menlo,'DejaVu Sans Mono',consolas,'Courier New',monospace\"><span style=\"color: #808080; text-decoration-color: #808080\">╭───────────── 📎 Resumen ─────────────╮</span>\n",
       "<span style=\"color: #808080; text-decoration-color: #808080\">│</span> <span style=\"color: #808000; text-decoration-color: #808000; font-weight: bold\">🔢 Dimensión:</span> 217 filas × 5 columnas <span style=\"color: #808080; text-decoration-color: #808080\">│</span>\n",
       "<span style=\"color: #808080; text-decoration-color: #808080\">│</span> <span style=\"color: #008000; text-decoration-color: #008000; font-weight: bold\">💾 Memoria usada:</span> 62.42 KB           <span style=\"color: #808080; text-decoration-color: #808080\">│</span>\n",
       "<span style=\"color: #808080; text-decoration-color: #808080\">╰──────────────────────────────────────╯</span>\n",
       "</pre>\n"
      ],
      "text/plain": [
       "\u001b[38;5;244m╭─\u001b[0m\u001b[38;5;244m────────────\u001b[0m\u001b[38;5;244m 📎 Resumen \u001b[0m\u001b[38;5;244m────────────\u001b[0m\u001b[38;5;244m─╮\u001b[0m\n",
       "\u001b[38;5;244m│\u001b[0m \u001b[1;33m🔢 Dimensión:\u001b[0m 217 filas × 5 columnas \u001b[38;5;244m│\u001b[0m\n",
       "\u001b[38;5;244m│\u001b[0m \u001b[1;32m💾 Memoria usada:\u001b[0m 62.42 KB           \u001b[38;5;244m│\u001b[0m\n",
       "\u001b[38;5;244m╰──────────────────────────────────────╯\u001b[0m\n"
      ]
     },
     "metadata": {},
     "output_type": "display_data"
    }
   ],
   "source": [
    "importlib.reload(tf)\n",
    "importlib.reload(pm)\n",
    "chala_transformed = tf.transform_data_chala(chala)\n",
    "pm.show_df(chala_transformed)"
   ]
  },
  {
   "cell_type": "code",
   "execution_count": 42,
   "id": "2603755c",
   "metadata": {},
   "outputs": [
    {
     "data": {
      "text/html": [
       "<pre style=\"white-space:pre;overflow-x:auto;line-height:normal;font-family:Menlo,'DejaVu Sans Mono',consolas,'Courier New',monospace\">╭──────────────────── 📊 Resumen de DataFrame ────────────────────╮\n",
       "│ ┌────────────────────┬─────────┬─────────────┬────────────────┐ │\n",
       "│ │<span style=\"color: #c0c0c0; text-decoration-color: #c0c0c0; background-color: #870000; font-weight: bold\"> 🧱 Columna         </span>│<span style=\"color: #c0c0c0; text-decoration-color: #c0c0c0; background-color: #870000; font-weight: bold\"> 📂 Tipo </span>│<span style=\"color: #c0c0c0; text-decoration-color: #c0c0c0; background-color: #870000; font-weight: bold\"> ✅ Non-Null </span>│<span style=\"color: #c0c0c0; text-decoration-color: #c0c0c0; background-color: #870000; font-weight: bold\"> 📈 Completitud </span>│ │\n",
       "│ ├────────────────────┼─────────┼─────────────┼────────────────┤ │\n",
       "│ │<span style=\"color: #008080; text-decoration-color: #008080; font-weight: bold\"> Fecha              </span>│<span style=\"color: #800080; text-decoration-color: #800080; font-weight: bold\"> object  </span>│<span style=\"color: #008000; text-decoration-color: #008000\">         217 </span>│<span style=\"color: #808000; text-decoration-color: #808000\">         100.0% </span>│ │\n",
       "│ │<span style=\"color: #008080; text-decoration-color: #008080; font-weight: bold\"> Sede               </span>│<span style=\"color: #800080; text-decoration-color: #800080; font-weight: bold\"> object  </span>│<span style=\"color: #008000; text-decoration-color: #008000\">         217 </span>│<span style=\"color: #808000; text-decoration-color: #808000\">         100.0% </span>│ │\n",
       "│ │<span style=\"color: #008080; text-decoration-color: #008080; font-weight: bold\"> APELLIDOS Y NOMBRE </span>│<span style=\"color: #800080; text-decoration-color: #800080; font-weight: bold\"> object  </span>│<span style=\"color: #008000; text-decoration-color: #008000\">         217 </span>│<span style=\"color: #808000; text-decoration-color: #808000\">         100.0% </span>│ │\n",
       "│ │<span style=\"color: #008080; text-decoration-color: #008080; font-weight: bold\"> CARGO              </span>│<span style=\"color: #800080; text-decoration-color: #800080; font-weight: bold\"> object  </span>│<span style=\"color: #008000; text-decoration-color: #008000\">         217 </span>│<span style=\"color: #808000; text-decoration-color: #808000\">         100.0% </span>│ │\n",
       "│ │<span style=\"color: #008080; text-decoration-color: #008080; font-weight: bold\"> Producto           </span>│<span style=\"color: #800080; text-decoration-color: #800080; font-weight: bold\"> object  </span>│<span style=\"color: #008000; text-decoration-color: #008000\">         217 </span>│<span style=\"color: #808000; text-decoration-color: #808000\">         100.0% </span>│ │\n",
       "│ │<span style=\"color: #008080; text-decoration-color: #008080; font-weight: bold\"> Cantidad           </span>│<span style=\"color: #800080; text-decoration-color: #800080; font-weight: bold\"> float64 </span>│<span style=\"color: #008000; text-decoration-color: #008000\">         217 </span>│<span style=\"color: #808000; text-decoration-color: #808000\">         100.0% </span>│ │\n",
       "│ └────────────────────┴─────────┴─────────────┴────────────────┘ │\n",
       "╰─────────────────────────────────────────────────────────────────╯\n",
       "</pre>\n"
      ],
      "text/plain": [
       "╭──────────────────── 📊 Resumen de DataFrame ────────────────────╮\n",
       "│ ┌────────────────────┬─────────┬─────────────┬────────────────┐ │\n",
       "│ │\u001b[1;37;48;5;88m \u001b[0m\u001b[1;37;48;5;88m🧱 Columna        \u001b[0m\u001b[1;37;48;5;88m \u001b[0m│\u001b[1;37;48;5;88m \u001b[0m\u001b[1;37;48;5;88m📂 Tipo\u001b[0m\u001b[1;37;48;5;88m \u001b[0m│\u001b[1;37;48;5;88m \u001b[0m\u001b[1;37;48;5;88m✅ Non-Null\u001b[0m\u001b[1;37;48;5;88m \u001b[0m│\u001b[1;37;48;5;88m \u001b[0m\u001b[1;37;48;5;88m📈 Completitud\u001b[0m\u001b[1;37;48;5;88m \u001b[0m│ │\n",
       "│ ├────────────────────┼─────────┼─────────────┼────────────────┤ │\n",
       "│ │\u001b[1;36m \u001b[0m\u001b[1;36mFecha             \u001b[0m\u001b[1;36m \u001b[0m│\u001b[1;35m \u001b[0m\u001b[1;35mobject \u001b[0m\u001b[1;35m \u001b[0m│\u001b[32m \u001b[0m\u001b[32m        217\u001b[0m\u001b[32m \u001b[0m│\u001b[33m \u001b[0m\u001b[33m        100.0%\u001b[0m\u001b[33m \u001b[0m│ │\n",
       "│ │\u001b[1;36m \u001b[0m\u001b[1;36mSede              \u001b[0m\u001b[1;36m \u001b[0m│\u001b[1;35m \u001b[0m\u001b[1;35mobject \u001b[0m\u001b[1;35m \u001b[0m│\u001b[32m \u001b[0m\u001b[32m        217\u001b[0m\u001b[32m \u001b[0m│\u001b[33m \u001b[0m\u001b[33m        100.0%\u001b[0m\u001b[33m \u001b[0m│ │\n",
       "│ │\u001b[1;36m \u001b[0m\u001b[1;36mAPELLIDOS Y NOMBRE\u001b[0m\u001b[1;36m \u001b[0m│\u001b[1;35m \u001b[0m\u001b[1;35mobject \u001b[0m\u001b[1;35m \u001b[0m│\u001b[32m \u001b[0m\u001b[32m        217\u001b[0m\u001b[32m \u001b[0m│\u001b[33m \u001b[0m\u001b[33m        100.0%\u001b[0m\u001b[33m \u001b[0m│ │\n",
       "│ │\u001b[1;36m \u001b[0m\u001b[1;36mCARGO             \u001b[0m\u001b[1;36m \u001b[0m│\u001b[1;35m \u001b[0m\u001b[1;35mobject \u001b[0m\u001b[1;35m \u001b[0m│\u001b[32m \u001b[0m\u001b[32m        217\u001b[0m\u001b[32m \u001b[0m│\u001b[33m \u001b[0m\u001b[33m        100.0%\u001b[0m\u001b[33m \u001b[0m│ │\n",
       "│ │\u001b[1;36m \u001b[0m\u001b[1;36mProducto          \u001b[0m\u001b[1;36m \u001b[0m│\u001b[1;35m \u001b[0m\u001b[1;35mobject \u001b[0m\u001b[1;35m \u001b[0m│\u001b[32m \u001b[0m\u001b[32m        217\u001b[0m\u001b[32m \u001b[0m│\u001b[33m \u001b[0m\u001b[33m        100.0%\u001b[0m\u001b[33m \u001b[0m│ │\n",
       "│ │\u001b[1;36m \u001b[0m\u001b[1;36mCantidad          \u001b[0m\u001b[1;36m \u001b[0m│\u001b[1;35m \u001b[0m\u001b[1;35mfloat64\u001b[0m\u001b[1;35m \u001b[0m│\u001b[32m \u001b[0m\u001b[32m        217\u001b[0m\u001b[32m \u001b[0m│\u001b[33m \u001b[0m\u001b[33m        100.0%\u001b[0m\u001b[33m \u001b[0m│ │\n",
       "│ └────────────────────┴─────────┴─────────────┴────────────────┘ │\n",
       "╰─────────────────────────────────────────────────────────────────╯\n"
      ]
     },
     "metadata": {},
     "output_type": "display_data"
    },
    {
     "data": {
      "text/html": [
       "<pre style=\"white-space:pre;overflow-x:auto;line-height:normal;font-family:Menlo,'DejaVu Sans Mono',consolas,'Courier New',monospace\"><span style=\"color: #808080; text-decoration-color: #808080\">╭───────────── 📎 Resumen ─────────────╮</span>\n",
       "<span style=\"color: #808080; text-decoration-color: #808080\">│</span> <span style=\"color: #808000; text-decoration-color: #808000; font-weight: bold\">🔢 Dimensión:</span> 217 filas × 6 columnas <span style=\"color: #808080; text-decoration-color: #808080\">│</span>\n",
       "<span style=\"color: #808080; text-decoration-color: #808080\">│</span> <span style=\"color: #008000; text-decoration-color: #008000; font-weight: bold\">💾 Memoria usada:</span> 74.18 KB           <span style=\"color: #808080; text-decoration-color: #808080\">│</span>\n",
       "<span style=\"color: #808080; text-decoration-color: #808080\">╰──────────────────────────────────────╯</span>\n",
       "</pre>\n"
      ],
      "text/plain": [
       "\u001b[38;5;244m╭─\u001b[0m\u001b[38;5;244m────────────\u001b[0m\u001b[38;5;244m 📎 Resumen \u001b[0m\u001b[38;5;244m────────────\u001b[0m\u001b[38;5;244m─╮\u001b[0m\n",
       "\u001b[38;5;244m│\u001b[0m \u001b[1;33m🔢 Dimensión:\u001b[0m 217 filas × 6 columnas \u001b[38;5;244m│\u001b[0m\n",
       "\u001b[38;5;244m│\u001b[0m \u001b[1;32m💾 Memoria usada:\u001b[0m 74.18 KB           \u001b[38;5;244m│\u001b[0m\n",
       "\u001b[38;5;244m╰──────────────────────────────────────╯\u001b[0m\n"
      ]
     },
     "metadata": {},
     "output_type": "display_data"
    }
   ],
   "source": [
    "importlib.reload(nd)\n",
    "importlib.reload(pm)\n",
    "chala_normalized = nd.normalize_data_chala(CHALA, chala_transformed)\n",
    "pm.show_df(chala_normalized)"
   ]
  },
  {
   "cell_type": "code",
   "execution_count": 43,
   "id": "f94cf954",
   "metadata": {},
   "outputs": [],
   "source": [
    "chala_normalized.to_csv(\"chala.csv\", index=False, encoding=\"utf-8-sig\", sep=\";\")"
   ]
  },
  {
   "cell_type": "markdown",
   "id": "5d4562c1",
   "metadata": {},
   "source": [
    "### Concatenar dataframes"
   ]
  },
  {
   "cell_type": "code",
   "execution_count": 16,
   "id": "3693e4e9",
   "metadata": {},
   "outputs": [],
   "source": [
    "# Supongamos que tus DataFrames se llaman: df1, df2, df3\n",
    "df_final = pd.concat([camana_normalized, pedregal_normalized, chala_normalized], ignore_index=True)\n",
    "\n",
    "# Exportar a CSV con punto y coma como separador y codificación compatible con Excel\n",
    "df_final.to_csv(\"exportado.csv\", sep=\";\", index=False, encoding=\"utf-8-sig\")"
   ]
  },
  {
   "cell_type": "markdown",
   "id": "efe1b0b0",
   "metadata": {},
   "source": [
    "### Export it as .py"
   ]
  },
  {
   "cell_type": "code",
   "execution_count": 17,
   "id": "ff56b39d",
   "metadata": {},
   "outputs": [
    {
     "name": "stdout",
     "output_type": "stream",
     "text": [
      "✅ Archivo .py creado sin la última celda.\n"
     ]
    }
   ],
   "source": [
    "import nbformat\n",
    "from nbconvert import PythonExporter\n",
    "\n",
    "# Cargar el notebook\n",
    "notebook_path = \"main.ipynb\"\n",
    "with open(notebook_path, \"r\", encoding=\"utf-8\") as f:\n",
    "    nb = nbformat.read(f, as_version=4)\n",
    "\n",
    "# Eliminar la última celda\n",
    "nb['cells'] = nb['cells'][:-1]\n",
    "\n",
    "# Convertir a script .py\n",
    "exporter = PythonExporter()\n",
    "codigo_python, _ = exporter.from_notebook_node(nb)\n",
    "\n",
    "# Guardar el archivo .py\n",
    "with open(\"main.py\", \"w\", encoding=\"utf-8\") as f:\n",
    "    f.write(codigo_python)\n",
    "\n",
    "print(\"✅ Archivo .py creado sin la última celda.\")"
   ]
  }
 ],
 "metadata": {
  "kernelspec": {
   "display_name": "Python 3",
   "language": "python",
   "name": "python3"
  },
  "language_info": {
   "codemirror_mode": {
    "name": "ipython",
    "version": 3
   },
   "file_extension": ".py",
   "mimetype": "text/x-python",
   "name": "python",
   "nbconvert_exporter": "python",
   "pygments_lexer": "ipython3",
   "version": "3.13.3"
  }
 },
 "nbformat": 4,
 "nbformat_minor": 5
}
