{
 "cells": [
  {
   "cell_type": "code",
   "execution_count": 46,
   "id": "36d257a9",
   "metadata": {},
   "outputs": [],
   "source": [
    "import os\n",
    "import pandas as pd\n",
    "import numpy as np\n",
    "import time\n",
    "import importlib\n",
    "import warnings\n",
    "warnings.filterwarnings(\"ignore\")  # Oculta todos los warnings\n",
    "\n",
    "# My libraries\n",
    "import get_data as gd\n",
    "import transform_data as tf\n",
    "import normalize_data as nd\n",
    "import print_management as pm"
   ]
  },
  {
   "cell_type": "code",
   "execution_count": 47,
   "id": "8b9888fc",
   "metadata": {},
   "outputs": [
    {
     "name": "stdout",
     "output_type": "stream",
     "text": [
      "\n",
      "    _         _                       _         __        ______ ____  ____  \n",
      "   / \\  _   _| |_ _____   _____ _ __ | |_ __ _  \\ \\      / / ___/ ___||  _ \\ \n",
      "  / _ \\| | | | __/ _ \\ \\ / / _ \\ '_ \\| __/ _` |  \\ \\ /\\ / /\\___ \\___ \\| |_) |\n",
      " / ___ \\ |_| | || (_) \\ V /  __/ | | | || (_| |   \\ V  V /  ___) |__) |  __/ \n",
      "/_/   \\_\\__,_|\\__\\___/ \\_/ \\___|_| |_|\\__\\__,_|    \\_/\\_/  |____/____/|_|                                                                                                                                                         \n",
      "\n",
      "          💥 AUTOMATIZADOR DE FORMATO AUTOVENTA POR SEDE 💥\n",
      "\n",
      "\n"
     ]
    }
   ],
   "source": [
    "# import pyfiglet\n",
    "# print(pyfiglet.figlet_format(\"Autoventa WSSP\"))\n",
    "\n",
    "banner = r\"\"\"\n",
    "    _         _                       _         __        ______ ____  ____  \n",
    "   / \\  _   _| |_ _____   _____ _ __ | |_ __ _  \\ \\      / / ___/ ___||  _ \\ \n",
    "  / _ \\| | | | __/ _ \\ \\ / / _ \\ '_ \\| __/ _` |  \\ \\ /\\ / /\\___ \\___ \\| |_) |\n",
    " / ___ \\ |_| | || (_) \\ V /  __/ | | | || (_| |   \\ V  V /  ___) |__) |  __/ \n",
    "/_/   \\_\\__,_|\\__\\___/ \\_/ \\___|_| |_|\\__\\__,_|    \\_/\\_/  |____/____/|_|                                                                                                                                                         \n",
    "\n",
    "          💥 AUTOMATIZADOR DE FORMATO AUTOVENTA POR SEDE 💥\n",
    "\"\"\"\n",
    "\n",
    "print(banner, end='\\n\\n')\n",
    "time.sleep(1)"
   ]
  },
  {
   "cell_type": "code",
   "execution_count": null,
   "id": "67bfeaa2",
   "metadata": {},
   "outputs": [],
   "source": [
    "# Variables\n",
    "PROJECT_ADDRESS = os.getcwd()\n",
    "CAMANA = {\n",
    "    'name': 'CAMANÁ',\n",
    "    'source': os.path.join(PROJECT_ADDRESS, '06 Autoventa JUNIO Camana 2025.xlsx'),\n",
    "    'sheet_name': 'DETALLE',\n",
    "    'relevant_columns': [\n",
    "        \"Fecha\", \n",
    "        \"Sede\", \n",
    "        \"APELLIDOS Y NOMBRE\", \n",
    "        \"CARGO\", \n",
    "        \"Producto\", \n",
    "        \"Cantidad\"\n",
    "    ],\n",
    "    'irrelevant_columns': [\n",
    "        'Basis',\n",
    "        'RUTA', \n",
    "        'DNI',\n",
    "        'Importe Facturado',\n",
    "        'Valor de Venta',\n",
    "        'Importe IGV'\n",
    "    ],\n",
    "    'cargo_renames': {\n",
    "        \"AUXILIAR REPARTO\": \"AUXILIAR DE REPARTO\",\n",
    "        \"AYUDANTE REPARTO\": \"AUXILIAR DE REPARTO\",\n",
    "        \"CHOFER - VENDEDOR\": \"CHOFER VENDEDOR\"\n",
    "    },\n",
    "    'producto_renames': {\n",
    "        \"INCAKOLA 3 LITROS\": \"INCA KOLA PET 3.0 L x04 REFORMADA\",\n",
    "        \"INCA KOLA PET 2..5 LX06 RF 2.0\": \"INCA KOLA PET 2.5LX06 RF\",\n",
    "        \"COCA COLA PET.2.5 X6 RF\": \"COCA COLA PET 2.5X6 RF\",\n",
    "        \"SAN LUIS 2500\": \"SL SG 2.5x06 PET\"\n",
    "    }\n",
    "}\n",
    "PEDREGAL = {\n",
    "    'name': 'PEDREGAL',\n",
    "    'source': os.path.join(PROJECT_ADDRESS, '06 Autoventa JUNIO Pedregal 2025.xlsx'),\n",
    "    'sheet_name': 'DETALLE',\n",
    "    'relevant_columns': [\n",
    "        \"Fecha\", \n",
    "        \"Sede\", \n",
    "        \"APELLIDOS Y NOMBRE\", \n",
    "        \"CARGO\", \n",
    "        \"Producto\", \n",
    "        \"Cantidad\"\n",
    "    ],\n",
    "    'irrelevant_columns': [\n",
    "        'Basis',\n",
    "        'RUTA', \n",
    "        'DNI',\n",
    "        'Importe Facturado',\n",
    "        'Valor de Venta',\n",
    "        'Importe IGV'\n",
    "    ],\n",
    "    'cargo_renames': {\n",
    "        \"AUXILIAR REPARTO\": \"AUXILIAR DE REPARTO\",\n",
    "        \"AYUDANTE REPARTO\": \"AUXILIAR DE REPARTO\",\n",
    "        \"CHOFER - VENDEDOR\": \"CHOFER VENDEDOR\"\n",
    "    },\n",
    "    'producto_renames': {\n",
    "        \"INCAKOLA 3 LITROS\": \"INCA KOLA PET 3.0 L x04 REFORMADA\",\n",
    "        \"INCA KOLA PET 2..5 LX06 RF 2.0\": \"INCA KOLA PET 2.5LX06 RF\",\n",
    "        \"COCA COLA PET.2.5 X6 RF\": \"COCA COLA PET 2.5X6 RF\",\n",
    "        \"SAN LUIS 2500\": \"SL SG 2.5x06 PET\"\n",
    "    }\n",
    "}\n",
    "CHALA = {\n",
    "    'name': 'CHALA',\n",
    "    'source': os.path.join(PROJECT_ADDRESS, '06 Autoventa JUNIO Chala 2025.xlsx'),\n",
    "    'sheet_name': 'DETALLE',\n",
    "    'relevant_columns': [\n",
    "        \"Fecha\", \n",
    "        \"Sede\", \n",
    "        \"APELLIDOS Y NOMBRE\", \n",
    "        \"CARGO\", \n",
    "        \"Producto\", \n",
    "        \"Cantidad\"\n",
    "    ],\n",
    "    'irrelevant_columns': [\n",
    "        'Basis',\n",
    "        'RUTA', \n",
    "        'DNI',\n",
    "        'Importe Facturado',\n",
    "        'Valor de Venta',\n",
    "        'Importe IGV'\n",
    "    ],\n",
    "    'cargo_renames': {\n",
    "        \"AUXILIAR REPARTO\": \"AUXILIAR DE REPARTO\",\n",
    "        \"AYUDANTE REPARTO\": \"AUXILIAR DE REPARTO\",\n",
    "        \"CHOFER - VENDEDOR\": \"CHOFER VENDEDOR\"\n",
    "    },\n",
    "    'producto_renames': {\n",
    "        \"INCAKOLA 3 LITROS\": \"INCA KOLA PET 3.0 L x04 REFORMADA\",\n",
    "        \"INCA KOLA PET 2..5 LX06 RF 2.0\": \"INCA KOLA PET 2.5LX06 RF\",\n",
    "        \"COCA COLA PET.2.5 X6 RF\": \"COCA COLA PET 2.5X6 RF\",\n",
    "        \"SAN LUIS 2500\": \"SL SG 2.5x06 PET\"\n",
    "    }\n",
    "}\n",
    "\n",
    "# Listas\n",
    "LOCACIONES = ['PEDREGAL', 'CHALA', 'CAMANÁ']"
   ]
  },
  {
   "cell_type": "markdown",
   "id": "ea950eab",
   "metadata": {},
   "source": [
    "### Camana"
   ]
  },
  {
   "cell_type": "code",
   "execution_count": 49,
   "id": "1ffd5977",
   "metadata": {},
   "outputs": [
    {
     "data": {
      "text/html": [
       "<pre style=\"white-space:pre;overflow-x:auto;line-height:normal;font-family:Menlo,'DejaVu Sans Mono',consolas,'Courier New',monospace\">╭──────────────────── 📊 Resumen de DataFrame ─────────────────────╮\n",
       "│ ┌─────────────────────┬─────────┬─────────────┬────────────────┐ │\n",
       "│ │<span style=\"color: #c0c0c0; text-decoration-color: #c0c0c0; background-color: #870000; font-weight: bold\"> 🧱 Columna          </span>│<span style=\"color: #c0c0c0; text-decoration-color: #c0c0c0; background-color: #870000; font-weight: bold\"> 📂 Tipo </span>│<span style=\"color: #c0c0c0; text-decoration-color: #c0c0c0; background-color: #870000; font-weight: bold\"> ✅ Non-Null </span>│<span style=\"color: #c0c0c0; text-decoration-color: #c0c0c0; background-color: #870000; font-weight: bold\"> 📈 Completitud </span>│ │\n",
       "│ ├─────────────────────┼─────────┼─────────────┼────────────────┤ │\n",
       "│ │<span style=\"color: #008080; text-decoration-color: #008080; font-weight: bold\"> APELLIDOS Y NOMBRE  </span>│<span style=\"color: #800080; text-decoration-color: #800080; font-weight: bold\"> object  </span>│<span style=\"color: #008000; text-decoration-color: #008000\">          23 </span>│<span style=\"color: #808000; text-decoration-color: #808000\">           6.4% </span>│ │\n",
       "│ │<span style=\"color: #008080; text-decoration-color: #008080; font-weight: bold\"> CARGO               </span>│<span style=\"color: #800080; text-decoration-color: #800080; font-weight: bold\"> object  </span>│<span style=\"color: #008000; text-decoration-color: #008000\">          24 </span>│<span style=\"color: #808000; text-decoration-color: #808000\">           6.7% </span>│ │\n",
       "│ │<span style=\"color: #008080; text-decoration-color: #008080; font-weight: bold\"> Producto            </span>│<span style=\"color: #800080; text-decoration-color: #800080; font-weight: bold\"> object  </span>│<span style=\"color: #008000; text-decoration-color: #008000\">         355 </span>│<span style=\"color: #808000; text-decoration-color: #808000\">          99.2% </span>│ │\n",
       "│ │<span style=\"color: #008080; text-decoration-color: #008080; font-weight: bold\"> 2025-06-01 00:00:00 </span>│<span style=\"color: #800080; text-decoration-color: #800080; font-weight: bold\"> object  </span>│<span style=\"color: #008000; text-decoration-color: #008000\">          15 </span>│<span style=\"color: #808000; text-decoration-color: #808000\">           4.2% </span>│ │\n",
       "│ │<span style=\"color: #008080; text-decoration-color: #008080; font-weight: bold\"> 2025-06-02 00:00:00 </span>│<span style=\"color: #800080; text-decoration-color: #800080; font-weight: bold\"> object  </span>│<span style=\"color: #008000; text-decoration-color: #008000\">          34 </span>│<span style=\"color: #808000; text-decoration-color: #808000\">           9.5% </span>│ │\n",
       "│ │<span style=\"color: #008080; text-decoration-color: #008080; font-weight: bold\"> 2025-06-03 00:00:00 </span>│<span style=\"color: #800080; text-decoration-color: #800080; font-weight: bold\"> object  </span>│<span style=\"color: #008000; text-decoration-color: #008000\">          20 </span>│<span style=\"color: #808000; text-decoration-color: #808000\">           5.6% </span>│ │\n",
       "│ │<span style=\"color: #008080; text-decoration-color: #008080; font-weight: bold\"> 2025-06-04 00:00:00 </span>│<span style=\"color: #800080; text-decoration-color: #800080; font-weight: bold\"> object  </span>│<span style=\"color: #008000; text-decoration-color: #008000\">          30 </span>│<span style=\"color: #808000; text-decoration-color: #808000\">           8.4% </span>│ │\n",
       "│ │<span style=\"color: #008080; text-decoration-color: #008080; font-weight: bold\"> 2025-06-05 00:00:00 </span>│<span style=\"color: #800080; text-decoration-color: #800080; font-weight: bold\"> object  </span>│<span style=\"color: #008000; text-decoration-color: #008000\">          42 </span>│<span style=\"color: #808000; text-decoration-color: #808000\">          11.7% </span>│ │\n",
       "│ │<span style=\"color: #008080; text-decoration-color: #008080; font-weight: bold\"> 2025-06-06 00:00:00 </span>│<span style=\"color: #800080; text-decoration-color: #800080; font-weight: bold\"> object  </span>│<span style=\"color: #008000; text-decoration-color: #008000\">          30 </span>│<span style=\"color: #808000; text-decoration-color: #808000\">           8.4% </span>│ │\n",
       "│ │<span style=\"color: #008080; text-decoration-color: #008080; font-weight: bold\"> 2025-06-07 00:00:00 </span>│<span style=\"color: #800080; text-decoration-color: #800080; font-weight: bold\"> object  </span>│<span style=\"color: #008000; text-decoration-color: #008000\">          23 </span>│<span style=\"color: #808000; text-decoration-color: #808000\">           6.4% </span>│ │\n",
       "│ │<span style=\"color: #008080; text-decoration-color: #008080; font-weight: bold\"> 2025-06-08 00:00:00 </span>│<span style=\"color: #800080; text-decoration-color: #800080; font-weight: bold\"> object  </span>│<span style=\"color: #008000; text-decoration-color: #008000\">          15 </span>│<span style=\"color: #808000; text-decoration-color: #808000\">           4.2% </span>│ │\n",
       "│ │<span style=\"color: #008080; text-decoration-color: #008080; font-weight: bold\"> 2025-06-09 00:00:00 </span>│<span style=\"color: #800080; text-decoration-color: #800080; font-weight: bold\"> object  </span>│<span style=\"color: #008000; text-decoration-color: #008000\">          25 </span>│<span style=\"color: #808000; text-decoration-color: #808000\">           7.0% </span>│ │\n",
       "│ │<span style=\"color: #008080; text-decoration-color: #008080; font-weight: bold\"> 2025-06-10 00:00:00 </span>│<span style=\"color: #800080; text-decoration-color: #800080; font-weight: bold\"> object  </span>│<span style=\"color: #008000; text-decoration-color: #008000\">          28 </span>│<span style=\"color: #808000; text-decoration-color: #808000\">           7.8% </span>│ │\n",
       "│ │<span style=\"color: #008080; text-decoration-color: #008080; font-weight: bold\"> 2025-06-11 00:00:00 </span>│<span style=\"color: #800080; text-decoration-color: #800080; font-weight: bold\"> object  </span>│<span style=\"color: #008000; text-decoration-color: #008000\">          29 </span>│<span style=\"color: #808000; text-decoration-color: #808000\">           8.1% </span>│ │\n",
       "│ │<span style=\"color: #008080; text-decoration-color: #008080; font-weight: bold\"> 2025-06-12 00:00:00 </span>│<span style=\"color: #800080; text-decoration-color: #800080; font-weight: bold\"> object  </span>│<span style=\"color: #008000; text-decoration-color: #008000\">          23 </span>│<span style=\"color: #808000; text-decoration-color: #808000\">           6.4% </span>│ │\n",
       "│ │<span style=\"color: #008080; text-decoration-color: #008080; font-weight: bold\"> 2025-06-13 00:00:00 </span>│<span style=\"color: #800080; text-decoration-color: #800080; font-weight: bold\"> object  </span>│<span style=\"color: #008000; text-decoration-color: #008000\">          32 </span>│<span style=\"color: #808000; text-decoration-color: #808000\">           8.9% </span>│ │\n",
       "│ │<span style=\"color: #008080; text-decoration-color: #008080; font-weight: bold\"> 2025-06-14 00:00:00 </span>│<span style=\"color: #800080; text-decoration-color: #800080; font-weight: bold\"> object  </span>│<span style=\"color: #008000; text-decoration-color: #008000\">          25 </span>│<span style=\"color: #808000; text-decoration-color: #808000\">           7.0% </span>│ │\n",
       "│ │<span style=\"color: #008080; text-decoration-color: #008080; font-weight: bold\"> 2025-06-15 00:00:00 </span>│<span style=\"color: #800080; text-decoration-color: #800080; font-weight: bold\"> object  </span>│<span style=\"color: #008000; text-decoration-color: #008000\">          15 </span>│<span style=\"color: #808000; text-decoration-color: #808000\">           4.2% </span>│ │\n",
       "│ │<span style=\"color: #008080; text-decoration-color: #008080; font-weight: bold\"> 2025-06-16 00:00:00 </span>│<span style=\"color: #800080; text-decoration-color: #800080; font-weight: bold\"> object  </span>│<span style=\"color: #008000; text-decoration-color: #008000\">          38 </span>│<span style=\"color: #808000; text-decoration-color: #808000\">          10.6% </span>│ │\n",
       "│ │<span style=\"color: #008080; text-decoration-color: #008080; font-weight: bold\"> 2025-06-17 00:00:00 </span>│<span style=\"color: #800080; text-decoration-color: #800080; font-weight: bold\"> object  </span>│<span style=\"color: #008000; text-decoration-color: #008000\">          21 </span>│<span style=\"color: #808000; text-decoration-color: #808000\">           5.9% </span>│ │\n",
       "│ │<span style=\"color: #008080; text-decoration-color: #008080; font-weight: bold\"> 2025-06-18 00:00:00 </span>│<span style=\"color: #800080; text-decoration-color: #800080; font-weight: bold\"> object  </span>│<span style=\"color: #008000; text-decoration-color: #008000\">          28 </span>│<span style=\"color: #808000; text-decoration-color: #808000\">           7.8% </span>│ │\n",
       "│ │<span style=\"color: #008080; text-decoration-color: #008080; font-weight: bold\"> 2025-06-19 00:00:00 </span>│<span style=\"color: #800080; text-decoration-color: #800080; font-weight: bold\"> object  </span>│<span style=\"color: #008000; text-decoration-color: #008000\">          21 </span>│<span style=\"color: #808000; text-decoration-color: #808000\">           5.9% </span>│ │\n",
       "│ │<span style=\"color: #008080; text-decoration-color: #008080; font-weight: bold\"> 2025-06-20 00:00:00 </span>│<span style=\"color: #800080; text-decoration-color: #800080; font-weight: bold\"> object  </span>│<span style=\"color: #008000; text-decoration-color: #008000\">          32 </span>│<span style=\"color: #808000; text-decoration-color: #808000\">           8.9% </span>│ │\n",
       "│ │<span style=\"color: #008080; text-decoration-color: #008080; font-weight: bold\"> 2025-06-21 00:00:00 </span>│<span style=\"color: #800080; text-decoration-color: #800080; font-weight: bold\"> object  </span>│<span style=\"color: #008000; text-decoration-color: #008000\">          47 </span>│<span style=\"color: #808000; text-decoration-color: #808000\">          13.1% </span>│ │\n",
       "│ │<span style=\"color: #008080; text-decoration-color: #008080; font-weight: bold\"> 2025-06-22 00:00:00 </span>│<span style=\"color: #800080; text-decoration-color: #800080; font-weight: bold\"> object  </span>│<span style=\"color: #008000; text-decoration-color: #008000\">          15 </span>│<span style=\"color: #808000; text-decoration-color: #808000\">           4.2% </span>│ │\n",
       "│ │<span style=\"color: #008080; text-decoration-color: #008080; font-weight: bold\"> 2025-06-23 00:00:00 </span>│<span style=\"color: #800080; text-decoration-color: #800080; font-weight: bold\"> object  </span>│<span style=\"color: #008000; text-decoration-color: #008000\">          28 </span>│<span style=\"color: #808000; text-decoration-color: #808000\">           7.8% </span>│ │\n",
       "│ │<span style=\"color: #008080; text-decoration-color: #008080; font-weight: bold\"> 2025-06-24 00:00:00 </span>│<span style=\"color: #800080; text-decoration-color: #800080; font-weight: bold\"> object  </span>│<span style=\"color: #008000; text-decoration-color: #008000\">          23 </span>│<span style=\"color: #808000; text-decoration-color: #808000\">           6.4% </span>│ │\n",
       "│ │<span style=\"color: #008080; text-decoration-color: #008080; font-weight: bold\"> 2025-06-25 00:00:00 </span>│<span style=\"color: #800080; text-decoration-color: #800080; font-weight: bold\"> object  </span>│<span style=\"color: #008000; text-decoration-color: #008000\">          22 </span>│<span style=\"color: #808000; text-decoration-color: #808000\">           6.1% </span>│ │\n",
       "│ │<span style=\"color: #008080; text-decoration-color: #008080; font-weight: bold\"> 2025-06-26 00:00:00 </span>│<span style=\"color: #800080; text-decoration-color: #800080; font-weight: bold\"> object  </span>│<span style=\"color: #008000; text-decoration-color: #008000\">          21 </span>│<span style=\"color: #808000; text-decoration-color: #808000\">           5.9% </span>│ │\n",
       "│ │<span style=\"color: #008080; text-decoration-color: #008080; font-weight: bold\"> 2025-06-27 00:00:00 </span>│<span style=\"color: #800080; text-decoration-color: #800080; font-weight: bold\"> object  </span>│<span style=\"color: #008000; text-decoration-color: #008000\">          25 </span>│<span style=\"color: #808000; text-decoration-color: #808000\">           7.0% </span>│ │\n",
       "│ │<span style=\"color: #008080; text-decoration-color: #008080; font-weight: bold\"> 2025-06-28 00:00:00 </span>│<span style=\"color: #800080; text-decoration-color: #800080; font-weight: bold\"> object  </span>│<span style=\"color: #008000; text-decoration-color: #008000\">          25 </span>│<span style=\"color: #808000; text-decoration-color: #808000\">           7.0% </span>│ │\n",
       "│ │<span style=\"color: #008080; text-decoration-color: #008080; font-weight: bold\"> 2025-06-29 00:00:00 </span>│<span style=\"color: #800080; text-decoration-color: #800080; font-weight: bold\"> object  </span>│<span style=\"color: #008000; text-decoration-color: #008000\">          15 </span>│<span style=\"color: #808000; text-decoration-color: #808000\">           4.2% </span>│ │\n",
       "│ │<span style=\"color: #008080; text-decoration-color: #008080; font-weight: bold\"> 2025-06-30 00:00:00 </span>│<span style=\"color: #800080; text-decoration-color: #800080; font-weight: bold\"> object  </span>│<span style=\"color: #008000; text-decoration-color: #008000\">          31 </span>│<span style=\"color: #808000; text-decoration-color: #808000\">           8.7% </span>│ │\n",
       "│ └─────────────────────┴─────────┴─────────────┴────────────────┘ │\n",
       "╰──────────────────────────────────────────────────────────────────╯\n",
       "</pre>\n"
      ],
      "text/plain": [
       "╭──────────────────── 📊 Resumen de DataFrame ─────────────────────╮\n",
       "│ ┌─────────────────────┬─────────┬─────────────┬────────────────┐ │\n",
       "│ │\u001b[1;37;48;5;88m \u001b[0m\u001b[1;37;48;5;88m🧱 Columna         \u001b[0m\u001b[1;37;48;5;88m \u001b[0m│\u001b[1;37;48;5;88m \u001b[0m\u001b[1;37;48;5;88m📂 Tipo\u001b[0m\u001b[1;37;48;5;88m \u001b[0m│\u001b[1;37;48;5;88m \u001b[0m\u001b[1;37;48;5;88m✅ Non-Null\u001b[0m\u001b[1;37;48;5;88m \u001b[0m│\u001b[1;37;48;5;88m \u001b[0m\u001b[1;37;48;5;88m📈 Completitud\u001b[0m\u001b[1;37;48;5;88m \u001b[0m│ │\n",
       "│ ├─────────────────────┼─────────┼─────────────┼────────────────┤ │\n",
       "│ │\u001b[1;36m \u001b[0m\u001b[1;36mAPELLIDOS Y NOMBRE \u001b[0m\u001b[1;36m \u001b[0m│\u001b[1;35m \u001b[0m\u001b[1;35mobject \u001b[0m\u001b[1;35m \u001b[0m│\u001b[32m \u001b[0m\u001b[32m         23\u001b[0m\u001b[32m \u001b[0m│\u001b[33m \u001b[0m\u001b[33m          6.4%\u001b[0m\u001b[33m \u001b[0m│ │\n",
       "│ │\u001b[1;36m \u001b[0m\u001b[1;36mCARGO              \u001b[0m\u001b[1;36m \u001b[0m│\u001b[1;35m \u001b[0m\u001b[1;35mobject \u001b[0m\u001b[1;35m \u001b[0m│\u001b[32m \u001b[0m\u001b[32m         24\u001b[0m\u001b[32m \u001b[0m│\u001b[33m \u001b[0m\u001b[33m          6.7%\u001b[0m\u001b[33m \u001b[0m│ │\n",
       "│ │\u001b[1;36m \u001b[0m\u001b[1;36mProducto           \u001b[0m\u001b[1;36m \u001b[0m│\u001b[1;35m \u001b[0m\u001b[1;35mobject \u001b[0m\u001b[1;35m \u001b[0m│\u001b[32m \u001b[0m\u001b[32m        355\u001b[0m\u001b[32m \u001b[0m│\u001b[33m \u001b[0m\u001b[33m         99.2%\u001b[0m\u001b[33m \u001b[0m│ │\n",
       "│ │\u001b[1;36m \u001b[0m\u001b[1;36m2025-06-01 00:00:00\u001b[0m\u001b[1;36m \u001b[0m│\u001b[1;35m \u001b[0m\u001b[1;35mobject \u001b[0m\u001b[1;35m \u001b[0m│\u001b[32m \u001b[0m\u001b[32m         15\u001b[0m\u001b[32m \u001b[0m│\u001b[33m \u001b[0m\u001b[33m          4.2%\u001b[0m\u001b[33m \u001b[0m│ │\n",
       "│ │\u001b[1;36m \u001b[0m\u001b[1;36m2025-06-02 00:00:00\u001b[0m\u001b[1;36m \u001b[0m│\u001b[1;35m \u001b[0m\u001b[1;35mobject \u001b[0m\u001b[1;35m \u001b[0m│\u001b[32m \u001b[0m\u001b[32m         34\u001b[0m\u001b[32m \u001b[0m│\u001b[33m \u001b[0m\u001b[33m          9.5%\u001b[0m\u001b[33m \u001b[0m│ │\n",
       "│ │\u001b[1;36m \u001b[0m\u001b[1;36m2025-06-03 00:00:00\u001b[0m\u001b[1;36m \u001b[0m│\u001b[1;35m \u001b[0m\u001b[1;35mobject \u001b[0m\u001b[1;35m \u001b[0m│\u001b[32m \u001b[0m\u001b[32m         20\u001b[0m\u001b[32m \u001b[0m│\u001b[33m \u001b[0m\u001b[33m          5.6%\u001b[0m\u001b[33m \u001b[0m│ │\n",
       "│ │\u001b[1;36m \u001b[0m\u001b[1;36m2025-06-04 00:00:00\u001b[0m\u001b[1;36m \u001b[0m│\u001b[1;35m \u001b[0m\u001b[1;35mobject \u001b[0m\u001b[1;35m \u001b[0m│\u001b[32m \u001b[0m\u001b[32m         30\u001b[0m\u001b[32m \u001b[0m│\u001b[33m \u001b[0m\u001b[33m          8.4%\u001b[0m\u001b[33m \u001b[0m│ │\n",
       "│ │\u001b[1;36m \u001b[0m\u001b[1;36m2025-06-05 00:00:00\u001b[0m\u001b[1;36m \u001b[0m│\u001b[1;35m \u001b[0m\u001b[1;35mobject \u001b[0m\u001b[1;35m \u001b[0m│\u001b[32m \u001b[0m\u001b[32m         42\u001b[0m\u001b[32m \u001b[0m│\u001b[33m \u001b[0m\u001b[33m         11.7%\u001b[0m\u001b[33m \u001b[0m│ │\n",
       "│ │\u001b[1;36m \u001b[0m\u001b[1;36m2025-06-06 00:00:00\u001b[0m\u001b[1;36m \u001b[0m│\u001b[1;35m \u001b[0m\u001b[1;35mobject \u001b[0m\u001b[1;35m \u001b[0m│\u001b[32m \u001b[0m\u001b[32m         30\u001b[0m\u001b[32m \u001b[0m│\u001b[33m \u001b[0m\u001b[33m          8.4%\u001b[0m\u001b[33m \u001b[0m│ │\n",
       "│ │\u001b[1;36m \u001b[0m\u001b[1;36m2025-06-07 00:00:00\u001b[0m\u001b[1;36m \u001b[0m│\u001b[1;35m \u001b[0m\u001b[1;35mobject \u001b[0m\u001b[1;35m \u001b[0m│\u001b[32m \u001b[0m\u001b[32m         23\u001b[0m\u001b[32m \u001b[0m│\u001b[33m \u001b[0m\u001b[33m          6.4%\u001b[0m\u001b[33m \u001b[0m│ │\n",
       "│ │\u001b[1;36m \u001b[0m\u001b[1;36m2025-06-08 00:00:00\u001b[0m\u001b[1;36m \u001b[0m│\u001b[1;35m \u001b[0m\u001b[1;35mobject \u001b[0m\u001b[1;35m \u001b[0m│\u001b[32m \u001b[0m\u001b[32m         15\u001b[0m\u001b[32m \u001b[0m│\u001b[33m \u001b[0m\u001b[33m          4.2%\u001b[0m\u001b[33m \u001b[0m│ │\n",
       "│ │\u001b[1;36m \u001b[0m\u001b[1;36m2025-06-09 00:00:00\u001b[0m\u001b[1;36m \u001b[0m│\u001b[1;35m \u001b[0m\u001b[1;35mobject \u001b[0m\u001b[1;35m \u001b[0m│\u001b[32m \u001b[0m\u001b[32m         25\u001b[0m\u001b[32m \u001b[0m│\u001b[33m \u001b[0m\u001b[33m          7.0%\u001b[0m\u001b[33m \u001b[0m│ │\n",
       "│ │\u001b[1;36m \u001b[0m\u001b[1;36m2025-06-10 00:00:00\u001b[0m\u001b[1;36m \u001b[0m│\u001b[1;35m \u001b[0m\u001b[1;35mobject \u001b[0m\u001b[1;35m \u001b[0m│\u001b[32m \u001b[0m\u001b[32m         28\u001b[0m\u001b[32m \u001b[0m│\u001b[33m \u001b[0m\u001b[33m          7.8%\u001b[0m\u001b[33m \u001b[0m│ │\n",
       "│ │\u001b[1;36m \u001b[0m\u001b[1;36m2025-06-11 00:00:00\u001b[0m\u001b[1;36m \u001b[0m│\u001b[1;35m \u001b[0m\u001b[1;35mobject \u001b[0m\u001b[1;35m \u001b[0m│\u001b[32m \u001b[0m\u001b[32m         29\u001b[0m\u001b[32m \u001b[0m│\u001b[33m \u001b[0m\u001b[33m          8.1%\u001b[0m\u001b[33m \u001b[0m│ │\n",
       "│ │\u001b[1;36m \u001b[0m\u001b[1;36m2025-06-12 00:00:00\u001b[0m\u001b[1;36m \u001b[0m│\u001b[1;35m \u001b[0m\u001b[1;35mobject \u001b[0m\u001b[1;35m \u001b[0m│\u001b[32m \u001b[0m\u001b[32m         23\u001b[0m\u001b[32m \u001b[0m│\u001b[33m \u001b[0m\u001b[33m          6.4%\u001b[0m\u001b[33m \u001b[0m│ │\n",
       "│ │\u001b[1;36m \u001b[0m\u001b[1;36m2025-06-13 00:00:00\u001b[0m\u001b[1;36m \u001b[0m│\u001b[1;35m \u001b[0m\u001b[1;35mobject \u001b[0m\u001b[1;35m \u001b[0m│\u001b[32m \u001b[0m\u001b[32m         32\u001b[0m\u001b[32m \u001b[0m│\u001b[33m \u001b[0m\u001b[33m          8.9%\u001b[0m\u001b[33m \u001b[0m│ │\n",
       "│ │\u001b[1;36m \u001b[0m\u001b[1;36m2025-06-14 00:00:00\u001b[0m\u001b[1;36m \u001b[0m│\u001b[1;35m \u001b[0m\u001b[1;35mobject \u001b[0m\u001b[1;35m \u001b[0m│\u001b[32m \u001b[0m\u001b[32m         25\u001b[0m\u001b[32m \u001b[0m│\u001b[33m \u001b[0m\u001b[33m          7.0%\u001b[0m\u001b[33m \u001b[0m│ │\n",
       "│ │\u001b[1;36m \u001b[0m\u001b[1;36m2025-06-15 00:00:00\u001b[0m\u001b[1;36m \u001b[0m│\u001b[1;35m \u001b[0m\u001b[1;35mobject \u001b[0m\u001b[1;35m \u001b[0m│\u001b[32m \u001b[0m\u001b[32m         15\u001b[0m\u001b[32m \u001b[0m│\u001b[33m \u001b[0m\u001b[33m          4.2%\u001b[0m\u001b[33m \u001b[0m│ │\n",
       "│ │\u001b[1;36m \u001b[0m\u001b[1;36m2025-06-16 00:00:00\u001b[0m\u001b[1;36m \u001b[0m│\u001b[1;35m \u001b[0m\u001b[1;35mobject \u001b[0m\u001b[1;35m \u001b[0m│\u001b[32m \u001b[0m\u001b[32m         38\u001b[0m\u001b[32m \u001b[0m│\u001b[33m \u001b[0m\u001b[33m         10.6%\u001b[0m\u001b[33m \u001b[0m│ │\n",
       "│ │\u001b[1;36m \u001b[0m\u001b[1;36m2025-06-17 00:00:00\u001b[0m\u001b[1;36m \u001b[0m│\u001b[1;35m \u001b[0m\u001b[1;35mobject \u001b[0m\u001b[1;35m \u001b[0m│\u001b[32m \u001b[0m\u001b[32m         21\u001b[0m\u001b[32m \u001b[0m│\u001b[33m \u001b[0m\u001b[33m          5.9%\u001b[0m\u001b[33m \u001b[0m│ │\n",
       "│ │\u001b[1;36m \u001b[0m\u001b[1;36m2025-06-18 00:00:00\u001b[0m\u001b[1;36m \u001b[0m│\u001b[1;35m \u001b[0m\u001b[1;35mobject \u001b[0m\u001b[1;35m \u001b[0m│\u001b[32m \u001b[0m\u001b[32m         28\u001b[0m\u001b[32m \u001b[0m│\u001b[33m \u001b[0m\u001b[33m          7.8%\u001b[0m\u001b[33m \u001b[0m│ │\n",
       "│ │\u001b[1;36m \u001b[0m\u001b[1;36m2025-06-19 00:00:00\u001b[0m\u001b[1;36m \u001b[0m│\u001b[1;35m \u001b[0m\u001b[1;35mobject \u001b[0m\u001b[1;35m \u001b[0m│\u001b[32m \u001b[0m\u001b[32m         21\u001b[0m\u001b[32m \u001b[0m│\u001b[33m \u001b[0m\u001b[33m          5.9%\u001b[0m\u001b[33m \u001b[0m│ │\n",
       "│ │\u001b[1;36m \u001b[0m\u001b[1;36m2025-06-20 00:00:00\u001b[0m\u001b[1;36m \u001b[0m│\u001b[1;35m \u001b[0m\u001b[1;35mobject \u001b[0m\u001b[1;35m \u001b[0m│\u001b[32m \u001b[0m\u001b[32m         32\u001b[0m\u001b[32m \u001b[0m│\u001b[33m \u001b[0m\u001b[33m          8.9%\u001b[0m\u001b[33m \u001b[0m│ │\n",
       "│ │\u001b[1;36m \u001b[0m\u001b[1;36m2025-06-21 00:00:00\u001b[0m\u001b[1;36m \u001b[0m│\u001b[1;35m \u001b[0m\u001b[1;35mobject \u001b[0m\u001b[1;35m \u001b[0m│\u001b[32m \u001b[0m\u001b[32m         47\u001b[0m\u001b[32m \u001b[0m│\u001b[33m \u001b[0m\u001b[33m         13.1%\u001b[0m\u001b[33m \u001b[0m│ │\n",
       "│ │\u001b[1;36m \u001b[0m\u001b[1;36m2025-06-22 00:00:00\u001b[0m\u001b[1;36m \u001b[0m│\u001b[1;35m \u001b[0m\u001b[1;35mobject \u001b[0m\u001b[1;35m \u001b[0m│\u001b[32m \u001b[0m\u001b[32m         15\u001b[0m\u001b[32m \u001b[0m│\u001b[33m \u001b[0m\u001b[33m          4.2%\u001b[0m\u001b[33m \u001b[0m│ │\n",
       "│ │\u001b[1;36m \u001b[0m\u001b[1;36m2025-06-23 00:00:00\u001b[0m\u001b[1;36m \u001b[0m│\u001b[1;35m \u001b[0m\u001b[1;35mobject \u001b[0m\u001b[1;35m \u001b[0m│\u001b[32m \u001b[0m\u001b[32m         28\u001b[0m\u001b[32m \u001b[0m│\u001b[33m \u001b[0m\u001b[33m          7.8%\u001b[0m\u001b[33m \u001b[0m│ │\n",
       "│ │\u001b[1;36m \u001b[0m\u001b[1;36m2025-06-24 00:00:00\u001b[0m\u001b[1;36m \u001b[0m│\u001b[1;35m \u001b[0m\u001b[1;35mobject \u001b[0m\u001b[1;35m \u001b[0m│\u001b[32m \u001b[0m\u001b[32m         23\u001b[0m\u001b[32m \u001b[0m│\u001b[33m \u001b[0m\u001b[33m          6.4%\u001b[0m\u001b[33m \u001b[0m│ │\n",
       "│ │\u001b[1;36m \u001b[0m\u001b[1;36m2025-06-25 00:00:00\u001b[0m\u001b[1;36m \u001b[0m│\u001b[1;35m \u001b[0m\u001b[1;35mobject \u001b[0m\u001b[1;35m \u001b[0m│\u001b[32m \u001b[0m\u001b[32m         22\u001b[0m\u001b[32m \u001b[0m│\u001b[33m \u001b[0m\u001b[33m          6.1%\u001b[0m\u001b[33m \u001b[0m│ │\n",
       "│ │\u001b[1;36m \u001b[0m\u001b[1;36m2025-06-26 00:00:00\u001b[0m\u001b[1;36m \u001b[0m│\u001b[1;35m \u001b[0m\u001b[1;35mobject \u001b[0m\u001b[1;35m \u001b[0m│\u001b[32m \u001b[0m\u001b[32m         21\u001b[0m\u001b[32m \u001b[0m│\u001b[33m \u001b[0m\u001b[33m          5.9%\u001b[0m\u001b[33m \u001b[0m│ │\n",
       "│ │\u001b[1;36m \u001b[0m\u001b[1;36m2025-06-27 00:00:00\u001b[0m\u001b[1;36m \u001b[0m│\u001b[1;35m \u001b[0m\u001b[1;35mobject \u001b[0m\u001b[1;35m \u001b[0m│\u001b[32m \u001b[0m\u001b[32m         25\u001b[0m\u001b[32m \u001b[0m│\u001b[33m \u001b[0m\u001b[33m          7.0%\u001b[0m\u001b[33m \u001b[0m│ │\n",
       "│ │\u001b[1;36m \u001b[0m\u001b[1;36m2025-06-28 00:00:00\u001b[0m\u001b[1;36m \u001b[0m│\u001b[1;35m \u001b[0m\u001b[1;35mobject \u001b[0m\u001b[1;35m \u001b[0m│\u001b[32m \u001b[0m\u001b[32m         25\u001b[0m\u001b[32m \u001b[0m│\u001b[33m \u001b[0m\u001b[33m          7.0%\u001b[0m\u001b[33m \u001b[0m│ │\n",
       "│ │\u001b[1;36m \u001b[0m\u001b[1;36m2025-06-29 00:00:00\u001b[0m\u001b[1;36m \u001b[0m│\u001b[1;35m \u001b[0m\u001b[1;35mobject \u001b[0m\u001b[1;35m \u001b[0m│\u001b[32m \u001b[0m\u001b[32m         15\u001b[0m\u001b[32m \u001b[0m│\u001b[33m \u001b[0m\u001b[33m          4.2%\u001b[0m\u001b[33m \u001b[0m│ │\n",
       "│ │\u001b[1;36m \u001b[0m\u001b[1;36m2025-06-30 00:00:00\u001b[0m\u001b[1;36m \u001b[0m│\u001b[1;35m \u001b[0m\u001b[1;35mobject \u001b[0m\u001b[1;35m \u001b[0m│\u001b[32m \u001b[0m\u001b[32m         31\u001b[0m\u001b[32m \u001b[0m│\u001b[33m \u001b[0m\u001b[33m          8.7%\u001b[0m\u001b[33m \u001b[0m│ │\n",
       "│ └─────────────────────┴─────────┴─────────────┴────────────────┘ │\n",
       "╰──────────────────────────────────────────────────────────────────╯\n"
      ]
     },
     "metadata": {},
     "output_type": "display_data"
    },
    {
     "data": {
      "text/html": [
       "<pre style=\"white-space:pre;overflow-x:auto;line-height:normal;font-family:Menlo,'DejaVu Sans Mono',consolas,'Courier New',monospace\"><span style=\"color: #808080; text-decoration-color: #808080\">╭───────────── 📎 Resumen ──────────────╮</span>\n",
       "<span style=\"color: #808080; text-decoration-color: #808080\">│</span> <span style=\"color: #808000; text-decoration-color: #808000; font-weight: bold\">🔢 Dimensión:</span> 358 filas × 33 columnas <span style=\"color: #808080; text-decoration-color: #808080\">│</span>\n",
       "<span style=\"color: #808080; text-decoration-color: #808080\">│</span> <span style=\"color: #008000; text-decoration-color: #008000; font-weight: bold\">💾 Memoria usada:</span> 388.97 KB           <span style=\"color: #808080; text-decoration-color: #808080\">│</span>\n",
       "<span style=\"color: #808080; text-decoration-color: #808080\">╰───────────────────────────────────────╯</span>\n",
       "</pre>\n"
      ],
      "text/plain": [
       "\u001b[38;5;244m╭─\u001b[0m\u001b[38;5;244m────────────\u001b[0m\u001b[38;5;244m 📎 Resumen \u001b[0m\u001b[38;5;244m─────────────\u001b[0m\u001b[38;5;244m─╮\u001b[0m\n",
       "\u001b[38;5;244m│\u001b[0m \u001b[1;33m🔢 Dimensión:\u001b[0m 358 filas × 33 columnas \u001b[38;5;244m│\u001b[0m\n",
       "\u001b[38;5;244m│\u001b[0m \u001b[1;32m💾 Memoria usada:\u001b[0m 388.97 KB           \u001b[38;5;244m│\u001b[0m\n",
       "\u001b[38;5;244m╰───────────────────────────────────────╯\u001b[0m\n"
      ]
     },
     "metadata": {},
     "output_type": "display_data"
    }
   ],
   "source": [
    "importlib.reload(gd)\n",
    "importlib.reload(pm)\n",
    "camana = gd.get_camana_data(CAMANA)\n",
    "pm.show_df(camana)"
   ]
  },
  {
   "cell_type": "code",
   "execution_count": 50,
   "id": "e66d344f",
   "metadata": {},
   "outputs": [
    {
     "data": {
      "text/html": [
       "<pre style=\"white-space:pre;overflow-x:auto;line-height:normal;font-family:Menlo,'DejaVu Sans Mono',consolas,'Courier New',monospace\">╭──────────────────── 📊 Resumen de DataFrame ────────────────────╮\n",
       "│ ┌────────────────────┬─────────┬─────────────┬────────────────┐ │\n",
       "│ │<span style=\"color: #c0c0c0; text-decoration-color: #c0c0c0; background-color: #870000; font-weight: bold\"> 🧱 Columna         </span>│<span style=\"color: #c0c0c0; text-decoration-color: #c0c0c0; background-color: #870000; font-weight: bold\"> 📂 Tipo </span>│<span style=\"color: #c0c0c0; text-decoration-color: #c0c0c0; background-color: #870000; font-weight: bold\"> ✅ Non-Null </span>│<span style=\"color: #c0c0c0; text-decoration-color: #c0c0c0; background-color: #870000; font-weight: bold\"> 📈 Completitud </span>│ │\n",
       "│ ├────────────────────┼─────────┼─────────────┼────────────────┤ │\n",
       "│ │<span style=\"color: #008080; text-decoration-color: #008080; font-weight: bold\"> APELLIDOS Y NOMBRE </span>│<span style=\"color: #800080; text-decoration-color: #800080; font-weight: bold\"> object  </span>│<span style=\"color: #008000; text-decoration-color: #008000\">         568 </span>│<span style=\"color: #808000; text-decoration-color: #808000\">         100.0% </span>│ │\n",
       "│ │<span style=\"color: #008080; text-decoration-color: #008080; font-weight: bold\"> CARGO              </span>│<span style=\"color: #800080; text-decoration-color: #800080; font-weight: bold\"> object  </span>│<span style=\"color: #008000; text-decoration-color: #008000\">         568 </span>│<span style=\"color: #808000; text-decoration-color: #808000\">         100.0% </span>│ │\n",
       "│ │<span style=\"color: #008080; text-decoration-color: #008080; font-weight: bold\"> Producto           </span>│<span style=\"color: #800080; text-decoration-color: #800080; font-weight: bold\"> object  </span>│<span style=\"color: #008000; text-decoration-color: #008000\">         568 </span>│<span style=\"color: #808000; text-decoration-color: #808000\">         100.0% </span>│ │\n",
       "│ │<span style=\"color: #008080; text-decoration-color: #008080; font-weight: bold\"> Fecha              </span>│<span style=\"color: #800080; text-decoration-color: #800080; font-weight: bold\"> object  </span>│<span style=\"color: #008000; text-decoration-color: #008000\">         568 </span>│<span style=\"color: #808000; text-decoration-color: #808000\">         100.0% </span>│ │\n",
       "│ │<span style=\"color: #008080; text-decoration-color: #008080; font-weight: bold\"> Cantidad           </span>│<span style=\"color: #800080; text-decoration-color: #800080; font-weight: bold\"> object  </span>│<span style=\"color: #008000; text-decoration-color: #008000\">         568 </span>│<span style=\"color: #808000; text-decoration-color: #808000\">         100.0% </span>│ │\n",
       "│ └────────────────────┴─────────┴─────────────┴────────────────┘ │\n",
       "╰─────────────────────────────────────────────────────────────────╯\n",
       "</pre>\n"
      ],
      "text/plain": [
       "╭──────────────────── 📊 Resumen de DataFrame ────────────────────╮\n",
       "│ ┌────────────────────┬─────────┬─────────────┬────────────────┐ │\n",
       "│ │\u001b[1;37;48;5;88m \u001b[0m\u001b[1;37;48;5;88m🧱 Columna        \u001b[0m\u001b[1;37;48;5;88m \u001b[0m│\u001b[1;37;48;5;88m \u001b[0m\u001b[1;37;48;5;88m📂 Tipo\u001b[0m\u001b[1;37;48;5;88m \u001b[0m│\u001b[1;37;48;5;88m \u001b[0m\u001b[1;37;48;5;88m✅ Non-Null\u001b[0m\u001b[1;37;48;5;88m \u001b[0m│\u001b[1;37;48;5;88m \u001b[0m\u001b[1;37;48;5;88m📈 Completitud\u001b[0m\u001b[1;37;48;5;88m \u001b[0m│ │\n",
       "│ ├────────────────────┼─────────┼─────────────┼────────────────┤ │\n",
       "│ │\u001b[1;36m \u001b[0m\u001b[1;36mAPELLIDOS Y NOMBRE\u001b[0m\u001b[1;36m \u001b[0m│\u001b[1;35m \u001b[0m\u001b[1;35mobject \u001b[0m\u001b[1;35m \u001b[0m│\u001b[32m \u001b[0m\u001b[32m        568\u001b[0m\u001b[32m \u001b[0m│\u001b[33m \u001b[0m\u001b[33m        100.0%\u001b[0m\u001b[33m \u001b[0m│ │\n",
       "│ │\u001b[1;36m \u001b[0m\u001b[1;36mCARGO             \u001b[0m\u001b[1;36m \u001b[0m│\u001b[1;35m \u001b[0m\u001b[1;35mobject \u001b[0m\u001b[1;35m \u001b[0m│\u001b[32m \u001b[0m\u001b[32m        568\u001b[0m\u001b[32m \u001b[0m│\u001b[33m \u001b[0m\u001b[33m        100.0%\u001b[0m\u001b[33m \u001b[0m│ │\n",
       "│ │\u001b[1;36m \u001b[0m\u001b[1;36mProducto          \u001b[0m\u001b[1;36m \u001b[0m│\u001b[1;35m \u001b[0m\u001b[1;35mobject \u001b[0m\u001b[1;35m \u001b[0m│\u001b[32m \u001b[0m\u001b[32m        568\u001b[0m\u001b[32m \u001b[0m│\u001b[33m \u001b[0m\u001b[33m        100.0%\u001b[0m\u001b[33m \u001b[0m│ │\n",
       "│ │\u001b[1;36m \u001b[0m\u001b[1;36mFecha             \u001b[0m\u001b[1;36m \u001b[0m│\u001b[1;35m \u001b[0m\u001b[1;35mobject \u001b[0m\u001b[1;35m \u001b[0m│\u001b[32m \u001b[0m\u001b[32m        568\u001b[0m\u001b[32m \u001b[0m│\u001b[33m \u001b[0m\u001b[33m        100.0%\u001b[0m\u001b[33m \u001b[0m│ │\n",
       "│ │\u001b[1;36m \u001b[0m\u001b[1;36mCantidad          \u001b[0m\u001b[1;36m \u001b[0m│\u001b[1;35m \u001b[0m\u001b[1;35mobject \u001b[0m\u001b[1;35m \u001b[0m│\u001b[32m \u001b[0m\u001b[32m        568\u001b[0m\u001b[32m \u001b[0m│\u001b[33m \u001b[0m\u001b[33m        100.0%\u001b[0m\u001b[33m \u001b[0m│ │\n",
       "│ └────────────────────┴─────────┴─────────────┴────────────────┘ │\n",
       "╰─────────────────────────────────────────────────────────────────╯\n"
      ]
     },
     "metadata": {},
     "output_type": "display_data"
    },
    {
     "data": {
      "text/html": [
       "<pre style=\"white-space:pre;overflow-x:auto;line-height:normal;font-family:Menlo,'DejaVu Sans Mono',consolas,'Courier New',monospace\"><span style=\"color: #808080; text-decoration-color: #808080\">╭───────────── 📎 Resumen ─────────────╮</span>\n",
       "<span style=\"color: #808080; text-decoration-color: #808080\">│</span> <span style=\"color: #808000; text-decoration-color: #808000; font-weight: bold\">🔢 Dimensión:</span> 568 filas × 5 columnas <span style=\"color: #808080; text-decoration-color: #808080\">│</span>\n",
       "<span style=\"color: #808080; text-decoration-color: #808080\">│</span> <span style=\"color: #008000; text-decoration-color: #008000; font-weight: bold\">💾 Memoria usada:</span> 180.12 KB          <span style=\"color: #808080; text-decoration-color: #808080\">│</span>\n",
       "<span style=\"color: #808080; text-decoration-color: #808080\">╰──────────────────────────────────────╯</span>\n",
       "</pre>\n"
      ],
      "text/plain": [
       "\u001b[38;5;244m╭─\u001b[0m\u001b[38;5;244m────────────\u001b[0m\u001b[38;5;244m 📎 Resumen \u001b[0m\u001b[38;5;244m────────────\u001b[0m\u001b[38;5;244m─╮\u001b[0m\n",
       "\u001b[38;5;244m│\u001b[0m \u001b[1;33m🔢 Dimensión:\u001b[0m 568 filas × 5 columnas \u001b[38;5;244m│\u001b[0m\n",
       "\u001b[38;5;244m│\u001b[0m \u001b[1;32m💾 Memoria usada:\u001b[0m 180.12 KB          \u001b[38;5;244m│\u001b[0m\n",
       "\u001b[38;5;244m╰──────────────────────────────────────╯\u001b[0m\n"
      ]
     },
     "metadata": {},
     "output_type": "display_data"
    }
   ],
   "source": [
    "importlib.reload(tf)\n",
    "importlib.reload(pm)\n",
    "camana_transformed = tf.transform_data_camana(camana)\n",
    "pm.show_df(camana_transformed)"
   ]
  },
  {
   "cell_type": "code",
   "execution_count": 51,
   "id": "7cde6aaa",
   "metadata": {},
   "outputs": [
    {
     "data": {
      "text/html": [
       "<pre style=\"white-space:pre;overflow-x:auto;line-height:normal;font-family:Menlo,'DejaVu Sans Mono',consolas,'Courier New',monospace\">╭──────────────────── 📊 Resumen de DataFrame ────────────────────╮\n",
       "│ ┌────────────────────┬─────────┬─────────────┬────────────────┐ │\n",
       "│ │<span style=\"color: #c0c0c0; text-decoration-color: #c0c0c0; background-color: #870000; font-weight: bold\"> 🧱 Columna         </span>│<span style=\"color: #c0c0c0; text-decoration-color: #c0c0c0; background-color: #870000; font-weight: bold\"> 📂 Tipo </span>│<span style=\"color: #c0c0c0; text-decoration-color: #c0c0c0; background-color: #870000; font-weight: bold\"> ✅ Non-Null </span>│<span style=\"color: #c0c0c0; text-decoration-color: #c0c0c0; background-color: #870000; font-weight: bold\"> 📈 Completitud </span>│ │\n",
       "│ ├────────────────────┼─────────┼─────────────┼────────────────┤ │\n",
       "│ │<span style=\"color: #008080; text-decoration-color: #008080; font-weight: bold\"> Fecha              </span>│<span style=\"color: #800080; text-decoration-color: #800080; font-weight: bold\"> object  </span>│<span style=\"color: #008000; text-decoration-color: #008000\">         568 </span>│<span style=\"color: #808000; text-decoration-color: #808000\">         100.0% </span>│ │\n",
       "│ │<span style=\"color: #008080; text-decoration-color: #008080; font-weight: bold\"> Sede               </span>│<span style=\"color: #800080; text-decoration-color: #800080; font-weight: bold\"> object  </span>│<span style=\"color: #008000; text-decoration-color: #008000\">         568 </span>│<span style=\"color: #808000; text-decoration-color: #808000\">         100.0% </span>│ │\n",
       "│ │<span style=\"color: #008080; text-decoration-color: #008080; font-weight: bold\"> APELLIDOS Y NOMBRE </span>│<span style=\"color: #800080; text-decoration-color: #800080; font-weight: bold\"> object  </span>│<span style=\"color: #008000; text-decoration-color: #008000\">         568 </span>│<span style=\"color: #808000; text-decoration-color: #808000\">         100.0% </span>│ │\n",
       "│ │<span style=\"color: #008080; text-decoration-color: #008080; font-weight: bold\"> CARGO              </span>│<span style=\"color: #800080; text-decoration-color: #800080; font-weight: bold\"> object  </span>│<span style=\"color: #008000; text-decoration-color: #008000\">         568 </span>│<span style=\"color: #808000; text-decoration-color: #808000\">         100.0% </span>│ │\n",
       "│ │<span style=\"color: #008080; text-decoration-color: #008080; font-weight: bold\"> Producto           </span>│<span style=\"color: #800080; text-decoration-color: #800080; font-weight: bold\"> object  </span>│<span style=\"color: #008000; text-decoration-color: #008000\">         568 </span>│<span style=\"color: #808000; text-decoration-color: #808000\">         100.0% </span>│ │\n",
       "│ │<span style=\"color: #008080; text-decoration-color: #008080; font-weight: bold\"> Cantidad           </span>│<span style=\"color: #800080; text-decoration-color: #800080; font-weight: bold\"> object  </span>│<span style=\"color: #008000; text-decoration-color: #008000\">         568 </span>│<span style=\"color: #808000; text-decoration-color: #808000\">         100.0% </span>│ │\n",
       "│ └────────────────────┴─────────┴─────────────┴────────────────┘ │\n",
       "╰─────────────────────────────────────────────────────────────────╯\n",
       "</pre>\n"
      ],
      "text/plain": [
       "╭──────────────────── 📊 Resumen de DataFrame ────────────────────╮\n",
       "│ ┌────────────────────┬─────────┬─────────────┬────────────────┐ │\n",
       "│ │\u001b[1;37;48;5;88m \u001b[0m\u001b[1;37;48;5;88m🧱 Columna        \u001b[0m\u001b[1;37;48;5;88m \u001b[0m│\u001b[1;37;48;5;88m \u001b[0m\u001b[1;37;48;5;88m📂 Tipo\u001b[0m\u001b[1;37;48;5;88m \u001b[0m│\u001b[1;37;48;5;88m \u001b[0m\u001b[1;37;48;5;88m✅ Non-Null\u001b[0m\u001b[1;37;48;5;88m \u001b[0m│\u001b[1;37;48;5;88m \u001b[0m\u001b[1;37;48;5;88m📈 Completitud\u001b[0m\u001b[1;37;48;5;88m \u001b[0m│ │\n",
       "│ ├────────────────────┼─────────┼─────────────┼────────────────┤ │\n",
       "│ │\u001b[1;36m \u001b[0m\u001b[1;36mFecha             \u001b[0m\u001b[1;36m \u001b[0m│\u001b[1;35m \u001b[0m\u001b[1;35mobject \u001b[0m\u001b[1;35m \u001b[0m│\u001b[32m \u001b[0m\u001b[32m        568\u001b[0m\u001b[32m \u001b[0m│\u001b[33m \u001b[0m\u001b[33m        100.0%\u001b[0m\u001b[33m \u001b[0m│ │\n",
       "│ │\u001b[1;36m \u001b[0m\u001b[1;36mSede              \u001b[0m\u001b[1;36m \u001b[0m│\u001b[1;35m \u001b[0m\u001b[1;35mobject \u001b[0m\u001b[1;35m \u001b[0m│\u001b[32m \u001b[0m\u001b[32m        568\u001b[0m\u001b[32m \u001b[0m│\u001b[33m \u001b[0m\u001b[33m        100.0%\u001b[0m\u001b[33m \u001b[0m│ │\n",
       "│ │\u001b[1;36m \u001b[0m\u001b[1;36mAPELLIDOS Y NOMBRE\u001b[0m\u001b[1;36m \u001b[0m│\u001b[1;35m \u001b[0m\u001b[1;35mobject \u001b[0m\u001b[1;35m \u001b[0m│\u001b[32m \u001b[0m\u001b[32m        568\u001b[0m\u001b[32m \u001b[0m│\u001b[33m \u001b[0m\u001b[33m        100.0%\u001b[0m\u001b[33m \u001b[0m│ │\n",
       "│ │\u001b[1;36m \u001b[0m\u001b[1;36mCARGO             \u001b[0m\u001b[1;36m \u001b[0m│\u001b[1;35m \u001b[0m\u001b[1;35mobject \u001b[0m\u001b[1;35m \u001b[0m│\u001b[32m \u001b[0m\u001b[32m        568\u001b[0m\u001b[32m \u001b[0m│\u001b[33m \u001b[0m\u001b[33m        100.0%\u001b[0m\u001b[33m \u001b[0m│ │\n",
       "│ │\u001b[1;36m \u001b[0m\u001b[1;36mProducto          \u001b[0m\u001b[1;36m \u001b[0m│\u001b[1;35m \u001b[0m\u001b[1;35mobject \u001b[0m\u001b[1;35m \u001b[0m│\u001b[32m \u001b[0m\u001b[32m        568\u001b[0m\u001b[32m \u001b[0m│\u001b[33m \u001b[0m\u001b[33m        100.0%\u001b[0m\u001b[33m \u001b[0m│ │\n",
       "│ │\u001b[1;36m \u001b[0m\u001b[1;36mCantidad          \u001b[0m\u001b[1;36m \u001b[0m│\u001b[1;35m \u001b[0m\u001b[1;35mobject \u001b[0m\u001b[1;35m \u001b[0m│\u001b[32m \u001b[0m\u001b[32m        568\u001b[0m\u001b[32m \u001b[0m│\u001b[33m \u001b[0m\u001b[33m        100.0%\u001b[0m\u001b[33m \u001b[0m│ │\n",
       "│ └────────────────────┴─────────┴─────────────┴────────────────┘ │\n",
       "╰─────────────────────────────────────────────────────────────────╯\n"
      ]
     },
     "metadata": {},
     "output_type": "display_data"
    },
    {
     "data": {
      "text/html": [
       "<pre style=\"white-space:pre;overflow-x:auto;line-height:normal;font-family:Menlo,'DejaVu Sans Mono',consolas,'Courier New',monospace\"><span style=\"color: #808080; text-decoration-color: #808080\">╭───────────── 📎 Resumen ─────────────╮</span>\n",
       "<span style=\"color: #808080; text-decoration-color: #808080\">│</span> <span style=\"color: #808000; text-decoration-color: #808000; font-weight: bold\">🔢 Dimensión:</span> 568 filas × 6 columnas <span style=\"color: #808080; text-decoration-color: #808080\">│</span>\n",
       "<span style=\"color: #808080; text-decoration-color: #808080\">│</span> <span style=\"color: #008000; text-decoration-color: #008000; font-weight: bold\">💾 Memoria usada:</span> 218.94 KB          <span style=\"color: #808080; text-decoration-color: #808080\">│</span>\n",
       "<span style=\"color: #808080; text-decoration-color: #808080\">╰──────────────────────────────────────╯</span>\n",
       "</pre>\n"
      ],
      "text/plain": [
       "\u001b[38;5;244m╭─\u001b[0m\u001b[38;5;244m────────────\u001b[0m\u001b[38;5;244m 📎 Resumen \u001b[0m\u001b[38;5;244m────────────\u001b[0m\u001b[38;5;244m─╮\u001b[0m\n",
       "\u001b[38;5;244m│\u001b[0m \u001b[1;33m🔢 Dimensión:\u001b[0m 568 filas × 6 columnas \u001b[38;5;244m│\u001b[0m\n",
       "\u001b[38;5;244m│\u001b[0m \u001b[1;32m💾 Memoria usada:\u001b[0m 218.94 KB          \u001b[38;5;244m│\u001b[0m\n",
       "\u001b[38;5;244m╰──────────────────────────────────────╯\u001b[0m\n"
      ]
     },
     "metadata": {},
     "output_type": "display_data"
    }
   ],
   "source": [
    "importlib.reload(nd)\n",
    "importlib.reload(pm)\n",
    "camana_normalized = nd.normalize_data_camana(CAMANA, camana_transformed)\n",
    "pm.show_df(camana_normalized)"
   ]
  },
  {
   "cell_type": "markdown",
   "id": "470dfb10",
   "metadata": {},
   "source": [
    "### Pedregal"
   ]
  },
  {
   "cell_type": "code",
   "execution_count": null,
   "id": "3680e51c",
   "metadata": {},
   "outputs": [],
   "source": [
    "importlib.reload(gd)\n",
    "importlib.reload(pm)\n",
    "pedregal = gd.get_camana_data(PEDREGAL)\n",
    "pm.show_df(pedregal)"
   ]
  },
  {
   "cell_type": "code",
   "execution_count": null,
   "id": "242f7ed7",
   "metadata": {},
   "outputs": [],
   "source": [
    "importlib.reload(tf)\n",
    "importlib.reload(pm)\n",
    "pedregal_transformed = tf.transform_data_camana(pedregal)\n",
    "pm.show_df(pedregal_transformed)"
   ]
  },
  {
   "cell_type": "code",
   "execution_count": null,
   "id": "a1fff754",
   "metadata": {},
   "outputs": [],
   "source": [
    "importlib.reload(nd)\n",
    "importlib.reload(pm)\n",
    "pedregal_normalized = nd.normalize_data_camana(PEDREGAL, pedregal_transformed)\n",
    "pm.show_df(pedregal_normalized)"
   ]
  },
  {
   "cell_type": "markdown",
   "id": "eb5c4f1b",
   "metadata": {},
   "source": [
    "### Chala"
   ]
  },
  {
   "cell_type": "code",
   "execution_count": null,
   "id": "ed61f2fb",
   "metadata": {},
   "outputs": [],
   "source": [
    "importlib.reload(gd)\n",
    "importlib.reload(pm)\n",
    "chala = gd.get_camana_data(CHALA)\n",
    "pm.show_df(chala)"
   ]
  },
  {
   "cell_type": "code",
   "execution_count": null,
   "id": "54113215",
   "metadata": {},
   "outputs": [],
   "source": [
    "importlib.reload(tf)\n",
    "importlib.reload(pm)\n",
    "chala_transformed = tf.transform_data_camana(chala)\n",
    "pm.show_df(chala_transformed)"
   ]
  },
  {
   "cell_type": "code",
   "execution_count": null,
   "id": "2603755c",
   "metadata": {},
   "outputs": [],
   "source": [
    "importlib.reload(nd)\n",
    "importlib.reload(pm)\n",
    "chala_normalized = nd.normalize_data_camana(CHALA, chala_transformed)\n",
    "pm.show_df(chala_normalized)"
   ]
  },
  {
   "cell_type": "markdown",
   "id": "5d4562c1",
   "metadata": {},
   "source": [
    "### JUNTAR PROCESADOS"
   ]
  },
  {
   "cell_type": "code",
   "execution_count": null,
   "id": "3693e4e9",
   "metadata": {},
   "outputs": [],
   "source": [
    "# Supongamos que tus DataFrames se llaman: df1, df2, df3\n",
    "df_final = pd.concat([camana_normalized, pedregal_normalized, chala_normalized], ignore_index=True)\n",
    "\n",
    "# Exportar a CSV con punto y coma como separador y codificación compatible con Excel\n",
    "df_final.to_csv(\"exportado.csv\", sep=\";\", index=False, encoding=\"utf-8-sig\")"
   ]
  }
 ],
 "metadata": {
  "kernelspec": {
   "display_name": "Python 3",
   "language": "python",
   "name": "python3"
  },
  "language_info": {
   "codemirror_mode": {
    "name": "ipython",
    "version": 3
   },
   "file_extension": ".py",
   "mimetype": "text/x-python",
   "name": "python",
   "nbconvert_exporter": "python",
   "pygments_lexer": "ipython3",
   "version": "3.13.3"
  }
 },
 "nbformat": 4,
 "nbformat_minor": 5
}
