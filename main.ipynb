{
 "cells": [
  {
   "cell_type": "code",
   "execution_count": 1,
   "id": "36d257a9",
   "metadata": {},
   "outputs": [],
   "source": [
    "import os\n",
    "import pandas as pd\n",
    "import numpy as np\n",
    "import time\n",
    "import importlib\n",
    "import warnings\n",
    "warnings.filterwarnings(\"ignore\")  # Oculta todos los warnings\n",
    "\n",
    "# My libraries\n",
    "import get_data as gd\n",
    "import transform_data as tf\n",
    "import normalize_data as nd\n",
    "import print_management as pm"
   ]
  },
  {
   "cell_type": "code",
   "execution_count": 2,
   "id": "8b9888fc",
   "metadata": {},
   "outputs": [
    {
     "name": "stdout",
     "output_type": "stream",
     "text": [
      "\n",
      "    _         _                       _         __        ______ ____  ____  \n",
      "   / \\  _   _| |_ _____   _____ _ __ | |_ __ _  \\ \\      / / ___/ ___||  _ \\ \n",
      "  / _ \\| | | | __/ _ \\ \\ / / _ \\ '_ \\| __/ _` |  \\ \\ /\\ / /\\___ \\___ \\| |_) |\n",
      " / ___ \\ |_| | || (_) \\ V /  __/ | | | || (_| |   \\ V  V /  ___) |__) |  __/ \n",
      "/_/   \\_\\__,_|\\__\\___/ \\_/ \\___|_| |_|\\__\\__,_|    \\_/\\_/  |____/____/|_|                                                                                                                                                         \n",
      "\n",
      "          💥 AUTOMATIZADOR DE FORMATO AUTOVENTA POR SEDE 💥\n",
      "\n",
      "\n"
     ]
    }
   ],
   "source": [
    "# import pyfiglet\n",
    "# print(pyfiglet.figlet_format(\"Autoventa WSSP\"))\n",
    "\n",
    "banner = r\"\"\"\n",
    "    _         _                       _         __        ______ ____  ____  \n",
    "   / \\  _   _| |_ _____   _____ _ __ | |_ __ _  \\ \\      / / ___/ ___||  _ \\ \n",
    "  / _ \\| | | | __/ _ \\ \\ / / _ \\ '_ \\| __/ _` |  \\ \\ /\\ / /\\___ \\___ \\| |_) |\n",
    " / ___ \\ |_| | || (_) \\ V /  __/ | | | || (_| |   \\ V  V /  ___) |__) |  __/ \n",
    "/_/   \\_\\__,_|\\__\\___/ \\_/ \\___|_| |_|\\__\\__,_|    \\_/\\_/  |____/____/|_|                                                                                                                                                         \n",
    "\n",
    "          💥 AUTOMATIZADOR DE FORMATO AUTOVENTA POR SEDE 💥\n",
    "\"\"\"\n",
    "\n",
    "print(banner, end='\\n\\n')\n",
    "time.sleep(1)"
   ]
  },
  {
   "cell_type": "code",
   "execution_count": 3,
   "id": "67bfeaa2",
   "metadata": {},
   "outputs": [],
   "source": [
    "# Variables\n",
    "PROJECT_ADDRESS = os.getcwd()\n",
    "CAMANA = {\n",
    "    'name': 'CAMANÁ',\n",
    "    'source': os.path.join(PROJECT_ADDRESS, '06 Autoventa JUNIO Camana 2025.xlsx'),\n",
    "    'sheet_name': 'DETALLE',\n",
    "    'relevant_columns': [\n",
    "        \"Fecha\", \n",
    "        \"Sede\", \n",
    "        \"APELLIDOS Y NOMBRE\", \n",
    "        \"CARGO\", \n",
    "        \"Producto\", \n",
    "        \"Cantidad\"\n",
    "    ],\n",
    "    'irrelevant_columns': [\n",
    "        'Basis',\n",
    "        'RUTA', \n",
    "        'DNI',\n",
    "        'Importe Facturado',\n",
    "        'Valor de Venta',\n",
    "        'Importe IGV'\n",
    "    ],\n",
    "    'cargo_renames': {\n",
    "        \"AUXILIAR REPARTO\": \"AUXILIAR DE REPARTO\",\n",
    "        \"AYUDANTE REPARTO\": \"AUXILIAR DE REPARTO\",\n",
    "        \"CHOFER - VENDEDOR\": \"CHOFER VENDEDOR\"\n",
    "    },\n",
    "    'producto_renames': {\n",
    "        \"INCAKOLA 3 LITROS\": \"INCA KOLA PET 3.0 L x04 REFORMADA\",\n",
    "        \"INCA KOLA PET 2..5 LX06 RF 2.0\": \"INCA KOLA PET 2.5LX06 RF\",\n",
    "        \"COCA COLA PET.2.5 X6 RF\": \"COCA COLA PET 2.5X6 RF\",\n",
    "        \"SAN LUIS 2500\": \"SL SG 2.5x06 PET\"\n",
    "    }\n",
    "}\n",
    "PEDREGAL = {\n",
    "    'name': 'PEDREGAL',\n",
    "    'source': os.path.join(PROJECT_ADDRESS, '06 Autoventa JUNIO Pedregal 2025.xlsx'),\n",
    "    'sheet_name': 'DETALLE',\n",
    "    'relevant_columns': [\n",
    "        \"Fecha\", \n",
    "        \"Sede\", \n",
    "        \"APELLIDOS Y NOMBRE\", \n",
    "        \"CARGO\", \n",
    "        \"Producto\", \n",
    "        \"Cantidad\"\n",
    "    ],\n",
    "    'irrelevant_columns': [\n",
    "        'Basis',\n",
    "        'Importe Facturado',\n",
    "        'Valor de Venta',\n",
    "        'Importe IGV',\n",
    "        'CHOFER',\n",
    "        'xx1',\n",
    "        'xx2'\n",
    "    ],\n",
    "    'cargo_renames': {\n",
    "        \"AUXILIAR REPARTO\": \"AUXILIAR DE REPARTO\",\n",
    "        \"AYUDANTE REPARTO\": \"AUXILIAR DE REPARTO\",\n",
    "        \"CHOFER - VENDEDOR\": \"CHOFER VENDEDOR\"\n",
    "    },\n",
    "    'producto_renames': {\n",
    "        \"INCAKOLA 3 LITROS\": \"INCA KOLA PET 3.0 L x04 REFORMADA\",\n",
    "        \"INCA KOLA PET 2..5 LX06 RF 2.0\": \"INCA KOLA PET 2.5LX06 RF\",\n",
    "        \"COCA COLA PET.2.5 X6 RF\": \"COCA COLA PET 2.5X6 RF\",\n",
    "        \"SAN LUIS 2500\": \"SL SG 2.5x06 PET\"\n",
    "    }\n",
    "}\n",
    "CHALA = {\n",
    "    'name': 'CHALA',\n",
    "    'source': os.path.join(PROJECT_ADDRESS, '06 Autoventa JUNIO Chala 2025.xlsx'),\n",
    "    'sheet_name': 'DETALLE',\n",
    "    'relevant_columns': [\n",
    "        \"Fecha\", \n",
    "        \"Sede\", \n",
    "        \"APELLIDOS Y NOMBRE\", \n",
    "        \"CARGO\", \n",
    "        \"Producto\", \n",
    "        \"Cantidad\"\n",
    "    ],\n",
    "    'irrelevant_columns': [\n",
    "        'Basis',\n",
    "        'DNI',\n",
    "        'Importe Facturado',\n",
    "        'Valor de Venta',\n",
    "        'Importe IGV'\n",
    "    ],\n",
    "    'cargo_renames': {\n",
    "        \"AUXILIAR REPARTO\": \"AUXILIAR DE REPARTO\",\n",
    "        \"AYUDANTE REPARTO\": \"AUXILIAR DE REPARTO\",\n",
    "        \"CHOFER - VENDEDOR\": \"CHOFER VENDEDOR\"\n",
    "    },\n",
    "    'producto_renames': {\n",
    "        \"INCAKOLA 3 LITROS\": \"INCA KOLA PET 3.0 L x04 REFORMADA\",\n",
    "        \"INCA KOLA PET 2..5 LX06 RF 2.0\": \"INCA KOLA PET 2.5LX06 RF\",\n",
    "        \"COCA COLA PET.2.5 X6 RF\": \"COCA COLA PET 2.5X6 RF\",\n",
    "        \"SAN LUIS 2500\": \"SL SG 2.5x06 PET\"\n",
    "    }\n",
    "}\n",
    "\n",
    "# Listas\n",
    "LOCACIONES = ['PEDREGAL', 'CHALA', 'CAMANÁ']"
   ]
  },
  {
   "cell_type": "markdown",
   "id": "ea950eab",
   "metadata": {},
   "source": [
    "### Camana"
   ]
  },
  {
   "cell_type": "code",
   "execution_count": 4,
   "id": "1ffd5977",
   "metadata": {},
   "outputs": [
    {
     "data": {
      "text/html": [
       "<pre style=\"white-space:pre;overflow-x:auto;line-height:normal;font-family:Menlo,'DejaVu Sans Mono',consolas,'Courier New',monospace\">╭──────────────────── 📊 Resumen de DataFrame ─────────────────────╮\n",
       "│ ┌─────────────────────┬─────────┬─────────────┬────────────────┐ │\n",
       "│ │<span style=\"color: #c0c0c0; text-decoration-color: #c0c0c0; background-color: #870000; font-weight: bold\"> 🧱 Columna          </span>│<span style=\"color: #c0c0c0; text-decoration-color: #c0c0c0; background-color: #870000; font-weight: bold\"> 📂 Tipo </span>│<span style=\"color: #c0c0c0; text-decoration-color: #c0c0c0; background-color: #870000; font-weight: bold\"> ✅ Non-Null </span>│<span style=\"color: #c0c0c0; text-decoration-color: #c0c0c0; background-color: #870000; font-weight: bold\"> 📈 Completitud </span>│ │\n",
       "│ ├─────────────────────┼─────────┼─────────────┼────────────────┤ │\n",
       "│ │<span style=\"color: #008080; text-decoration-color: #008080; font-weight: bold\"> APELLIDOS Y NOMBRE  </span>│<span style=\"color: #800080; text-decoration-color: #800080; font-weight: bold\"> object  </span>│<span style=\"color: #008000; text-decoration-color: #008000\">          23 </span>│<span style=\"color: #808000; text-decoration-color: #808000\">           7.6% </span>│ │\n",
       "│ │<span style=\"color: #008080; text-decoration-color: #008080; font-weight: bold\"> CARGO               </span>│<span style=\"color: #800080; text-decoration-color: #800080; font-weight: bold\"> object  </span>│<span style=\"color: #008000; text-decoration-color: #008000\">          24 </span>│<span style=\"color: #808000; text-decoration-color: #808000\">           7.9% </span>│ │\n",
       "│ │<span style=\"color: #008080; text-decoration-color: #008080; font-weight: bold\"> Producto            </span>│<span style=\"color: #800080; text-decoration-color: #800080; font-weight: bold\"> object  </span>│<span style=\"color: #008000; text-decoration-color: #008000\">         300 </span>│<span style=\"color: #808000; text-decoration-color: #808000\">          99.0% </span>│ │\n",
       "│ │<span style=\"color: #008080; text-decoration-color: #008080; font-weight: bold\"> 2025-06-01 00:00:00 </span>│<span style=\"color: #800080; text-decoration-color: #800080; font-weight: bold\"> object  </span>│<span style=\"color: #008000; text-decoration-color: #008000\">           2 </span>│<span style=\"color: #808000; text-decoration-color: #808000\">           0.7% </span>│ │\n",
       "│ │<span style=\"color: #008080; text-decoration-color: #008080; font-weight: bold\"> 2025-06-02 00:00:00 </span>│<span style=\"color: #800080; text-decoration-color: #800080; font-weight: bold\"> object  </span>│<span style=\"color: #008000; text-decoration-color: #008000\">          21 </span>│<span style=\"color: #808000; text-decoration-color: #808000\">           6.9% </span>│ │\n",
       "│ │<span style=\"color: #008080; text-decoration-color: #008080; font-weight: bold\"> 2025-06-03 00:00:00 </span>│<span style=\"color: #800080; text-decoration-color: #800080; font-weight: bold\"> object  </span>│<span style=\"color: #008000; text-decoration-color: #008000\">           7 </span>│<span style=\"color: #808000; text-decoration-color: #808000\">           2.3% </span>│ │\n",
       "│ │<span style=\"color: #008080; text-decoration-color: #008080; font-weight: bold\"> 2025-06-04 00:00:00 </span>│<span style=\"color: #800080; text-decoration-color: #800080; font-weight: bold\"> object  </span>│<span style=\"color: #008000; text-decoration-color: #008000\">          17 </span>│<span style=\"color: #808000; text-decoration-color: #808000\">           5.6% </span>│ │\n",
       "│ │<span style=\"color: #008080; text-decoration-color: #008080; font-weight: bold\"> 2025-06-05 00:00:00 </span>│<span style=\"color: #800080; text-decoration-color: #800080; font-weight: bold\"> object  </span>│<span style=\"color: #008000; text-decoration-color: #008000\">          29 </span>│<span style=\"color: #808000; text-decoration-color: #808000\">           9.6% </span>│ │\n",
       "│ │<span style=\"color: #008080; text-decoration-color: #008080; font-weight: bold\"> 2025-06-06 00:00:00 </span>│<span style=\"color: #800080; text-decoration-color: #800080; font-weight: bold\"> object  </span>│<span style=\"color: #008000; text-decoration-color: #008000\">          17 </span>│<span style=\"color: #808000; text-decoration-color: #808000\">           5.6% </span>│ │\n",
       "│ │<span style=\"color: #008080; text-decoration-color: #008080; font-weight: bold\"> 2025-06-07 00:00:00 </span>│<span style=\"color: #800080; text-decoration-color: #800080; font-weight: bold\"> object  </span>│<span style=\"color: #008000; text-decoration-color: #008000\">          10 </span>│<span style=\"color: #808000; text-decoration-color: #808000\">           3.3% </span>│ │\n",
       "│ │<span style=\"color: #008080; text-decoration-color: #008080; font-weight: bold\"> 2025-06-08 00:00:00 </span>│<span style=\"color: #800080; text-decoration-color: #800080; font-weight: bold\"> object  </span>│<span style=\"color: #008000; text-decoration-color: #008000\">           2 </span>│<span style=\"color: #808000; text-decoration-color: #808000\">           0.7% </span>│ │\n",
       "│ │<span style=\"color: #008080; text-decoration-color: #008080; font-weight: bold\"> 2025-06-09 00:00:00 </span>│<span style=\"color: #800080; text-decoration-color: #800080; font-weight: bold\"> object  </span>│<span style=\"color: #008000; text-decoration-color: #008000\">          12 </span>│<span style=\"color: #808000; text-decoration-color: #808000\">           4.0% </span>│ │\n",
       "│ │<span style=\"color: #008080; text-decoration-color: #008080; font-weight: bold\"> 2025-06-10 00:00:00 </span>│<span style=\"color: #800080; text-decoration-color: #800080; font-weight: bold\"> object  </span>│<span style=\"color: #008000; text-decoration-color: #008000\">          15 </span>│<span style=\"color: #808000; text-decoration-color: #808000\">           5.0% </span>│ │\n",
       "│ │<span style=\"color: #008080; text-decoration-color: #008080; font-weight: bold\"> 2025-06-11 00:00:00 </span>│<span style=\"color: #800080; text-decoration-color: #800080; font-weight: bold\"> object  </span>│<span style=\"color: #008000; text-decoration-color: #008000\">          16 </span>│<span style=\"color: #808000; text-decoration-color: #808000\">           5.3% </span>│ │\n",
       "│ │<span style=\"color: #008080; text-decoration-color: #008080; font-weight: bold\"> 2025-06-12 00:00:00 </span>│<span style=\"color: #800080; text-decoration-color: #800080; font-weight: bold\"> object  </span>│<span style=\"color: #008000; text-decoration-color: #008000\">          10 </span>│<span style=\"color: #808000; text-decoration-color: #808000\">           3.3% </span>│ │\n",
       "│ │<span style=\"color: #008080; text-decoration-color: #008080; font-weight: bold\"> 2025-06-13 00:00:00 </span>│<span style=\"color: #800080; text-decoration-color: #800080; font-weight: bold\"> object  </span>│<span style=\"color: #008000; text-decoration-color: #008000\">          19 </span>│<span style=\"color: #808000; text-decoration-color: #808000\">           6.3% </span>│ │\n",
       "│ │<span style=\"color: #008080; text-decoration-color: #008080; font-weight: bold\"> 2025-06-14 00:00:00 </span>│<span style=\"color: #800080; text-decoration-color: #800080; font-weight: bold\"> object  </span>│<span style=\"color: #008000; text-decoration-color: #008000\">          12 </span>│<span style=\"color: #808000; text-decoration-color: #808000\">           4.0% </span>│ │\n",
       "│ │<span style=\"color: #008080; text-decoration-color: #008080; font-weight: bold\"> 2025-06-15 00:00:00 </span>│<span style=\"color: #800080; text-decoration-color: #800080; font-weight: bold\"> object  </span>│<span style=\"color: #008000; text-decoration-color: #008000\">           2 </span>│<span style=\"color: #808000; text-decoration-color: #808000\">           0.7% </span>│ │\n",
       "│ │<span style=\"color: #008080; text-decoration-color: #008080; font-weight: bold\"> 2025-06-16 00:00:00 </span>│<span style=\"color: #800080; text-decoration-color: #800080; font-weight: bold\"> object  </span>│<span style=\"color: #008000; text-decoration-color: #008000\">          25 </span>│<span style=\"color: #808000; text-decoration-color: #808000\">           8.3% </span>│ │\n",
       "│ │<span style=\"color: #008080; text-decoration-color: #008080; font-weight: bold\"> 2025-06-17 00:00:00 </span>│<span style=\"color: #800080; text-decoration-color: #800080; font-weight: bold\"> object  </span>│<span style=\"color: #008000; text-decoration-color: #008000\">           8 </span>│<span style=\"color: #808000; text-decoration-color: #808000\">           2.6% </span>│ │\n",
       "│ │<span style=\"color: #008080; text-decoration-color: #008080; font-weight: bold\"> 2025-06-18 00:00:00 </span>│<span style=\"color: #800080; text-decoration-color: #800080; font-weight: bold\"> object  </span>│<span style=\"color: #008000; text-decoration-color: #008000\">          15 </span>│<span style=\"color: #808000; text-decoration-color: #808000\">           5.0% </span>│ │\n",
       "│ │<span style=\"color: #008080; text-decoration-color: #008080; font-weight: bold\"> 2025-06-19 00:00:00 </span>│<span style=\"color: #800080; text-decoration-color: #800080; font-weight: bold\"> object  </span>│<span style=\"color: #008000; text-decoration-color: #008000\">           8 </span>│<span style=\"color: #808000; text-decoration-color: #808000\">           2.6% </span>│ │\n",
       "│ │<span style=\"color: #008080; text-decoration-color: #008080; font-weight: bold\"> 2025-06-20 00:00:00 </span>│<span style=\"color: #800080; text-decoration-color: #800080; font-weight: bold\"> object  </span>│<span style=\"color: #008000; text-decoration-color: #008000\">          19 </span>│<span style=\"color: #808000; text-decoration-color: #808000\">           6.3% </span>│ │\n",
       "│ │<span style=\"color: #008080; text-decoration-color: #008080; font-weight: bold\"> 2025-06-21 00:00:00 </span>│<span style=\"color: #800080; text-decoration-color: #800080; font-weight: bold\"> object  </span>│<span style=\"color: #008000; text-decoration-color: #008000\">          34 </span>│<span style=\"color: #808000; text-decoration-color: #808000\">          11.2% </span>│ │\n",
       "│ │<span style=\"color: #008080; text-decoration-color: #008080; font-weight: bold\"> 2025-06-22 00:00:00 </span>│<span style=\"color: #800080; text-decoration-color: #800080; font-weight: bold\"> object  </span>│<span style=\"color: #008000; text-decoration-color: #008000\">           2 </span>│<span style=\"color: #808000; text-decoration-color: #808000\">           0.7% </span>│ │\n",
       "│ │<span style=\"color: #008080; text-decoration-color: #008080; font-weight: bold\"> 2025-06-23 00:00:00 </span>│<span style=\"color: #800080; text-decoration-color: #800080; font-weight: bold\"> object  </span>│<span style=\"color: #008000; text-decoration-color: #008000\">          15 </span>│<span style=\"color: #808000; text-decoration-color: #808000\">           5.0% </span>│ │\n",
       "│ │<span style=\"color: #008080; text-decoration-color: #008080; font-weight: bold\"> 2025-06-24 00:00:00 </span>│<span style=\"color: #800080; text-decoration-color: #800080; font-weight: bold\"> object  </span>│<span style=\"color: #008000; text-decoration-color: #008000\">          10 </span>│<span style=\"color: #808000; text-decoration-color: #808000\">           3.3% </span>│ │\n",
       "│ │<span style=\"color: #008080; text-decoration-color: #008080; font-weight: bold\"> 2025-06-25 00:00:00 </span>│<span style=\"color: #800080; text-decoration-color: #800080; font-weight: bold\"> object  </span>│<span style=\"color: #008000; text-decoration-color: #008000\">           9 </span>│<span style=\"color: #808000; text-decoration-color: #808000\">           3.0% </span>│ │\n",
       "│ │<span style=\"color: #008080; text-decoration-color: #008080; font-weight: bold\"> 2025-06-26 00:00:00 </span>│<span style=\"color: #800080; text-decoration-color: #800080; font-weight: bold\"> object  </span>│<span style=\"color: #008000; text-decoration-color: #008000\">           8 </span>│<span style=\"color: #808000; text-decoration-color: #808000\">           2.6% </span>│ │\n",
       "│ │<span style=\"color: #008080; text-decoration-color: #008080; font-weight: bold\"> 2025-06-27 00:00:00 </span>│<span style=\"color: #800080; text-decoration-color: #800080; font-weight: bold\"> object  </span>│<span style=\"color: #008000; text-decoration-color: #008000\">          12 </span>│<span style=\"color: #808000; text-decoration-color: #808000\">           4.0% </span>│ │\n",
       "│ │<span style=\"color: #008080; text-decoration-color: #008080; font-weight: bold\"> 2025-06-28 00:00:00 </span>│<span style=\"color: #800080; text-decoration-color: #800080; font-weight: bold\"> object  </span>│<span style=\"color: #008000; text-decoration-color: #008000\">          12 </span>│<span style=\"color: #808000; text-decoration-color: #808000\">           4.0% </span>│ │\n",
       "│ │<span style=\"color: #008080; text-decoration-color: #008080; font-weight: bold\"> 2025-06-29 00:00:00 </span>│<span style=\"color: #800080; text-decoration-color: #800080; font-weight: bold\"> object  </span>│<span style=\"color: #008000; text-decoration-color: #008000\">           2 </span>│<span style=\"color: #808000; text-decoration-color: #808000\">           0.7% </span>│ │\n",
       "│ │<span style=\"color: #008080; text-decoration-color: #008080; font-weight: bold\"> 2025-06-30 00:00:00 </span>│<span style=\"color: #800080; text-decoration-color: #800080; font-weight: bold\"> object  </span>│<span style=\"color: #008000; text-decoration-color: #008000\">          18 </span>│<span style=\"color: #808000; text-decoration-color: #808000\">           5.9% </span>│ │\n",
       "│ └─────────────────────┴─────────┴─────────────┴────────────────┘ │\n",
       "╰──────────────────────────────────────────────────────────────────╯\n",
       "</pre>\n"
      ],
      "text/plain": [
       "╭──────────────────── 📊 Resumen de DataFrame ─────────────────────╮\n",
       "│ ┌─────────────────────┬─────────┬─────────────┬────────────────┐ │\n",
       "│ │\u001b[1;37;48;5;88m \u001b[0m\u001b[1;37;48;5;88m🧱 Columna         \u001b[0m\u001b[1;37;48;5;88m \u001b[0m│\u001b[1;37;48;5;88m \u001b[0m\u001b[1;37;48;5;88m📂 Tipo\u001b[0m\u001b[1;37;48;5;88m \u001b[0m│\u001b[1;37;48;5;88m \u001b[0m\u001b[1;37;48;5;88m✅ Non-Null\u001b[0m\u001b[1;37;48;5;88m \u001b[0m│\u001b[1;37;48;5;88m \u001b[0m\u001b[1;37;48;5;88m📈 Completitud\u001b[0m\u001b[1;37;48;5;88m \u001b[0m│ │\n",
       "│ ├─────────────────────┼─────────┼─────────────┼────────────────┤ │\n",
       "│ │\u001b[1;36m \u001b[0m\u001b[1;36mAPELLIDOS Y NOMBRE \u001b[0m\u001b[1;36m \u001b[0m│\u001b[1;35m \u001b[0m\u001b[1;35mobject \u001b[0m\u001b[1;35m \u001b[0m│\u001b[32m \u001b[0m\u001b[32m         23\u001b[0m\u001b[32m \u001b[0m│\u001b[33m \u001b[0m\u001b[33m          7.6%\u001b[0m\u001b[33m \u001b[0m│ │\n",
       "│ │\u001b[1;36m \u001b[0m\u001b[1;36mCARGO              \u001b[0m\u001b[1;36m \u001b[0m│\u001b[1;35m \u001b[0m\u001b[1;35mobject \u001b[0m\u001b[1;35m \u001b[0m│\u001b[32m \u001b[0m\u001b[32m         24\u001b[0m\u001b[32m \u001b[0m│\u001b[33m \u001b[0m\u001b[33m          7.9%\u001b[0m\u001b[33m \u001b[0m│ │\n",
       "│ │\u001b[1;36m \u001b[0m\u001b[1;36mProducto           \u001b[0m\u001b[1;36m \u001b[0m│\u001b[1;35m \u001b[0m\u001b[1;35mobject \u001b[0m\u001b[1;35m \u001b[0m│\u001b[32m \u001b[0m\u001b[32m        300\u001b[0m\u001b[32m \u001b[0m│\u001b[33m \u001b[0m\u001b[33m         99.0%\u001b[0m\u001b[33m \u001b[0m│ │\n",
       "│ │\u001b[1;36m \u001b[0m\u001b[1;36m2025-06-01 00:00:00\u001b[0m\u001b[1;36m \u001b[0m│\u001b[1;35m \u001b[0m\u001b[1;35mobject \u001b[0m\u001b[1;35m \u001b[0m│\u001b[32m \u001b[0m\u001b[32m          2\u001b[0m\u001b[32m \u001b[0m│\u001b[33m \u001b[0m\u001b[33m          0.7%\u001b[0m\u001b[33m \u001b[0m│ │\n",
       "│ │\u001b[1;36m \u001b[0m\u001b[1;36m2025-06-02 00:00:00\u001b[0m\u001b[1;36m \u001b[0m│\u001b[1;35m \u001b[0m\u001b[1;35mobject \u001b[0m\u001b[1;35m \u001b[0m│\u001b[32m \u001b[0m\u001b[32m         21\u001b[0m\u001b[32m \u001b[0m│\u001b[33m \u001b[0m\u001b[33m          6.9%\u001b[0m\u001b[33m \u001b[0m│ │\n",
       "│ │\u001b[1;36m \u001b[0m\u001b[1;36m2025-06-03 00:00:00\u001b[0m\u001b[1;36m \u001b[0m│\u001b[1;35m \u001b[0m\u001b[1;35mobject \u001b[0m\u001b[1;35m \u001b[0m│\u001b[32m \u001b[0m\u001b[32m          7\u001b[0m\u001b[32m \u001b[0m│\u001b[33m \u001b[0m\u001b[33m          2.3%\u001b[0m\u001b[33m \u001b[0m│ │\n",
       "│ │\u001b[1;36m \u001b[0m\u001b[1;36m2025-06-04 00:00:00\u001b[0m\u001b[1;36m \u001b[0m│\u001b[1;35m \u001b[0m\u001b[1;35mobject \u001b[0m\u001b[1;35m \u001b[0m│\u001b[32m \u001b[0m\u001b[32m         17\u001b[0m\u001b[32m \u001b[0m│\u001b[33m \u001b[0m\u001b[33m          5.6%\u001b[0m\u001b[33m \u001b[0m│ │\n",
       "│ │\u001b[1;36m \u001b[0m\u001b[1;36m2025-06-05 00:00:00\u001b[0m\u001b[1;36m \u001b[0m│\u001b[1;35m \u001b[0m\u001b[1;35mobject \u001b[0m\u001b[1;35m \u001b[0m│\u001b[32m \u001b[0m\u001b[32m         29\u001b[0m\u001b[32m \u001b[0m│\u001b[33m \u001b[0m\u001b[33m          9.6%\u001b[0m\u001b[33m \u001b[0m│ │\n",
       "│ │\u001b[1;36m \u001b[0m\u001b[1;36m2025-06-06 00:00:00\u001b[0m\u001b[1;36m \u001b[0m│\u001b[1;35m \u001b[0m\u001b[1;35mobject \u001b[0m\u001b[1;35m \u001b[0m│\u001b[32m \u001b[0m\u001b[32m         17\u001b[0m\u001b[32m \u001b[0m│\u001b[33m \u001b[0m\u001b[33m          5.6%\u001b[0m\u001b[33m \u001b[0m│ │\n",
       "│ │\u001b[1;36m \u001b[0m\u001b[1;36m2025-06-07 00:00:00\u001b[0m\u001b[1;36m \u001b[0m│\u001b[1;35m \u001b[0m\u001b[1;35mobject \u001b[0m\u001b[1;35m \u001b[0m│\u001b[32m \u001b[0m\u001b[32m         10\u001b[0m\u001b[32m \u001b[0m│\u001b[33m \u001b[0m\u001b[33m          3.3%\u001b[0m\u001b[33m \u001b[0m│ │\n",
       "│ │\u001b[1;36m \u001b[0m\u001b[1;36m2025-06-08 00:00:00\u001b[0m\u001b[1;36m \u001b[0m│\u001b[1;35m \u001b[0m\u001b[1;35mobject \u001b[0m\u001b[1;35m \u001b[0m│\u001b[32m \u001b[0m\u001b[32m          2\u001b[0m\u001b[32m \u001b[0m│\u001b[33m \u001b[0m\u001b[33m          0.7%\u001b[0m\u001b[33m \u001b[0m│ │\n",
       "│ │\u001b[1;36m \u001b[0m\u001b[1;36m2025-06-09 00:00:00\u001b[0m\u001b[1;36m \u001b[0m│\u001b[1;35m \u001b[0m\u001b[1;35mobject \u001b[0m\u001b[1;35m \u001b[0m│\u001b[32m \u001b[0m\u001b[32m         12\u001b[0m\u001b[32m \u001b[0m│\u001b[33m \u001b[0m\u001b[33m          4.0%\u001b[0m\u001b[33m \u001b[0m│ │\n",
       "│ │\u001b[1;36m \u001b[0m\u001b[1;36m2025-06-10 00:00:00\u001b[0m\u001b[1;36m \u001b[0m│\u001b[1;35m \u001b[0m\u001b[1;35mobject \u001b[0m\u001b[1;35m \u001b[0m│\u001b[32m \u001b[0m\u001b[32m         15\u001b[0m\u001b[32m \u001b[0m│\u001b[33m \u001b[0m\u001b[33m          5.0%\u001b[0m\u001b[33m \u001b[0m│ │\n",
       "│ │\u001b[1;36m \u001b[0m\u001b[1;36m2025-06-11 00:00:00\u001b[0m\u001b[1;36m \u001b[0m│\u001b[1;35m \u001b[0m\u001b[1;35mobject \u001b[0m\u001b[1;35m \u001b[0m│\u001b[32m \u001b[0m\u001b[32m         16\u001b[0m\u001b[32m \u001b[0m│\u001b[33m \u001b[0m\u001b[33m          5.3%\u001b[0m\u001b[33m \u001b[0m│ │\n",
       "│ │\u001b[1;36m \u001b[0m\u001b[1;36m2025-06-12 00:00:00\u001b[0m\u001b[1;36m \u001b[0m│\u001b[1;35m \u001b[0m\u001b[1;35mobject \u001b[0m\u001b[1;35m \u001b[0m│\u001b[32m \u001b[0m\u001b[32m         10\u001b[0m\u001b[32m \u001b[0m│\u001b[33m \u001b[0m\u001b[33m          3.3%\u001b[0m\u001b[33m \u001b[0m│ │\n",
       "│ │\u001b[1;36m \u001b[0m\u001b[1;36m2025-06-13 00:00:00\u001b[0m\u001b[1;36m \u001b[0m│\u001b[1;35m \u001b[0m\u001b[1;35mobject \u001b[0m\u001b[1;35m \u001b[0m│\u001b[32m \u001b[0m\u001b[32m         19\u001b[0m\u001b[32m \u001b[0m│\u001b[33m \u001b[0m\u001b[33m          6.3%\u001b[0m\u001b[33m \u001b[0m│ │\n",
       "│ │\u001b[1;36m \u001b[0m\u001b[1;36m2025-06-14 00:00:00\u001b[0m\u001b[1;36m \u001b[0m│\u001b[1;35m \u001b[0m\u001b[1;35mobject \u001b[0m\u001b[1;35m \u001b[0m│\u001b[32m \u001b[0m\u001b[32m         12\u001b[0m\u001b[32m \u001b[0m│\u001b[33m \u001b[0m\u001b[33m          4.0%\u001b[0m\u001b[33m \u001b[0m│ │\n",
       "│ │\u001b[1;36m \u001b[0m\u001b[1;36m2025-06-15 00:00:00\u001b[0m\u001b[1;36m \u001b[0m│\u001b[1;35m \u001b[0m\u001b[1;35mobject \u001b[0m\u001b[1;35m \u001b[0m│\u001b[32m \u001b[0m\u001b[32m          2\u001b[0m\u001b[32m \u001b[0m│\u001b[33m \u001b[0m\u001b[33m          0.7%\u001b[0m\u001b[33m \u001b[0m│ │\n",
       "│ │\u001b[1;36m \u001b[0m\u001b[1;36m2025-06-16 00:00:00\u001b[0m\u001b[1;36m \u001b[0m│\u001b[1;35m \u001b[0m\u001b[1;35mobject \u001b[0m\u001b[1;35m \u001b[0m│\u001b[32m \u001b[0m\u001b[32m         25\u001b[0m\u001b[32m \u001b[0m│\u001b[33m \u001b[0m\u001b[33m          8.3%\u001b[0m\u001b[33m \u001b[0m│ │\n",
       "│ │\u001b[1;36m \u001b[0m\u001b[1;36m2025-06-17 00:00:00\u001b[0m\u001b[1;36m \u001b[0m│\u001b[1;35m \u001b[0m\u001b[1;35mobject \u001b[0m\u001b[1;35m \u001b[0m│\u001b[32m \u001b[0m\u001b[32m          8\u001b[0m\u001b[32m \u001b[0m│\u001b[33m \u001b[0m\u001b[33m          2.6%\u001b[0m\u001b[33m \u001b[0m│ │\n",
       "│ │\u001b[1;36m \u001b[0m\u001b[1;36m2025-06-18 00:00:00\u001b[0m\u001b[1;36m \u001b[0m│\u001b[1;35m \u001b[0m\u001b[1;35mobject \u001b[0m\u001b[1;35m \u001b[0m│\u001b[32m \u001b[0m\u001b[32m         15\u001b[0m\u001b[32m \u001b[0m│\u001b[33m \u001b[0m\u001b[33m          5.0%\u001b[0m\u001b[33m \u001b[0m│ │\n",
       "│ │\u001b[1;36m \u001b[0m\u001b[1;36m2025-06-19 00:00:00\u001b[0m\u001b[1;36m \u001b[0m│\u001b[1;35m \u001b[0m\u001b[1;35mobject \u001b[0m\u001b[1;35m \u001b[0m│\u001b[32m \u001b[0m\u001b[32m          8\u001b[0m\u001b[32m \u001b[0m│\u001b[33m \u001b[0m\u001b[33m          2.6%\u001b[0m\u001b[33m \u001b[0m│ │\n",
       "│ │\u001b[1;36m \u001b[0m\u001b[1;36m2025-06-20 00:00:00\u001b[0m\u001b[1;36m \u001b[0m│\u001b[1;35m \u001b[0m\u001b[1;35mobject \u001b[0m\u001b[1;35m \u001b[0m│\u001b[32m \u001b[0m\u001b[32m         19\u001b[0m\u001b[32m \u001b[0m│\u001b[33m \u001b[0m\u001b[33m          6.3%\u001b[0m\u001b[33m \u001b[0m│ │\n",
       "│ │\u001b[1;36m \u001b[0m\u001b[1;36m2025-06-21 00:00:00\u001b[0m\u001b[1;36m \u001b[0m│\u001b[1;35m \u001b[0m\u001b[1;35mobject \u001b[0m\u001b[1;35m \u001b[0m│\u001b[32m \u001b[0m\u001b[32m         34\u001b[0m\u001b[32m \u001b[0m│\u001b[33m \u001b[0m\u001b[33m         11.2%\u001b[0m\u001b[33m \u001b[0m│ │\n",
       "│ │\u001b[1;36m \u001b[0m\u001b[1;36m2025-06-22 00:00:00\u001b[0m\u001b[1;36m \u001b[0m│\u001b[1;35m \u001b[0m\u001b[1;35mobject \u001b[0m\u001b[1;35m \u001b[0m│\u001b[32m \u001b[0m\u001b[32m          2\u001b[0m\u001b[32m \u001b[0m│\u001b[33m \u001b[0m\u001b[33m          0.7%\u001b[0m\u001b[33m \u001b[0m│ │\n",
       "│ │\u001b[1;36m \u001b[0m\u001b[1;36m2025-06-23 00:00:00\u001b[0m\u001b[1;36m \u001b[0m│\u001b[1;35m \u001b[0m\u001b[1;35mobject \u001b[0m\u001b[1;35m \u001b[0m│\u001b[32m \u001b[0m\u001b[32m         15\u001b[0m\u001b[32m \u001b[0m│\u001b[33m \u001b[0m\u001b[33m          5.0%\u001b[0m\u001b[33m \u001b[0m│ │\n",
       "│ │\u001b[1;36m \u001b[0m\u001b[1;36m2025-06-24 00:00:00\u001b[0m\u001b[1;36m \u001b[0m│\u001b[1;35m \u001b[0m\u001b[1;35mobject \u001b[0m\u001b[1;35m \u001b[0m│\u001b[32m \u001b[0m\u001b[32m         10\u001b[0m\u001b[32m \u001b[0m│\u001b[33m \u001b[0m\u001b[33m          3.3%\u001b[0m\u001b[33m \u001b[0m│ │\n",
       "│ │\u001b[1;36m \u001b[0m\u001b[1;36m2025-06-25 00:00:00\u001b[0m\u001b[1;36m \u001b[0m│\u001b[1;35m \u001b[0m\u001b[1;35mobject \u001b[0m\u001b[1;35m \u001b[0m│\u001b[32m \u001b[0m\u001b[32m          9\u001b[0m\u001b[32m \u001b[0m│\u001b[33m \u001b[0m\u001b[33m          3.0%\u001b[0m\u001b[33m \u001b[0m│ │\n",
       "│ │\u001b[1;36m \u001b[0m\u001b[1;36m2025-06-26 00:00:00\u001b[0m\u001b[1;36m \u001b[0m│\u001b[1;35m \u001b[0m\u001b[1;35mobject \u001b[0m\u001b[1;35m \u001b[0m│\u001b[32m \u001b[0m\u001b[32m          8\u001b[0m\u001b[32m \u001b[0m│\u001b[33m \u001b[0m\u001b[33m          2.6%\u001b[0m\u001b[33m \u001b[0m│ │\n",
       "│ │\u001b[1;36m \u001b[0m\u001b[1;36m2025-06-27 00:00:00\u001b[0m\u001b[1;36m \u001b[0m│\u001b[1;35m \u001b[0m\u001b[1;35mobject \u001b[0m\u001b[1;35m \u001b[0m│\u001b[32m \u001b[0m\u001b[32m         12\u001b[0m\u001b[32m \u001b[0m│\u001b[33m \u001b[0m\u001b[33m          4.0%\u001b[0m\u001b[33m \u001b[0m│ │\n",
       "│ │\u001b[1;36m \u001b[0m\u001b[1;36m2025-06-28 00:00:00\u001b[0m\u001b[1;36m \u001b[0m│\u001b[1;35m \u001b[0m\u001b[1;35mobject \u001b[0m\u001b[1;35m \u001b[0m│\u001b[32m \u001b[0m\u001b[32m         12\u001b[0m\u001b[32m \u001b[0m│\u001b[33m \u001b[0m\u001b[33m          4.0%\u001b[0m\u001b[33m \u001b[0m│ │\n",
       "│ │\u001b[1;36m \u001b[0m\u001b[1;36m2025-06-29 00:00:00\u001b[0m\u001b[1;36m \u001b[0m│\u001b[1;35m \u001b[0m\u001b[1;35mobject \u001b[0m\u001b[1;35m \u001b[0m│\u001b[32m \u001b[0m\u001b[32m          2\u001b[0m\u001b[32m \u001b[0m│\u001b[33m \u001b[0m\u001b[33m          0.7%\u001b[0m\u001b[33m \u001b[0m│ │\n",
       "│ │\u001b[1;36m \u001b[0m\u001b[1;36m2025-06-30 00:00:00\u001b[0m\u001b[1;36m \u001b[0m│\u001b[1;35m \u001b[0m\u001b[1;35mobject \u001b[0m\u001b[1;35m \u001b[0m│\u001b[32m \u001b[0m\u001b[32m         18\u001b[0m\u001b[32m \u001b[0m│\u001b[33m \u001b[0m\u001b[33m          5.9%\u001b[0m\u001b[33m \u001b[0m│ │\n",
       "│ └─────────────────────┴─────────┴─────────────┴────────────────┘ │\n",
       "╰──────────────────────────────────────────────────────────────────╯\n"
      ]
     },
     "metadata": {},
     "output_type": "display_data"
    },
    {
     "data": {
      "text/html": [
       "<pre style=\"white-space:pre;overflow-x:auto;line-height:normal;font-family:Menlo,'DejaVu Sans Mono',consolas,'Courier New',monospace\"><span style=\"color: #808080; text-decoration-color: #808080\">╭───────────── 📎 Resumen ──────────────╮</span>\n",
       "<span style=\"color: #808080; text-decoration-color: #808080\">│</span> <span style=\"color: #808000; text-decoration-color: #808000; font-weight: bold\">🔢 Dimensión:</span> 303 filas × 33 columnas <span style=\"color: #808080; text-decoration-color: #808080\">│</span>\n",
       "<span style=\"color: #808080; text-decoration-color: #808080\">│</span> <span style=\"color: #008000; text-decoration-color: #008000; font-weight: bold\">💾 Memoria usada:</span> 328.51 KB           <span style=\"color: #808080; text-decoration-color: #808080\">│</span>\n",
       "<span style=\"color: #808080; text-decoration-color: #808080\">╰───────────────────────────────────────╯</span>\n",
       "</pre>\n"
      ],
      "text/plain": [
       "\u001b[38;5;244m╭─\u001b[0m\u001b[38;5;244m────────────\u001b[0m\u001b[38;5;244m 📎 Resumen \u001b[0m\u001b[38;5;244m─────────────\u001b[0m\u001b[38;5;244m─╮\u001b[0m\n",
       "\u001b[38;5;244m│\u001b[0m \u001b[1;33m🔢 Dimensión:\u001b[0m 303 filas × 33 columnas \u001b[38;5;244m│\u001b[0m\n",
       "\u001b[38;5;244m│\u001b[0m \u001b[1;32m💾 Memoria usada:\u001b[0m 328.51 KB           \u001b[38;5;244m│\u001b[0m\n",
       "\u001b[38;5;244m╰───────────────────────────────────────╯\u001b[0m\n"
      ]
     },
     "metadata": {},
     "output_type": "display_data"
    }
   ],
   "source": [
    "importlib.reload(gd)\n",
    "importlib.reload(pm)\n",
    "camana = gd.get_camana_data(CAMANA)\n",
    "pm.show_df(camana)"
   ]
  },
  {
   "cell_type": "code",
   "execution_count": 5,
   "id": "e66d344f",
   "metadata": {},
   "outputs": [
    {
     "data": {
      "text/html": [
       "<pre style=\"white-space:pre;overflow-x:auto;line-height:normal;font-family:Menlo,'DejaVu Sans Mono',consolas,'Courier New',monospace\">╭──────────────────── 📊 Resumen de DataFrame ────────────────────╮\n",
       "│ ┌────────────────────┬─────────┬─────────────┬────────────────┐ │\n",
       "│ │<span style=\"color: #c0c0c0; text-decoration-color: #c0c0c0; background-color: #870000; font-weight: bold\"> 🧱 Columna         </span>│<span style=\"color: #c0c0c0; text-decoration-color: #c0c0c0; background-color: #870000; font-weight: bold\"> 📂 Tipo </span>│<span style=\"color: #c0c0c0; text-decoration-color: #c0c0c0; background-color: #870000; font-weight: bold\"> ✅ Non-Null </span>│<span style=\"color: #c0c0c0; text-decoration-color: #c0c0c0; background-color: #870000; font-weight: bold\"> 📈 Completitud </span>│ │\n",
       "│ ├────────────────────┼─────────┼─────────────┼────────────────┤ │\n",
       "│ │<span style=\"color: #008080; text-decoration-color: #008080; font-weight: bold\"> APELLIDOS Y NOMBRE </span>│<span style=\"color: #800080; text-decoration-color: #800080; font-weight: bold\"> object  </span>│<span style=\"color: #008000; text-decoration-color: #008000\">         328 </span>│<span style=\"color: #808000; text-decoration-color: #808000\">         100.0% </span>│ │\n",
       "│ │<span style=\"color: #008080; text-decoration-color: #008080; font-weight: bold\"> CARGO              </span>│<span style=\"color: #800080; text-decoration-color: #800080; font-weight: bold\"> object  </span>│<span style=\"color: #008000; text-decoration-color: #008000\">         328 </span>│<span style=\"color: #808000; text-decoration-color: #808000\">         100.0% </span>│ │\n",
       "│ │<span style=\"color: #008080; text-decoration-color: #008080; font-weight: bold\"> Producto           </span>│<span style=\"color: #800080; text-decoration-color: #800080; font-weight: bold\"> object  </span>│<span style=\"color: #008000; text-decoration-color: #008000\">         328 </span>│<span style=\"color: #808000; text-decoration-color: #808000\">         100.0% </span>│ │\n",
       "│ │<span style=\"color: #008080; text-decoration-color: #008080; font-weight: bold\"> Fecha              </span>│<span style=\"color: #800080; text-decoration-color: #800080; font-weight: bold\"> object  </span>│<span style=\"color: #008000; text-decoration-color: #008000\">         328 </span>│<span style=\"color: #808000; text-decoration-color: #808000\">         100.0% </span>│ │\n",
       "│ │<span style=\"color: #008080; text-decoration-color: #008080; font-weight: bold\"> Cantidad           </span>│<span style=\"color: #800080; text-decoration-color: #800080; font-weight: bold\"> float64 </span>│<span style=\"color: #008000; text-decoration-color: #008000\">         328 </span>│<span style=\"color: #808000; text-decoration-color: #808000\">         100.0% </span>│ │\n",
       "│ └────────────────────┴─────────┴─────────────┴────────────────┘ │\n",
       "╰─────────────────────────────────────────────────────────────────╯\n",
       "</pre>\n"
      ],
      "text/plain": [
       "╭──────────────────── 📊 Resumen de DataFrame ────────────────────╮\n",
       "│ ┌────────────────────┬─────────┬─────────────┬────────────────┐ │\n",
       "│ │\u001b[1;37;48;5;88m \u001b[0m\u001b[1;37;48;5;88m🧱 Columna        \u001b[0m\u001b[1;37;48;5;88m \u001b[0m│\u001b[1;37;48;5;88m \u001b[0m\u001b[1;37;48;5;88m📂 Tipo\u001b[0m\u001b[1;37;48;5;88m \u001b[0m│\u001b[1;37;48;5;88m \u001b[0m\u001b[1;37;48;5;88m✅ Non-Null\u001b[0m\u001b[1;37;48;5;88m \u001b[0m│\u001b[1;37;48;5;88m \u001b[0m\u001b[1;37;48;5;88m📈 Completitud\u001b[0m\u001b[1;37;48;5;88m \u001b[0m│ │\n",
       "│ ├────────────────────┼─────────┼─────────────┼────────────────┤ │\n",
       "│ │\u001b[1;36m \u001b[0m\u001b[1;36mAPELLIDOS Y NOMBRE\u001b[0m\u001b[1;36m \u001b[0m│\u001b[1;35m \u001b[0m\u001b[1;35mobject \u001b[0m\u001b[1;35m \u001b[0m│\u001b[32m \u001b[0m\u001b[32m        328\u001b[0m\u001b[32m \u001b[0m│\u001b[33m \u001b[0m\u001b[33m        100.0%\u001b[0m\u001b[33m \u001b[0m│ │\n",
       "│ │\u001b[1;36m \u001b[0m\u001b[1;36mCARGO             \u001b[0m\u001b[1;36m \u001b[0m│\u001b[1;35m \u001b[0m\u001b[1;35mobject \u001b[0m\u001b[1;35m \u001b[0m│\u001b[32m \u001b[0m\u001b[32m        328\u001b[0m\u001b[32m \u001b[0m│\u001b[33m \u001b[0m\u001b[33m        100.0%\u001b[0m\u001b[33m \u001b[0m│ │\n",
       "│ │\u001b[1;36m \u001b[0m\u001b[1;36mProducto          \u001b[0m\u001b[1;36m \u001b[0m│\u001b[1;35m \u001b[0m\u001b[1;35mobject \u001b[0m\u001b[1;35m \u001b[0m│\u001b[32m \u001b[0m\u001b[32m        328\u001b[0m\u001b[32m \u001b[0m│\u001b[33m \u001b[0m\u001b[33m        100.0%\u001b[0m\u001b[33m \u001b[0m│ │\n",
       "│ │\u001b[1;36m \u001b[0m\u001b[1;36mFecha             \u001b[0m\u001b[1;36m \u001b[0m│\u001b[1;35m \u001b[0m\u001b[1;35mobject \u001b[0m\u001b[1;35m \u001b[0m│\u001b[32m \u001b[0m\u001b[32m        328\u001b[0m\u001b[32m \u001b[0m│\u001b[33m \u001b[0m\u001b[33m        100.0%\u001b[0m\u001b[33m \u001b[0m│ │\n",
       "│ │\u001b[1;36m \u001b[0m\u001b[1;36mCantidad          \u001b[0m\u001b[1;36m \u001b[0m│\u001b[1;35m \u001b[0m\u001b[1;35mfloat64\u001b[0m\u001b[1;35m \u001b[0m│\u001b[32m \u001b[0m\u001b[32m        328\u001b[0m\u001b[32m \u001b[0m│\u001b[33m \u001b[0m\u001b[33m        100.0%\u001b[0m\u001b[33m \u001b[0m│ │\n",
       "│ └────────────────────┴─────────┴─────────────┴────────────────┘ │\n",
       "╰─────────────────────────────────────────────────────────────────╯\n"
      ]
     },
     "metadata": {},
     "output_type": "display_data"
    },
    {
     "data": {
      "text/html": [
       "<pre style=\"white-space:pre;overflow-x:auto;line-height:normal;font-family:Menlo,'DejaVu Sans Mono',consolas,'Courier New',monospace\"><span style=\"color: #808080; text-decoration-color: #808080\">╭───────────── 📎 Resumen ─────────────╮</span>\n",
       "<span style=\"color: #808080; text-decoration-color: #808080\">│</span> <span style=\"color: #808000; text-decoration-color: #808000; font-weight: bold\">🔢 Dimensión:</span> 328 filas × 5 columnas <span style=\"color: #808080; text-decoration-color: #808080\">│</span>\n",
       "<span style=\"color: #808080; text-decoration-color: #808080\">│</span> <span style=\"color: #008000; text-decoration-color: #008000; font-weight: bold\">💾 Memoria usada:</span> 95.63 KB           <span style=\"color: #808080; text-decoration-color: #808080\">│</span>\n",
       "<span style=\"color: #808080; text-decoration-color: #808080\">╰──────────────────────────────────────╯</span>\n",
       "</pre>\n"
      ],
      "text/plain": [
       "\u001b[38;5;244m╭─\u001b[0m\u001b[38;5;244m────────────\u001b[0m\u001b[38;5;244m 📎 Resumen \u001b[0m\u001b[38;5;244m────────────\u001b[0m\u001b[38;5;244m─╮\u001b[0m\n",
       "\u001b[38;5;244m│\u001b[0m \u001b[1;33m🔢 Dimensión:\u001b[0m 328 filas × 5 columnas \u001b[38;5;244m│\u001b[0m\n",
       "\u001b[38;5;244m│\u001b[0m \u001b[1;32m💾 Memoria usada:\u001b[0m 95.63 KB           \u001b[38;5;244m│\u001b[0m\n",
       "\u001b[38;5;244m╰──────────────────────────────────────╯\u001b[0m\n"
      ]
     },
     "metadata": {},
     "output_type": "display_data"
    }
   ],
   "source": [
    "importlib.reload(tf)\n",
    "importlib.reload(pm)\n",
    "camana_transformed = tf.transform_data_camana(camana)\n",
    "pm.show_df(camana_transformed)"
   ]
  },
  {
   "cell_type": "code",
   "execution_count": 6,
   "id": "7cde6aaa",
   "metadata": {},
   "outputs": [
    {
     "data": {
      "text/html": [
       "<pre style=\"white-space:pre;overflow-x:auto;line-height:normal;font-family:Menlo,'DejaVu Sans Mono',consolas,'Courier New',monospace\">╭──────────────────── 📊 Resumen de DataFrame ────────────────────╮\n",
       "│ ┌────────────────────┬─────────┬─────────────┬────────────────┐ │\n",
       "│ │<span style=\"color: #c0c0c0; text-decoration-color: #c0c0c0; background-color: #870000; font-weight: bold\"> 🧱 Columna         </span>│<span style=\"color: #c0c0c0; text-decoration-color: #c0c0c0; background-color: #870000; font-weight: bold\"> 📂 Tipo </span>│<span style=\"color: #c0c0c0; text-decoration-color: #c0c0c0; background-color: #870000; font-weight: bold\"> ✅ Non-Null </span>│<span style=\"color: #c0c0c0; text-decoration-color: #c0c0c0; background-color: #870000; font-weight: bold\"> 📈 Completitud </span>│ │\n",
       "│ ├────────────────────┼─────────┼─────────────┼────────────────┤ │\n",
       "│ │<span style=\"color: #008080; text-decoration-color: #008080; font-weight: bold\"> Fecha              </span>│<span style=\"color: #800080; text-decoration-color: #800080; font-weight: bold\"> object  </span>│<span style=\"color: #008000; text-decoration-color: #008000\">         328 </span>│<span style=\"color: #808000; text-decoration-color: #808000\">         100.0% </span>│ │\n",
       "│ │<span style=\"color: #008080; text-decoration-color: #008080; font-weight: bold\"> Sede               </span>│<span style=\"color: #800080; text-decoration-color: #800080; font-weight: bold\"> object  </span>│<span style=\"color: #008000; text-decoration-color: #008000\">         328 </span>│<span style=\"color: #808000; text-decoration-color: #808000\">         100.0% </span>│ │\n",
       "│ │<span style=\"color: #008080; text-decoration-color: #008080; font-weight: bold\"> APELLIDOS Y NOMBRE </span>│<span style=\"color: #800080; text-decoration-color: #800080; font-weight: bold\"> object  </span>│<span style=\"color: #008000; text-decoration-color: #008000\">         328 </span>│<span style=\"color: #808000; text-decoration-color: #808000\">         100.0% </span>│ │\n",
       "│ │<span style=\"color: #008080; text-decoration-color: #008080; font-weight: bold\"> CARGO              </span>│<span style=\"color: #800080; text-decoration-color: #800080; font-weight: bold\"> object  </span>│<span style=\"color: #008000; text-decoration-color: #008000\">         328 </span>│<span style=\"color: #808000; text-decoration-color: #808000\">         100.0% </span>│ │\n",
       "│ │<span style=\"color: #008080; text-decoration-color: #008080; font-weight: bold\"> Producto           </span>│<span style=\"color: #800080; text-decoration-color: #800080; font-weight: bold\"> object  </span>│<span style=\"color: #008000; text-decoration-color: #008000\">         328 </span>│<span style=\"color: #808000; text-decoration-color: #808000\">         100.0% </span>│ │\n",
       "│ │<span style=\"color: #008080; text-decoration-color: #008080; font-weight: bold\"> Cantidad           </span>│<span style=\"color: #800080; text-decoration-color: #800080; font-weight: bold\"> float64 </span>│<span style=\"color: #008000; text-decoration-color: #008000\">         328 </span>│<span style=\"color: #808000; text-decoration-color: #808000\">         100.0% </span>│ │\n",
       "│ └────────────────────┴─────────┴─────────────┴────────────────┘ │\n",
       "╰─────────────────────────────────────────────────────────────────╯\n",
       "</pre>\n"
      ],
      "text/plain": [
       "╭──────────────────── 📊 Resumen de DataFrame ────────────────────╮\n",
       "│ ┌────────────────────┬─────────┬─────────────┬────────────────┐ │\n",
       "│ │\u001b[1;37;48;5;88m \u001b[0m\u001b[1;37;48;5;88m🧱 Columna        \u001b[0m\u001b[1;37;48;5;88m \u001b[0m│\u001b[1;37;48;5;88m \u001b[0m\u001b[1;37;48;5;88m📂 Tipo\u001b[0m\u001b[1;37;48;5;88m \u001b[0m│\u001b[1;37;48;5;88m \u001b[0m\u001b[1;37;48;5;88m✅ Non-Null\u001b[0m\u001b[1;37;48;5;88m \u001b[0m│\u001b[1;37;48;5;88m \u001b[0m\u001b[1;37;48;5;88m📈 Completitud\u001b[0m\u001b[1;37;48;5;88m \u001b[0m│ │\n",
       "│ ├────────────────────┼─────────┼─────────────┼────────────────┤ │\n",
       "│ │\u001b[1;36m \u001b[0m\u001b[1;36mFecha             \u001b[0m\u001b[1;36m \u001b[0m│\u001b[1;35m \u001b[0m\u001b[1;35mobject \u001b[0m\u001b[1;35m \u001b[0m│\u001b[32m \u001b[0m\u001b[32m        328\u001b[0m\u001b[32m \u001b[0m│\u001b[33m \u001b[0m\u001b[33m        100.0%\u001b[0m\u001b[33m \u001b[0m│ │\n",
       "│ │\u001b[1;36m \u001b[0m\u001b[1;36mSede              \u001b[0m\u001b[1;36m \u001b[0m│\u001b[1;35m \u001b[0m\u001b[1;35mobject \u001b[0m\u001b[1;35m \u001b[0m│\u001b[32m \u001b[0m\u001b[32m        328\u001b[0m\u001b[32m \u001b[0m│\u001b[33m \u001b[0m\u001b[33m        100.0%\u001b[0m\u001b[33m \u001b[0m│ │\n",
       "│ │\u001b[1;36m \u001b[0m\u001b[1;36mAPELLIDOS Y NOMBRE\u001b[0m\u001b[1;36m \u001b[0m│\u001b[1;35m \u001b[0m\u001b[1;35mobject \u001b[0m\u001b[1;35m \u001b[0m│\u001b[32m \u001b[0m\u001b[32m        328\u001b[0m\u001b[32m \u001b[0m│\u001b[33m \u001b[0m\u001b[33m        100.0%\u001b[0m\u001b[33m \u001b[0m│ │\n",
       "│ │\u001b[1;36m \u001b[0m\u001b[1;36mCARGO             \u001b[0m\u001b[1;36m \u001b[0m│\u001b[1;35m \u001b[0m\u001b[1;35mobject \u001b[0m\u001b[1;35m \u001b[0m│\u001b[32m \u001b[0m\u001b[32m        328\u001b[0m\u001b[32m \u001b[0m│\u001b[33m \u001b[0m\u001b[33m        100.0%\u001b[0m\u001b[33m \u001b[0m│ │\n",
       "│ │\u001b[1;36m \u001b[0m\u001b[1;36mProducto          \u001b[0m\u001b[1;36m \u001b[0m│\u001b[1;35m \u001b[0m\u001b[1;35mobject \u001b[0m\u001b[1;35m \u001b[0m│\u001b[32m \u001b[0m\u001b[32m        328\u001b[0m\u001b[32m \u001b[0m│\u001b[33m \u001b[0m\u001b[33m        100.0%\u001b[0m\u001b[33m \u001b[0m│ │\n",
       "│ │\u001b[1;36m \u001b[0m\u001b[1;36mCantidad          \u001b[0m\u001b[1;36m \u001b[0m│\u001b[1;35m \u001b[0m\u001b[1;35mfloat64\u001b[0m\u001b[1;35m \u001b[0m│\u001b[32m \u001b[0m\u001b[32m        328\u001b[0m\u001b[32m \u001b[0m│\u001b[33m \u001b[0m\u001b[33m        100.0%\u001b[0m\u001b[33m \u001b[0m│ │\n",
       "│ └────────────────────┴─────────┴─────────────┴────────────────┘ │\n",
       "╰─────────────────────────────────────────────────────────────────╯\n"
      ]
     },
     "metadata": {},
     "output_type": "display_data"
    },
    {
     "data": {
      "text/html": [
       "<pre style=\"white-space:pre;overflow-x:auto;line-height:normal;font-family:Menlo,'DejaVu Sans Mono',consolas,'Courier New',monospace\"><span style=\"color: #808080; text-decoration-color: #808080\">╭───────────── 📎 Resumen ─────────────╮</span>\n",
       "<span style=\"color: #808080; text-decoration-color: #808080\">│</span> <span style=\"color: #808000; text-decoration-color: #808000; font-weight: bold\">🔢 Dimensión:</span> 328 filas × 6 columnas <span style=\"color: #808080; text-decoration-color: #808080\">│</span>\n",
       "<span style=\"color: #808080; text-decoration-color: #808080\">│</span> <span style=\"color: #008000; text-decoration-color: #008000; font-weight: bold\">💾 Memoria usada:</span> 118.09 KB          <span style=\"color: #808080; text-decoration-color: #808080\">│</span>\n",
       "<span style=\"color: #808080; text-decoration-color: #808080\">╰──────────────────────────────────────╯</span>\n",
       "</pre>\n"
      ],
      "text/plain": [
       "\u001b[38;5;244m╭─\u001b[0m\u001b[38;5;244m────────────\u001b[0m\u001b[38;5;244m 📎 Resumen \u001b[0m\u001b[38;5;244m────────────\u001b[0m\u001b[38;5;244m─╮\u001b[0m\n",
       "\u001b[38;5;244m│\u001b[0m \u001b[1;33m🔢 Dimensión:\u001b[0m 328 filas × 6 columnas \u001b[38;5;244m│\u001b[0m\n",
       "\u001b[38;5;244m│\u001b[0m \u001b[1;32m💾 Memoria usada:\u001b[0m 118.09 KB          \u001b[38;5;244m│\u001b[0m\n",
       "\u001b[38;5;244m╰──────────────────────────────────────╯\u001b[0m\n"
      ]
     },
     "metadata": {},
     "output_type": "display_data"
    }
   ],
   "source": [
    "importlib.reload(nd)\n",
    "importlib.reload(pm)\n",
    "camana_normalized = nd.normalize_data_camana(CAMANA, camana_transformed)\n",
    "pm.show_df(camana_normalized)"
   ]
  },
  {
   "cell_type": "code",
   "execution_count": 7,
   "id": "937a1469",
   "metadata": {},
   "outputs": [],
   "source": [
    "camana_normalized.to_csv(\"camana.csv\", index=False, encoding=\"utf-8-sig\", sep=\";\")"
   ]
  },
  {
   "cell_type": "markdown",
   "id": "470dfb10",
   "metadata": {},
   "source": [
    "### Pedregal"
   ]
  },
  {
   "cell_type": "code",
   "execution_count": 8,
   "id": "3680e51c",
   "metadata": {},
   "outputs": [
    {
     "data": {
      "text/html": [
       "<pre style=\"white-space:pre;overflow-x:auto;line-height:normal;font-family:Menlo,'DejaVu Sans Mono',consolas,'Courier New',monospace\">╭──────────────────── 📊 Resumen de DataFrame ─────────────────────╮\n",
       "│ ┌─────────────────────┬─────────┬─────────────┬────────────────┐ │\n",
       "│ │<span style=\"color: #c0c0c0; text-decoration-color: #c0c0c0; background-color: #870000; font-weight: bold\"> 🧱 Columna          </span>│<span style=\"color: #c0c0c0; text-decoration-color: #c0c0c0; background-color: #870000; font-weight: bold\"> 📂 Tipo </span>│<span style=\"color: #c0c0c0; text-decoration-color: #c0c0c0; background-color: #870000; font-weight: bold\"> ✅ Non-Null </span>│<span style=\"color: #c0c0c0; text-decoration-color: #c0c0c0; background-color: #870000; font-weight: bold\"> 📈 Completitud </span>│ │\n",
       "│ ├─────────────────────┼─────────┼─────────────┼────────────────┤ │\n",
       "│ │<span style=\"color: #008080; text-decoration-color: #008080; font-weight: bold\"> APELLIDOS Y NOMBRE  </span>│<span style=\"color: #800080; text-decoration-color: #800080; font-weight: bold\"> object  </span>│<span style=\"color: #008000; text-decoration-color: #008000\">         273 </span>│<span style=\"color: #808000; text-decoration-color: #808000\">          82.7% </span>│ │\n",
       "│ │<span style=\"color: #008080; text-decoration-color: #008080; font-weight: bold\"> CARGO               </span>│<span style=\"color: #800080; text-decoration-color: #800080; font-weight: bold\"> object  </span>│<span style=\"color: #008000; text-decoration-color: #008000\">         245 </span>│<span style=\"color: #808000; text-decoration-color: #808000\">          74.2% </span>│ │\n",
       "│ │<span style=\"color: #008080; text-decoration-color: #008080; font-weight: bold\"> Producto            </span>│<span style=\"color: #800080; text-decoration-color: #800080; font-weight: bold\"> object  </span>│<span style=\"color: #008000; text-decoration-color: #008000\">         280 </span>│<span style=\"color: #808000; text-decoration-color: #808000\">          84.8% </span>│ │\n",
       "│ │<span style=\"color: #008080; text-decoration-color: #008080; font-weight: bold\"> 2025-06-01 00:00:00 </span>│<span style=\"color: #800080; text-decoration-color: #800080; font-weight: bold\"> object  </span>│<span style=\"color: #008000; text-decoration-color: #008000\">          12 </span>│<span style=\"color: #808000; text-decoration-color: #808000\">           3.6% </span>│ │\n",
       "│ │<span style=\"color: #008080; text-decoration-color: #008080; font-weight: bold\"> 2025-06-02 00:00:00 </span>│<span style=\"color: #800080; text-decoration-color: #800080; font-weight: bold\"> object  </span>│<span style=\"color: #008000; text-decoration-color: #008000\">          88 </span>│<span style=\"color: #808000; text-decoration-color: #808000\">          26.7% </span>│ │\n",
       "│ │<span style=\"color: #008080; text-decoration-color: #008080; font-weight: bold\"> 2025-06-03 00:00:00 </span>│<span style=\"color: #800080; text-decoration-color: #800080; font-weight: bold\"> object  </span>│<span style=\"color: #008000; text-decoration-color: #008000\">          59 </span>│<span style=\"color: #808000; text-decoration-color: #808000\">          17.9% </span>│ │\n",
       "│ │<span style=\"color: #008080; text-decoration-color: #008080; font-weight: bold\"> 2025-06-04 00:00:00 </span>│<span style=\"color: #800080; text-decoration-color: #800080; font-weight: bold\"> object  </span>│<span style=\"color: #008000; text-decoration-color: #008000\">          74 </span>│<span style=\"color: #808000; text-decoration-color: #808000\">          22.4% </span>│ │\n",
       "│ │<span style=\"color: #008080; text-decoration-color: #008080; font-weight: bold\"> 2025-06-05 00:00:00 </span>│<span style=\"color: #800080; text-decoration-color: #800080; font-weight: bold\"> object  </span>│<span style=\"color: #008000; text-decoration-color: #008000\">          87 </span>│<span style=\"color: #808000; text-decoration-color: #808000\">          26.4% </span>│ │\n",
       "│ │<span style=\"color: #008080; text-decoration-color: #008080; font-weight: bold\"> 2025-06-06 00:00:00 </span>│<span style=\"color: #800080; text-decoration-color: #800080; font-weight: bold\"> object  </span>│<span style=\"color: #008000; text-decoration-color: #008000\">          79 </span>│<span style=\"color: #808000; text-decoration-color: #808000\">          23.9% </span>│ │\n",
       "│ │<span style=\"color: #008080; text-decoration-color: #008080; font-weight: bold\"> 2025-06-07 00:00:00 </span>│<span style=\"color: #800080; text-decoration-color: #800080; font-weight: bold\"> object  </span>│<span style=\"color: #008000; text-decoration-color: #008000\">          74 </span>│<span style=\"color: #808000; text-decoration-color: #808000\">          22.4% </span>│ │\n",
       "│ │<span style=\"color: #008080; text-decoration-color: #008080; font-weight: bold\"> 2025-06-08 00:00:00 </span>│<span style=\"color: #800080; text-decoration-color: #800080; font-weight: bold\"> object  </span>│<span style=\"color: #008000; text-decoration-color: #008000\">          11 </span>│<span style=\"color: #808000; text-decoration-color: #808000\">           3.3% </span>│ │\n",
       "│ │<span style=\"color: #008080; text-decoration-color: #008080; font-weight: bold\"> 2025-06-09 00:00:00 </span>│<span style=\"color: #800080; text-decoration-color: #800080; font-weight: bold\"> object  </span>│<span style=\"color: #008000; text-decoration-color: #008000\">          93 </span>│<span style=\"color: #808000; text-decoration-color: #808000\">          28.2% </span>│ │\n",
       "│ │<span style=\"color: #008080; text-decoration-color: #008080; font-weight: bold\"> 2025-06-10 00:00:00 </span>│<span style=\"color: #800080; text-decoration-color: #800080; font-weight: bold\"> object  </span>│<span style=\"color: #008000; text-decoration-color: #008000\">          71 </span>│<span style=\"color: #808000; text-decoration-color: #808000\">          21.5% </span>│ │\n",
       "│ │<span style=\"color: #008080; text-decoration-color: #008080; font-weight: bold\"> 2025-06-11 00:00:00 </span>│<span style=\"color: #800080; text-decoration-color: #800080; font-weight: bold\"> object  </span>│<span style=\"color: #008000; text-decoration-color: #008000\">          92 </span>│<span style=\"color: #808000; text-decoration-color: #808000\">          27.9% </span>│ │\n",
       "│ │<span style=\"color: #008080; text-decoration-color: #008080; font-weight: bold\"> 2025-06-12 00:00:00 </span>│<span style=\"color: #800080; text-decoration-color: #800080; font-weight: bold\"> object  </span>│<span style=\"color: #008000; text-decoration-color: #008000\">          77 </span>│<span style=\"color: #808000; text-decoration-color: #808000\">          23.3% </span>│ │\n",
       "│ │<span style=\"color: #008080; text-decoration-color: #008080; font-weight: bold\"> 2025-06-13 00:00:00 </span>│<span style=\"color: #800080; text-decoration-color: #800080; font-weight: bold\"> object  </span>│<span style=\"color: #008000; text-decoration-color: #008000\">          75 </span>│<span style=\"color: #808000; text-decoration-color: #808000\">          22.7% </span>│ │\n",
       "│ │<span style=\"color: #008080; text-decoration-color: #008080; font-weight: bold\"> 2025-06-14 00:00:00 </span>│<span style=\"color: #800080; text-decoration-color: #800080; font-weight: bold\"> object  </span>│<span style=\"color: #008000; text-decoration-color: #008000\">          53 </span>│<span style=\"color: #808000; text-decoration-color: #808000\">          16.1% </span>│ │\n",
       "│ │<span style=\"color: #008080; text-decoration-color: #008080; font-weight: bold\"> 2025-06-15 00:00:00 </span>│<span style=\"color: #800080; text-decoration-color: #800080; font-weight: bold\"> object  </span>│<span style=\"color: #008000; text-decoration-color: #008000\">           3 </span>│<span style=\"color: #808000; text-decoration-color: #808000\">           0.9% </span>│ │\n",
       "│ │<span style=\"color: #008080; text-decoration-color: #008080; font-weight: bold\"> 2025-06-16 00:00:00 </span>│<span style=\"color: #800080; text-decoration-color: #800080; font-weight: bold\"> object  </span>│<span style=\"color: #008000; text-decoration-color: #008000\">          81 </span>│<span style=\"color: #808000; text-decoration-color: #808000\">          24.5% </span>│ │\n",
       "│ │<span style=\"color: #008080; text-decoration-color: #008080; font-weight: bold\"> 2025-06-17 00:00:00 </span>│<span style=\"color: #800080; text-decoration-color: #800080; font-weight: bold\"> object  </span>│<span style=\"color: #008000; text-decoration-color: #008000\">          75 </span>│<span style=\"color: #808000; text-decoration-color: #808000\">          22.7% </span>│ │\n",
       "│ │<span style=\"color: #008080; text-decoration-color: #008080; font-weight: bold\"> 2025-06-18 00:00:00 </span>│<span style=\"color: #800080; text-decoration-color: #800080; font-weight: bold\"> object  </span>│<span style=\"color: #008000; text-decoration-color: #008000\">          70 </span>│<span style=\"color: #808000; text-decoration-color: #808000\">          21.2% </span>│ │\n",
       "│ │<span style=\"color: #008080; text-decoration-color: #008080; font-weight: bold\"> 2025-06-19 00:00:00 </span>│<span style=\"color: #800080; text-decoration-color: #800080; font-weight: bold\"> object  </span>│<span style=\"color: #008000; text-decoration-color: #008000\">          81 </span>│<span style=\"color: #808000; text-decoration-color: #808000\">          24.5% </span>│ │\n",
       "│ │<span style=\"color: #008080; text-decoration-color: #008080; font-weight: bold\"> 2025-06-20 00:00:00 </span>│<span style=\"color: #800080; text-decoration-color: #800080; font-weight: bold\"> object  </span>│<span style=\"color: #008000; text-decoration-color: #008000\">          64 </span>│<span style=\"color: #808000; text-decoration-color: #808000\">          19.4% </span>│ │\n",
       "│ │<span style=\"color: #008080; text-decoration-color: #008080; font-weight: bold\"> 2025-06-21 00:00:00 </span>│<span style=\"color: #800080; text-decoration-color: #800080; font-weight: bold\"> object  </span>│<span style=\"color: #008000; text-decoration-color: #008000\">          78 </span>│<span style=\"color: #808000; text-decoration-color: #808000\">          23.6% </span>│ │\n",
       "│ │<span style=\"color: #008080; text-decoration-color: #008080; font-weight: bold\"> 2025-06-22 00:00:00 </span>│<span style=\"color: #800080; text-decoration-color: #800080; font-weight: bold\"> object  </span>│<span style=\"color: #008000; text-decoration-color: #008000\">           3 </span>│<span style=\"color: #808000; text-decoration-color: #808000\">           0.9% </span>│ │\n",
       "│ │<span style=\"color: #008080; text-decoration-color: #008080; font-weight: bold\"> 2025-06-23 00:00:00 </span>│<span style=\"color: #800080; text-decoration-color: #800080; font-weight: bold\"> object  </span>│<span style=\"color: #008000; text-decoration-color: #008000\">          75 </span>│<span style=\"color: #808000; text-decoration-color: #808000\">          22.7% </span>│ │\n",
       "│ │<span style=\"color: #008080; text-decoration-color: #008080; font-weight: bold\"> 2025-06-24 00:00:00 </span>│<span style=\"color: #800080; text-decoration-color: #800080; font-weight: bold\"> object  </span>│<span style=\"color: #008000; text-decoration-color: #008000\">          71 </span>│<span style=\"color: #808000; text-decoration-color: #808000\">          21.5% </span>│ │\n",
       "│ │<span style=\"color: #008080; text-decoration-color: #008080; font-weight: bold\"> 2025-06-25 00:00:00 </span>│<span style=\"color: #800080; text-decoration-color: #800080; font-weight: bold\"> object  </span>│<span style=\"color: #008000; text-decoration-color: #008000\">          72 </span>│<span style=\"color: #808000; text-decoration-color: #808000\">          21.8% </span>│ │\n",
       "│ │<span style=\"color: #008080; text-decoration-color: #008080; font-weight: bold\"> 2025-06-26 00:00:00 </span>│<span style=\"color: #800080; text-decoration-color: #800080; font-weight: bold\"> object  </span>│<span style=\"color: #008000; text-decoration-color: #008000\">          77 </span>│<span style=\"color: #808000; text-decoration-color: #808000\">          23.3% </span>│ │\n",
       "│ │<span style=\"color: #008080; text-decoration-color: #008080; font-weight: bold\"> 2025-06-27 00:00:00 </span>│<span style=\"color: #800080; text-decoration-color: #800080; font-weight: bold\"> object  </span>│<span style=\"color: #008000; text-decoration-color: #008000\">          70 </span>│<span style=\"color: #808000; text-decoration-color: #808000\">          21.2% </span>│ │\n",
       "│ │<span style=\"color: #008080; text-decoration-color: #008080; font-weight: bold\"> 2025-06-28 00:00:00 </span>│<span style=\"color: #800080; text-decoration-color: #800080; font-weight: bold\"> object  </span>│<span style=\"color: #008000; text-decoration-color: #008000\">          73 </span>│<span style=\"color: #808000; text-decoration-color: #808000\">          22.1% </span>│ │\n",
       "│ │<span style=\"color: #008080; text-decoration-color: #008080; font-weight: bold\"> 2025-06-29 00:00:00 </span>│<span style=\"color: #800080; text-decoration-color: #800080; font-weight: bold\"> object  </span>│<span style=\"color: #008000; text-decoration-color: #008000\">           3 </span>│<span style=\"color: #808000; text-decoration-color: #808000\">           0.9% </span>│ │\n",
       "│ │<span style=\"color: #008080; text-decoration-color: #008080; font-weight: bold\"> 2025-06-30 00:00:00 </span>│<span style=\"color: #800080; text-decoration-color: #800080; font-weight: bold\"> object  </span>│<span style=\"color: #008000; text-decoration-color: #008000\">          77 </span>│<span style=\"color: #808000; text-decoration-color: #808000\">          23.3% </span>│ │\n",
       "│ └─────────────────────┴─────────┴─────────────┴────────────────┘ │\n",
       "╰──────────────────────────────────────────────────────────────────╯\n",
       "</pre>\n"
      ],
      "text/plain": [
       "╭──────────────────── 📊 Resumen de DataFrame ─────────────────────╮\n",
       "│ ┌─────────────────────┬─────────┬─────────────┬────────────────┐ │\n",
       "│ │\u001b[1;37;48;5;88m \u001b[0m\u001b[1;37;48;5;88m🧱 Columna         \u001b[0m\u001b[1;37;48;5;88m \u001b[0m│\u001b[1;37;48;5;88m \u001b[0m\u001b[1;37;48;5;88m📂 Tipo\u001b[0m\u001b[1;37;48;5;88m \u001b[0m│\u001b[1;37;48;5;88m \u001b[0m\u001b[1;37;48;5;88m✅ Non-Null\u001b[0m\u001b[1;37;48;5;88m \u001b[0m│\u001b[1;37;48;5;88m \u001b[0m\u001b[1;37;48;5;88m📈 Completitud\u001b[0m\u001b[1;37;48;5;88m \u001b[0m│ │\n",
       "│ ├─────────────────────┼─────────┼─────────────┼────────────────┤ │\n",
       "│ │\u001b[1;36m \u001b[0m\u001b[1;36mAPELLIDOS Y NOMBRE \u001b[0m\u001b[1;36m \u001b[0m│\u001b[1;35m \u001b[0m\u001b[1;35mobject \u001b[0m\u001b[1;35m \u001b[0m│\u001b[32m \u001b[0m\u001b[32m        273\u001b[0m\u001b[32m \u001b[0m│\u001b[33m \u001b[0m\u001b[33m         82.7%\u001b[0m\u001b[33m \u001b[0m│ │\n",
       "│ │\u001b[1;36m \u001b[0m\u001b[1;36mCARGO              \u001b[0m\u001b[1;36m \u001b[0m│\u001b[1;35m \u001b[0m\u001b[1;35mobject \u001b[0m\u001b[1;35m \u001b[0m│\u001b[32m \u001b[0m\u001b[32m        245\u001b[0m\u001b[32m \u001b[0m│\u001b[33m \u001b[0m\u001b[33m         74.2%\u001b[0m\u001b[33m \u001b[0m│ │\n",
       "│ │\u001b[1;36m \u001b[0m\u001b[1;36mProducto           \u001b[0m\u001b[1;36m \u001b[0m│\u001b[1;35m \u001b[0m\u001b[1;35mobject \u001b[0m\u001b[1;35m \u001b[0m│\u001b[32m \u001b[0m\u001b[32m        280\u001b[0m\u001b[32m \u001b[0m│\u001b[33m \u001b[0m\u001b[33m         84.8%\u001b[0m\u001b[33m \u001b[0m│ │\n",
       "│ │\u001b[1;36m \u001b[0m\u001b[1;36m2025-06-01 00:00:00\u001b[0m\u001b[1;36m \u001b[0m│\u001b[1;35m \u001b[0m\u001b[1;35mobject \u001b[0m\u001b[1;35m \u001b[0m│\u001b[32m \u001b[0m\u001b[32m         12\u001b[0m\u001b[32m \u001b[0m│\u001b[33m \u001b[0m\u001b[33m          3.6%\u001b[0m\u001b[33m \u001b[0m│ │\n",
       "│ │\u001b[1;36m \u001b[0m\u001b[1;36m2025-06-02 00:00:00\u001b[0m\u001b[1;36m \u001b[0m│\u001b[1;35m \u001b[0m\u001b[1;35mobject \u001b[0m\u001b[1;35m \u001b[0m│\u001b[32m \u001b[0m\u001b[32m         88\u001b[0m\u001b[32m \u001b[0m│\u001b[33m \u001b[0m\u001b[33m         26.7%\u001b[0m\u001b[33m \u001b[0m│ │\n",
       "│ │\u001b[1;36m \u001b[0m\u001b[1;36m2025-06-03 00:00:00\u001b[0m\u001b[1;36m \u001b[0m│\u001b[1;35m \u001b[0m\u001b[1;35mobject \u001b[0m\u001b[1;35m \u001b[0m│\u001b[32m \u001b[0m\u001b[32m         59\u001b[0m\u001b[32m \u001b[0m│\u001b[33m \u001b[0m\u001b[33m         17.9%\u001b[0m\u001b[33m \u001b[0m│ │\n",
       "│ │\u001b[1;36m \u001b[0m\u001b[1;36m2025-06-04 00:00:00\u001b[0m\u001b[1;36m \u001b[0m│\u001b[1;35m \u001b[0m\u001b[1;35mobject \u001b[0m\u001b[1;35m \u001b[0m│\u001b[32m \u001b[0m\u001b[32m         74\u001b[0m\u001b[32m \u001b[0m│\u001b[33m \u001b[0m\u001b[33m         22.4%\u001b[0m\u001b[33m \u001b[0m│ │\n",
       "│ │\u001b[1;36m \u001b[0m\u001b[1;36m2025-06-05 00:00:00\u001b[0m\u001b[1;36m \u001b[0m│\u001b[1;35m \u001b[0m\u001b[1;35mobject \u001b[0m\u001b[1;35m \u001b[0m│\u001b[32m \u001b[0m\u001b[32m         87\u001b[0m\u001b[32m \u001b[0m│\u001b[33m \u001b[0m\u001b[33m         26.4%\u001b[0m\u001b[33m \u001b[0m│ │\n",
       "│ │\u001b[1;36m \u001b[0m\u001b[1;36m2025-06-06 00:00:00\u001b[0m\u001b[1;36m \u001b[0m│\u001b[1;35m \u001b[0m\u001b[1;35mobject \u001b[0m\u001b[1;35m \u001b[0m│\u001b[32m \u001b[0m\u001b[32m         79\u001b[0m\u001b[32m \u001b[0m│\u001b[33m \u001b[0m\u001b[33m         23.9%\u001b[0m\u001b[33m \u001b[0m│ │\n",
       "│ │\u001b[1;36m \u001b[0m\u001b[1;36m2025-06-07 00:00:00\u001b[0m\u001b[1;36m \u001b[0m│\u001b[1;35m \u001b[0m\u001b[1;35mobject \u001b[0m\u001b[1;35m \u001b[0m│\u001b[32m \u001b[0m\u001b[32m         74\u001b[0m\u001b[32m \u001b[0m│\u001b[33m \u001b[0m\u001b[33m         22.4%\u001b[0m\u001b[33m \u001b[0m│ │\n",
       "│ │\u001b[1;36m \u001b[0m\u001b[1;36m2025-06-08 00:00:00\u001b[0m\u001b[1;36m \u001b[0m│\u001b[1;35m \u001b[0m\u001b[1;35mobject \u001b[0m\u001b[1;35m \u001b[0m│\u001b[32m \u001b[0m\u001b[32m         11\u001b[0m\u001b[32m \u001b[0m│\u001b[33m \u001b[0m\u001b[33m          3.3%\u001b[0m\u001b[33m \u001b[0m│ │\n",
       "│ │\u001b[1;36m \u001b[0m\u001b[1;36m2025-06-09 00:00:00\u001b[0m\u001b[1;36m \u001b[0m│\u001b[1;35m \u001b[0m\u001b[1;35mobject \u001b[0m\u001b[1;35m \u001b[0m│\u001b[32m \u001b[0m\u001b[32m         93\u001b[0m\u001b[32m \u001b[0m│\u001b[33m \u001b[0m\u001b[33m         28.2%\u001b[0m\u001b[33m \u001b[0m│ │\n",
       "│ │\u001b[1;36m \u001b[0m\u001b[1;36m2025-06-10 00:00:00\u001b[0m\u001b[1;36m \u001b[0m│\u001b[1;35m \u001b[0m\u001b[1;35mobject \u001b[0m\u001b[1;35m \u001b[0m│\u001b[32m \u001b[0m\u001b[32m         71\u001b[0m\u001b[32m \u001b[0m│\u001b[33m \u001b[0m\u001b[33m         21.5%\u001b[0m\u001b[33m \u001b[0m│ │\n",
       "│ │\u001b[1;36m \u001b[0m\u001b[1;36m2025-06-11 00:00:00\u001b[0m\u001b[1;36m \u001b[0m│\u001b[1;35m \u001b[0m\u001b[1;35mobject \u001b[0m\u001b[1;35m \u001b[0m│\u001b[32m \u001b[0m\u001b[32m         92\u001b[0m\u001b[32m \u001b[0m│\u001b[33m \u001b[0m\u001b[33m         27.9%\u001b[0m\u001b[33m \u001b[0m│ │\n",
       "│ │\u001b[1;36m \u001b[0m\u001b[1;36m2025-06-12 00:00:00\u001b[0m\u001b[1;36m \u001b[0m│\u001b[1;35m \u001b[0m\u001b[1;35mobject \u001b[0m\u001b[1;35m \u001b[0m│\u001b[32m \u001b[0m\u001b[32m         77\u001b[0m\u001b[32m \u001b[0m│\u001b[33m \u001b[0m\u001b[33m         23.3%\u001b[0m\u001b[33m \u001b[0m│ │\n",
       "│ │\u001b[1;36m \u001b[0m\u001b[1;36m2025-06-13 00:00:00\u001b[0m\u001b[1;36m \u001b[0m│\u001b[1;35m \u001b[0m\u001b[1;35mobject \u001b[0m\u001b[1;35m \u001b[0m│\u001b[32m \u001b[0m\u001b[32m         75\u001b[0m\u001b[32m \u001b[0m│\u001b[33m \u001b[0m\u001b[33m         22.7%\u001b[0m\u001b[33m \u001b[0m│ │\n",
       "│ │\u001b[1;36m \u001b[0m\u001b[1;36m2025-06-14 00:00:00\u001b[0m\u001b[1;36m \u001b[0m│\u001b[1;35m \u001b[0m\u001b[1;35mobject \u001b[0m\u001b[1;35m \u001b[0m│\u001b[32m \u001b[0m\u001b[32m         53\u001b[0m\u001b[32m \u001b[0m│\u001b[33m \u001b[0m\u001b[33m         16.1%\u001b[0m\u001b[33m \u001b[0m│ │\n",
       "│ │\u001b[1;36m \u001b[0m\u001b[1;36m2025-06-15 00:00:00\u001b[0m\u001b[1;36m \u001b[0m│\u001b[1;35m \u001b[0m\u001b[1;35mobject \u001b[0m\u001b[1;35m \u001b[0m│\u001b[32m \u001b[0m\u001b[32m          3\u001b[0m\u001b[32m \u001b[0m│\u001b[33m \u001b[0m\u001b[33m          0.9%\u001b[0m\u001b[33m \u001b[0m│ │\n",
       "│ │\u001b[1;36m \u001b[0m\u001b[1;36m2025-06-16 00:00:00\u001b[0m\u001b[1;36m \u001b[0m│\u001b[1;35m \u001b[0m\u001b[1;35mobject \u001b[0m\u001b[1;35m \u001b[0m│\u001b[32m \u001b[0m\u001b[32m         81\u001b[0m\u001b[32m \u001b[0m│\u001b[33m \u001b[0m\u001b[33m         24.5%\u001b[0m\u001b[33m \u001b[0m│ │\n",
       "│ │\u001b[1;36m \u001b[0m\u001b[1;36m2025-06-17 00:00:00\u001b[0m\u001b[1;36m \u001b[0m│\u001b[1;35m \u001b[0m\u001b[1;35mobject \u001b[0m\u001b[1;35m \u001b[0m│\u001b[32m \u001b[0m\u001b[32m         75\u001b[0m\u001b[32m \u001b[0m│\u001b[33m \u001b[0m\u001b[33m         22.7%\u001b[0m\u001b[33m \u001b[0m│ │\n",
       "│ │\u001b[1;36m \u001b[0m\u001b[1;36m2025-06-18 00:00:00\u001b[0m\u001b[1;36m \u001b[0m│\u001b[1;35m \u001b[0m\u001b[1;35mobject \u001b[0m\u001b[1;35m \u001b[0m│\u001b[32m \u001b[0m\u001b[32m         70\u001b[0m\u001b[32m \u001b[0m│\u001b[33m \u001b[0m\u001b[33m         21.2%\u001b[0m\u001b[33m \u001b[0m│ │\n",
       "│ │\u001b[1;36m \u001b[0m\u001b[1;36m2025-06-19 00:00:00\u001b[0m\u001b[1;36m \u001b[0m│\u001b[1;35m \u001b[0m\u001b[1;35mobject \u001b[0m\u001b[1;35m \u001b[0m│\u001b[32m \u001b[0m\u001b[32m         81\u001b[0m\u001b[32m \u001b[0m│\u001b[33m \u001b[0m\u001b[33m         24.5%\u001b[0m\u001b[33m \u001b[0m│ │\n",
       "│ │\u001b[1;36m \u001b[0m\u001b[1;36m2025-06-20 00:00:00\u001b[0m\u001b[1;36m \u001b[0m│\u001b[1;35m \u001b[0m\u001b[1;35mobject \u001b[0m\u001b[1;35m \u001b[0m│\u001b[32m \u001b[0m\u001b[32m         64\u001b[0m\u001b[32m \u001b[0m│\u001b[33m \u001b[0m\u001b[33m         19.4%\u001b[0m\u001b[33m \u001b[0m│ │\n",
       "│ │\u001b[1;36m \u001b[0m\u001b[1;36m2025-06-21 00:00:00\u001b[0m\u001b[1;36m \u001b[0m│\u001b[1;35m \u001b[0m\u001b[1;35mobject \u001b[0m\u001b[1;35m \u001b[0m│\u001b[32m \u001b[0m\u001b[32m         78\u001b[0m\u001b[32m \u001b[0m│\u001b[33m \u001b[0m\u001b[33m         23.6%\u001b[0m\u001b[33m \u001b[0m│ │\n",
       "│ │\u001b[1;36m \u001b[0m\u001b[1;36m2025-06-22 00:00:00\u001b[0m\u001b[1;36m \u001b[0m│\u001b[1;35m \u001b[0m\u001b[1;35mobject \u001b[0m\u001b[1;35m \u001b[0m│\u001b[32m \u001b[0m\u001b[32m          3\u001b[0m\u001b[32m \u001b[0m│\u001b[33m \u001b[0m\u001b[33m          0.9%\u001b[0m\u001b[33m \u001b[0m│ │\n",
       "│ │\u001b[1;36m \u001b[0m\u001b[1;36m2025-06-23 00:00:00\u001b[0m\u001b[1;36m \u001b[0m│\u001b[1;35m \u001b[0m\u001b[1;35mobject \u001b[0m\u001b[1;35m \u001b[0m│\u001b[32m \u001b[0m\u001b[32m         75\u001b[0m\u001b[32m \u001b[0m│\u001b[33m \u001b[0m\u001b[33m         22.7%\u001b[0m\u001b[33m \u001b[0m│ │\n",
       "│ │\u001b[1;36m \u001b[0m\u001b[1;36m2025-06-24 00:00:00\u001b[0m\u001b[1;36m \u001b[0m│\u001b[1;35m \u001b[0m\u001b[1;35mobject \u001b[0m\u001b[1;35m \u001b[0m│\u001b[32m \u001b[0m\u001b[32m         71\u001b[0m\u001b[32m \u001b[0m│\u001b[33m \u001b[0m\u001b[33m         21.5%\u001b[0m\u001b[33m \u001b[0m│ │\n",
       "│ │\u001b[1;36m \u001b[0m\u001b[1;36m2025-06-25 00:00:00\u001b[0m\u001b[1;36m \u001b[0m│\u001b[1;35m \u001b[0m\u001b[1;35mobject \u001b[0m\u001b[1;35m \u001b[0m│\u001b[32m \u001b[0m\u001b[32m         72\u001b[0m\u001b[32m \u001b[0m│\u001b[33m \u001b[0m\u001b[33m         21.8%\u001b[0m\u001b[33m \u001b[0m│ │\n",
       "│ │\u001b[1;36m \u001b[0m\u001b[1;36m2025-06-26 00:00:00\u001b[0m\u001b[1;36m \u001b[0m│\u001b[1;35m \u001b[0m\u001b[1;35mobject \u001b[0m\u001b[1;35m \u001b[0m│\u001b[32m \u001b[0m\u001b[32m         77\u001b[0m\u001b[32m \u001b[0m│\u001b[33m \u001b[0m\u001b[33m         23.3%\u001b[0m\u001b[33m \u001b[0m│ │\n",
       "│ │\u001b[1;36m \u001b[0m\u001b[1;36m2025-06-27 00:00:00\u001b[0m\u001b[1;36m \u001b[0m│\u001b[1;35m \u001b[0m\u001b[1;35mobject \u001b[0m\u001b[1;35m \u001b[0m│\u001b[32m \u001b[0m\u001b[32m         70\u001b[0m\u001b[32m \u001b[0m│\u001b[33m \u001b[0m\u001b[33m         21.2%\u001b[0m\u001b[33m \u001b[0m│ │\n",
       "│ │\u001b[1;36m \u001b[0m\u001b[1;36m2025-06-28 00:00:00\u001b[0m\u001b[1;36m \u001b[0m│\u001b[1;35m \u001b[0m\u001b[1;35mobject \u001b[0m\u001b[1;35m \u001b[0m│\u001b[32m \u001b[0m\u001b[32m         73\u001b[0m\u001b[32m \u001b[0m│\u001b[33m \u001b[0m\u001b[33m         22.1%\u001b[0m\u001b[33m \u001b[0m│ │\n",
       "│ │\u001b[1;36m \u001b[0m\u001b[1;36m2025-06-29 00:00:00\u001b[0m\u001b[1;36m \u001b[0m│\u001b[1;35m \u001b[0m\u001b[1;35mobject \u001b[0m\u001b[1;35m \u001b[0m│\u001b[32m \u001b[0m\u001b[32m          3\u001b[0m\u001b[32m \u001b[0m│\u001b[33m \u001b[0m\u001b[33m          0.9%\u001b[0m\u001b[33m \u001b[0m│ │\n",
       "│ │\u001b[1;36m \u001b[0m\u001b[1;36m2025-06-30 00:00:00\u001b[0m\u001b[1;36m \u001b[0m│\u001b[1;35m \u001b[0m\u001b[1;35mobject \u001b[0m\u001b[1;35m \u001b[0m│\u001b[32m \u001b[0m\u001b[32m         77\u001b[0m\u001b[32m \u001b[0m│\u001b[33m \u001b[0m\u001b[33m         23.3%\u001b[0m\u001b[33m \u001b[0m│ │\n",
       "│ └─────────────────────┴─────────┴─────────────┴────────────────┘ │\n",
       "╰──────────────────────────────────────────────────────────────────╯\n"
      ]
     },
     "metadata": {},
     "output_type": "display_data"
    },
    {
     "data": {
      "text/html": [
       "<pre style=\"white-space:pre;overflow-x:auto;line-height:normal;font-family:Menlo,'DejaVu Sans Mono',consolas,'Courier New',monospace\"><span style=\"color: #808080; text-decoration-color: #808080\">╭───────────── 📎 Resumen ──────────────╮</span>\n",
       "<span style=\"color: #808080; text-decoration-color: #808080\">│</span> <span style=\"color: #808000; text-decoration-color: #808000; font-weight: bold\">🔢 Dimensión:</span> 330 filas × 33 columnas <span style=\"color: #808080; text-decoration-color: #808080\">│</span>\n",
       "<span style=\"color: #808080; text-decoration-color: #808080\">│</span> <span style=\"color: #008000; text-decoration-color: #008000; font-weight: bold\">💾 Memoria usada:</span> 378.87 KB           <span style=\"color: #808080; text-decoration-color: #808080\">│</span>\n",
       "<span style=\"color: #808080; text-decoration-color: #808080\">╰───────────────────────────────────────╯</span>\n",
       "</pre>\n"
      ],
      "text/plain": [
       "\u001b[38;5;244m╭─\u001b[0m\u001b[38;5;244m────────────\u001b[0m\u001b[38;5;244m 📎 Resumen \u001b[0m\u001b[38;5;244m─────────────\u001b[0m\u001b[38;5;244m─╮\u001b[0m\n",
       "\u001b[38;5;244m│\u001b[0m \u001b[1;33m🔢 Dimensión:\u001b[0m 330 filas × 33 columnas \u001b[38;5;244m│\u001b[0m\n",
       "\u001b[38;5;244m│\u001b[0m \u001b[1;32m💾 Memoria usada:\u001b[0m 378.87 KB           \u001b[38;5;244m│\u001b[0m\n",
       "\u001b[38;5;244m╰───────────────────────────────────────╯\u001b[0m\n"
      ]
     },
     "metadata": {},
     "output_type": "display_data"
    }
   ],
   "source": [
    "importlib.reload(gd)\n",
    "importlib.reload(pm)\n",
    "pedregal = gd.get_pedregal_data(PEDREGAL)\n",
    "pm.show_df(pedregal)"
   ]
  },
  {
   "cell_type": "code",
   "execution_count": 9,
   "id": "242f7ed7",
   "metadata": {},
   "outputs": [
    {
     "data": {
      "text/html": [
       "<pre style=\"white-space:pre;overflow-x:auto;line-height:normal;font-family:Menlo,'DejaVu Sans Mono',consolas,'Courier New',monospace\">╭──────────────────── 📊 Resumen de DataFrame ────────────────────╮\n",
       "│ ┌────────────────────┬─────────┬─────────────┬────────────────┐ │\n",
       "│ │<span style=\"color: #c0c0c0; text-decoration-color: #c0c0c0; background-color: #870000; font-weight: bold\"> 🧱 Columna         </span>│<span style=\"color: #c0c0c0; text-decoration-color: #c0c0c0; background-color: #870000; font-weight: bold\"> 📂 Tipo </span>│<span style=\"color: #c0c0c0; text-decoration-color: #c0c0c0; background-color: #870000; font-weight: bold\"> ✅ Non-Null </span>│<span style=\"color: #c0c0c0; text-decoration-color: #c0c0c0; background-color: #870000; font-weight: bold\"> 📈 Completitud </span>│ │\n",
       "│ ├────────────────────┼─────────┼─────────────┼────────────────┤ │\n",
       "│ │<span style=\"color: #008080; text-decoration-color: #008080; font-weight: bold\"> APELLIDOS Y NOMBRE </span>│<span style=\"color: #800080; text-decoration-color: #800080; font-weight: bold\"> object  </span>│<span style=\"color: #008000; text-decoration-color: #008000\">        1315 </span>│<span style=\"color: #808000; text-decoration-color: #808000\">         100.0% </span>│ │\n",
       "│ │<span style=\"color: #008080; text-decoration-color: #008080; font-weight: bold\"> CARGO              </span>│<span style=\"color: #800080; text-decoration-color: #800080; font-weight: bold\"> object  </span>│<span style=\"color: #008000; text-decoration-color: #008000\">        1315 </span>│<span style=\"color: #808000; text-decoration-color: #808000\">         100.0% </span>│ │\n",
       "│ │<span style=\"color: #008080; text-decoration-color: #008080; font-weight: bold\"> Producto           </span>│<span style=\"color: #800080; text-decoration-color: #800080; font-weight: bold\"> object  </span>│<span style=\"color: #008000; text-decoration-color: #008000\">        1315 </span>│<span style=\"color: #808000; text-decoration-color: #808000\">         100.0% </span>│ │\n",
       "│ │<span style=\"color: #008080; text-decoration-color: #008080; font-weight: bold\"> Fecha              </span>│<span style=\"color: #800080; text-decoration-color: #800080; font-weight: bold\"> object  </span>│<span style=\"color: #008000; text-decoration-color: #008000\">        1315 </span>│<span style=\"color: #808000; text-decoration-color: #808000\">         100.0% </span>│ │\n",
       "│ │<span style=\"color: #008080; text-decoration-color: #008080; font-weight: bold\"> Cantidad           </span>│<span style=\"color: #800080; text-decoration-color: #800080; font-weight: bold\"> float64 </span>│<span style=\"color: #008000; text-decoration-color: #008000\">        1315 </span>│<span style=\"color: #808000; text-decoration-color: #808000\">         100.0% </span>│ │\n",
       "│ └────────────────────┴─────────┴─────────────┴────────────────┘ │\n",
       "╰─────────────────────────────────────────────────────────────────╯\n",
       "</pre>\n"
      ],
      "text/plain": [
       "╭──────────────────── 📊 Resumen de DataFrame ────────────────────╮\n",
       "│ ┌────────────────────┬─────────┬─────────────┬────────────────┐ │\n",
       "│ │\u001b[1;37;48;5;88m \u001b[0m\u001b[1;37;48;5;88m🧱 Columna        \u001b[0m\u001b[1;37;48;5;88m \u001b[0m│\u001b[1;37;48;5;88m \u001b[0m\u001b[1;37;48;5;88m📂 Tipo\u001b[0m\u001b[1;37;48;5;88m \u001b[0m│\u001b[1;37;48;5;88m \u001b[0m\u001b[1;37;48;5;88m✅ Non-Null\u001b[0m\u001b[1;37;48;5;88m \u001b[0m│\u001b[1;37;48;5;88m \u001b[0m\u001b[1;37;48;5;88m📈 Completitud\u001b[0m\u001b[1;37;48;5;88m \u001b[0m│ │\n",
       "│ ├────────────────────┼─────────┼─────────────┼────────────────┤ │\n",
       "│ │\u001b[1;36m \u001b[0m\u001b[1;36mAPELLIDOS Y NOMBRE\u001b[0m\u001b[1;36m \u001b[0m│\u001b[1;35m \u001b[0m\u001b[1;35mobject \u001b[0m\u001b[1;35m \u001b[0m│\u001b[32m \u001b[0m\u001b[32m       1315\u001b[0m\u001b[32m \u001b[0m│\u001b[33m \u001b[0m\u001b[33m        100.0%\u001b[0m\u001b[33m \u001b[0m│ │\n",
       "│ │\u001b[1;36m \u001b[0m\u001b[1;36mCARGO             \u001b[0m\u001b[1;36m \u001b[0m│\u001b[1;35m \u001b[0m\u001b[1;35mobject \u001b[0m\u001b[1;35m \u001b[0m│\u001b[32m \u001b[0m\u001b[32m       1315\u001b[0m\u001b[32m \u001b[0m│\u001b[33m \u001b[0m\u001b[33m        100.0%\u001b[0m\u001b[33m \u001b[0m│ │\n",
       "│ │\u001b[1;36m \u001b[0m\u001b[1;36mProducto          \u001b[0m\u001b[1;36m \u001b[0m│\u001b[1;35m \u001b[0m\u001b[1;35mobject \u001b[0m\u001b[1;35m \u001b[0m│\u001b[32m \u001b[0m\u001b[32m       1315\u001b[0m\u001b[32m \u001b[0m│\u001b[33m \u001b[0m\u001b[33m        100.0%\u001b[0m\u001b[33m \u001b[0m│ │\n",
       "│ │\u001b[1;36m \u001b[0m\u001b[1;36mFecha             \u001b[0m\u001b[1;36m \u001b[0m│\u001b[1;35m \u001b[0m\u001b[1;35mobject \u001b[0m\u001b[1;35m \u001b[0m│\u001b[32m \u001b[0m\u001b[32m       1315\u001b[0m\u001b[32m \u001b[0m│\u001b[33m \u001b[0m\u001b[33m        100.0%\u001b[0m\u001b[33m \u001b[0m│ │\n",
       "│ │\u001b[1;36m \u001b[0m\u001b[1;36mCantidad          \u001b[0m\u001b[1;36m \u001b[0m│\u001b[1;35m \u001b[0m\u001b[1;35mfloat64\u001b[0m\u001b[1;35m \u001b[0m│\u001b[32m \u001b[0m\u001b[32m       1315\u001b[0m\u001b[32m \u001b[0m│\u001b[33m \u001b[0m\u001b[33m        100.0%\u001b[0m\u001b[33m \u001b[0m│ │\n",
       "│ └────────────────────┴─────────┴─────────────┴────────────────┘ │\n",
       "╰─────────────────────────────────────────────────────────────────╯\n"
      ]
     },
     "metadata": {},
     "output_type": "display_data"
    },
    {
     "data": {
      "text/html": [
       "<pre style=\"white-space:pre;overflow-x:auto;line-height:normal;font-family:Menlo,'DejaVu Sans Mono',consolas,'Courier New',monospace\"><span style=\"color: #808080; text-decoration-color: #808080\">╭───────────── 📎 Resumen ──────────────╮</span>\n",
       "<span style=\"color: #808080; text-decoration-color: #808080\">│</span> <span style=\"color: #808000; text-decoration-color: #808000; font-weight: bold\">🔢 Dimensión:</span> 1315 filas × 5 columnas <span style=\"color: #808080; text-decoration-color: #808080\">│</span>\n",
       "<span style=\"color: #808080; text-decoration-color: #808080\">│</span> <span style=\"color: #008000; text-decoration-color: #008000; font-weight: bold\">💾 Memoria usada:</span> 382.05 KB           <span style=\"color: #808080; text-decoration-color: #808080\">│</span>\n",
       "<span style=\"color: #808080; text-decoration-color: #808080\">╰───────────────────────────────────────╯</span>\n",
       "</pre>\n"
      ],
      "text/plain": [
       "\u001b[38;5;244m╭─\u001b[0m\u001b[38;5;244m────────────\u001b[0m\u001b[38;5;244m 📎 Resumen \u001b[0m\u001b[38;5;244m─────────────\u001b[0m\u001b[38;5;244m─╮\u001b[0m\n",
       "\u001b[38;5;244m│\u001b[0m \u001b[1;33m🔢 Dimensión:\u001b[0m 1315 filas × 5 columnas \u001b[38;5;244m│\u001b[0m\n",
       "\u001b[38;5;244m│\u001b[0m \u001b[1;32m💾 Memoria usada:\u001b[0m 382.05 KB           \u001b[38;5;244m│\u001b[0m\n",
       "\u001b[38;5;244m╰───────────────────────────────────────╯\u001b[0m\n"
      ]
     },
     "metadata": {},
     "output_type": "display_data"
    }
   ],
   "source": [
    "importlib.reload(tf)\n",
    "importlib.reload(pm)\n",
    "pedregal_transformed = tf.transform_data_pedregal(pedregal)\n",
    "pm.show_df(pedregal_transformed)"
   ]
  },
  {
   "cell_type": "code",
   "execution_count": 10,
   "id": "a1fff754",
   "metadata": {},
   "outputs": [
    {
     "data": {
      "text/html": [
       "<pre style=\"white-space:pre;overflow-x:auto;line-height:normal;font-family:Menlo,'DejaVu Sans Mono',consolas,'Courier New',monospace\">╭──────────────────── 📊 Resumen de DataFrame ────────────────────╮\n",
       "│ ┌────────────────────┬─────────┬─────────────┬────────────────┐ │\n",
       "│ │<span style=\"color: #c0c0c0; text-decoration-color: #c0c0c0; background-color: #870000; font-weight: bold\"> 🧱 Columna         </span>│<span style=\"color: #c0c0c0; text-decoration-color: #c0c0c0; background-color: #870000; font-weight: bold\"> 📂 Tipo </span>│<span style=\"color: #c0c0c0; text-decoration-color: #c0c0c0; background-color: #870000; font-weight: bold\"> ✅ Non-Null </span>│<span style=\"color: #c0c0c0; text-decoration-color: #c0c0c0; background-color: #870000; font-weight: bold\"> 📈 Completitud </span>│ │\n",
       "│ ├────────────────────┼─────────┼─────────────┼────────────────┤ │\n",
       "│ │<span style=\"color: #008080; text-decoration-color: #008080; font-weight: bold\"> Fecha              </span>│<span style=\"color: #800080; text-decoration-color: #800080; font-weight: bold\"> object  </span>│<span style=\"color: #008000; text-decoration-color: #008000\">        1315 </span>│<span style=\"color: #808000; text-decoration-color: #808000\">         100.0% </span>│ │\n",
       "│ │<span style=\"color: #008080; text-decoration-color: #008080; font-weight: bold\"> Sede               </span>│<span style=\"color: #800080; text-decoration-color: #800080; font-weight: bold\"> object  </span>│<span style=\"color: #008000; text-decoration-color: #008000\">        1315 </span>│<span style=\"color: #808000; text-decoration-color: #808000\">         100.0% </span>│ │\n",
       "│ │<span style=\"color: #008080; text-decoration-color: #008080; font-weight: bold\"> APELLIDOS Y NOMBRE </span>│<span style=\"color: #800080; text-decoration-color: #800080; font-weight: bold\"> object  </span>│<span style=\"color: #008000; text-decoration-color: #008000\">        1315 </span>│<span style=\"color: #808000; text-decoration-color: #808000\">         100.0% </span>│ │\n",
       "│ │<span style=\"color: #008080; text-decoration-color: #008080; font-weight: bold\"> CARGO              </span>│<span style=\"color: #800080; text-decoration-color: #800080; font-weight: bold\"> object  </span>│<span style=\"color: #008000; text-decoration-color: #008000\">        1315 </span>│<span style=\"color: #808000; text-decoration-color: #808000\">         100.0% </span>│ │\n",
       "│ │<span style=\"color: #008080; text-decoration-color: #008080; font-weight: bold\"> Producto           </span>│<span style=\"color: #800080; text-decoration-color: #800080; font-weight: bold\"> object  </span>│<span style=\"color: #008000; text-decoration-color: #008000\">        1315 </span>│<span style=\"color: #808000; text-decoration-color: #808000\">         100.0% </span>│ │\n",
       "│ │<span style=\"color: #008080; text-decoration-color: #008080; font-weight: bold\"> Cantidad           </span>│<span style=\"color: #800080; text-decoration-color: #800080; font-weight: bold\"> float64 </span>│<span style=\"color: #008000; text-decoration-color: #008000\">        1315 </span>│<span style=\"color: #808000; text-decoration-color: #808000\">         100.0% </span>│ │\n",
       "│ └────────────────────┴─────────┴─────────────┴────────────────┘ │\n",
       "╰─────────────────────────────────────────────────────────────────╯\n",
       "</pre>\n"
      ],
      "text/plain": [
       "╭──────────────────── 📊 Resumen de DataFrame ────────────────────╮\n",
       "│ ┌────────────────────┬─────────┬─────────────┬────────────────┐ │\n",
       "│ │\u001b[1;37;48;5;88m \u001b[0m\u001b[1;37;48;5;88m🧱 Columna        \u001b[0m\u001b[1;37;48;5;88m \u001b[0m│\u001b[1;37;48;5;88m \u001b[0m\u001b[1;37;48;5;88m📂 Tipo\u001b[0m\u001b[1;37;48;5;88m \u001b[0m│\u001b[1;37;48;5;88m \u001b[0m\u001b[1;37;48;5;88m✅ Non-Null\u001b[0m\u001b[1;37;48;5;88m \u001b[0m│\u001b[1;37;48;5;88m \u001b[0m\u001b[1;37;48;5;88m📈 Completitud\u001b[0m\u001b[1;37;48;5;88m \u001b[0m│ │\n",
       "│ ├────────────────────┼─────────┼─────────────┼────────────────┤ │\n",
       "│ │\u001b[1;36m \u001b[0m\u001b[1;36mFecha             \u001b[0m\u001b[1;36m \u001b[0m│\u001b[1;35m \u001b[0m\u001b[1;35mobject \u001b[0m\u001b[1;35m \u001b[0m│\u001b[32m \u001b[0m\u001b[32m       1315\u001b[0m\u001b[32m \u001b[0m│\u001b[33m \u001b[0m\u001b[33m        100.0%\u001b[0m\u001b[33m \u001b[0m│ │\n",
       "│ │\u001b[1;36m \u001b[0m\u001b[1;36mSede              \u001b[0m\u001b[1;36m \u001b[0m│\u001b[1;35m \u001b[0m\u001b[1;35mobject \u001b[0m\u001b[1;35m \u001b[0m│\u001b[32m \u001b[0m\u001b[32m       1315\u001b[0m\u001b[32m \u001b[0m│\u001b[33m \u001b[0m\u001b[33m        100.0%\u001b[0m\u001b[33m \u001b[0m│ │\n",
       "│ │\u001b[1;36m \u001b[0m\u001b[1;36mAPELLIDOS Y NOMBRE\u001b[0m\u001b[1;36m \u001b[0m│\u001b[1;35m \u001b[0m\u001b[1;35mobject \u001b[0m\u001b[1;35m \u001b[0m│\u001b[32m \u001b[0m\u001b[32m       1315\u001b[0m\u001b[32m \u001b[0m│\u001b[33m \u001b[0m\u001b[33m        100.0%\u001b[0m\u001b[33m \u001b[0m│ │\n",
       "│ │\u001b[1;36m \u001b[0m\u001b[1;36mCARGO             \u001b[0m\u001b[1;36m \u001b[0m│\u001b[1;35m \u001b[0m\u001b[1;35mobject \u001b[0m\u001b[1;35m \u001b[0m│\u001b[32m \u001b[0m\u001b[32m       1315\u001b[0m\u001b[32m \u001b[0m│\u001b[33m \u001b[0m\u001b[33m        100.0%\u001b[0m\u001b[33m \u001b[0m│ │\n",
       "│ │\u001b[1;36m \u001b[0m\u001b[1;36mProducto          \u001b[0m\u001b[1;36m \u001b[0m│\u001b[1;35m \u001b[0m\u001b[1;35mobject \u001b[0m\u001b[1;35m \u001b[0m│\u001b[32m \u001b[0m\u001b[32m       1315\u001b[0m\u001b[32m \u001b[0m│\u001b[33m \u001b[0m\u001b[33m        100.0%\u001b[0m\u001b[33m \u001b[0m│ │\n",
       "│ │\u001b[1;36m \u001b[0m\u001b[1;36mCantidad          \u001b[0m\u001b[1;36m \u001b[0m│\u001b[1;35m \u001b[0m\u001b[1;35mfloat64\u001b[0m\u001b[1;35m \u001b[0m│\u001b[32m \u001b[0m\u001b[32m       1315\u001b[0m\u001b[32m \u001b[0m│\u001b[33m \u001b[0m\u001b[33m        100.0%\u001b[0m\u001b[33m \u001b[0m│ │\n",
       "│ └────────────────────┴─────────┴─────────────┴────────────────┘ │\n",
       "╰─────────────────────────────────────────────────────────────────╯\n"
      ]
     },
     "metadata": {},
     "output_type": "display_data"
    },
    {
     "data": {
      "text/html": [
       "<pre style=\"white-space:pre;overflow-x:auto;line-height:normal;font-family:Menlo,'DejaVu Sans Mono',consolas,'Courier New',monospace\"><span style=\"color: #808080; text-decoration-color: #808080\">╭───────────── 📎 Resumen ──────────────╮</span>\n",
       "<span style=\"color: #808080; text-decoration-color: #808080\">│</span> <span style=\"color: #808000; text-decoration-color: #808000; font-weight: bold\">🔢 Dimensión:</span> 1315 filas × 6 columnas <span style=\"color: #808080; text-decoration-color: #808080\">│</span>\n",
       "<span style=\"color: #808080; text-decoration-color: #808080\">│</span> <span style=\"color: #008000; text-decoration-color: #008000; font-weight: bold\">💾 Memoria usada:</span> 454.58 KB           <span style=\"color: #808080; text-decoration-color: #808080\">│</span>\n",
       "<span style=\"color: #808080; text-decoration-color: #808080\">╰───────────────────────────────────────╯</span>\n",
       "</pre>\n"
      ],
      "text/plain": [
       "\u001b[38;5;244m╭─\u001b[0m\u001b[38;5;244m────────────\u001b[0m\u001b[38;5;244m 📎 Resumen \u001b[0m\u001b[38;5;244m─────────────\u001b[0m\u001b[38;5;244m─╮\u001b[0m\n",
       "\u001b[38;5;244m│\u001b[0m \u001b[1;33m🔢 Dimensión:\u001b[0m 1315 filas × 6 columnas \u001b[38;5;244m│\u001b[0m\n",
       "\u001b[38;5;244m│\u001b[0m \u001b[1;32m💾 Memoria usada:\u001b[0m 454.58 KB           \u001b[38;5;244m│\u001b[0m\n",
       "\u001b[38;5;244m╰───────────────────────────────────────╯\u001b[0m\n"
      ]
     },
     "metadata": {},
     "output_type": "display_data"
    }
   ],
   "source": [
    "importlib.reload(nd)\n",
    "importlib.reload(pm)\n",
    "pedregal_normalized = nd.normalize_data_pedregal(PEDREGAL, pedregal_transformed)\n",
    "pm.show_df(pedregal_normalized)"
   ]
  },
  {
   "cell_type": "code",
   "execution_count": 11,
   "id": "a7fb4e2f",
   "metadata": {},
   "outputs": [],
   "source": [
    "pedregal_normalized.to_csv(\"pedregal.csv\", index=False, encoding=\"utf-8-sig\", sep=\";\")"
   ]
  },
  {
   "cell_type": "markdown",
   "id": "eb5c4f1b",
   "metadata": {},
   "source": [
    "### Chala"
   ]
  },
  {
   "cell_type": "code",
   "execution_count": 12,
   "id": "ed61f2fb",
   "metadata": {},
   "outputs": [
    {
     "data": {
      "text/html": [
       "<pre style=\"white-space:pre;overflow-x:auto;line-height:normal;font-family:Menlo,'DejaVu Sans Mono',consolas,'Courier New',monospace\">╭────────────────────── 📊 Resumen de DataFrame ──────────────────────╮\n",
       "│ ┌─────────────────────┬────────────┬─────────────┬────────────────┐ │\n",
       "│ │<span style=\"color: #c0c0c0; text-decoration-color: #c0c0c0; background-color: #870000; font-weight: bold\"> 🧱 Columna          </span>│<span style=\"color: #c0c0c0; text-decoration-color: #c0c0c0; background-color: #870000; font-weight: bold\"> 📂 Tipo    </span>│<span style=\"color: #c0c0c0; text-decoration-color: #c0c0c0; background-color: #870000; font-weight: bold\"> ✅ Non-Null </span>│<span style=\"color: #c0c0c0; text-decoration-color: #c0c0c0; background-color: #870000; font-weight: bold\"> 📈 Completitud </span>│ │\n",
       "│ ├─────────────────────┼────────────┼─────────────┼────────────────┤ │\n",
       "│ │<span style=\"color: #008080; text-decoration-color: #008080; font-weight: bold\"> APELLIDOS Y NOMBRE  </span>│<span style=\"color: #800080; text-decoration-color: #800080; font-weight: bold\"> object     </span>│<span style=\"color: #008000; text-decoration-color: #008000\">          20 </span>│<span style=\"color: #808000; text-decoration-color: #808000\">           7.2% </span>│ │\n",
       "│ │<span style=\"color: #008080; text-decoration-color: #008080; font-weight: bold\"> CARGO               </span>│<span style=\"color: #800080; text-decoration-color: #800080; font-weight: bold\"> object     </span>│<span style=\"color: #008000; text-decoration-color: #008000\">          20 </span>│<span style=\"color: #808000; text-decoration-color: #808000\">           7.2% </span>│ │\n",
       "│ │<span style=\"color: #008080; text-decoration-color: #008080; font-weight: bold\"> RUTA                </span>│<span style=\"color: #800080; text-decoration-color: #800080; font-weight: bold\"> object     </span>│<span style=\"color: #008000; text-decoration-color: #008000\">           0 </span>│<span style=\"color: #808000; text-decoration-color: #808000\">           0.0% </span>│ │\n",
       "│ │<span style=\"color: #008080; text-decoration-color: #008080; font-weight: bold\"> Producto            </span>│<span style=\"color: #800080; text-decoration-color: #800080; font-weight: bold\"> object     </span>│<span style=\"color: #008000; text-decoration-color: #008000\">         277 </span>│<span style=\"color: #808000; text-decoration-color: #808000\">          99.3% </span>│ │\n",
       "│ │<span style=\"color: #008080; text-decoration-color: #008080; font-weight: bold\"> 2025-06-01 00:00:00 </span>│<span style=\"color: #800080; text-decoration-color: #800080; font-weight: bold\"> object     </span>│<span style=\"color: #008000; text-decoration-color: #008000\">           2 </span>│<span style=\"color: #808000; text-decoration-color: #808000\">           0.7% </span>│ │\n",
       "│ │<span style=\"color: #008080; text-decoration-color: #008080; font-weight: bold\"> 2025-06-02 00:00:00 </span>│<span style=\"color: #800080; text-decoration-color: #800080; font-weight: bold\"> object     </span>│<span style=\"color: #008000; text-decoration-color: #008000\">          21 </span>│<span style=\"color: #808000; text-decoration-color: #808000\">           7.5% </span>│ │\n",
       "│ │<span style=\"color: #008080; text-decoration-color: #008080; font-weight: bold\"> 2025-06-03 00:00:00 </span>│<span style=\"color: #800080; text-decoration-color: #800080; font-weight: bold\"> object     </span>│<span style=\"color: #008000; text-decoration-color: #008000\">           9 </span>│<span style=\"color: #808000; text-decoration-color: #808000\">           3.2% </span>│ │\n",
       "│ │<span style=\"color: #008080; text-decoration-color: #008080; font-weight: bold\"> 2025-06-04 00:00:00 </span>│<span style=\"color: #800080; text-decoration-color: #800080; font-weight: bold\"> object     </span>│<span style=\"color: #008000; text-decoration-color: #008000\">          20 </span>│<span style=\"color: #808000; text-decoration-color: #808000\">           7.2% </span>│ │\n",
       "│ │<span style=\"color: #008080; text-decoration-color: #008080; font-weight: bold\"> 2025-06-05 00:00:00 </span>│<span style=\"color: #800080; text-decoration-color: #800080; font-weight: bold\"> object     </span>│<span style=\"color: #008000; text-decoration-color: #008000\">          14 </span>│<span style=\"color: #808000; text-decoration-color: #808000\">           5.0% </span>│ │\n",
       "│ │<span style=\"color: #008080; text-decoration-color: #008080; font-weight: bold\"> 2025-06-06 00:00:00 </span>│<span style=\"color: #800080; text-decoration-color: #800080; font-weight: bold\"> object     </span>│<span style=\"color: #008000; text-decoration-color: #008000\">           7 </span>│<span style=\"color: #808000; text-decoration-color: #808000\">           2.5% </span>│ │\n",
       "│ │<span style=\"color: #008080; text-decoration-color: #008080; font-weight: bold\"> 2025-06-07 00:00:00 </span>│<span style=\"color: #800080; text-decoration-color: #800080; font-weight: bold\"> object     </span>│<span style=\"color: #008000; text-decoration-color: #008000\">          20 </span>│<span style=\"color: #808000; text-decoration-color: #808000\">           7.2% </span>│ │\n",
       "│ │<span style=\"color: #008080; text-decoration-color: #008080; font-weight: bold\"> 2025-06-08 00:00:00 </span>│<span style=\"color: #800080; text-decoration-color: #800080; font-weight: bold\"> object     </span>│<span style=\"color: #008000; text-decoration-color: #008000\">           2 </span>│<span style=\"color: #808000; text-decoration-color: #808000\">           0.7% </span>│ │\n",
       "│ │<span style=\"color: #008080; text-decoration-color: #008080; font-weight: bold\"> 2025-06-09 00:00:00 </span>│<span style=\"color: #800080; text-decoration-color: #800080; font-weight: bold\"> object     </span>│<span style=\"color: #008000; text-decoration-color: #008000\">          23 </span>│<span style=\"color: #808000; text-decoration-color: #808000\">           8.2% </span>│ │\n",
       "│ │<span style=\"color: #008080; text-decoration-color: #008080; font-weight: bold\"> 2025-06-10 00:00:00 </span>│<span style=\"color: #800080; text-decoration-color: #800080; font-weight: bold\"> object     </span>│<span style=\"color: #008000; text-decoration-color: #008000\">          13 </span>│<span style=\"color: #808000; text-decoration-color: #808000\">           4.7% </span>│ │\n",
       "│ │<span style=\"color: #008080; text-decoration-color: #008080; font-weight: bold\"> 2025-06-11 00:00:00 </span>│<span style=\"color: #800080; text-decoration-color: #800080; font-weight: bold\"> object     </span>│<span style=\"color: #008000; text-decoration-color: #008000\">          13 </span>│<span style=\"color: #808000; text-decoration-color: #808000\">           4.7% </span>│ │\n",
       "│ │<span style=\"color: #008080; text-decoration-color: #008080; font-weight: bold\"> 2025-06-12 00:00:00 </span>│<span style=\"color: #800080; text-decoration-color: #800080; font-weight: bold\"> object     </span>│<span style=\"color: #008000; text-decoration-color: #008000\">          14 </span>│<span style=\"color: #808000; text-decoration-color: #808000\">           5.0% </span>│ │\n",
       "│ │<span style=\"color: #008080; text-decoration-color: #008080; font-weight: bold\"> 2025-06-13 00:00:00 </span>│<span style=\"color: #800080; text-decoration-color: #800080; font-weight: bold\"> object     </span>│<span style=\"color: #008000; text-decoration-color: #008000\">           8 </span>│<span style=\"color: #808000; text-decoration-color: #808000\">           2.9% </span>│ │\n",
       "│ │<span style=\"color: #008080; text-decoration-color: #008080; font-weight: bold\"> 2025-06-14 00:00:00 </span>│<span style=\"color: #800080; text-decoration-color: #800080; font-weight: bold\"> object     </span>│<span style=\"color: #008000; text-decoration-color: #008000\">          18 </span>│<span style=\"color: #808000; text-decoration-color: #808000\">           6.5% </span>│ │\n",
       "│ │<span style=\"color: #008080; text-decoration-color: #008080; font-weight: bold\"> 2025-06-15 00:00:00 </span>│<span style=\"color: #800080; text-decoration-color: #800080; font-weight: bold\"> object     </span>│<span style=\"color: #008000; text-decoration-color: #008000\">           2 </span>│<span style=\"color: #808000; text-decoration-color: #808000\">           0.7% </span>│ │\n",
       "│ │<span style=\"color: #008080; text-decoration-color: #008080; font-weight: bold\"> 2025-06-16 00:00:00 </span>│<span style=\"color: #800080; text-decoration-color: #800080; font-weight: bold\"> object     </span>│<span style=\"color: #008000; text-decoration-color: #008000\">          16 </span>│<span style=\"color: #808000; text-decoration-color: #808000\">           5.7% </span>│ │\n",
       "│ │<span style=\"color: #008080; text-decoration-color: #008080; font-weight: bold\"> 2025-06-17 00:00:00 </span>│<span style=\"color: #800080; text-decoration-color: #800080; font-weight: bold\"> object     </span>│<span style=\"color: #008000; text-decoration-color: #008000\">           9 </span>│<span style=\"color: #808000; text-decoration-color: #808000\">           3.2% </span>│ │\n",
       "│ │<span style=\"color: #008080; text-decoration-color: #008080; font-weight: bold\"> 2025-06-18 00:00:00 </span>│<span style=\"color: #800080; text-decoration-color: #800080; font-weight: bold\"> object     </span>│<span style=\"color: #008000; text-decoration-color: #008000\">          12 </span>│<span style=\"color: #808000; text-decoration-color: #808000\">           4.3% </span>│ │\n",
       "│ │<span style=\"color: #008080; text-decoration-color: #008080; font-weight: bold\"> 2025-06-19 00:00:00 </span>│<span style=\"color: #800080; text-decoration-color: #800080; font-weight: bold\"> object     </span>│<span style=\"color: #008000; text-decoration-color: #008000\">          12 </span>│<span style=\"color: #808000; text-decoration-color: #808000\">           4.3% </span>│ │\n",
       "│ │<span style=\"color: #008080; text-decoration-color: #008080; font-weight: bold\"> 2025-06-20 00:00:00 </span>│<span style=\"color: #800080; text-decoration-color: #800080; font-weight: bold\"> object     </span>│<span style=\"color: #008000; text-decoration-color: #008000\">          11 </span>│<span style=\"color: #808000; text-decoration-color: #808000\">           3.9% </span>│ │\n",
       "│ │<span style=\"color: #008080; text-decoration-color: #008080; font-weight: bold\"> 2025-06-21 00:00:00 </span>│<span style=\"color: #800080; text-decoration-color: #800080; font-weight: bold\"> object     </span>│<span style=\"color: #008000; text-decoration-color: #008000\">          21 </span>│<span style=\"color: #808000; text-decoration-color: #808000\">           7.5% </span>│ │\n",
       "│ │<span style=\"color: #008080; text-decoration-color: #008080; font-weight: bold\"> 2025-06-22 00:00:00 </span>│<span style=\"color: #800080; text-decoration-color: #800080; font-weight: bold\"> object     </span>│<span style=\"color: #008000; text-decoration-color: #008000\">           2 </span>│<span style=\"color: #808000; text-decoration-color: #808000\">           0.7% </span>│ │\n",
       "│ │<span style=\"color: #008080; text-decoration-color: #008080; font-weight: bold\"> 2025-06-23 00:00:00 </span>│<span style=\"color: #800080; text-decoration-color: #800080; font-weight: bold\"> object     </span>│<span style=\"color: #008000; text-decoration-color: #008000\">          20 </span>│<span style=\"color: #808000; text-decoration-color: #808000\">           7.2% </span>│ │\n",
       "│ │<span style=\"color: #008080; text-decoration-color: #008080; font-weight: bold\"> 2025-06-24 00:00:00 </span>│<span style=\"color: #800080; text-decoration-color: #800080; font-weight: bold\"> object     </span>│<span style=\"color: #008000; text-decoration-color: #008000\">          11 </span>│<span style=\"color: #808000; text-decoration-color: #808000\">           3.9% </span>│ │\n",
       "│ │<span style=\"color: #008080; text-decoration-color: #008080; font-weight: bold\"> 2025-06-25 00:00:00 </span>│<span style=\"color: #800080; text-decoration-color: #800080; font-weight: bold\"> object     </span>│<span style=\"color: #008000; text-decoration-color: #008000\">          17 </span>│<span style=\"color: #808000; text-decoration-color: #808000\">           6.1% </span>│ │\n",
       "│ │<span style=\"color: #008080; text-decoration-color: #008080; font-weight: bold\"> 2025-06-26 00:00:00 </span>│<span style=\"color: #800080; text-decoration-color: #800080; font-weight: bold\"> object     </span>│<span style=\"color: #008000; text-decoration-color: #008000\">          14 </span>│<span style=\"color: #808000; text-decoration-color: #808000\">           5.0% </span>│ │\n",
       "│ │<span style=\"color: #008080; text-decoration-color: #008080; font-weight: bold\"> 2025-06-27 00:00:00 </span>│<span style=\"color: #800080; text-decoration-color: #800080; font-weight: bold\"> object     </span>│<span style=\"color: #008000; text-decoration-color: #008000\">          12 </span>│<span style=\"color: #808000; text-decoration-color: #808000\">           4.3% </span>│ │\n",
       "│ │<span style=\"color: #008080; text-decoration-color: #008080; font-weight: bold\"> 2025-06-28 00:00:00 </span>│<span style=\"color: #800080; text-decoration-color: #800080; font-weight: bold\"> object     </span>│<span style=\"color: #008000; text-decoration-color: #008000\">          10 </span>│<span style=\"color: #808000; text-decoration-color: #808000\">           3.6% </span>│ │\n",
       "│ │<span style=\"color: #008080; text-decoration-color: #008080; font-weight: bold\"> 2025-06-29 00:00:00 </span>│<span style=\"color: #800080; text-decoration-color: #800080; font-weight: bold\"> datetime64 </span>│<span style=\"color: #008000; text-decoration-color: #008000\">           1 </span>│<span style=\"color: #808000; text-decoration-color: #808000\">           0.4% </span>│ │\n",
       "│ │<span style=\"color: #008080; text-decoration-color: #008080; font-weight: bold\"> 2025-06-30 00:00:00 </span>│<span style=\"color: #800080; text-decoration-color: #800080; font-weight: bold\"> object     </span>│<span style=\"color: #008000; text-decoration-color: #008000\">           7 </span>│<span style=\"color: #808000; text-decoration-color: #808000\">           2.5% </span>│ │\n",
       "│ └─────────────────────┴────────────┴─────────────┴────────────────┘ │\n",
       "╰─────────────────────────────────────────────────────────────────────╯\n",
       "</pre>\n"
      ],
      "text/plain": [
       "╭────────────────────── 📊 Resumen de DataFrame ──────────────────────╮\n",
       "│ ┌─────────────────────┬────────────┬─────────────┬────────────────┐ │\n",
       "│ │\u001b[1;37;48;5;88m \u001b[0m\u001b[1;37;48;5;88m🧱 Columna         \u001b[0m\u001b[1;37;48;5;88m \u001b[0m│\u001b[1;37;48;5;88m \u001b[0m\u001b[1;37;48;5;88m📂 Tipo   \u001b[0m\u001b[1;37;48;5;88m \u001b[0m│\u001b[1;37;48;5;88m \u001b[0m\u001b[1;37;48;5;88m✅ Non-Null\u001b[0m\u001b[1;37;48;5;88m \u001b[0m│\u001b[1;37;48;5;88m \u001b[0m\u001b[1;37;48;5;88m📈 Completitud\u001b[0m\u001b[1;37;48;5;88m \u001b[0m│ │\n",
       "│ ├─────────────────────┼────────────┼─────────────┼────────────────┤ │\n",
       "│ │\u001b[1;36m \u001b[0m\u001b[1;36mAPELLIDOS Y NOMBRE \u001b[0m\u001b[1;36m \u001b[0m│\u001b[1;35m \u001b[0m\u001b[1;35mobject    \u001b[0m\u001b[1;35m \u001b[0m│\u001b[32m \u001b[0m\u001b[32m         20\u001b[0m\u001b[32m \u001b[0m│\u001b[33m \u001b[0m\u001b[33m          7.2%\u001b[0m\u001b[33m \u001b[0m│ │\n",
       "│ │\u001b[1;36m \u001b[0m\u001b[1;36mCARGO              \u001b[0m\u001b[1;36m \u001b[0m│\u001b[1;35m \u001b[0m\u001b[1;35mobject    \u001b[0m\u001b[1;35m \u001b[0m│\u001b[32m \u001b[0m\u001b[32m         20\u001b[0m\u001b[32m \u001b[0m│\u001b[33m \u001b[0m\u001b[33m          7.2%\u001b[0m\u001b[33m \u001b[0m│ │\n",
       "│ │\u001b[1;36m \u001b[0m\u001b[1;36mRUTA               \u001b[0m\u001b[1;36m \u001b[0m│\u001b[1;35m \u001b[0m\u001b[1;35mobject    \u001b[0m\u001b[1;35m \u001b[0m│\u001b[32m \u001b[0m\u001b[32m          0\u001b[0m\u001b[32m \u001b[0m│\u001b[33m \u001b[0m\u001b[33m          0.0%\u001b[0m\u001b[33m \u001b[0m│ │\n",
       "│ │\u001b[1;36m \u001b[0m\u001b[1;36mProducto           \u001b[0m\u001b[1;36m \u001b[0m│\u001b[1;35m \u001b[0m\u001b[1;35mobject    \u001b[0m\u001b[1;35m \u001b[0m│\u001b[32m \u001b[0m\u001b[32m        277\u001b[0m\u001b[32m \u001b[0m│\u001b[33m \u001b[0m\u001b[33m         99.3%\u001b[0m\u001b[33m \u001b[0m│ │\n",
       "│ │\u001b[1;36m \u001b[0m\u001b[1;36m2025-06-01 00:00:00\u001b[0m\u001b[1;36m \u001b[0m│\u001b[1;35m \u001b[0m\u001b[1;35mobject    \u001b[0m\u001b[1;35m \u001b[0m│\u001b[32m \u001b[0m\u001b[32m          2\u001b[0m\u001b[32m \u001b[0m│\u001b[33m \u001b[0m\u001b[33m          0.7%\u001b[0m\u001b[33m \u001b[0m│ │\n",
       "│ │\u001b[1;36m \u001b[0m\u001b[1;36m2025-06-02 00:00:00\u001b[0m\u001b[1;36m \u001b[0m│\u001b[1;35m \u001b[0m\u001b[1;35mobject    \u001b[0m\u001b[1;35m \u001b[0m│\u001b[32m \u001b[0m\u001b[32m         21\u001b[0m\u001b[32m \u001b[0m│\u001b[33m \u001b[0m\u001b[33m          7.5%\u001b[0m\u001b[33m \u001b[0m│ │\n",
       "│ │\u001b[1;36m \u001b[0m\u001b[1;36m2025-06-03 00:00:00\u001b[0m\u001b[1;36m \u001b[0m│\u001b[1;35m \u001b[0m\u001b[1;35mobject    \u001b[0m\u001b[1;35m \u001b[0m│\u001b[32m \u001b[0m\u001b[32m          9\u001b[0m\u001b[32m \u001b[0m│\u001b[33m \u001b[0m\u001b[33m          3.2%\u001b[0m\u001b[33m \u001b[0m│ │\n",
       "│ │\u001b[1;36m \u001b[0m\u001b[1;36m2025-06-04 00:00:00\u001b[0m\u001b[1;36m \u001b[0m│\u001b[1;35m \u001b[0m\u001b[1;35mobject    \u001b[0m\u001b[1;35m \u001b[0m│\u001b[32m \u001b[0m\u001b[32m         20\u001b[0m\u001b[32m \u001b[0m│\u001b[33m \u001b[0m\u001b[33m          7.2%\u001b[0m\u001b[33m \u001b[0m│ │\n",
       "│ │\u001b[1;36m \u001b[0m\u001b[1;36m2025-06-05 00:00:00\u001b[0m\u001b[1;36m \u001b[0m│\u001b[1;35m \u001b[0m\u001b[1;35mobject    \u001b[0m\u001b[1;35m \u001b[0m│\u001b[32m \u001b[0m\u001b[32m         14\u001b[0m\u001b[32m \u001b[0m│\u001b[33m \u001b[0m\u001b[33m          5.0%\u001b[0m\u001b[33m \u001b[0m│ │\n",
       "│ │\u001b[1;36m \u001b[0m\u001b[1;36m2025-06-06 00:00:00\u001b[0m\u001b[1;36m \u001b[0m│\u001b[1;35m \u001b[0m\u001b[1;35mobject    \u001b[0m\u001b[1;35m \u001b[0m│\u001b[32m \u001b[0m\u001b[32m          7\u001b[0m\u001b[32m \u001b[0m│\u001b[33m \u001b[0m\u001b[33m          2.5%\u001b[0m\u001b[33m \u001b[0m│ │\n",
       "│ │\u001b[1;36m \u001b[0m\u001b[1;36m2025-06-07 00:00:00\u001b[0m\u001b[1;36m \u001b[0m│\u001b[1;35m \u001b[0m\u001b[1;35mobject    \u001b[0m\u001b[1;35m \u001b[0m│\u001b[32m \u001b[0m\u001b[32m         20\u001b[0m\u001b[32m \u001b[0m│\u001b[33m \u001b[0m\u001b[33m          7.2%\u001b[0m\u001b[33m \u001b[0m│ │\n",
       "│ │\u001b[1;36m \u001b[0m\u001b[1;36m2025-06-08 00:00:00\u001b[0m\u001b[1;36m \u001b[0m│\u001b[1;35m \u001b[0m\u001b[1;35mobject    \u001b[0m\u001b[1;35m \u001b[0m│\u001b[32m \u001b[0m\u001b[32m          2\u001b[0m\u001b[32m \u001b[0m│\u001b[33m \u001b[0m\u001b[33m          0.7%\u001b[0m\u001b[33m \u001b[0m│ │\n",
       "│ │\u001b[1;36m \u001b[0m\u001b[1;36m2025-06-09 00:00:00\u001b[0m\u001b[1;36m \u001b[0m│\u001b[1;35m \u001b[0m\u001b[1;35mobject    \u001b[0m\u001b[1;35m \u001b[0m│\u001b[32m \u001b[0m\u001b[32m         23\u001b[0m\u001b[32m \u001b[0m│\u001b[33m \u001b[0m\u001b[33m          8.2%\u001b[0m\u001b[33m \u001b[0m│ │\n",
       "│ │\u001b[1;36m \u001b[0m\u001b[1;36m2025-06-10 00:00:00\u001b[0m\u001b[1;36m \u001b[0m│\u001b[1;35m \u001b[0m\u001b[1;35mobject    \u001b[0m\u001b[1;35m \u001b[0m│\u001b[32m \u001b[0m\u001b[32m         13\u001b[0m\u001b[32m \u001b[0m│\u001b[33m \u001b[0m\u001b[33m          4.7%\u001b[0m\u001b[33m \u001b[0m│ │\n",
       "│ │\u001b[1;36m \u001b[0m\u001b[1;36m2025-06-11 00:00:00\u001b[0m\u001b[1;36m \u001b[0m│\u001b[1;35m \u001b[0m\u001b[1;35mobject    \u001b[0m\u001b[1;35m \u001b[0m│\u001b[32m \u001b[0m\u001b[32m         13\u001b[0m\u001b[32m \u001b[0m│\u001b[33m \u001b[0m\u001b[33m          4.7%\u001b[0m\u001b[33m \u001b[0m│ │\n",
       "│ │\u001b[1;36m \u001b[0m\u001b[1;36m2025-06-12 00:00:00\u001b[0m\u001b[1;36m \u001b[0m│\u001b[1;35m \u001b[0m\u001b[1;35mobject    \u001b[0m\u001b[1;35m \u001b[0m│\u001b[32m \u001b[0m\u001b[32m         14\u001b[0m\u001b[32m \u001b[0m│\u001b[33m \u001b[0m\u001b[33m          5.0%\u001b[0m\u001b[33m \u001b[0m│ │\n",
       "│ │\u001b[1;36m \u001b[0m\u001b[1;36m2025-06-13 00:00:00\u001b[0m\u001b[1;36m \u001b[0m│\u001b[1;35m \u001b[0m\u001b[1;35mobject    \u001b[0m\u001b[1;35m \u001b[0m│\u001b[32m \u001b[0m\u001b[32m          8\u001b[0m\u001b[32m \u001b[0m│\u001b[33m \u001b[0m\u001b[33m          2.9%\u001b[0m\u001b[33m \u001b[0m│ │\n",
       "│ │\u001b[1;36m \u001b[0m\u001b[1;36m2025-06-14 00:00:00\u001b[0m\u001b[1;36m \u001b[0m│\u001b[1;35m \u001b[0m\u001b[1;35mobject    \u001b[0m\u001b[1;35m \u001b[0m│\u001b[32m \u001b[0m\u001b[32m         18\u001b[0m\u001b[32m \u001b[0m│\u001b[33m \u001b[0m\u001b[33m          6.5%\u001b[0m\u001b[33m \u001b[0m│ │\n",
       "│ │\u001b[1;36m \u001b[0m\u001b[1;36m2025-06-15 00:00:00\u001b[0m\u001b[1;36m \u001b[0m│\u001b[1;35m \u001b[0m\u001b[1;35mobject    \u001b[0m\u001b[1;35m \u001b[0m│\u001b[32m \u001b[0m\u001b[32m          2\u001b[0m\u001b[32m \u001b[0m│\u001b[33m \u001b[0m\u001b[33m          0.7%\u001b[0m\u001b[33m \u001b[0m│ │\n",
       "│ │\u001b[1;36m \u001b[0m\u001b[1;36m2025-06-16 00:00:00\u001b[0m\u001b[1;36m \u001b[0m│\u001b[1;35m \u001b[0m\u001b[1;35mobject    \u001b[0m\u001b[1;35m \u001b[0m│\u001b[32m \u001b[0m\u001b[32m         16\u001b[0m\u001b[32m \u001b[0m│\u001b[33m \u001b[0m\u001b[33m          5.7%\u001b[0m\u001b[33m \u001b[0m│ │\n",
       "│ │\u001b[1;36m \u001b[0m\u001b[1;36m2025-06-17 00:00:00\u001b[0m\u001b[1;36m \u001b[0m│\u001b[1;35m \u001b[0m\u001b[1;35mobject    \u001b[0m\u001b[1;35m \u001b[0m│\u001b[32m \u001b[0m\u001b[32m          9\u001b[0m\u001b[32m \u001b[0m│\u001b[33m \u001b[0m\u001b[33m          3.2%\u001b[0m\u001b[33m \u001b[0m│ │\n",
       "│ │\u001b[1;36m \u001b[0m\u001b[1;36m2025-06-18 00:00:00\u001b[0m\u001b[1;36m \u001b[0m│\u001b[1;35m \u001b[0m\u001b[1;35mobject    \u001b[0m\u001b[1;35m \u001b[0m│\u001b[32m \u001b[0m\u001b[32m         12\u001b[0m\u001b[32m \u001b[0m│\u001b[33m \u001b[0m\u001b[33m          4.3%\u001b[0m\u001b[33m \u001b[0m│ │\n",
       "│ │\u001b[1;36m \u001b[0m\u001b[1;36m2025-06-19 00:00:00\u001b[0m\u001b[1;36m \u001b[0m│\u001b[1;35m \u001b[0m\u001b[1;35mobject    \u001b[0m\u001b[1;35m \u001b[0m│\u001b[32m \u001b[0m\u001b[32m         12\u001b[0m\u001b[32m \u001b[0m│\u001b[33m \u001b[0m\u001b[33m          4.3%\u001b[0m\u001b[33m \u001b[0m│ │\n",
       "│ │\u001b[1;36m \u001b[0m\u001b[1;36m2025-06-20 00:00:00\u001b[0m\u001b[1;36m \u001b[0m│\u001b[1;35m \u001b[0m\u001b[1;35mobject    \u001b[0m\u001b[1;35m \u001b[0m│\u001b[32m \u001b[0m\u001b[32m         11\u001b[0m\u001b[32m \u001b[0m│\u001b[33m \u001b[0m\u001b[33m          3.9%\u001b[0m\u001b[33m \u001b[0m│ │\n",
       "│ │\u001b[1;36m \u001b[0m\u001b[1;36m2025-06-21 00:00:00\u001b[0m\u001b[1;36m \u001b[0m│\u001b[1;35m \u001b[0m\u001b[1;35mobject    \u001b[0m\u001b[1;35m \u001b[0m│\u001b[32m \u001b[0m\u001b[32m         21\u001b[0m\u001b[32m \u001b[0m│\u001b[33m \u001b[0m\u001b[33m          7.5%\u001b[0m\u001b[33m \u001b[0m│ │\n",
       "│ │\u001b[1;36m \u001b[0m\u001b[1;36m2025-06-22 00:00:00\u001b[0m\u001b[1;36m \u001b[0m│\u001b[1;35m \u001b[0m\u001b[1;35mobject    \u001b[0m\u001b[1;35m \u001b[0m│\u001b[32m \u001b[0m\u001b[32m          2\u001b[0m\u001b[32m \u001b[0m│\u001b[33m \u001b[0m\u001b[33m          0.7%\u001b[0m\u001b[33m \u001b[0m│ │\n",
       "│ │\u001b[1;36m \u001b[0m\u001b[1;36m2025-06-23 00:00:00\u001b[0m\u001b[1;36m \u001b[0m│\u001b[1;35m \u001b[0m\u001b[1;35mobject    \u001b[0m\u001b[1;35m \u001b[0m│\u001b[32m \u001b[0m\u001b[32m         20\u001b[0m\u001b[32m \u001b[0m│\u001b[33m \u001b[0m\u001b[33m          7.2%\u001b[0m\u001b[33m \u001b[0m│ │\n",
       "│ │\u001b[1;36m \u001b[0m\u001b[1;36m2025-06-24 00:00:00\u001b[0m\u001b[1;36m \u001b[0m│\u001b[1;35m \u001b[0m\u001b[1;35mobject    \u001b[0m\u001b[1;35m \u001b[0m│\u001b[32m \u001b[0m\u001b[32m         11\u001b[0m\u001b[32m \u001b[0m│\u001b[33m \u001b[0m\u001b[33m          3.9%\u001b[0m\u001b[33m \u001b[0m│ │\n",
       "│ │\u001b[1;36m \u001b[0m\u001b[1;36m2025-06-25 00:00:00\u001b[0m\u001b[1;36m \u001b[0m│\u001b[1;35m \u001b[0m\u001b[1;35mobject    \u001b[0m\u001b[1;35m \u001b[0m│\u001b[32m \u001b[0m\u001b[32m         17\u001b[0m\u001b[32m \u001b[0m│\u001b[33m \u001b[0m\u001b[33m          6.1%\u001b[0m\u001b[33m \u001b[0m│ │\n",
       "│ │\u001b[1;36m \u001b[0m\u001b[1;36m2025-06-26 00:00:00\u001b[0m\u001b[1;36m \u001b[0m│\u001b[1;35m \u001b[0m\u001b[1;35mobject    \u001b[0m\u001b[1;35m \u001b[0m│\u001b[32m \u001b[0m\u001b[32m         14\u001b[0m\u001b[32m \u001b[0m│\u001b[33m \u001b[0m\u001b[33m          5.0%\u001b[0m\u001b[33m \u001b[0m│ │\n",
       "│ │\u001b[1;36m \u001b[0m\u001b[1;36m2025-06-27 00:00:00\u001b[0m\u001b[1;36m \u001b[0m│\u001b[1;35m \u001b[0m\u001b[1;35mobject    \u001b[0m\u001b[1;35m \u001b[0m│\u001b[32m \u001b[0m\u001b[32m         12\u001b[0m\u001b[32m \u001b[0m│\u001b[33m \u001b[0m\u001b[33m          4.3%\u001b[0m\u001b[33m \u001b[0m│ │\n",
       "│ │\u001b[1;36m \u001b[0m\u001b[1;36m2025-06-28 00:00:00\u001b[0m\u001b[1;36m \u001b[0m│\u001b[1;35m \u001b[0m\u001b[1;35mobject    \u001b[0m\u001b[1;35m \u001b[0m│\u001b[32m \u001b[0m\u001b[32m         10\u001b[0m\u001b[32m \u001b[0m│\u001b[33m \u001b[0m\u001b[33m          3.6%\u001b[0m\u001b[33m \u001b[0m│ │\n",
       "│ │\u001b[1;36m \u001b[0m\u001b[1;36m2025-06-29 00:00:00\u001b[0m\u001b[1;36m \u001b[0m│\u001b[1;35m \u001b[0m\u001b[1;35mdatetime64\u001b[0m\u001b[1;35m \u001b[0m│\u001b[32m \u001b[0m\u001b[32m          1\u001b[0m\u001b[32m \u001b[0m│\u001b[33m \u001b[0m\u001b[33m          0.4%\u001b[0m\u001b[33m \u001b[0m│ │\n",
       "│ │\u001b[1;36m \u001b[0m\u001b[1;36m2025-06-30 00:00:00\u001b[0m\u001b[1;36m \u001b[0m│\u001b[1;35m \u001b[0m\u001b[1;35mobject    \u001b[0m\u001b[1;35m \u001b[0m│\u001b[32m \u001b[0m\u001b[32m          7\u001b[0m\u001b[32m \u001b[0m│\u001b[33m \u001b[0m\u001b[33m          2.5%\u001b[0m\u001b[33m \u001b[0m│ │\n",
       "│ └─────────────────────┴────────────┴─────────────┴────────────────┘ │\n",
       "╰─────────────────────────────────────────────────────────────────────╯\n"
      ]
     },
     "metadata": {},
     "output_type": "display_data"
    },
    {
     "data": {
      "text/html": [
       "<pre style=\"white-space:pre;overflow-x:auto;line-height:normal;font-family:Menlo,'DejaVu Sans Mono',consolas,'Courier New',monospace\"><span style=\"color: #808080; text-decoration-color: #808080\">╭───────────── 📎 Resumen ──────────────╮</span>\n",
       "<span style=\"color: #808080; text-decoration-color: #808080\">│</span> <span style=\"color: #808000; text-decoration-color: #808000; font-weight: bold\">🔢 Dimensión:</span> 279 filas × 34 columnas <span style=\"color: #808080; text-decoration-color: #808080\">│</span>\n",
       "<span style=\"color: #808080; text-decoration-color: #808080\">│</span> <span style=\"color: #008000; text-decoration-color: #008000; font-weight: bold\">💾 Memoria usada:</span> 304.06 KB           <span style=\"color: #808080; text-decoration-color: #808080\">│</span>\n",
       "<span style=\"color: #808080; text-decoration-color: #808080\">╰───────────────────────────────────────╯</span>\n",
       "</pre>\n"
      ],
      "text/plain": [
       "\u001b[38;5;244m╭─\u001b[0m\u001b[38;5;244m────────────\u001b[0m\u001b[38;5;244m 📎 Resumen \u001b[0m\u001b[38;5;244m─────────────\u001b[0m\u001b[38;5;244m─╮\u001b[0m\n",
       "\u001b[38;5;244m│\u001b[0m \u001b[1;33m🔢 Dimensión:\u001b[0m 279 filas × 34 columnas \u001b[38;5;244m│\u001b[0m\n",
       "\u001b[38;5;244m│\u001b[0m \u001b[1;32m💾 Memoria usada:\u001b[0m 304.06 KB           \u001b[38;5;244m│\u001b[0m\n",
       "\u001b[38;5;244m╰───────────────────────────────────────╯\u001b[0m\n"
      ]
     },
     "metadata": {},
     "output_type": "display_data"
    }
   ],
   "source": [
    "importlib.reload(gd)\n",
    "importlib.reload(pm)\n",
    "chala = gd.get_chala_data(CHALA)\n",
    "pm.show_df(chala)"
   ]
  },
  {
   "cell_type": "code",
   "execution_count": 13,
   "id": "54113215",
   "metadata": {},
   "outputs": [
    {
     "data": {
      "text/html": [
       "<pre style=\"white-space:pre;overflow-x:auto;line-height:normal;font-family:Menlo,'DejaVu Sans Mono',consolas,'Courier New',monospace\">╭──────────────────── 📊 Resumen de DataFrame ────────────────────╮\n",
       "│ ┌────────────────────┬─────────┬─────────────┬────────────────┐ │\n",
       "│ │<span style=\"color: #c0c0c0; text-decoration-color: #c0c0c0; background-color: #870000; font-weight: bold\"> 🧱 Columna         </span>│<span style=\"color: #c0c0c0; text-decoration-color: #c0c0c0; background-color: #870000; font-weight: bold\"> 📂 Tipo </span>│<span style=\"color: #c0c0c0; text-decoration-color: #c0c0c0; background-color: #870000; font-weight: bold\"> ✅ Non-Null </span>│<span style=\"color: #c0c0c0; text-decoration-color: #c0c0c0; background-color: #870000; font-weight: bold\"> 📈 Completitud </span>│ │\n",
       "│ ├────────────────────┼─────────┼─────────────┼────────────────┤ │\n",
       "│ │<span style=\"color: #008080; text-decoration-color: #008080; font-weight: bold\"> APELLIDOS Y NOMBRE </span>│<span style=\"color: #800080; text-decoration-color: #800080; font-weight: bold\"> object  </span>│<span style=\"color: #008000; text-decoration-color: #008000\">         305 </span>│<span style=\"color: #808000; text-decoration-color: #808000\">         100.0% </span>│ │\n",
       "│ │<span style=\"color: #008080; text-decoration-color: #008080; font-weight: bold\"> CARGO              </span>│<span style=\"color: #800080; text-decoration-color: #800080; font-weight: bold\"> object  </span>│<span style=\"color: #008000; text-decoration-color: #008000\">         305 </span>│<span style=\"color: #808000; text-decoration-color: #808000\">         100.0% </span>│ │\n",
       "│ │<span style=\"color: #008080; text-decoration-color: #008080; font-weight: bold\"> Producto           </span>│<span style=\"color: #800080; text-decoration-color: #800080; font-weight: bold\"> object  </span>│<span style=\"color: #008000; text-decoration-color: #008000\">         305 </span>│<span style=\"color: #808000; text-decoration-color: #808000\">         100.0% </span>│ │\n",
       "│ │<span style=\"color: #008080; text-decoration-color: #008080; font-weight: bold\"> Fecha              </span>│<span style=\"color: #800080; text-decoration-color: #800080; font-weight: bold\"> object  </span>│<span style=\"color: #008000; text-decoration-color: #008000\">         305 </span>│<span style=\"color: #808000; text-decoration-color: #808000\">         100.0% </span>│ │\n",
       "│ │<span style=\"color: #008080; text-decoration-color: #008080; font-weight: bold\"> Cantidad           </span>│<span style=\"color: #800080; text-decoration-color: #800080; font-weight: bold\"> float64 </span>│<span style=\"color: #008000; text-decoration-color: #008000\">         305 </span>│<span style=\"color: #808000; text-decoration-color: #808000\">         100.0% </span>│ │\n",
       "│ └────────────────────┴─────────┴─────────────┴────────────────┘ │\n",
       "╰─────────────────────────────────────────────────────────────────╯\n",
       "</pre>\n"
      ],
      "text/plain": [
       "╭──────────────────── 📊 Resumen de DataFrame ────────────────────╮\n",
       "│ ┌────────────────────┬─────────┬─────────────┬────────────────┐ │\n",
       "│ │\u001b[1;37;48;5;88m \u001b[0m\u001b[1;37;48;5;88m🧱 Columna        \u001b[0m\u001b[1;37;48;5;88m \u001b[0m│\u001b[1;37;48;5;88m \u001b[0m\u001b[1;37;48;5;88m📂 Tipo\u001b[0m\u001b[1;37;48;5;88m \u001b[0m│\u001b[1;37;48;5;88m \u001b[0m\u001b[1;37;48;5;88m✅ Non-Null\u001b[0m\u001b[1;37;48;5;88m \u001b[0m│\u001b[1;37;48;5;88m \u001b[0m\u001b[1;37;48;5;88m📈 Completitud\u001b[0m\u001b[1;37;48;5;88m \u001b[0m│ │\n",
       "│ ├────────────────────┼─────────┼─────────────┼────────────────┤ │\n",
       "│ │\u001b[1;36m \u001b[0m\u001b[1;36mAPELLIDOS Y NOMBRE\u001b[0m\u001b[1;36m \u001b[0m│\u001b[1;35m \u001b[0m\u001b[1;35mobject \u001b[0m\u001b[1;35m \u001b[0m│\u001b[32m \u001b[0m\u001b[32m        305\u001b[0m\u001b[32m \u001b[0m│\u001b[33m \u001b[0m\u001b[33m        100.0%\u001b[0m\u001b[33m \u001b[0m│ │\n",
       "│ │\u001b[1;36m \u001b[0m\u001b[1;36mCARGO             \u001b[0m\u001b[1;36m \u001b[0m│\u001b[1;35m \u001b[0m\u001b[1;35mobject \u001b[0m\u001b[1;35m \u001b[0m│\u001b[32m \u001b[0m\u001b[32m        305\u001b[0m\u001b[32m \u001b[0m│\u001b[33m \u001b[0m\u001b[33m        100.0%\u001b[0m\u001b[33m \u001b[0m│ │\n",
       "│ │\u001b[1;36m \u001b[0m\u001b[1;36mProducto          \u001b[0m\u001b[1;36m \u001b[0m│\u001b[1;35m \u001b[0m\u001b[1;35mobject \u001b[0m\u001b[1;35m \u001b[0m│\u001b[32m \u001b[0m\u001b[32m        305\u001b[0m\u001b[32m \u001b[0m│\u001b[33m \u001b[0m\u001b[33m        100.0%\u001b[0m\u001b[33m \u001b[0m│ │\n",
       "│ │\u001b[1;36m \u001b[0m\u001b[1;36mFecha             \u001b[0m\u001b[1;36m \u001b[0m│\u001b[1;35m \u001b[0m\u001b[1;35mobject \u001b[0m\u001b[1;35m \u001b[0m│\u001b[32m \u001b[0m\u001b[32m        305\u001b[0m\u001b[32m \u001b[0m│\u001b[33m \u001b[0m\u001b[33m        100.0%\u001b[0m\u001b[33m \u001b[0m│ │\n",
       "│ │\u001b[1;36m \u001b[0m\u001b[1;36mCantidad          \u001b[0m\u001b[1;36m \u001b[0m│\u001b[1;35m \u001b[0m\u001b[1;35mfloat64\u001b[0m\u001b[1;35m \u001b[0m│\u001b[32m \u001b[0m\u001b[32m        305\u001b[0m\u001b[32m \u001b[0m│\u001b[33m \u001b[0m\u001b[33m        100.0%\u001b[0m\u001b[33m \u001b[0m│ │\n",
       "│ └────────────────────┴─────────┴─────────────┴────────────────┘ │\n",
       "╰─────────────────────────────────────────────────────────────────╯\n"
      ]
     },
     "metadata": {},
     "output_type": "display_data"
    },
    {
     "data": {
      "text/html": [
       "<pre style=\"white-space:pre;overflow-x:auto;line-height:normal;font-family:Menlo,'DejaVu Sans Mono',consolas,'Courier New',monospace\"><span style=\"color: #808080; text-decoration-color: #808080\">╭───────────── 📎 Resumen ─────────────╮</span>\n",
       "<span style=\"color: #808080; text-decoration-color: #808080\">│</span> <span style=\"color: #808000; text-decoration-color: #808000; font-weight: bold\">🔢 Dimensión:</span> 305 filas × 5 columnas <span style=\"color: #808080; text-decoration-color: #808080\">│</span>\n",
       "<span style=\"color: #808080; text-decoration-color: #808080\">│</span> <span style=\"color: #008000; text-decoration-color: #008000; font-weight: bold\">💾 Memoria usada:</span> 88.36 KB           <span style=\"color: #808080; text-decoration-color: #808080\">│</span>\n",
       "<span style=\"color: #808080; text-decoration-color: #808080\">╰──────────────────────────────────────╯</span>\n",
       "</pre>\n"
      ],
      "text/plain": [
       "\u001b[38;5;244m╭─\u001b[0m\u001b[38;5;244m────────────\u001b[0m\u001b[38;5;244m 📎 Resumen \u001b[0m\u001b[38;5;244m────────────\u001b[0m\u001b[38;5;244m─╮\u001b[0m\n",
       "\u001b[38;5;244m│\u001b[0m \u001b[1;33m🔢 Dimensión:\u001b[0m 305 filas × 5 columnas \u001b[38;5;244m│\u001b[0m\n",
       "\u001b[38;5;244m│\u001b[0m \u001b[1;32m💾 Memoria usada:\u001b[0m 88.36 KB           \u001b[38;5;244m│\u001b[0m\n",
       "\u001b[38;5;244m╰──────────────────────────────────────╯\u001b[0m\n"
      ]
     },
     "metadata": {},
     "output_type": "display_data"
    }
   ],
   "source": [
    "importlib.reload(tf)\n",
    "importlib.reload(pm)\n",
    "chala_transformed = tf.transform_data_chala(chala)\n",
    "pm.show_df(chala_transformed)"
   ]
  },
  {
   "cell_type": "code",
   "execution_count": 14,
   "id": "2603755c",
   "metadata": {},
   "outputs": [
    {
     "data": {
      "text/html": [
       "<pre style=\"white-space:pre;overflow-x:auto;line-height:normal;font-family:Menlo,'DejaVu Sans Mono',consolas,'Courier New',monospace\">╭──────────────────── 📊 Resumen de DataFrame ────────────────────╮\n",
       "│ ┌────────────────────┬─────────┬─────────────┬────────────────┐ │\n",
       "│ │<span style=\"color: #c0c0c0; text-decoration-color: #c0c0c0; background-color: #870000; font-weight: bold\"> 🧱 Columna         </span>│<span style=\"color: #c0c0c0; text-decoration-color: #c0c0c0; background-color: #870000; font-weight: bold\"> 📂 Tipo </span>│<span style=\"color: #c0c0c0; text-decoration-color: #c0c0c0; background-color: #870000; font-weight: bold\"> ✅ Non-Null </span>│<span style=\"color: #c0c0c0; text-decoration-color: #c0c0c0; background-color: #870000; font-weight: bold\"> 📈 Completitud </span>│ │\n",
       "│ ├────────────────────┼─────────┼─────────────┼────────────────┤ │\n",
       "│ │<span style=\"color: #008080; text-decoration-color: #008080; font-weight: bold\"> Fecha              </span>│<span style=\"color: #800080; text-decoration-color: #800080; font-weight: bold\"> object  </span>│<span style=\"color: #008000; text-decoration-color: #008000\">         305 </span>│<span style=\"color: #808000; text-decoration-color: #808000\">         100.0% </span>│ │\n",
       "│ │<span style=\"color: #008080; text-decoration-color: #008080; font-weight: bold\"> Sede               </span>│<span style=\"color: #800080; text-decoration-color: #800080; font-weight: bold\"> object  </span>│<span style=\"color: #008000; text-decoration-color: #008000\">         305 </span>│<span style=\"color: #808000; text-decoration-color: #808000\">         100.0% </span>│ │\n",
       "│ │<span style=\"color: #008080; text-decoration-color: #008080; font-weight: bold\"> APELLIDOS Y NOMBRE </span>│<span style=\"color: #800080; text-decoration-color: #800080; font-weight: bold\"> object  </span>│<span style=\"color: #008000; text-decoration-color: #008000\">         305 </span>│<span style=\"color: #808000; text-decoration-color: #808000\">         100.0% </span>│ │\n",
       "│ │<span style=\"color: #008080; text-decoration-color: #008080; font-weight: bold\"> CARGO              </span>│<span style=\"color: #800080; text-decoration-color: #800080; font-weight: bold\"> object  </span>│<span style=\"color: #008000; text-decoration-color: #008000\">         305 </span>│<span style=\"color: #808000; text-decoration-color: #808000\">         100.0% </span>│ │\n",
       "│ │<span style=\"color: #008080; text-decoration-color: #008080; font-weight: bold\"> Producto           </span>│<span style=\"color: #800080; text-decoration-color: #800080; font-weight: bold\"> object  </span>│<span style=\"color: #008000; text-decoration-color: #008000\">         305 </span>│<span style=\"color: #808000; text-decoration-color: #808000\">         100.0% </span>│ │\n",
       "│ │<span style=\"color: #008080; text-decoration-color: #008080; font-weight: bold\"> Cantidad           </span>│<span style=\"color: #800080; text-decoration-color: #800080; font-weight: bold\"> float64 </span>│<span style=\"color: #008000; text-decoration-color: #008000\">         305 </span>│<span style=\"color: #808000; text-decoration-color: #808000\">         100.0% </span>│ │\n",
       "│ └────────────────────┴─────────┴─────────────┴────────────────┘ │\n",
       "╰─────────────────────────────────────────────────────────────────╯\n",
       "</pre>\n"
      ],
      "text/plain": [
       "╭──────────────────── 📊 Resumen de DataFrame ────────────────────╮\n",
       "│ ┌────────────────────┬─────────┬─────────────┬────────────────┐ │\n",
       "│ │\u001b[1;37;48;5;88m \u001b[0m\u001b[1;37;48;5;88m🧱 Columna        \u001b[0m\u001b[1;37;48;5;88m \u001b[0m│\u001b[1;37;48;5;88m \u001b[0m\u001b[1;37;48;5;88m📂 Tipo\u001b[0m\u001b[1;37;48;5;88m \u001b[0m│\u001b[1;37;48;5;88m \u001b[0m\u001b[1;37;48;5;88m✅ Non-Null\u001b[0m\u001b[1;37;48;5;88m \u001b[0m│\u001b[1;37;48;5;88m \u001b[0m\u001b[1;37;48;5;88m📈 Completitud\u001b[0m\u001b[1;37;48;5;88m \u001b[0m│ │\n",
       "│ ├────────────────────┼─────────┼─────────────┼────────────────┤ │\n",
       "│ │\u001b[1;36m \u001b[0m\u001b[1;36mFecha             \u001b[0m\u001b[1;36m \u001b[0m│\u001b[1;35m \u001b[0m\u001b[1;35mobject \u001b[0m\u001b[1;35m \u001b[0m│\u001b[32m \u001b[0m\u001b[32m        305\u001b[0m\u001b[32m \u001b[0m│\u001b[33m \u001b[0m\u001b[33m        100.0%\u001b[0m\u001b[33m \u001b[0m│ │\n",
       "│ │\u001b[1;36m \u001b[0m\u001b[1;36mSede              \u001b[0m\u001b[1;36m \u001b[0m│\u001b[1;35m \u001b[0m\u001b[1;35mobject \u001b[0m\u001b[1;35m \u001b[0m│\u001b[32m \u001b[0m\u001b[32m        305\u001b[0m\u001b[32m \u001b[0m│\u001b[33m \u001b[0m\u001b[33m        100.0%\u001b[0m\u001b[33m \u001b[0m│ │\n",
       "│ │\u001b[1;36m \u001b[0m\u001b[1;36mAPELLIDOS Y NOMBRE\u001b[0m\u001b[1;36m \u001b[0m│\u001b[1;35m \u001b[0m\u001b[1;35mobject \u001b[0m\u001b[1;35m \u001b[0m│\u001b[32m \u001b[0m\u001b[32m        305\u001b[0m\u001b[32m \u001b[0m│\u001b[33m \u001b[0m\u001b[33m        100.0%\u001b[0m\u001b[33m \u001b[0m│ │\n",
       "│ │\u001b[1;36m \u001b[0m\u001b[1;36mCARGO             \u001b[0m\u001b[1;36m \u001b[0m│\u001b[1;35m \u001b[0m\u001b[1;35mobject \u001b[0m\u001b[1;35m \u001b[0m│\u001b[32m \u001b[0m\u001b[32m        305\u001b[0m\u001b[32m \u001b[0m│\u001b[33m \u001b[0m\u001b[33m        100.0%\u001b[0m\u001b[33m \u001b[0m│ │\n",
       "│ │\u001b[1;36m \u001b[0m\u001b[1;36mProducto          \u001b[0m\u001b[1;36m \u001b[0m│\u001b[1;35m \u001b[0m\u001b[1;35mobject \u001b[0m\u001b[1;35m \u001b[0m│\u001b[32m \u001b[0m\u001b[32m        305\u001b[0m\u001b[32m \u001b[0m│\u001b[33m \u001b[0m\u001b[33m        100.0%\u001b[0m\u001b[33m \u001b[0m│ │\n",
       "│ │\u001b[1;36m \u001b[0m\u001b[1;36mCantidad          \u001b[0m\u001b[1;36m \u001b[0m│\u001b[1;35m \u001b[0m\u001b[1;35mfloat64\u001b[0m\u001b[1;35m \u001b[0m│\u001b[32m \u001b[0m\u001b[32m        305\u001b[0m\u001b[32m \u001b[0m│\u001b[33m \u001b[0m\u001b[33m        100.0%\u001b[0m\u001b[33m \u001b[0m│ │\n",
       "│ └────────────────────┴─────────┴─────────────┴────────────────┘ │\n",
       "╰─────────────────────────────────────────────────────────────────╯\n"
      ]
     },
     "metadata": {},
     "output_type": "display_data"
    },
    {
     "data": {
      "text/html": [
       "<pre style=\"white-space:pre;overflow-x:auto;line-height:normal;font-family:Menlo,'DejaVu Sans Mono',consolas,'Courier New',monospace\"><span style=\"color: #808080; text-decoration-color: #808080\">╭───────────── 📎 Resumen ─────────────╮</span>\n",
       "<span style=\"color: #808080; text-decoration-color: #808080\">│</span> <span style=\"color: #808000; text-decoration-color: #808000; font-weight: bold\">🔢 Dimensión:</span> 305 filas × 6 columnas <span style=\"color: #808080; text-decoration-color: #808080\">│</span>\n",
       "<span style=\"color: #808080; text-decoration-color: #808080\">│</span> <span style=\"color: #008000; text-decoration-color: #008000; font-weight: bold\">💾 Memoria usada:</span> 104.89 KB          <span style=\"color: #808080; text-decoration-color: #808080\">│</span>\n",
       "<span style=\"color: #808080; text-decoration-color: #808080\">╰──────────────────────────────────────╯</span>\n",
       "</pre>\n"
      ],
      "text/plain": [
       "\u001b[38;5;244m╭─\u001b[0m\u001b[38;5;244m────────────\u001b[0m\u001b[38;5;244m 📎 Resumen \u001b[0m\u001b[38;5;244m────────────\u001b[0m\u001b[38;5;244m─╮\u001b[0m\n",
       "\u001b[38;5;244m│\u001b[0m \u001b[1;33m🔢 Dimensión:\u001b[0m 305 filas × 6 columnas \u001b[38;5;244m│\u001b[0m\n",
       "\u001b[38;5;244m│\u001b[0m \u001b[1;32m💾 Memoria usada:\u001b[0m 104.89 KB          \u001b[38;5;244m│\u001b[0m\n",
       "\u001b[38;5;244m╰──────────────────────────────────────╯\u001b[0m\n"
      ]
     },
     "metadata": {},
     "output_type": "display_data"
    }
   ],
   "source": [
    "importlib.reload(nd)\n",
    "importlib.reload(pm)\n",
    "chala_normalized = nd.normalize_data_chala(CHALA, chala_transformed)\n",
    "pm.show_df(chala_normalized)"
   ]
  },
  {
   "cell_type": "code",
   "execution_count": 15,
   "id": "f94cf954",
   "metadata": {},
   "outputs": [],
   "source": [
    "chala_normalized.to_csv(\"chala.csv\", index=False, encoding=\"utf-8-sig\", sep=\";\")"
   ]
  },
  {
   "cell_type": "markdown",
   "id": "5d4562c1",
   "metadata": {},
   "source": [
    "### Concatenar dataframes"
   ]
  },
  {
   "cell_type": "code",
   "execution_count": 16,
   "id": "3693e4e9",
   "metadata": {},
   "outputs": [],
   "source": [
    "# Supongamos que tus DataFrames se llaman: df1, df2, df3\n",
    "df_final = pd.concat([camana_normalized, pedregal_normalized, chala_normalized], ignore_index=True)\n",
    "\n",
    "# Exportar a CSV con punto y coma como separador y codificación compatible con Excel\n",
    "df_final.to_csv(\"exportado.csv\", sep=\";\", index=False, encoding=\"utf-8-sig\")"
   ]
  },
  {
   "cell_type": "markdown",
   "id": "efe1b0b0",
   "metadata": {},
   "source": [
    "### Export it as .py"
   ]
  },
  {
   "cell_type": "code",
   "execution_count": 17,
   "id": "ff56b39d",
   "metadata": {},
   "outputs": [
    {
     "name": "stdout",
     "output_type": "stream",
     "text": [
      "✅ Archivo .py creado sin la última celda.\n"
     ]
    }
   ],
   "source": [
    "import nbformat\n",
    "from nbconvert import PythonExporter\n",
    "\n",
    "# Cargar el notebook\n",
    "notebook_path = \"main.ipynb\"\n",
    "with open(notebook_path, \"r\", encoding=\"utf-8\") as f:\n",
    "    nb = nbformat.read(f, as_version=4)\n",
    "\n",
    "# Eliminar la última celda\n",
    "nb['cells'] = nb['cells'][:-1]\n",
    "\n",
    "# Convertir a script .py\n",
    "exporter = PythonExporter()\n",
    "codigo_python, _ = exporter.from_notebook_node(nb)\n",
    "\n",
    "# Guardar el archivo .py\n",
    "with open(\"main.py\", \"w\", encoding=\"utf-8\") as f:\n",
    "    f.write(codigo_python)\n",
    "\n",
    "print(\"✅ Archivo .py creado sin la última celda.\")"
   ]
  }
 ],
 "metadata": {
  "kernelspec": {
   "display_name": "Python 3",
   "language": "python",
   "name": "python3"
  },
  "language_info": {
   "codemirror_mode": {
    "name": "ipython",
    "version": 3
   },
   "file_extension": ".py",
   "mimetype": "text/x-python",
   "name": "python",
   "nbconvert_exporter": "python",
   "pygments_lexer": "ipython3",
   "version": "3.13.3"
  }
 },
 "nbformat": 4,
 "nbformat_minor": 5
}
